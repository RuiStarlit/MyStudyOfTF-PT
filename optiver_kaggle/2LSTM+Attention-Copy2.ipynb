{
 "cells": [
  {
   "cell_type": "code",
   "execution_count": 1,
   "metadata": {},
   "outputs": [],
   "source": [
    "import os\n",
    "import gc\n",
    "import glob\n",
    "\n",
    "import numpy as np \n",
    "import pandas as pd \n",
    "\n",
    "from itertools import islice\n",
    "\n",
    "from multiprocessing import Pool\n",
    "from sklearn.preprocessing import MinMaxScaler, StandardScaler\n",
    "\n",
    "# import tensorflow as tf\n",
    "# from tensorflow import keras\n",
    "# import tensorflow.keras.backend as K\n",
    "import torch\n",
    "from torch import nn\n",
    "import torch.nn.functional as F\n",
    "\n",
    "\n",
    "# from tensorflow.keras.layers import Dense, Lambda, Dot, Activation, Concatenate\n",
    "# from tensorflow.keras.layers import Layer\n",
    "\n",
    "from sklearn.model_selection import train_test_split\n",
    "from sklearn.model_selection import KFold\n",
    "\n",
    "from tqdm.auto import tqdm\n",
    "tqdm.pandas()\n",
    "\n",
    "import warnings\n",
    "warnings.filterwarnings('ignore')"
   ]
  },
  {
   "cell_type": "code",
   "execution_count": 2,
   "metadata": {},
   "outputs": [
    {
     "data": {
      "text/plain": [
       "16"
      ]
     },
     "execution_count": 2,
     "metadata": {},
     "output_type": "execute_result"
    }
   ],
   "source": [
    "import psutil\n",
    "psutil.cpu_count()"
   ]
  },
  {
   "cell_type": "code",
   "execution_count": 3,
   "metadata": {},
   "outputs": [],
   "source": [
    "NTHREADS = psutil.cpu_count()-2\n",
    "SEED = 42\n",
    "TRAIN_BATCH_SIZE = 256\n",
    "TEST_BATCH_SIZE = 256\n",
    "BUCKET_WINDOWS2 = [(0, 100), (100, 200), (200, 300), (300, 400), (400, 500), (500, 600)]\n",
    "\n",
    "DATA_PATH = 'input/optiver-realized-volatility-prediction'\n",
    "BOOK_TRAIN_PATH = 'input/optiver-realized-volatility-prediction/book_train.parquet'\n",
    "TRADE_TRAIN_PATH = 'input/optiver-realized-volatility-prediction/trade_train.parquet'\n",
    "BOOK_TEST_PATH = 'input/optiver-realized-volatility-prediction/book_test.parquet'\n",
    "TRADE_TEST_PATH = 'input/optiver-realized-volatility-prediction/trade_test.parquet'\n",
    "CHECKPOINT = 'model_checkpoint/model_01'\n",
    "\n",
    "book_skip_columns = trade_skip_columns = ['time_id', 'row_id', 'target']"
   ]
  },
  {
   "cell_type": "code",
   "execution_count": 4,
   "metadata": {},
   "outputs": [],
   "source": [
    "import pickle\n",
    "data_input = open('LSTMtemp/np_train.pkl','rb')\n",
    "np_train = pickle.load(data_input)\n",
    "data_input.close()\n",
    "\n",
    "data_input = open('LSTMtemp/targets.pkl','rb')\n",
    "targets = pickle.load(data_input)\n",
    "data_input.close()"
   ]
  },
  {
   "cell_type": "code",
   "execution_count": 5,
   "metadata": {},
   "outputs": [],
   "source": [
    "idx = np.arange(np_train.shape[0])\n",
    "train_idx, valid_idx = train_test_split(idx, shuffle=False, test_size=0.1, random_state=2021)"
   ]
  },
  {
   "cell_type": "markdown",
   "metadata": {},
   "source": [
    "# Scaler\n",
    "transformers = []\n",
    "for i in tqdm(range(np_train.shape[1])):\n",
    "    a = np.nan_to_num(np_train[train_idx, i, :])\n",
    "    b = np.nan_to_num(np_train[valid_idx, i, :])\n",
    "\n",
    "    transformer = StandardScaler() # StandardScaler is very useful!\n",
    "    np_train[train_idx, i, :] = transformer.fit_transform(a)\n",
    "    np_train[valid_idx, i, :] = transformer.transform(b)\n",
    "    transformers.append(transformer) # Save Scalers for the inference stage"
   ]
  },
  {
   "cell_type": "markdown",
   "metadata": {},
   "source": [
    "np_train = np.nan_to_num(np_train)"
   ]
  },
  {
   "cell_type": "markdown",
   "metadata": {},
   "source": [
    "import pickle\n",
    "data_output = open('LSTMtemp/np_train.pkl','wb')\n",
    "pickle.dump(np_train,data_output)\n",
    "data_output.close()\n",
    "\n",
    "data_output = open('LSTMtemp/targets.pkl','wb')\n",
    "pickle.dump(targets,data_output)\n",
    "data_output.close()"
   ]
  },
  {
   "cell_type": "code",
   "execution_count": 6,
   "metadata": {},
   "outputs": [],
   "source": [
    "# Loss function\n",
    "def rmspe(y_true, y_pred):\n",
    "    return torch.sqrt(torch.mean(torch.square((y_true - y_pred) / y_true)))"
   ]
  },
  {
   "cell_type": "code",
   "execution_count": 7,
   "metadata": {},
   "outputs": [],
   "source": [
    "class MyDataset(torch.utils.data.Dataset):\n",
    "    def __init__(self, ds, y):\n",
    "        super().__init__()\n",
    "        self.ds = ds\n",
    "        self.y = y\n",
    "\n",
    "    def __len__(self):\n",
    "        return self.ds.shape[0]\n",
    "    \n",
    "    def pin_memory(self):\n",
    "        self.ds = self.ds.pin_memory()\n",
    "        self.y = self.y.pin_memory()\n",
    "        return self\n",
    "\n",
    "    def __getitem__(self, idx):\n",
    "        x = self.ds[idx]\n",
    "        y = self.y[idx]\n",
    "        return x, y"
   ]
  },
  {
   "cell_type": "code",
   "execution_count": 8,
   "metadata": {},
   "outputs": [],
   "source": [
    "class MyLSTM(nn.Module):\n",
    "    def __init__(self,hidden_size, n_layers=1, dim_f=29):\n",
    "        super(MyLSTM, self).__init__()\n",
    "        \n",
    "        self.hidden_size = hidden_size\n",
    "        self.n_layers = n_layers\n",
    "        self.dim_f = dim_f\n",
    "#         self.w_omega = nn.Parameter(torch.Tensor(hidden_size, hidden_size))\n",
    "#         self.u_omega = nn.Parameter(torch.Tensor(hidden_size, 1))\n",
    "#         nn.init.uniform_(self.w_omega, -0.01, 0.01)\n",
    "#         nn.init.uniform_(self.u_omega, -0.01, 0.01)\n",
    "        \n",
    "        self.lstm = nn.LSTM(input_size = dim_f,\n",
    "                    hidden_size = hidden_size,\n",
    "                    num_layers = n_layers\n",
    "                   )\n",
    "        self.flat = nn.Flatten()\n",
    "        self.relu = nn.ReLU()\n",
    "        self.attn = self.attention\n",
    "        self.fc1 = nn.Linear(hidden_size*2, 1)\n",
    "#         self.relu = nn.ReLU()\n",
    "#         self.fc2 = nn.Linear(512,1)\n",
    "        \n",
    "        \n",
    "    def attention(self, x):\n",
    "        u = torch.tanh(torch.matmul(x, self.w_omega))\n",
    "        attn = torch.matmul(u, self.u_omega)\n",
    "        attn_score = F.softmax(attn, dim =1)\n",
    "        scored_x = x * attn_score\n",
    "        context = torch.sum(scored_x ,dim=1)\n",
    "        return context\n",
    "        \n",
    "        \n",
    "    def forward(self,x):\n",
    "        x.transpose_(1, 0)\n",
    "        x, (h_t, c_t) = self.lstm(x)\n",
    "        x = h_t.permute(1, 0 ,2)\n",
    "#         attn_output = self.attn(x)\n",
    "        x = self.flat(x)\n",
    "#         x = torch.cat((attn_output,x),1)\n",
    "        x = self.fc1(x)\n",
    "        return x"
   ]
  },
  {
   "cell_type": "code",
   "execution_count": 9,
   "metadata": {},
   "outputs": [],
   "source": [
    "class Myloss(nn.Module):\n",
    "    def __init__(self):\n",
    "        super(Myloss, self).__init__()\n",
    "    \n",
    "    def forward(self, y_true, y_pred):\n",
    "        x = torch.sqrt(torch.mean(torch.square((y_true - y_pred) / y_true)))\n",
    "        return x"
   ]
  },
  {
   "cell_type": "code",
   "execution_count": 10,
   "metadata": {
    "scrolled": true
   },
   "outputs": [
    {
     "name": "stdout",
     "output_type": "stream",
     "text": [
      "MyLSTM(\n",
      "  (lstm): LSTM(29, 50, num_layers=2)\n",
      "  (flat): Flatten(start_dim=1, end_dim=-1)\n",
      "  (relu): ReLU()\n",
      "  (fc1): Linear(in_features=100, out_features=1, bias=True)\n",
      ")\n"
     ]
    }
   ],
   "source": [
    "Batch_size = 256\n",
    "train_dataset = MyDataset(np_train[train_idx, :, :], targets[train_idx])\n",
    "test_dataset = MyDataset(np_train[valid_idx, :, :], targets[valid_idx])\n",
    "\n",
    "train_loader = torch.utils.data.DataLoader(train_dataset, batch_size = Batch_size,num_workers = 0,\n",
    "                                           pin_memory=True)\n",
    "test_loader = torch.utils.data.DataLoader(test_dataset, batch_size = Batch_size,num_workers = 0,\n",
    "                                         pin_memory=True)\n",
    "\n",
    "assert torch.cuda.is_available()\n",
    "device = 'cuda'\n",
    "\n",
    "hidden_size = 50\n",
    "n_layers =2\n",
    "lr = 0.001\n",
    "\n",
    "model = MyLSTM(hidden_size=hidden_size, n_layers=n_layers)\n",
    "model.to(device)\n",
    "\n",
    "criterion = Myloss().to(device)\n",
    "optimizer = torch.optim.Adam(model.parameters(),lr = lr)\n",
    "print(model)"
   ]
  },
  {
   "cell_type": "code",
   "execution_count": null,
   "metadata": {
    "scrolled": false
   },
   "outputs": [
    {
     "name": "stdout",
     "output_type": "stream",
     "text": [
      "The Hyperparameter:\n",
      "      Hidden_size = 50\n",
      "      n_layers = 2\n",
      "      Learnning rate = 0.001\n",
      "      \n"
     ]
    },
    {
     "data": {
      "application/vnd.jupyter.widget-view+json": {
       "model_id": "c889c51479b6453cac0de9fe27cdf653",
       "version_major": 2,
       "version_minor": 0
      },
      "text/plain": [
       "  0%|          | 0/100 [00:00<?, ?it/s]"
      ]
     },
     "metadata": {},
     "output_type": "display_data"
    }
   ],
   "source": [
    "print(\"\"\"The Hyperparameter:\n",
    "      Hidden_size = {}\n",
    "      n_layers = {}\n",
    "      Learnning rate = {}\n",
    "      \"\"\".format(hidden_size,n_layers, lr))\n",
    "train_loss = []\n",
    "val_loss = []\n",
    "best_loss = float('+inf')\n",
    "if hasattr(torch.cuda, 'empty_cache'):\n",
    "    torch.cuda.empty_cache()\n",
    "\n",
    "epochs = 100\n",
    "counter = 0\n",
    "\n",
    "for epoch in tqdm(range(epochs)):\n",
    "    model.train()\n",
    "    avg_loss = []\n",
    "    for x,y in train_loader:\n",
    "        x = x.float()\n",
    "        x = x.to(device)\n",
    "        y = y.to(device)\n",
    "        optimizer.zero_grad()\n",
    "        output = model(x)\n",
    "        loss = criterion(y,output)\n",
    "        avg_loss.append(loss.item())\n",
    "        loss.backward()\n",
    "        optimizer.step()\n",
    "    avg_loss = np.array(avg_loss).mean()\n",
    "    train_loss.append(avg_loss)\n",
    "    \n",
    "    model.eval()\n",
    "    val_aloss = []\n",
    "    with torch.no_grad():\n",
    "        for x,y in test_loader:\n",
    "            x = x.float()\n",
    "            x = x.to(device)\n",
    "            y = y.to(device)\n",
    "            output = model(x)\n",
    "            loss = criterion(y, output)\n",
    "            val_aloss.append(loss.item())\n",
    "        val_aloss = np.array(val_aloss).mean()\n",
    "        val_loss.append(val_aloss)\n",
    "    \n",
    "    if val_aloss <best_loss:\n",
    "        best_loss = val_aloss\n",
    "        best_epoch = epoch\n",
    "        torch.save(model.state_dict(), 'MyLStm_model.pt')\n",
    "        counter = 0\n",
    "    counter += 1\n",
    "    if counter >= 9:\n",
    "        print('连续{}个epoch没有下降了'.format(counter))\n",
    "    print('Epoch:  {}   |Train_Loss: {:.6f} |Val_Loss: {:.6f}'.format(epoch + 1,avg_loss,val_aloss))"
   ]
  },
  {
   "cell_type": "code",
   "execution_count": 53,
   "metadata": {},
   "outputs": [
    {
     "data": {
      "image/png": "[encoded data removed]",
      "text/plain": [
       "<Figure size 432x288 with 1 Axes>"
      ]
     },
     "metadata": {
      "needs_background": "light"
     },
     "output_type": "display_data"
    },
    {
     "name": "stdout",
     "output_type": "stream",
     "text": [
      "Min val_loss is: 0.5217643600134623 at 1 epoch\n"
     ]
    }
   ],
   "source": [
    "import matplotlib.pyplot as plt\n",
    "\n",
    "plt.plot(train_loss)\n",
    "plt.plot(val_loss)\n",
    "plt.title('model loss')\n",
    "plt.ylabel('loss')\n",
    "plt.xlabel('epoch')\n",
    "\n",
    "plt.legend(['train','test'], loc = 'upper left')\n",
    "plt.show()\n",
    "print('Min val_loss is:',best_loss,'at',best_epoch,'epoch')"
   ]
  },
  {
   "cell_type": "code",
   "execution_count": 82,
   "metadata": {
    "scrolled": true
   },
   "outputs": [
    {
     "data": {
      "image/png": "[encoded data removed]",
      "text/plain": [
       "<Figure size 432x288 with 1 Axes>"
      ]
     },
     "metadata": {
      "needs_background": "light"
     },
     "output_type": "display_data"
    },
    {
     "name": "stdout",
     "output_type": "stream",
     "text": [
      "Min val_loss is: 0.2464742437005043 at 49 epoch\n"
     ]
    }
   ],
   "source": [
    "import matplotlib.pyplot as plt\n",
    "\n",
    "plt.plot(train_loss)\n",
    "plt.plot(val_loss)\n",
    "plt.title('model loss')\n",
    "plt.ylabel('loss')\n",
    "plt.xlabel('epoch')\n",
    "\n",
    "plt.legend(['train','test'], loc = 'upper left')\n",
    "plt.show()\n",
    "print('Min val_loss is:',best_loss,'at',best_epoch,'epoch')"
   ]
  },
  {
   "cell_type": "code",
   "execution_count": null,
   "metadata": {},
   "outputs": [],
   "source": [
    "a = np.min(history.history['val_loss'])\n",
    "print(f'The best val_loss is {a:.4f}')"
   ]
  },
  {
   "cell_type": "code",
   "execution_count": null,
   "metadata": {},
   "outputs": [],
   "source": [
    "del np_train, np_books, np_trades\n",
    "z = gc.collect()"
   ]
  },
  {
   "cell_type": "code",
   "execution_count": null,
   "metadata": {},
   "outputs": [],
   "source": [
    "%%time\n",
    "pool = Pool(NTHREADS)\n",
    "r = pool.map(process_book_test_chunk, book_test_chunks)\n",
    "pool.close()\n",
    "\n",
    "a1, _ = zip(*r)\n",
    "np_books = [np.concatenate(a1[i], axis=0) for i in range(len(a1))]\n",
    "np_books = np.concatenate(np_books, axis=0)"
   ]
  },
  {
   "cell_type": "code",
   "execution_count": null,
   "metadata": {},
   "outputs": [],
   "source": [
    "%%time\n",
    "pool = Pool(NTHREADS)\n",
    "r = pool.map(process_trade_test_chunk, trade_test_chunks)\n",
    "pool.close()\n",
    "\n",
    "a1, _ = zip(*r)\n",
    "np_trades = [np.concatenate(a1[i], axis=0) for i in range(len(a1))]\n",
    "np_trades = np.concatenate(np_trades, axis=0)"
   ]
  },
  {
   "cell_type": "code",
   "execution_count": null,
   "metadata": {},
   "outputs": [],
   "source": [
    "print(np_books.shape, np_trades.shape)\n",
    "np_test = np.concatenate((np_books, np_trades), axis=2)\n",
    "print(np_test.shape)"
   ]
  },
  {
   "cell_type": "code",
   "execution_count": null,
   "metadata": {},
   "outputs": [],
   "source": [
    "# Scaler\n",
    "for i in tqdm(range(np_test.shape[1])):\n",
    "    transformer = transformers[i]\n",
    "    np_test[:, i, :] = transformer.transform(np.nan_to_num(np_test[:, i, :]))\n"
   ]
  },
  {
   "cell_type": "code",
   "execution_count": null,
   "metadata": {},
   "outputs": [],
   "source": [
    "np_test = np.nan_to_num(np_test)"
   ]
  },
  {
   "cell_type": "code",
   "execution_count": null,
   "metadata": {},
   "outputs": [],
   "source": [
    "model.load_weights(checkpoint_filepath)\n",
    "res = model.predict(np_test, batch_size=TEST_BATCH_SIZE)\n",
    "res = np.clip(res, 0, 1)"
   ]
  },
  {
   "cell_type": "code",
   "execution_count": null,
   "metadata": {},
   "outputs": [],
   "source": [
    "import shutil\n",
    "shutil.rmtree('./model_checkpoint')"
   ]
  },
  {
   "cell_type": "code",
   "execution_count": null,
   "metadata": {},
   "outputs": [],
   "source": []
  }
 ],
 "metadata": {
  "kernelspec": {
   "display_name": "Python [conda env:optiver_kaggle]",
   "language": "python",
   "name": "conda-env-optiver_kaggle-py"
  },
  "language_info": {
   "codemirror_mode": {
    "name": "ipython",
    "version": 3
   },
   "file_extension": ".py",
   "mimetype": "text/x-python",
   "name": "python",
   "nbconvert_exporter": "python",
   "pygments_lexer": "ipython3",
   "version": "3.8.11"
  }
 },
 "nbformat": 4,
 "nbformat_minor": 4
}
