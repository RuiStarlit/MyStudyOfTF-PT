{
 "cells": [
  {
   "cell_type": "code",
   "execution_count": null,
   "metadata": {},
   "outputs": [],
   "source": [
    "import torch\n",
    "import torch.nn as nn\n",
    "import torch.nn.functional as F\n",
    "import numpy as np\n",
    "import random\n",
    "import time\n",
    "import glob\n",
    "import gc\n",
    "import sys\n",
    "\n",
    "\n",
    "%matplotlib notebook\n",
    "import matplotlib.pyplot as plt\n",
    "\n",
    "from tqdm.auto import tqdm\n",
    "\n",
    "from utils import *\n",
    "from models import *\n",
    "\n",
    "import warnings\n",
    "warnings.filterwarnings('ignore')"
   ]
  },
  {
   "cell_type": "code",
   "execution_count": 2,
   "metadata": {},
   "outputs": [],
   "source": [
    "from train_RNN import *\n",
    "assert torch.cuda.is_available()\n",
    "device = 'cuda'"
   ]
  },
  {
   "cell_type": "code",
   "execution_count": 3,
   "metadata": {},
   "outputs": [],
   "source": [
    "train_f = glob.glob('../stock_price/train/*.hdf')\n",
    "train_f.remove('../stock_price/train\\\\20190425_20190510.hdf')\n",
    "test_f = glob.glob('../stock_price/test/*.hdf')"
   ]
  },
  {
   "cell_type": "code",
   "execution_count": 4,
   "metadata": {},
   "outputs": [
    {
     "data": {
      "text/plain": [
       "['../stock_price/train\\\\20190401_20190412.hdf',\n",
       " '../stock_price/train\\\\20190412_20190424.hdf',\n",
       " '../stock_price/train\\\\20190510_20190522.hdf',\n",
       " '../stock_price/train\\\\20190523_20190604.hdf',\n",
       " '../stock_price/train\\\\20190604_20190617.hdf',\n",
       " '../stock_price/train\\\\20190617_20190628.hdf',\n",
       " '../stock_price/train\\\\20190628_20190710.hdf',\n",
       " '../stock_price/train\\\\20190710_20190723.hdf',\n",
       " '../stock_price/train\\\\20190723_20190731.hdf']"
      ]
     },
     "execution_count": 4,
     "metadata": {},
     "output_type": "execute_result"
    }
   ],
   "source": [
    "train_f"
   ]
  },
  {
   "cell_type": "code",
   "execution_count": 5,
   "metadata": {},
   "outputs": [],
   "source": [
    "train_f = ['../stock_price/train/20190401_20190412.hdf',\n",
    "'../stock_price/train/20190412_20190424.hdf',\n",
    "'../stock_price/train/20190510_20190522.hdf',\n",
    "'../stock_price/train/20190523_20190604.hdf',\n",
    "'../stock_price/train/20190604_20190617.hdf',\n",
    "'../stock_price/train/20190617_20190628.hdf',\n",
    "'../stock_price/train/20190628_20190710.hdf',\n",
    "'../stock_price/train/20190710_20190723.hdf',\n",
    "'../stock_price/train/20190723_20190731.hdf']"
   ]
  },
  {
   "cell_type": "code",
   "execution_count": 6,
   "metadata": {
    "scrolled": true
   },
   "outputs": [
    {
     "data": {
      "text/plain": [
       "174"
      ]
     },
     "execution_count": 6,
     "metadata": {},
     "output_type": "execute_result"
    }
   ],
   "source": [
    "len(test_f)"
   ]
  },
  {
   "cell_type": "code",
   "execution_count": 7,
   "metadata": {},
   "outputs": [],
   "source": [
    "# test_index = random.sample(range(0,173),20)\n",
    "test_index = [148,167,94,66,13,70,19,21,44,149,115,56,35,161,109,101,68,111,45,34]\n",
    "test_f = np.array(test_f)[test_index]\n",
    "test_f = test_f.tolist()"
   ]
  },
  {
   "cell_type": "code",
   "execution_count": 8,
   "metadata": {},
   "outputs": [],
   "source": [
    "# Hyperparams\n",
    "enc_in = 15\n",
    "dec_in = 1\n",
    "c_out = 1 \n",
    "seq_len = 20\n",
    "out_len = 5\n",
    "d_model = 16\n",
    "d_ff = 8\n",
    "n_heads = 2\n",
    "label_len = 10\n",
    "e_layers = 3\n",
    "d_layers = 2\n",
    "\n",
    "dropout = 0.1\n",
    "batch_size = 512\n",
    "lr = 0.001"
   ]
  },
  {
   "cell_type": "code",
   "execution_count": 9,
   "metadata": {},
   "outputs": [],
   "source": [
    "RNN = Train_RNN(enc_in, dec_in, c_out, seq_len, out_len, d_model, d_ff, n_heads, \n",
    "                                e_layers, d_layers, label_len,\n",
    "                                dropout, batch_size, lr, device, train_f, test_f)"
   ]
  },
  {
   "cell_type": "code",
   "execution_count": 10,
   "metadata": {
    "scrolled": true
   },
   "outputs": [
    {
     "name": "stdout",
     "output_type": "stream",
     "text": [
      "MyLSTM(\n",
      "  (lstm): LSTM(15, 16, num_layers=2)\n",
      "  (flat): Flatten(start_dim=1, end_dim=-1)\n",
      "  (relu): ReLU()\n",
      "  (fc1): Linear(in_features=336, out_features=64, bias=True)\n",
      "  (fc2): Linear(in_features=64, out_features=1, bias=True)\n",
      ")\n"
     ]
    }
   ],
   "source": [
    "RNN._build_model('attn_gru')"
   ]
  },
  {
   "cell_type": "code",
   "execution_count": 11,
   "metadata": {},
   "outputs": [],
   "source": [
    "RNN._selct_optim('adam')\n",
    "RNN._selct_scheduler(10,0.6)"
   ]
  },
  {
   "cell_type": "code",
   "execution_count": 12,
   "metadata": {},
   "outputs": [],
   "source": [
    "train_file_name = '../stock_price/train/20190523_20190604.hdf'\n",
    "test_file_name = '../stock_price/test/IC2003_20190807.hdf'"
   ]
  },
  {
   "cell_type": "code",
   "execution_count": null,
   "metadata": {},
   "outputs": [
    {
     "data": {
      "application/vnd.jupyter.widget-view+json": {
       "model_id": "e986406ca0e64353b58b97932e916d90",
       "version_major": 2,
       "version_minor": 0
      },
      "text/plain": [
       "  0%|          | 0/100 [00:00<?, ?it/s]"
      ]
     },
     "metadata": {},
     "output_type": "display_data"
    },
    {
     "name": "stdout",
     "output_type": "stream",
     "text": [
      "Epoch:  1 |Train_Loss:1.541180 |R2:-0.024815|Val_Loss:1.215132 |R2:-0.010070 |Rate:0.520 |lr:0.001000\n",
      "Epoch:  2 |Train_Loss:1.537940 |R2:-0.021354|Val_Loss:1.211142 |R2:-0.004448 |Rate:0.541 |lr:0.001000\n",
      "Epoch:  3 |Train_Loss:1.529637 |R2:-0.011896|Val_Loss:1.197197 |R2:0.018371 |Rate:0.576 |lr:0.001000\n",
      "Epoch:  4 |Train_Loss:1.493784 |R2:0.028850|Val_Loss:1.137048 |R2:0.104378 |Rate:0.625 |lr:0.001000\n",
      "Epoch:  5 |Train_Loss:1.370022 |R2:0.141222|Val_Loss:1.025771 |R2:0.236819 |Rate:0.669 |lr:0.001000\n",
      "Epoch:  6 |Train_Loss:1.256436 |R2:0.233753|Val_Loss:0.981632 |R2:0.292498 |Rate:0.678 |lr:0.001000\n"
     ]
    }
   ],
   "source": [
    "RNN.train(epochs=100, train_all=True, f=train_file_name,\n",
    "             val_all=True, testfile=test_file_name, save='train')"
   ]
  },
  {
   "cell_type": "code",
   "execution_count": null,
   "metadata": {},
   "outputs": [],
   "source": []
  }
 ],
 "metadata": {
  "kernelspec": {
   "display_name": "Python [conda env:optiver_kaggle]",
   "language": "python",
   "name": "conda-env-optiver_kaggle-py"
  },
  "language_info": {
   "codemirror_mode": {
    "name": "ipython",
    "version": 3
   },
   "file_extension": ".py",
   "mimetype": "text/x-python",
   "name": "python",
   "nbconvert_exporter": "python",
   "pygments_lexer": "ipython3",
   "version": "3.8.11"
  }
 },
 "nbformat": 4,
 "nbformat_minor": 4
}
