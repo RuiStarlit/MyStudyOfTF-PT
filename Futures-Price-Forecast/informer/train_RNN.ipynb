{
 "cells": [
  {
   "cell_type": "code",
   "execution_count": 1,
   "metadata": {},
   "outputs": [],
   "source": [
    "import torch\n",
    "import torch.nn as nn\n",
    "import torch.nn.functional as F\n",
    "import numpy as np\n",
    "import random\n",
    "import time\n",
    "import glob\n",
    "import gc\n",
    "import sys\n",
    "\n",
    "\n",
    "%matplotlib notebook\n",
    "import matplotlib.pyplot as plt\n",
    "\n",
    "from tqdm.auto import tqdm\n",
    "\n",
    "from utils import *\n",
    "from models import *\n",
    "\n",
    "import warnings\n",
    "warnings.filterwarnings('ignore')"
   ]
  },
  {
   "cell_type": "code",
   "execution_count": 2,
   "metadata": {},
   "outputs": [],
   "source": [
    "from train_RNN import *\n",
    "assert torch.cuda.is_available()\n",
    "device = 'cuda'"
   ]
  },
  {
   "cell_type": "code",
   "execution_count": 3,
   "metadata": {},
   "outputs": [],
   "source": [
    "train_f = glob.glob('../stock_price/train/*.hdf')\n",
    "train_f.remove('../stock_price/train\\\\20190425_20190510.hdf')\n",
    "test_f = glob.glob('../stock_price/test/*.hdf')"
   ]
  },
  {
   "cell_type": "code",
   "execution_count": 4,
   "metadata": {},
   "outputs": [
    {
     "data": {
      "text/plain": [
       "['../stock_price/train\\\\20190401_20190412.hdf',\n",
       " '../stock_price/train\\\\20190412_20190424.hdf',\n",
       " '../stock_price/train\\\\20190510_20190522.hdf',\n",
       " '../stock_price/train\\\\20190523_20190604.hdf',\n",
       " '../stock_price/train\\\\20190604_20190617.hdf',\n",
       " '../stock_price/train\\\\20190617_20190628.hdf',\n",
       " '../stock_price/train\\\\20190628_20190710.hdf',\n",
       " '../stock_price/train\\\\20190710_20190723.hdf',\n",
       " '../stock_price/train\\\\20190723_20190731.hdf']"
      ]
     },
     "execution_count": 4,
     "metadata": {},
     "output_type": "execute_result"
    }
   ],
   "source": [
    "train_f"
   ]
  },
  {
   "cell_type": "code",
   "execution_count": 5,
   "metadata": {},
   "outputs": [],
   "source": [
    "train_f = ['../stock_price/train/20190401_20190412.hdf',\n",
    "'../stock_price/train/20190412_20190424.hdf',\n",
    "'../stock_price/train/20190510_20190522.hdf',\n",
    "'../stock_price/train/20190523_20190604.hdf',\n",
    "'../stock_price/train/20190604_20190617.hdf',\n",
    "'../stock_price/train/20190617_20190628.hdf',\n",
    "'../stock_price/train/20190628_20190710.hdf',\n",
    "'../stock_price/train/20190710_20190723.hdf',\n",
    "'../stock_price/train/20190723_20190731.hdf']"
   ]
  },
  {
   "cell_type": "code",
   "execution_count": 6,
   "metadata": {
    "scrolled": true
   },
   "outputs": [
    {
     "data": {
      "text/plain": [
       "174"
      ]
     },
     "execution_count": 6,
     "metadata": {},
     "output_type": "execute_result"
    }
   ],
   "source": [
    "len(test_f)"
   ]
  },
  {
   "cell_type": "code",
   "execution_count": 7,
   "metadata": {},
   "outputs": [],
   "source": [
    "# test_index = random.sample(range(0,173),20)\n",
    "test_index = [148,167,94,66,13,70,19,21,44,149,115,56,35,161,109,101,68,111,45,34]\n",
    "test_f = np.array(test_f)[test_index]\n",
    "test_f = test_f.tolist()"
   ]
  },
  {
   "cell_type": "code",
   "execution_count": 8,
   "metadata": {},
   "outputs": [],
   "source": [
    "# Hyperparams\n",
    "enc_in = 15\n",
    "dec_in = 1\n",
    "c_out = 1 \n",
    "seq_len = 20\n",
    "out_len = 5\n",
    "d_model = 16\n",
    "d_ff = 8\n",
    "n_heads = 2\n",
    "label_len = 10\n",
    "e_layers = 3\n",
    "d_layers = 2\n",
    "\n",
    "dropout = 0.1\n",
    "batch_size = 512\n",
    "lr = 0.001"
   ]
  },
  {
   "cell_type": "code",
   "execution_count": 9,
   "metadata": {},
   "outputs": [],
   "source": [
    "RNN = Train_RNN(enc_in, dec_in, c_out, seq_len, out_len, d_model, d_ff, n_heads, \n",
    "                                e_layers, d_layers, label_len,\n",
    "                                dropout, batch_size, lr, device, train_f, test_f)"
   ]
  },
  {
   "cell_type": "code",
   "execution_count": 10,
   "metadata": {
    "scrolled": true
   },
   "outputs": [
    {
     "name": "stdout",
     "output_type": "stream",
     "text": [
      "RNN(\n",
      "  (rnn): LSTM(15, 16, num_layers=2, batch_first=True, dropout=0.2)\n",
      "  (fc1): Linear(in_features=32, out_features=32, bias=True)\n",
      "  (fc2): Linear(in_features=32, out_features=1, bias=True)\n",
      ")\n"
     ]
    }
   ],
   "source": [
    "RNN._build_model()"
   ]
  },
  {
   "cell_type": "code",
   "execution_count": 11,
   "metadata": {},
   "outputs": [],
   "source": [
    "RNN._selct_optim('sgd')\n",
    "RNN._selct_scheduler(10,0.6)"
   ]
  },
  {
   "cell_type": "code",
   "execution_count": 13,
   "metadata": {},
   "outputs": [],
   "source": [
    "train_file_name = '../stock_price/train/20190523_20190604.hdf'\n",
    "test_file_name = '../stock_price/test/IC2003_20190807.hdf'"
   ]
  },
  {
   "cell_type": "code",
   "execution_count": null,
   "metadata": {},
   "outputs": [
    {
     "data": {
      "application/vnd.jupyter.widget-view+json": {
       "model_id": "9a8e1630173c491a9011cd88d51888fc",
       "version_major": 2,
       "version_minor": 0
      },
      "text/plain": [
       "  0%|          | 0/100 [00:00<?, ?it/s]"
      ]
     },
     "metadata": {},
     "output_type": "display_data"
    },
    {
     "name": "stdout",
     "output_type": "stream",
     "text": [
      "Epoch:  1 |Train_Loss:1.381232 |R2:0.121780|Val_Loss:1.022359 |R2:0.235658 |Rate:0.663 |lr:0.001000\n",
      "Epoch:  2 |Train_Loss:1.250317 |R2:0.236426|Val_Loss:0.975054 |R2:0.298451 |Rate:0.677 |lr:0.001000\n",
      "Epoch:  3 |Train_Loss:1.210814 |R2:0.270477|Val_Loss:0.964528 |R2:0.311080 |Rate:0.680 |lr:0.001000\n",
      "Epoch:  4 |Train_Loss:1.196977 |R2:0.283828|Val_Loss:0.958333 |R2:0.319843 |Rate:0.682 |lr:0.001000\n",
      "Epoch:  5 |Train_Loss:1.187857 |R2:0.292234|Val_Loss:0.954503 |R2:0.324754 |Rate:0.683 |lr:0.001000\n",
      "Epoch:  6 |Train_Loss:1.181800 |R2:0.297525|Val_Loss:0.952125 |R2:0.327867 |Rate:0.684 |lr:0.001000\n",
      "Epoch:  7 |Train_Loss:1.177783 |R2:0.300875|Val_Loss:0.950577 |R2:0.329958 |Rate:0.684 |lr:0.001000\n",
      "Epoch:  8 |Train_Loss:1.175134 |R2:0.302997|Val_Loss:0.949683 |R2:0.331136 |Rate:0.684 |lr:0.001000\n",
      "Epoch:  9 |Train_Loss:1.173356 |R2:0.304409|Val_Loss:0.949078 |R2:0.331929 |Rate:0.685 |lr:0.001000\n",
      "Epoch: 10 |Train_Loss:1.172118 |R2:0.305421|Val_Loss:0.948603 |R2:0.332631 |Rate:0.685 |lr:0.001000\n",
      "Epoch: 11 |Train_Loss:1.171179 |R2:0.306201|Val_Loss:0.948180 |R2:0.333504 |Rate:0.685 |lr:0.001000\n",
      "Epoch: 12 |Train_Loss:1.170461 |R2:0.306821|Val_Loss:0.947830 |R2:0.334339 |Rate:0.685 |lr:0.001000\n",
      "Epoch: 13 |Train_Loss:1.169828 |R2:0.307413|Val_Loss:0.947464 |R2:0.335254 |Rate:0.685 |lr:0.001000\n",
      "Epoch: 14 |Train_Loss:1.169299 |R2:0.307912|Val_Loss:0.947129 |R2:0.336196 |Rate:0.685 |lr:0.001000\n",
      "Epoch: 15 |Train_Loss:1.168808 |R2:0.308378|Val_Loss:0.946834 |R2:0.336878 |Rate:0.685 |lr:0.001000\n",
      "Epoch: 16 |Train_Loss:1.168405 |R2:0.308764|Val_Loss:0.946544 |R2:0.337416 |Rate:0.685 |lr:0.001000\n",
      "Epoch: 17 |Train_Loss:1.168018 |R2:0.309113|Val_Loss:0.946286 |R2:0.337893 |Rate:0.686 |lr:0.001000\n",
      "Epoch: 18 |Train_Loss:1.167662 |R2:0.309448|Val_Loss:0.946042 |R2:0.338153 |Rate:0.686 |lr:0.001000\n",
      "Epoch: 19 |Train_Loss:1.167326 |R2:0.309740|Val_Loss:0.945837 |R2:0.338325 |Rate:0.686 |lr:0.001000\n",
      "Epoch: 20 |Train_Loss:1.167016 |R2:0.310029|Val_Loss:0.945645 |R2:0.338467 |Rate:0.686 |lr:0.001000\n",
      "Epoch: 21 |Train_Loss:1.166717 |R2:0.310299|Val_Loss:0.945469 |R2:0.338608 |Rate:0.686 |lr:0.001000\n",
      "Epoch: 22 |Train_Loss:1.166446 |R2:0.310535|Val_Loss:0.945284 |R2:0.338815 |Rate:0.686 |lr:0.001000\n",
      "Epoch: 23 |Train_Loss:1.166190 |R2:0.310754|Val_Loss:0.945144 |R2:0.338933 |Rate:0.686 |lr:0.001000\n",
      "Epoch: 24 |Train_Loss:1.165959 |R2:0.310942|Val_Loss:0.944997 |R2:0.339064 |Rate:0.686 |lr:0.001000\n",
      "Epoch: 25 |Train_Loss:1.165746 |R2:0.311100|Val_Loss:0.944858 |R2:0.339144 |Rate:0.686 |lr:0.001000\n",
      "Epoch: 26 |Train_Loss:1.165545 |R2:0.311243|Val_Loss:0.944733 |R2:0.339273 |Rate:0.686 |lr:0.001000\n",
      "Epoch: 27 |Train_Loss:1.165356 |R2:0.311370|Val_Loss:0.944627 |R2:0.339318 |Rate:0.686 |lr:0.001000\n",
      "Epoch: 28 |Train_Loss:1.165166 |R2:0.311499|Val_Loss:0.944540 |R2:0.339292 |Rate:0.686 |lr:0.001000\n",
      "Epoch: 29 |Train_Loss:1.164981 |R2:0.311624|Val_Loss:0.944460 |R2:0.339343 |Rate:0.686 |lr:0.001000\n"
     ]
    }
   ],
   "source": [
    "RNN.train(epochs=100, train_all=True, f=train_file_name,\n",
    "             val_all=True, testfile=test_file_name, save='train')"
   ]
  },
  {
   "cell_type": "code",
   "execution_count": null,
   "metadata": {},
   "outputs": [],
   "source": []
  }
 ],
 "metadata": {
  "kernelspec": {
   "display_name": "Python [conda env:optiver_kaggle]",
   "language": "python",
   "name": "conda-env-optiver_kaggle-py"
  },
  "language_info": {
   "codemirror_mode": {
    "name": "ipython",
    "version": 3
   },
   "file_extension": ".py",
   "mimetype": "text/x-python",
   "name": "python",
   "nbconvert_exporter": "python",
   "pygments_lexer": "ipython3",
   "version": "3.8.11"
  }
 },
 "nbformat": 4,
 "nbformat_minor": 4
}
