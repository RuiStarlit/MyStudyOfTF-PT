{
 "cells": [
  {
   "cell_type": "code",
   "execution_count": 1,
   "id": "0cab5394",
   "metadata": {},
   "outputs": [],
   "source": [
    "import h5py\n",
    "import numpy as np\n",
    "from tqdm.notebook import tqdm\n",
    "import os\n",
    "import glob\n",
    "import matplotlib.pyplot as plt\n",
    "import time\n",
    "\n",
    "from train_Informer_d import *\n",
    "\n",
    "from utils import *\n",
    "from models import *\n",
    "\n",
    "import warnings\n",
    "warnings.filterwarnings('ignore')\n",
    "\n",
    "assert torch.cuda.is_available()\n",
    "device = 'cuda'"
   ]
  },
  {
   "cell_type": "code",
   "execution_count": 2,
   "id": "a2fd8b08",
   "metadata": {},
   "outputs": [],
   "source": [
    "train_f = sorted(glob.glob('train/*.hdf'))\n",
    "# train_f.remove('../stock_price/train/20190425_20190510.hdf')\n",
    "# train_f.remove('../stock_price/train/20190510_20190522.hdf')\n",
    "test_f = sorted(glob.glob('test/*.hdf'))\n",
    "# test_f.remove('../stock_price/test\\IC2003_20191018.hdf') # batch为256时，第71个batch大小为2， 不足以用于预测"
   ]
  },
  {
   "cell_type": "code",
   "execution_count": 3,
   "id": "e01edbeb",
   "metadata": {},
   "outputs": [
    {
     "data": {
      "text/plain": [
       "174"
      ]
     },
     "execution_count": 3,
     "metadata": {},
     "output_type": "execute_result"
    }
   ],
   "source": [
    "len(test_f)"
   ]
  },
  {
   "cell_type": "code",
   "execution_count": 4,
   "id": "ea9341eb",
   "metadata": {},
   "outputs": [
    {
     "data": {
      "text/plain": [
       "['train\\\\20190401_20190412.hdf',\n",
       " 'train\\\\20190412_20190424.hdf',\n",
       " 'train\\\\20190425_20190510.hdf',\n",
       " 'train\\\\20190510_20190522.hdf',\n",
       " 'train\\\\20190523_20190604.hdf',\n",
       " 'train\\\\20190604_20190617.hdf',\n",
       " 'train\\\\20190617_20190628.hdf',\n",
       " 'train\\\\20190628_20190710.hdf',\n",
       " 'train\\\\20190710_20190723.hdf',\n",
       " 'train\\\\20190723_20190731.hdf']"
      ]
     },
     "execution_count": 4,
     "metadata": {},
     "output_type": "execute_result"
    }
   ],
   "source": [
    "# train_f = train_f[-6:]\n",
    "train_f"
   ]
  },
  {
   "cell_type": "code",
   "execution_count": 7,
   "id": "f3db37c5",
   "metadata": {},
   "outputs": [],
   "source": [
    "# Hyperparams\n",
    "enc_in = 15\n",
    "dec_in = 2\n",
    "c_out = 1 \n",
    "seq_len = 20\n",
    "out_len = 1\n",
    "d_model = 64\n",
    "d_ff = 32\n",
    "n_heads = 2\n",
    "label_len = 10\n",
    "e_layers = 2\n",
    "d_layers = 2\n",
    "scaler = False\n",
    "opt_s = False\n",
    "\n",
    "decay = 100\n",
    "dropout = 0.3\n",
    "batch_size = 256\n",
    "val_batch = 512\n",
    "lr = 0.001"
   ]
  },
  {
   "cell_type": "code",
   "execution_count": 8,
   "id": "0bfa3592",
   "metadata": {},
   "outputs": [],
   "source": [
    "Informer = Train_Informer(enc_in, dec_in, c_out, seq_len, out_len, d_model, d_ff, n_heads, \n",
    "                                e_layers, d_layers, label_len,\n",
    "                                dropout, batch_size, val_batch, lr,\n",
    "                              device, train_f, test_f,scaler, decay, opt_s)"
   ]
  },
  {
   "cell_type": "code",
   "execution_count": 9,
   "id": "2cf469d0",
   "metadata": {
    "scrolled": true
   },
   "outputs": [
    {
     "name": "stdout",
     "output_type": "stream",
     "text": [
      "Informer(\n",
      "  (enc_embedding): DataEmbedding(\n",
      "    (value_embedding): TokenEmbedding(\n",
      "      (tokenConv): Conv1d(15, 64, kernel_size=(3,), stride=(1,), padding=(1,), padding_mode=circular)\n",
      "    )\n",
      "    (position_embedding): PositionalEmbedding()\n",
      "    (fc): Linear(in_features=15, out_features=16, bias=True)\n",
      "  )\n",
      "  (dec_embedding): DataEmbedding(\n",
      "    (value_embedding): TokenEmbedding(\n",
      "      (tokenConv): Conv1d(2, 64, kernel_size=(3,), stride=(1,), padding=(1,), padding_mode=circular)\n",
      "    )\n",
      "    (position_embedding): PositionalEmbedding()\n",
      "    (fc): Linear(in_features=2, out_features=16, bias=True)\n",
      "  )\n",
      "  (encoder): Encoder(\n",
      "    (attn_layers): ModuleList(\n",
      "      (0): EncoderLayer(\n",
      "        (attention): AttentionLayer(\n",
      "          (inner_attention): FullAttention(\n",
      "            (dropout): Dropout(p=0.3, inplace=False)\n",
      "          )\n",
      "          (query_projection): Linear(in_features=64, out_features=64, bias=True)\n",
      "          (key_projection): Linear(in_features=64, out_features=64, bias=True)\n",
      "          (value_projection): Linear(in_features=64, out_features=64, bias=True)\n",
      "          (out_projection): Linear(in_features=64, out_features=64, bias=True)\n",
      "        )\n",
      "        (conv1): Conv1d(64, 32, kernel_size=(1,), stride=(1,))\n",
      "        (conv2): Conv1d(32, 64, kernel_size=(1,), stride=(1,))\n",
      "        (norm1): LayerNorm((64,), eps=1e-05, elementwise_affine=True)\n",
      "        (norm2): LayerNorm((64,), eps=1e-05, elementwise_affine=True)\n",
      "        (dropout): Dropout(p=0.3, inplace=False)\n",
      "      )\n",
      "      (1): EncoderLayer(\n",
      "        (attention): AttentionLayer(\n",
      "          (inner_attention): FullAttention(\n",
      "            (dropout): Dropout(p=0.3, inplace=False)\n",
      "          )\n",
      "          (query_projection): Linear(in_features=64, out_features=64, bias=True)\n",
      "          (key_projection): Linear(in_features=64, out_features=64, bias=True)\n",
      "          (value_projection): Linear(in_features=64, out_features=64, bias=True)\n",
      "          (out_projection): Linear(in_features=64, out_features=64, bias=True)\n",
      "        )\n",
      "        (conv1): Conv1d(64, 32, kernel_size=(1,), stride=(1,))\n",
      "        (conv2): Conv1d(32, 64, kernel_size=(1,), stride=(1,))\n",
      "        (norm1): LayerNorm((64,), eps=1e-05, elementwise_affine=True)\n",
      "        (norm2): LayerNorm((64,), eps=1e-05, elementwise_affine=True)\n",
      "        (dropout): Dropout(p=0.3, inplace=False)\n",
      "      )\n",
      "    )\n",
      "    (norm): LayerNorm((64,), eps=1e-05, elementwise_affine=True)\n",
      "  )\n",
      "  (decoder): Decoder(\n",
      "    (layers): ModuleList(\n",
      "      (0): DecoderLayer(\n",
      "        (self_attention): AttentionLayer(\n",
      "          (inner_attention): FullAttention(\n",
      "            (dropout): Dropout(p=0.3, inplace=False)\n",
      "          )\n",
      "          (query_projection): Linear(in_features=64, out_features=64, bias=True)\n",
      "          (key_projection): Linear(in_features=64, out_features=64, bias=True)\n",
      "          (value_projection): Linear(in_features=64, out_features=64, bias=True)\n",
      "          (out_projection): Linear(in_features=64, out_features=64, bias=True)\n",
      "        )\n",
      "        (cross_attention): AttentionLayer(\n",
      "          (inner_attention): FullAttention(\n",
      "            (dropout): Dropout(p=0.3, inplace=False)\n",
      "          )\n",
      "          (query_projection): Linear(in_features=64, out_features=64, bias=True)\n",
      "          (key_projection): Linear(in_features=64, out_features=64, bias=True)\n",
      "          (value_projection): Linear(in_features=64, out_features=64, bias=True)\n",
      "          (out_projection): Linear(in_features=64, out_features=64, bias=True)\n",
      "        )\n",
      "        (conv1): Conv1d(64, 32, kernel_size=(1,), stride=(1,))\n",
      "        (conv2): Conv1d(32, 64, kernel_size=(1,), stride=(1,))\n",
      "        (norm1): LayerNorm((64,), eps=1e-05, elementwise_affine=True)\n",
      "        (norm2): LayerNorm((64,), eps=1e-05, elementwise_affine=True)\n",
      "        (norm3): LayerNorm((64,), eps=1e-05, elementwise_affine=True)\n",
      "        (dropout): Dropout(p=0.3, inplace=False)\n",
      "      )\n",
      "      (1): DecoderLayer(\n",
      "        (self_attention): AttentionLayer(\n",
      "          (inner_attention): FullAttention(\n",
      "            (dropout): Dropout(p=0.3, inplace=False)\n",
      "          )\n",
      "          (query_projection): Linear(in_features=64, out_features=64, bias=True)\n",
      "          (key_projection): Linear(in_features=64, out_features=64, bias=True)\n",
      "          (value_projection): Linear(in_features=64, out_features=64, bias=True)\n",
      "          (out_projection): Linear(in_features=64, out_features=64, bias=True)\n",
      "        )\n",
      "        (cross_attention): AttentionLayer(\n",
      "          (inner_attention): FullAttention(\n",
      "            (dropout): Dropout(p=0.3, inplace=False)\n",
      "          )\n",
      "          (query_projection): Linear(in_features=64, out_features=64, bias=True)\n",
      "          (key_projection): Linear(in_features=64, out_features=64, bias=True)\n",
      "          (value_projection): Linear(in_features=64, out_features=64, bias=True)\n",
      "          (out_projection): Linear(in_features=64, out_features=64, bias=True)\n",
      "        )\n",
      "        (conv1): Conv1d(64, 32, kernel_size=(1,), stride=(1,))\n",
      "        (conv2): Conv1d(32, 64, kernel_size=(1,), stride=(1,))\n",
      "        (norm1): LayerNorm((64,), eps=1e-05, elementwise_affine=True)\n",
      "        (norm2): LayerNorm((64,), eps=1e-05, elementwise_affine=True)\n",
      "        (norm3): LayerNorm((64,), eps=1e-05, elementwise_affine=True)\n",
      "        (dropout): Dropout(p=0.3, inplace=False)\n",
      "      )\n",
      "    )\n",
      "    (norm): LayerNorm((64,), eps=1e-05, elementwise_affine=True)\n",
      "  )\n",
      "  (projection): Linear(in_features=64, out_features=1, bias=True)\n",
      ")\n"
     ]
    }
   ],
   "source": [
    "Informer._build_model()"
   ]
  },
  {
   "cell_type": "code",
   "execution_count": 14,
   "id": "98bddbc1",
   "metadata": {},
   "outputs": [],
   "source": [
    "Informer._selct_optim('adam')\n",
    "Informer._selct_scheduler(opt='noam',patience=5, factor=0.5,step=8000)\n",
    "# Informer._selct_scheduler(opt='cyclic',base_lr=0.001, max_lr=0.005)"
   ]
  },
  {
   "cell_type": "code",
   "execution_count": 15,
   "id": "a1adc0ff",
   "metadata": {},
   "outputs": [
    {
     "name": "stdout",
     "output_type": "stream",
     "text": [
      "Total number of paramerters in networks is 121905  \n"
     ]
    }
   ],
   "source": [
    "print(\"Total number of paramerters in networks is {}  \".format(sum(x.numel() for x in Informer.model.parameters())))"
   ]
  },
  {
   "cell_type": "code",
   "execution_count": 16,
   "id": "dcaac98c",
   "metadata": {},
   "outputs": [],
   "source": [
    "Informer.val_every = True"
   ]
  },
  {
   "cell_type": "code",
   "execution_count": 17,
   "id": "66fc4147",
   "metadata": {
    "scrolled": false
   },
   "outputs": [
    {
     "data": {
      "image/png": "[encoded data removed]",
      "text/plain": [
       "<Figure size 432x288 with 1 Axes>"
      ]
     },
     "metadata": {
      "needs_background": "light"
     },
     "output_type": "display_data"
    }
   ],
   "source": [
    "Informer.preview_noam()"
   ]
  },
  {
   "cell_type": "code",
   "execution_count": null,
   "id": "ac560d8a",
   "metadata": {
    "scrolled": false
   },
   "outputs": [
    {
     "data": {
      "application/vnd.jupyter.widget-view+json": {
       "model_id": "f26100f9d4b346a6b403618ceac09192",
       "version_major": 2,
       "version_minor": 0
      },
      "text/plain": [
       "  0%|          | 0/200 [00:00<?, ?it/s]"
      ]
     },
     "metadata": {},
     "output_type": "display_data"
    }
   ],
   "source": [
    "Informer.train(epochs=200, train_all=True, f='../stock_price/train/20190723_20190731.hdf',\n",
    "               val_size=0.1, test_round=5,\n",
    "               save='train',patience=40)"
   ]
  },
  {
   "cell_type": "code",
   "execution_count": null,
   "id": "80819a90",
   "metadata": {},
   "outputs": [],
   "source": [
    "# Hyperparams\n",
    "enc_in = 15\n",
    "dec_in = 2\n",
    "c_out = 1 \n",
    "seq_len = 20\n",
    "out_len = 1\n",
    "d_model = 32\n",
    "d_ff = 32\n",
    "n_heads = 2\n",
    "label_len = 20\n",
    "e_layers = 2\n",
    "d_layers = 2\n",
    "scaler = False\n",
    "opt_s = False\n",
    "\n",
    "decay = 100\n",
    "dropout = 0.3\n",
    "batch_size = 256\n",
    "val_batch = 512\n",
    "lr = 0.001"
   ]
  },
  {
   "cell_type": "code",
   "execution_count": null,
   "id": "678e0e27",
   "metadata": {},
   "outputs": [],
   "source": [
    "Informer = Train_Informer(enc_in, dec_in, c_out, seq_len, out_len, d_model, d_ff, n_heads, \n",
    "                                e_layers, d_layers, label_len,\n",
    "                                dropout, batch_size, val_batch, lr,\n",
    "                              device, train_f, test_f,scaler, decay, opt_s)\n",
    "Informer._build_model()\n",
    "Informer._selct_optim('adam')\n",
    "Informer._selct_scheduler(opt='noam',patience=5, factor=1,step=4000)\n",
    "# Informer._selct_scheduler(opt='cyclic',base_lr=0.001, max_lr=0.005)\n",
    "print(\"Total number of paramerters in networks is {}  \".format(sum(x.numel() for x in Informer.model.parameters())))\n",
    "Informer.val_every = True"
   ]
  },
  {
   "cell_type": "code",
   "execution_count": null,
   "id": "99744e76",
   "metadata": {},
   "outputs": [],
   "source": [
    "Informer.train(epochs=200, train_all=True, f='../stock_price/train/20190723_20190731.hdf',\n",
    "               val_size=0.1, test_round=5,\n",
    "               save='train',patience=40)"
   ]
  },
  {
   "cell_type": "code",
   "execution_count": null,
   "id": "bb97490d",
   "metadata": {},
   "outputs": [],
   "source": [
    "# Hyperparams\n",
    "enc_in = 15\n",
    "dec_in = 2\n",
    "c_out = 1 \n",
    "seq_len = 20\n",
    "out_len = 1\n",
    "d_model = 64\n",
    "d_ff = 32\n",
    "n_heads = 2\n",
    "label_len = 10\n",
    "e_layers = 2\n",
    "d_layers = 2\n",
    "scaler = False\n",
    "opt_s = False\n",
    "\n",
    "decay = 100\n",
    "dropout = 0.5\n",
    "batch_size = 64\n",
    "val_batch = 512\n",
    "lr = 0.001"
   ]
  },
  {
   "cell_type": "code",
   "execution_count": null,
   "id": "5f75ffb4",
   "metadata": {},
   "outputs": [],
   "source": [
    "Informer = Train_Informer(enc_in, dec_in, c_out, seq_len, out_len, d_model, d_ff, n_heads, \n",
    "                                e_layers, d_layers, label_len,\n",
    "                                dropout, batch_size, val_batch, lr,\n",
    "                              device, train_f, test_f,scaler, decay, opt_s)\n",
    "Informer._build_model()\n",
    "Informer._selct_optim('adam')\n",
    "Informer._selct_scheduler(opt='noam',patience=5, factor=1,step=4000)\n",
    "# Informer._selct_scheduler(opt='cyclic',base_lr=0.001, max_lr=0.005)\n",
    "print(\"Total number of paramerters in networks is {}  \".format(sum(x.numel() for x in Informer.model.parameters())))\n",
    "Informer.val_every = True"
   ]
  },
  {
   "cell_type": "code",
   "execution_count": null,
   "id": "b0392761",
   "metadata": {},
   "outputs": [],
   "source": [
    "Informer.train(epochs=200, train_all=True, f='../stock_price/train/20190723_20190731.hdf',\n",
    "               val_size=0.1, test_round=5,\n",
    "               save='train',patience=40)"
   ]
  },
  {
   "cell_type": "code",
   "execution_count": null,
   "id": "d5754fec",
   "metadata": {},
   "outputs": [],
   "source": []
  }
 ],
 "metadata": {
  "kernelspec": {
   "display_name": "Python [conda env:optiver_kaggle]",
   "language": "python",
   "name": "conda-env-optiver_kaggle-py"
  },
  "language_info": {
   "codemirror_mode": {
    "name": "ipython",
    "version": 3
   },
   "file_extension": ".py",
   "mimetype": "text/x-python",
   "name": "python",
   "nbconvert_exporter": "python",
   "pygments_lexer": "ipython3",
   "version": "3.8.11"
  }
 },
 "nbformat": 4,
 "nbformat_minor": 5
}
