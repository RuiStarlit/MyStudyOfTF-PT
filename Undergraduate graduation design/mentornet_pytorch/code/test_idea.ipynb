{
 "cells": [
  {
   "cell_type": "code",
   "execution_count": 1,
   "metadata": {},
   "outputs": [],
   "source": [
    "import tensorflow as tf;  \n",
    "import numpy as np;  \n",
    " \n",
    "#  #常量初始化器\n",
    "# nonzero_v = tf.compat.v1.get_variable('data_util/nonzero_v', [],\n",
    "#                               initializer=tf.zeros_initializer(),\n",
    "#                               trainable=False,\n",
    "#                               dtype=tf.float32)\n",
    "\n",
    "# with tf.compat.v1.Session() as sess:\n",
    "#     sess.run(tf.compat.v1.global_variables_initializer())\n",
    "#     print(\"常量初始化器nonzero_v:\",sess.run(nonzero_v))"
   ]
  },
  {
   "cell_type": "code",
   "execution_count": 2,
   "metadata": {},
   "outputs": [],
   "source": [
    "nonzero_v = tf.compat.v1.get_variable('data_util/nonzero_v', [],\n",
    "                              initializer=tf.zeros_initializer(),\n",
    "                              trainable=False,\n",
    "                              dtype=tf.float32)"
   ]
  },
  {
   "cell_type": "code",
   "execution_count": 3,
   "metadata": {},
   "outputs": [
    {
     "name": "stdout",
     "output_type": "stream",
     "text": [
      "WARNING:tensorflow:From C:\\Users\\RUISAV~1\\AppData\\Local\\Temp/ipykernel_22932/1555451817.py:2: The name tf.global_variables_initializer is deprecated. Please use tf.compat.v1.global_variables_initializer instead.\n",
      "\n",
      "常量初始化器nonzero_v: 0.0\n"
     ]
    }
   ],
   "source": [
    "with tf.compat.v1.Session() as sess:\n",
    "    sess.run(tf.compat.v1.global_variables_initializer())\n",
    "    print(\"常量初始化器nonzero_v:\",sess.run(nonzero_v))"
   ]
  }
 ],
 "metadata": {
  "interpreter": {
   "hash": "d6b7a2cca450d9e5272a88beb247fd04f9ffc9667cef683458d0420589cf7e4e"
  },
  "kernelspec": {
   "display_name": "Python 3.8.12",
   "language": "python",
   "name": "python3"
  },
  "language_info": {
   "codemirror_mode": {
    "name": "ipython",
    "version": 3
   },
   "file_extension": ".py",
   "mimetype": "text/x-python",
   "name": "python",
   "nbconvert_exporter": "python",
   "pygments_lexer": "ipython3",
   "version": "3.7.11"
  },
  "orig_nbformat": 4
 },
 "nbformat": 4,
 "nbformat_minor": 2
}
