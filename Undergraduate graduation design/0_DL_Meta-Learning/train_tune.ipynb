{
 "cells": [
  {
   "cell_type": "code",
   "execution_count": null,
   "metadata": {},
   "outputs": [],
   "source": [
    "# %env CUBLAS_WORKSPACE_CONFIG=:4096:8"
   ]
  },
  {
   "cell_type": "code",
   "execution_count": null,
   "metadata": {},
   "outputs": [],
   "source": [
    "import os\n",
    "# os.environ['CUDA_LAUNCH_BLOCKING'] = \"1\""
   ]
  },
  {
   "cell_type": "code",
   "execution_count": 1,
   "metadata": {},
   "outputs": [
    {
     "name": "stdout",
     "output_type": "stream",
     "text": [
      "Args:\n",
      "Namespace(augment=3, batch_size=128, burn_in=10, c_threshold=0.7, corruption_ratio=0.0, corruption_type=None, dataset='cifar10', device='cuda', imbalanced_factor=None, innerepochs=1, interval=1, loss_p=0.75, lr=0.1, max_epoch=100, meta_lr=0.001, meta_method='MAML', meta_net_hidden_size=80, meta_net_num_layers=0, meta_weight_decay=0.0, momentum=0.9, num_consistency=5, num_meta=1000, num_workers=0, plot_interval=10, seed=1, semi='mixlabel', semi_beta=1.0, semi_p=0.3, threshlod=-1, weight_decay=0.0005)\n"
     ]
    }
   ],
   "source": [
    "from main_multi import *\n",
    "# from torchsummary import summary\n",
    "import wandb"
   ]
  },
  {
   "cell_type": "code",
   "execution_count": null,
   "metadata": {},
   "outputs": [],
   "source": [
    "# !wandb login b729ef7d624d9a61a7ff0f8b7dddeae0b138e8d9"
   ]
  },
  {
   "cell_type": "code",
   "execution_count": 2,
   "metadata": {},
   "outputs": [],
   "source": [
    "hyperparameter = {\n",
    "    'dataset':'cifar10',\n",
    "    'num_meta':1000,\n",
    "    'model':'resnet32',\n",
    "    'milestone':[90],\n",
    "    'imbalanced_factor':None,\n",
    "    'corruption_type':'flip1',\n",
    "    'corruption_ratio':0.4,\n",
    "    'batch_size':256,\n",
    "    'max_epoch':150,\n",
    "    # 'device':\"cuda\" if torch.cuda.is_available() else \"cpu\",\n",
    "    'device':'cuda',\n",
    "    'seed': 1, # \n",
    "    'meta_net_hidden_size':80,\n",
    "    'meta_net_num_layers':1,\n",
    "    'lr':0.1,\n",
    "    'weight_decay':5e-4,\n",
    "    'momentum':0.9,\n",
    "    'meta_lr':1e-3,\n",
    "    'meta_weight_decay':0.,\n",
    "    'meta_method':'MAML',\n",
    "    'innerepochs':1,\n",
    "    'inner_lr':0.1,\n",
    "    'interval':1,\n",
    "    'plot_interval':10,\n",
    "    'burn_in':80,\n",
    "\n",
    "    'threshold':0.2,\n",
    "    'c_threshold':0.7,\n",
    "    'semi':'cutmix',\n",
    "    'semi_p':0.4,\n",
    "    'semi_beta':1.0,\n",
    "    'loss_p': 0.75,\n",
    "\n",
    "    'num_workers':0,\n",
    "    'augment':2,\n",
    "    'num_consistency':5,\n",
    "}"
   ]
  },
  {
   "cell_type": "code",
   "execution_count": 3,
   "metadata": {},
   "outputs": [
    {
     "name": "stderr",
     "output_type": "stream",
     "text": [
      "Failed to detect the name of this notebook, you can set it manually with the WANDB_NOTEBOOK_NAME environment variable to enable code saving.\n",
      "\u001b[34m\u001b[1mwandb\u001b[0m: Currently logged in as: \u001b[33mruistarlit\u001b[0m (use `wandb login --relogin` to force relogin)\n"
     ]
    },
    {
     "data": {
      "text/html": [
       "wandb version 0.12.15 is available!  To upgrade, please run:\n",
       " $ pip install wandb --upgrade"
      ],
      "text/plain": [
       "<IPython.core.display.HTML object>"
      ]
     },
     "metadata": {},
     "output_type": "display_data"
    },
    {
     "data": {
      "text/html": [
       "Tracking run with wandb version 0.12.11"
      ],
      "text/plain": [
       "<IPython.core.display.HTML object>"
      ]
     },
     "metadata": {},
     "output_type": "display_data"
    },
    {
     "data": {
      "text/html": [
       "Run data is saved locally in <code>d:\\Graduation project\\0_DL_Meta-Learning\\wandb\\run-20220428_221805-1ybco325</code>"
      ],
      "text/plain": [
       "<IPython.core.display.HTML object>"
      ]
     },
     "metadata": {},
     "output_type": "display_data"
    },
    {
     "data": {
      "text/html": [
       "Syncing run <strong><a href=\"https://wandb.ai/ruistarlit/tune-cifar10/runs/1ybco325\" target=\"_blank\">gentle-forest-12</a></strong> to <a href=\"https://wandb.ai/ruistarlit/tune-cifar10\" target=\"_blank\">Weights & Biases</a> (<a href=\"https://wandb.me/run\" target=\"_blank\">docs</a>)<br/>"
      ],
      "text/plain": [
       "<IPython.core.display.HTML object>"
      ]
     },
     "metadata": {},
     "output_type": "display_data"
    },
    {
     "data": {
      "text/html": [
       "<button onClick=\"this.nextSibling.style.display='block';this.style.display='none';\">Display W&B run</button><iframe src=\"https://wandb.ai/ruistarlit/tune-cifar10/runs/1ybco325?jupyter=true\" style=\"border:none;width:100%;height:420px;display:none;\"></iframe>"
      ],
      "text/plain": [
       "<wandb.sdk.wandb_run.Run at 0x23b50b8cd90>"
      ]
     },
     "execution_count": 3,
     "metadata": {},
     "output_type": "execute_result"
    }
   ],
   "source": [
    "wandb.init(project=\"tune-cifar10\", entity=\"ruistarlit\", config=hyperparameter)\n",
    "# wandb.init(project=\"tune-cifar10\", entity=\"ruistarlit\", config=hyperparameter, mode=\"disabled\")"
   ]
  },
  {
   "cell_type": "code",
   "execution_count": 4,
   "metadata": {},
   "outputs": [],
   "source": [
    "Model = TrainNet(wandb.config)\n",
    "# Model = TrainNet(args)\n",
    "# print('DNN Model: vvvvvvvvv')\n",
    "# summary(Model.model,(3,32,32))\n",
    "# print('Meta-Net:  vvvvvvvvvvvv')\n",
    "# summary(Model.meta_net, (1,1))"
   ]
  },
  {
   "cell_type": "code",
   "execution_count": 5,
   "metadata": {},
   "outputs": [
    {
     "name": "stdout",
     "output_type": "stream",
     "text": [
      "[Load]success\n"
     ]
    }
   ],
   "source": [
    "Model.load(r'checkpoint/0.82/CheckPoint-_04-02_10-45', opt='DL')"
   ]
  },
  {
   "cell_type": "code",
   "execution_count": 13,
   "metadata": {},
   "outputs": [
    {
     "name": "stdout",
     "output_type": "stream",
     "text": [
      "[Test] Loss:0.541211| Acc:0.8639\n"
     ]
    },
    {
     "data": {
      "text/plain": [
       "(0.5412109091877937, 0.8639)"
      ]
     },
     "execution_count": 13,
     "metadata": {},
     "output_type": "execute_result"
    }
   ],
   "source": [
    "Model.test()"
   ]
  },
  {
   "cell_type": "code",
   "execution_count": 6,
   "metadata": {},
   "outputs": [
    {
     "name": "stdout",
     "output_type": "stream",
     "text": [
      "[Main]Learning Rate is set to 0.01\n"
     ]
    }
   ],
   "source": [
    "Model._set_lr(0.01)"
   ]
  },
  {
   "cell_type": "code",
   "execution_count": 7,
   "metadata": {},
   "outputs": [
    {
     "name": "stdout",
     "output_type": "stream",
     "text": [
      "Files already downloaded and verified\n",
      "[[0.6 0.  0.  0.  0.  0.4 0.  0.  0.  0. ]\n",
      " [0.  0.6 0.  0.  0.4 0.  0.  0.  0.  0. ]\n",
      " [0.  0.  0.6 0.  0.  0.4 0.  0.  0.  0. ]\n",
      " [0.  0.  0.  0.6 0.  0.  0.  0.  0.4 0. ]\n",
      " [0.4 0.  0.  0.  0.6 0.  0.  0.  0.  0. ]\n",
      " [0.  0.  0.  0.  0.  0.6 0.4 0.  0.  0. ]\n",
      " [0.  0.  0.  0.  0.4 0.  0.6 0.  0.  0. ]\n",
      " [0.  0.  0.  0.  0.  0.  0.  0.6 0.  0.4]\n",
      " [0.  0.  0.  0.  0.  0.  0.4 0.  0.6 0. ]\n",
      " [0.  0.  0.  0.  0.  0.  0.  0.  0.4 0.6]]\n",
      "[Main] Training.... \n"
     ]
    },
    {
     "data": {
      "application/vnd.jupyter.widget-view+json": {
       "model_id": "37a69279da534d80be157730326d88f6",
       "version_major": 2,
       "version_minor": 0
      },
      "text/plain": [
       "  0%|          | 0/20 [00:00<?, ?it/s]"
      ]
     },
     "metadata": {},
     "output_type": "display_data"
    },
    {
     "name": "stdout",
     "output_type": "stream",
     "text": [
      "[Debug]  8.98%important|44.14%unimportant|46.88%normal at this batchn 5\n",
      "[Debug] 12.11%important|40.62%unimportant|47.27%normal at this batchn 4\n",
      "[Debug]  8.59%important|41.80%unimportant|49.61%normal at this batchn 5\n",
      "[Debug]  9.38%important|46.88%unimportant|43.75%normal at this batchn 6\n",
      "[Debug]  9.77%important|48.83%unimportant|41.41%normal at this batchn 6\n",
      "[Debug] 11.33%important|46.48%unimportant|42.19%normal at this batchn 5\n",
      "[Debug] 11.72%important|43.75%unimportant|44.53%normal at this batchn 4\n",
      "[Debug] 10.94%important|46.48%unimportant|42.58%normal at this batchn 5\n",
      "[Debug]  9.38%important|46.48%unimportant|44.14%normal at this batchn 5\n",
      "[Debug] 10.55%important|43.36%unimportant|46.09%normal at this batchn 5\n",
      "[Debug] 12.50%important|45.70%unimportant|41.80%normal at this batchn 4\n",
      "[Debug] 13.67%important|43.36%unimportant|42.97%normal at this batchn 4\n",
      "[Debug] 12.11%important|41.80%unimportant|46.09%normal at this batchn 4\n",
      "[Debug] 17.19%important|44.14%unimportant|38.67%normal at this batchn 3\n",
      "[Debug] 11.72%important|47.66%unimportant|40.62%normal at this batchn 5\n",
      "[Debug] 14.84%important|48.83%unimportant|36.33%normal at this batchn 4\n",
      "[Debug] 16.80%important|42.97%unimportant|40.23%normal at this batchn 3\n",
      "[Debug] 16.41%important|40.62%unimportant|42.97%normal at this batchn 3\n",
      "[Debug] 17.58%important|41.80%unimportant|40.62%normal at this batchn 3\n",
      "[Debug] 16.41%important|44.92%unimportant|38.67%normal at this batchn 3\n",
      "[Debug] 14.45%important|42.58%unimportant|42.97%normal at this batchn 3\n",
      "[Debug] 19.92%important|34.77%unimportant|45.31%normal at this batchn 2\n",
      "[Debug] 19.92%important|39.84%unimportant|40.23%normal at this batchn 3\n",
      "[Debug] 18.75%important|34.77%unimportant|46.48%normal at this batchn 2\n",
      "[Debug]  7.81%important|14.84%unimportant|77.34%normal at this batchn 2\n",
      "\n",
      "\n",
      "[Train:81] Train loss:0.3246 acc:0.5470|Test loss:0.8370 acc:0.7715\n",
      "[Debug] 20.31%important|28.91%unimportant|50.78%normal at this batchn 2\n",
      "[Debug] 23.83%important|24.22%unimportant|51.95%normal at this batchn 2\n",
      "[Debug] 39.84%important|41.02%unimportant|19.14%normal at this batchn 2\n",
      "[Debug] 44.14%important|44.92%unimportant|10.94%normal at this batchn 2\n",
      "[Debug] 45.70%important|47.66%unimportant| 6.64%normal at this batchn 2\n",
      "[Debug] 44.92%important|45.70%unimportant| 9.38%normal at this batchn 2\n",
      "[Debug] 44.14%important|46.09%unimportant| 9.77%normal at this batchn 2\n",
      "[Debug] 45.70%important|46.88%unimportant| 7.42%normal at this batchn 2\n",
      "[Debug] 44.92%important|48.05%unimportant| 7.03%normal at this batchn 2\n",
      "[Debug] 45.70%important|48.05%unimportant| 6.25%normal at this batchn 2\n",
      "[Debug] 42.58%important|53.12%unimportant| 4.30%normal at this batchn 2\n",
      "[Debug] 44.92%important|47.66%unimportant| 7.42%normal at this batchn 2\n",
      "[Debug] 44.14%important|48.83%unimportant| 7.03%normal at this batchn 2\n",
      "[Debug] 20.31%important|17.97%unimportant|61.72%normal at this batch\n",
      "\n",
      "[Train:82] Train loss:1.1619 acc:0.5348|Test loss:0.6444 acc:0.8721\n",
      "[Train:83] The 20.0percentile of weight is 0.062902.\n",
      "[Debug] 42.58%important|50.39%unimportant| 7.03%normal at this batchn 2\n",
      "[Debug] 47.27%important|48.05%unimportant| 4.69%normal at this batchn 2\n",
      "[Debug] 46.88%important|50.78%unimportant| 2.34%normal at this batchn 2\n",
      "[Debug] 45.70%important|50.00%unimportant| 4.30%normal at this batchn 2\n",
      "[Debug] 46.09%important|48.83%unimportant| 5.08%normal at this batchn 2\n",
      "[Debug] 47.27%important|49.61%unimportant| 3.12%normal at this batchn 2\n",
      "[Debug] 48.44%important|48.83%unimportant| 2.73%normal at this batchn 2\n",
      "[Debug] 48.05%important|48.44%unimportant| 3.52%normal at this batchn 2\n",
      "[Debug] 43.36%important|52.34%unimportant| 4.30%normal at this batchn 2\n",
      "[Debug] 46.88%important|47.66%unimportant| 5.47%normal at this batchn 2\n",
      "[Debug] 46.88%important|49.22%unimportant| 3.91%normal at this batchn 2\n",
      "[Debug] 46.48%important|47.27%unimportant| 6.25%normal at this batchn 2\n",
      "[Debug] 46.48%important|48.83%unimportant| 4.69%normal at this batchn 2\n",
      "[Debug] 47.27%important|49.22%unimportant| 3.52%normal at this batchn 2\n",
      "[Debug] 44.14%important|51.17%unimportant| 4.69%normal at this batchn 2\n",
      "[Debug] 46.48%important|49.22%unimportant| 4.30%normal at this batchn 2\n",
      "[Debug] 48.05%important|48.83%unimportant| 3.12%normal at this batchn 2\n",
      "[Debug] 23.83%important|15.23%unimportant|60.94%normal at this batch\n",
      "\n",
      "[Train:83] Train loss:0.9609 acc:0.5473|Test loss:0.6682 acc:0.8570\n",
      "[Train:84] The 20.0percentile of weight is 0.001623.\n",
      "[Debug] 42.97%important|50.78%unimportant| 6.25%normal at this batchn 2\n",
      "[Debug] 47.66%important|50.78%unimportant| 1.56%normal at this batchn 2\n",
      "[Debug] 47.27%important|51.56%unimportant| 1.17%normal at this batchn 2\n",
      "[Debug] 47.66%important|49.22%unimportant| 3.12%normal at this batchn 2\n",
      "[Debug] 49.22%important|49.61%unimportant| 1.17%normal at this batchn 2\n",
      "[Debug] 48.05%important|50.00%unimportant| 1.95%normal at this batchn 2\n",
      "[Debug] 46.48%important|50.78%unimportant| 2.73%normal at this batchn 2\n",
      "[Debug] 45.70%important|51.17%unimportant| 3.12%normal at this batchn 2\n",
      "[Debug] 48.44%important|48.83%unimportant| 2.73%normal at this batchn 2\n",
      "[Debug] 46.09%important|49.61%unimportant| 4.30%normal at this batchn 2\n",
      "[Debug] 43.75%important|55.47%unimportant| 0.78%normal at this batchn 2\n",
      "[Debug] 46.88%important|50.78%unimportant| 2.34%normal at this batchn 2\n",
      "[Debug] 22.66%important|17.58%unimportant|59.77%normal at this batch\n",
      "\n",
      "[Train:84] Train loss:0.9363 acc:0.5487|Test loss:0.6865 acc:0.8401\n",
      "[Train:85] The 20.0percentile of weight is 0.000037.\n",
      "[Debug] 46.48%important|51.95%unimportant| 1.56%normal at this batchn 2\n",
      "[Debug] 48.83%important|49.61%unimportant| 1.56%normal at this batchn 2\n",
      "[Debug] 48.83%important|49.22%unimportant| 1.95%normal at this batchn 2\n",
      "[Debug] 48.83%important|50.00%unimportant| 1.17%normal at this batchn 2\n",
      "[Debug] 48.83%important|49.61%unimportant| 1.56%normal at this batchn 2\n",
      "[Debug] 48.44%important|49.22%unimportant| 2.34%normal at this batchn 2\n",
      "[Debug] 47.27%important|51.17%unimportant| 1.56%normal at this batchn 2\n",
      "[Debug] 48.83%important|50.00%unimportant| 1.17%normal at this batchn 2\n",
      "[Debug] 49.61%important|50.00%unimportant| 0.39%normal at this batchn 2\n",
      "[Debug] 49.22%important|50.39%unimportant| 0.39%normal at this batchn 2\n",
      "[Debug] 48.83%important|50.39%unimportant| 0.78%normal at this batchn 2\n",
      "[Debug] 45.70%important|52.73%unimportant| 1.56%normal at this batchn 2\n",
      "[Debug] 47.27%important|50.39%unimportant| 2.34%normal at this batchn 2\n",
      "[Debug] 44.92%important|52.34%unimportant| 2.73%normal at this batchn 2\n",
      "[Debug] 48.05%important|50.78%unimportant| 1.17%normal at this batchn 2\n",
      "[Debug] 48.83%important|49.22%unimportant| 1.95%normal at this batchn 2\n",
      "[Debug] 48.83%important|50.00%unimportant| 1.17%normal at this batchn 2\n",
      "[Debug] 21.48%important|17.97%unimportant|60.55%normal at this batch\n",
      "\n",
      "[Train:85] Train loss:0.8543 acc:0.5465|Test loss:0.6518 acc:0.8440\n",
      "[Train:86] The 20.0percentile of weight is 0.000000.\n",
      "[Debug] 48.83%important|51.17%unimportant| 0.00%normal at this batchn 2\n",
      "[Debug] 46.48%important|52.73%unimportant| 0.78%normal at this batchn 2\n",
      "[Debug] 48.83%important|50.00%unimportant| 1.17%normal at this batchn 2\n",
      "[Debug] 48.83%important|50.39%unimportant| 0.78%normal at this batchn 2\n",
      "[Debug] 48.83%important|50.78%unimportant| 0.39%normal at this batchn 2\n",
      "[Debug] 48.83%important|49.22%unimportant| 1.95%normal at this batchn 2\n",
      "[Debug] 48.05%important|48.83%unimportant| 3.12%normal at this batchn 2\n",
      "[Debug] 42.58%important|56.64%unimportant| 0.78%normal at this batchn 2\n",
      "[Debug] 49.22%important|50.00%unimportant| 0.78%normal at this batchn 2\n",
      "[Debug] 26.56%important|13.67%unimportant|59.77%normal at this batch\n",
      "\n",
      "[Train:86] Train loss:0.8111 acc:0.5465|Test loss:0.7010 acc:0.8366\n",
      "[Train:87] The 20.0percentile of weight is 0.000000.\n",
      "[Debug] 47.66%important|51.56%unimportant| 0.78%normal at this batchn 2\n",
      "[Debug] 48.83%important|49.22%unimportant| 1.95%normal at this batchn 2\n",
      "[Debug] 49.22%important|49.61%unimportant| 1.17%normal at this batchn 2\n",
      "[Debug] 46.48%important|52.34%unimportant| 1.17%normal at this batchn 2\n",
      "[Debug] 48.44%important|50.78%unimportant| 0.78%normal at this batchn 2\n",
      "[Debug] 49.61%important|50.00%unimportant| 0.39%normal at this batchn 2\n",
      "[Debug] 49.22%important|50.00%unimportant| 0.78%normal at this batchn 2\n",
      "[Debug] 48.05%important|51.95%unimportant| 0.00%normal at this batchn 2\n",
      "[Debug] 23.83%important|16.80%unimportant|59.38%normal at this batch\n",
      "\n",
      "[Train:87] Train loss:0.8025 acc:0.5443|Test loss:0.8185 acc:0.7373\n",
      "[Train:88] The 20.0percentile of weight is 0.000000.\n",
      "[Debug] 48.05%important|50.78%unimportant| 1.17%normal at this batchn 2\n",
      "[Debug] 48.83%important|50.39%unimportant| 0.78%normal at this batchn 2\n",
      "[Debug] 46.09%important|52.73%unimportant| 1.17%normal at this batchn 2\n",
      "[Debug] 47.66%important|51.95%unimportant| 0.39%normal at this batchn 2\n",
      "[Debug] 47.66%important|51.95%unimportant| 0.39%normal at this batchn 2\n",
      "[Debug] 48.05%important|50.39%unimportant| 1.56%normal at this batchn 2\n",
      "[Debug] 49.61%important|50.00%unimportant| 0.39%normal at this batchn 2\n",
      "[Debug] 47.27%important|51.56%unimportant| 1.17%normal at this batchn 2\n",
      "[Debug] 47.27%important|52.34%unimportant| 0.39%normal at this batchn 2\n",
      "[Debug] 23.44%important|16.80%unimportant|59.77%normal at this batch\n",
      "\n",
      "[Train:88] Train loss:0.7490 acc:0.5459|Test loss:0.6757 acc:0.8353\n",
      "[Train:89] The 20.0percentile of weight is 0.000000.\n",
      "[Debug] 48.83%important|50.00%unimportant| 1.17%normal at this batchn 2\n",
      "[Debug] 48.05%important|51.95%unimportant| 0.00%normal at this batchn 2\n",
      "[Debug] 48.44%important|51.17%unimportant| 0.39%normal at this batchn 2\n",
      "[Debug] 21.88%important|18.36%unimportant|59.77%normal at this batch\n",
      "\n",
      "[Train:89] Train loss:0.7508 acc:0.5442|Test loss:0.9746 acc:0.5757\n",
      "[Train:90] The 20.0percentile of weight is 0.000000.\n",
      "[Debug] 49.22%important|50.00%unimportant| 0.78%normal at this batchn 2\n",
      "[Debug] 48.44%important|51.56%unimportant| 0.00%normal at this batchn 2\n",
      "[Debug] 49.22%important|50.39%unimportant| 0.39%normal at this batchn 2\n",
      "[Debug] 46.88%important|51.17%unimportant| 1.95%normal at this batchn 2\n",
      "[Debug] 48.83%important|51.17%unimportant| 0.00%normal at this batchn 2\n",
      "[Debug] 21.48%important|19.14%unimportant|59.38%normal at this batch\n",
      "\n",
      "[Train:90] Train loss:0.7225 acc:0.5473|Test loss:0.8024 acc:0.7283\n",
      "[Main]Learning Rate is set to 0.001\n",
      "[Train:91] The 20.0percentile of weight is 0.000000.\n",
      "[Debug] 48.05%important|51.56%unimportant| 0.39%normal at this batchn 2\n",
      "[Debug] 48.83%important|50.00%unimportant| 1.17%normal at this batchn 2\n",
      "[Debug] 24.22%important|16.41%unimportant|59.38%normal at this batch\n",
      "\n",
      "[Train:91] Train loss:0.6920 acc:0.5538|Test loss:0.7546 acc:0.7549\n",
      "[Train:92] The 20.0percentile of weight is 0.000000.\n",
      "[Debug] 47.27%important|51.95%unimportant| 0.78%normal at this batchn 2\n",
      "[Debug] 48.05%important|51.56%unimportant| 0.39%normal at this batchn 2\n",
      "[Debug] 47.66%important|51.95%unimportant| 0.39%normal at this batchn 2\n",
      "[Debug] 48.83%important|50.78%unimportant| 0.39%normal at this batchn 2\n",
      "[Debug] 23.44%important|17.19%unimportant|59.38%normal at this batch\n",
      "\n",
      "[Train:92] Train loss:0.6776 acc:0.5566|Test loss:0.7175 acc:0.8074\n",
      "[Train:93] The 20.0percentile of weight is 0.000000.\n",
      "[Debug] 48.83%important|51.17%unimportant| 0.00%normal at this batchn 2\n",
      "[Debug] 47.27%important|52.34%unimportant| 0.39%normal at this batchn 2\n",
      "[Debug] 23.05%important|17.19%unimportant|59.77%normal at this batch\n",
      "\n",
      "[Train:93] Train loss:0.6667 acc:0.5580|Test loss:0.8242 acc:0.6874\n",
      "[Train:94] The 20.0percentile of weight is 0.000000.\n",
      "[Debug] 58.59%important|41.02%unimportant| 0.39%normal at this batch"
     ]
    }
   ],
   "source": [
    "Model.train(20, ckp=80)"
   ]
  },
  {
   "cell_type": "code",
   "execution_count": 22,
   "metadata": {},
   "outputs": [
    {
     "name": "stdout",
     "output_type": "stream",
     "text": [
      "Files already downloaded and verified\n",
      "[[0.6 0.  0.  0.  0.  0.4 0.  0.  0.  0. ]\n",
      " [0.  0.6 0.  0.  0.4 0.  0.  0.  0.  0. ]\n",
      " [0.  0.  0.6 0.  0.  0.4 0.  0.  0.  0. ]\n",
      " [0.  0.  0.  0.6 0.  0.  0.  0.  0.4 0. ]\n",
      " [0.4 0.  0.  0.  0.6 0.  0.  0.  0.  0. ]\n",
      " [0.  0.  0.  0.  0.  0.6 0.4 0.  0.  0. ]\n",
      " [0.  0.  0.  0.  0.4 0.  0.6 0.  0.  0. ]\n",
      " [0.  0.  0.  0.  0.  0.  0.  0.6 0.  0.4]\n",
      " [0.  0.  0.  0.  0.  0.  0.4 0.  0.6 0. ]\n",
      " [0.  0.  0.  0.  0.  0.  0.  0.  0.4 0.6]]\n",
      "[Main] Training.... \n"
     ]
    },
    {
     "data": {
      "application/vnd.jupyter.widget-view+json": {
       "model_id": "14cb574582a24cbb9306b37f7b801096",
       "version_major": 2,
       "version_minor": 0
      },
      "text/plain": [
       "  0%|          | 0/10 [00:00<?, ?it/s]"
      ]
     },
     "metadata": {},
     "output_type": "display_data"
    },
    {
     "name": "stdout",
     "output_type": "stream",
     "text": [
      "[Main]Learning Rate is set to 0.001\n",
      "\n",
      "\n",
      "[Train:91] Train loss:0.0981 acc:0.5646|Test loss:0.4407 acc:0.8879\n",
      "\n",
      "\n",
      "[Train:92] Train loss:0.0725 acc:0.5683|Test loss:0.4236 acc:0.8935\n",
      "\n",
      "\n",
      "[Train:93] Train loss:0.0603 acc:0.5682|Test loss:0.4184 acc:0.8939\n",
      "\n",
      "\n",
      "[Train:94] Train loss:0.0539 acc:0.5696|Test loss:0.4105 acc:0.8976\n",
      "\n",
      "\n",
      "[Train:95] Train loss:0.0468 acc:0.5705|Test loss:0.4072 acc:0.8986\n",
      "\n",
      "\n",
      "[Train:96] Train loss:0.0438 acc:0.5689|Test loss:0.4117 acc:0.8971\n",
      "\n",
      "\n",
      "[Train:97] Train loss:0.0401 acc:0.5691|Test loss:0.4077 acc:0.8986\n",
      "\n",
      "\n",
      "[Train:98] Train loss:0.0376 acc:0.5711|Test loss:0.4082 acc:0.9001\n",
      "\n",
      "\n",
      "[Train:99] Train loss:0.0366 acc:0.5716|Test loss:0.4129 acc:0.8967\n",
      "\n",
      "\n",
      "[Train:100] Train loss:0.0378 acc:0.5718|Test loss:0.4074 acc:0.9007\n"
     ]
    }
   ],
   "source": [
    "Model.train(10, ckp=90)"
   ]
  },
  {
   "cell_type": "code",
   "execution_count": null,
   "metadata": {},
   "outputs": [],
   "source": [
    "Model.optimizer.state_dict()[\"param_groups\"][0][\"lr\"]"
   ]
  },
  {
   "cell_type": "code",
   "execution_count": null,
   "metadata": {},
   "outputs": [],
   "source": [
    "if wandb.run is not None:\n",
    "    wandb.finish()"
   ]
  }
 ],
 "metadata": {
  "interpreter": {
   "hash": "d6b7a2cca450d9e5272a88beb247fd04f9ffc9667cef683458d0420589cf7e4e"
  },
  "kernelspec": {
   "display_name": "Python 3.8.12",
   "language": "python",
   "name": "python3"
  },
  "language_info": {
   "codemirror_mode": {
    "name": "ipython",
    "version": 3
   },
   "file_extension": ".py",
   "mimetype": "text/x-python",
   "name": "python",
   "nbconvert_exporter": "python",
   "pygments_lexer": "ipython3",
   "version": "3.8.12"
  },
  "orig_nbformat": 4
 },
 "nbformat": 4,
 "nbformat_minor": 2
}
