{
 "cells": [
  {
   "cell_type": "code",
   "execution_count": null,
   "metadata": {},
   "outputs": [],
   "source": [
    "# %env CUBLAS_WORKSPACE_CONFIG=:4096:8"
   ]
  },
  {
   "cell_type": "code",
   "execution_count": 1,
   "metadata": {},
   "outputs": [
    {
     "name": "stdout",
     "output_type": "stream",
     "text": [
      "Args:\n",
      "Namespace(augment=3, batch_size=128, burn_in=10, c_threshold=0.7, corruption_ratio=0.0, corruption_type=None, dataset='cifar10', device='cuda', imbalanced_factor=None, innerepochs=1, interval=1, loss_p=0.75, lr=0.1, max_epoch=100, meta_lr=0.001, meta_method='MAML', meta_net_hidden_size=80, meta_net_num_layers=0, meta_weight_decay=0.0, momentum=0.9, num_consistency=5, num_meta=1000, num_workers=0, plot_interval=10, seed=1, semi='mixlabel', semi_beta=1.0, semi_p=0.3, threshlod=-1, weight_decay=0.0005)\n"
     ]
    }
   ],
   "source": [
    "from main_multi import *\n",
    "# from torchsummary import summary\n",
    "import wandb"
   ]
  },
  {
   "cell_type": "code",
   "execution_count": null,
   "metadata": {},
   "outputs": [],
   "source": [
    "# !wandb login b729ef7d624d9a61a7ff0f8b7dddeae0b138e8d9"
   ]
  },
  {
   "cell_type": "code",
   "execution_count": 2,
   "metadata": {},
   "outputs": [],
   "source": [
    "hyperparameter = {\n",
    "    'dataset':'cifar10',\n",
    "    'num_meta':1000,\n",
    "    'model':'resnet32',\n",
    "    'milestone':[90],\n",
    "    'imbalanced_factor':None,\n",
    "    'corruption_type':'flip1',\n",
    "    'corruption_ratio':0.4,\n",
    "    'batch_size':256,\n",
    "    'max_epoch':150,\n",
    "    # 'device':\"cuda\" if torch.cuda.is_available() else \"cpu\",\n",
    "    'device':'cuda',\n",
    "    'seed': 1, # \n",
    "    'meta_net_hidden_size':80,\n",
    "    'meta_net_num_layers':1,\n",
    "    'lr':0.1,\n",
    "    'weight_decay':5e-4,\n",
    "    'momentum':0.9,\n",
    "    'meta_lr':1e-3,\n",
    "    'meta_weight_decay':0.,\n",
    "    'meta_method':'MAML',\n",
    "    'innerepochs':1,\n",
    "    'inner_lr':0.1,\n",
    "    'interval':1,\n",
    "    'plot_interval':10,\n",
    "    'burn_in':80,\n",
    "\n",
    "    'threshold':0.2,\n",
    "    'c_threshold':0.7,\n",
    "    'semi':'cutmix',\n",
    "    'semi_p':0.4,\n",
    "    'semi_beta':1.0,\n",
    "    'loss_p': 0.75,\n",
    "\n",
    "    'num_workers':0,\n",
    "    'augment':2,\n",
    "    'num_consistency':5,\n",
    "}"
   ]
  },
  {
   "cell_type": "code",
   "execution_count": 3,
   "metadata": {},
   "outputs": [
    {
     "name": "stderr",
     "output_type": "stream",
     "text": [
      "Failed to detect the name of this notebook, you can set it manually with the WANDB_NOTEBOOK_NAME environment variable to enable code saving.\n"
     ]
    },
    {
     "data": {
      "text/plain": []
     },
     "execution_count": 3,
     "metadata": {},
     "output_type": "execute_result"
    }
   ],
   "source": [
    "wandb.init(project=\"my-test-project\", entity=\"ruistarlit\", config=hyperparameter, mode='disabled')"
   ]
  },
  {
   "cell_type": "code",
   "execution_count": 22,
   "metadata": {},
   "outputs": [],
   "source": [
    "Model = TrainNet(wandb.config)\n",
    "# Model = TrainNet(args)\n",
    "# print('DNN Model: vvvvvvvvv')\n",
    "# summary(Model.model,(3,32,32))\n",
    "# print('Meta-Net:  vvvvvvvvvvvv')\n",
    "# summary(Model.meta_net, (1,1))"
   ]
  },
  {
   "cell_type": "code",
   "execution_count": 29,
   "metadata": {},
   "outputs": [
    {
     "name": "stdout",
     "output_type": "stream",
     "text": [
      "Files already downloaded and verified\n",
      "[[0.6 0.  0.  0.  0.  0.4 0.  0.  0.  0. ]\n",
      " [0.  0.6 0.  0.  0.4 0.  0.  0.  0.  0. ]\n",
      " [0.  0.  0.6 0.  0.  0.4 0.  0.  0.  0. ]\n",
      " [0.  0.  0.  0.6 0.  0.  0.  0.  0.4 0. ]\n",
      " [0.4 0.  0.  0.  0.6 0.  0.  0.  0.  0. ]\n",
      " [0.  0.  0.  0.  0.  0.6 0.4 0.  0.  0. ]\n",
      " [0.  0.  0.  0.  0.4 0.  0.6 0.  0.  0. ]\n",
      " [0.  0.  0.  0.  0.  0.  0.  0.6 0.  0.4]\n",
      " [0.  0.  0.  0.  0.  0.  0.4 0.  0.6 0. ]\n",
      " [0.  0.  0.  0.  0.  0.  0.  0.  0.4 0.6]]\n",
      "[Main] Training.... \n"
     ]
    },
    {
     "data": {
      "application/vnd.jupyter.widget-view+json": {
       "model_id": "6a203f24f2844ce79659a4bb9aee091c",
       "version_major": 2,
       "version_minor": 0
      },
      "text/plain": [
       "  0%|          | 0/30 [00:00<?, ?it/s]"
      ]
     },
     "metadata": {},
     "output_type": "display_data"
    },
    {
     "name": "stdout",
     "output_type": "stream",
     "text": [
      "\n",
      "\n",
      "[Train:11] Train loss:0.7984 acc:0.4645|Test loss:1.0956 acc:0.6434\n",
      "\n",
      "\n",
      "[Train:12] Train loss:0.7654 acc:0.4674|Test loss:1.0694 acc:0.6762\n",
      "\n",
      "\n",
      "[Train:13] Train loss:0.7360 acc:0.4736|Test loss:1.0846 acc:0.6562\n",
      "\n",
      "\n",
      "[Train:14] Train loss:0.7603 acc:0.4726|Test loss:1.0714 acc:0.6577\n",
      "\n",
      "\n",
      "[Train:15] Train loss:0.6737 acc:0.4809|Test loss:1.0827 acc:0.6903\n",
      "\n",
      "\n",
      "[Train:16] Train loss:0.6402 acc:0.4821|Test loss:0.8657 acc:0.7681\n",
      "\n",
      "\n",
      "[Train:17] Train loss:0.5406 acc:0.4922|Test loss:0.9587 acc:0.7323\n",
      "\n",
      "\n",
      "[Train:18] Train loss:0.5110 acc:0.4938|Test loss:0.9506 acc:0.7190\n",
      "\n",
      "\n",
      "[Train:19] Train loss:0.4939 acc:0.4928|Test loss:0.8676 acc:0.7470\n",
      "\n",
      "\n",
      "[Train:20] Train loss:0.4879 acc:0.4950|Test loss:0.8393 acc:0.7500\n",
      "\n",
      "\n",
      "[Train:21] Train loss:0.4935 acc:0.4939|Test loss:1.2375 acc:0.6360\n",
      "\n",
      "\n",
      "[Train:22] Train loss:0.4614 acc:0.4927|Test loss:0.9886 acc:0.6974\n",
      "\n",
      "\n",
      "[Train:23] Train loss:0.4663 acc:0.4941|Test loss:1.0238 acc:0.6987\n",
      "\n",
      "\n",
      "[Train:24] Train loss:0.4442 acc:0.4956|Test loss:0.8922 acc:0.7180\n",
      "\n",
      "\n",
      "[Train:25] Train loss:0.4456 acc:0.4964|Test loss:0.6715 acc:0.7985\n",
      "\n",
      "\n",
      "[Train:26] Train loss:0.4161 acc:0.4973|Test loss:1.5280 acc:0.5889\n",
      "\n",
      "\n",
      "[Train:27] Train loss:0.4131 acc:0.4974|Test loss:0.7074 acc:0.7766\n",
      "\n",
      "\n",
      "[Train:28] Train loss:0.4225 acc:0.4970|Test loss:0.8990 acc:0.7233\n",
      "\n",
      "\n",
      "[Train:29] Train loss:0.4043 acc:0.5006|Test loss:1.0625 acc:0.6852\n",
      "\n",
      "\n",
      "[Train:30] Train loss:0.4294 acc:0.5004|Test loss:0.9713 acc:0.7104\n",
      "\n",
      "\n",
      "[Train:31] Train loss:0.4014 acc:0.5027|Test loss:0.8003 acc:0.7481\n",
      "\n",
      "\n",
      "[Train:32] Train loss:0.3915 acc:0.5013|Test loss:0.8249 acc:0.7458\n",
      "\n",
      "\n",
      "[Train:33] Train loss:0.3819 acc:0.5032|Test loss:1.6971 acc:0.5256\n",
      "\n",
      "\n",
      "[Train:34] Train loss:0.3853 acc:0.5047|Test loss:0.7414 acc:0.7730\n"
     ]
    },
    {
     "ename": "KeyboardInterrupt",
     "evalue": "",
     "output_type": "error",
     "traceback": [
      "\u001b[1;31m---------------------------------------------------------------------------\u001b[0m",
      "\u001b[1;31mKeyboardInterrupt\u001b[0m                         Traceback (most recent call last)",
      "\u001b[1;32mC:\\Users\\RUISAV~1\\AppData\\Local\\Temp/ipykernel_36536/702878564.py\u001b[0m in \u001b[0;36m<module>\u001b[1;34m\u001b[0m\n\u001b[1;32m----> 1\u001b[1;33m \u001b[0mModel\u001b[0m\u001b[1;33m.\u001b[0m\u001b[0mtrain\u001b[0m\u001b[1;33m(\u001b[0m\u001b[1;36m30\u001b[0m\u001b[1;33m,\u001b[0m \u001b[0mckp\u001b[0m\u001b[1;33m=\u001b[0m\u001b[1;36m10\u001b[0m\u001b[1;33m)\u001b[0m\u001b[1;33m\u001b[0m\u001b[1;33m\u001b[0m\u001b[0m\n\u001b[0m",
      "\u001b[1;32md:\\Graduation project\\0_DL_Meta-Learning\\main_multi.py\u001b[0m in \u001b[0;36mtrain\u001b[1;34m(self, epochs, ckp)\u001b[0m\n\u001b[0;32m    317\u001b[0m                 \u001b[0moutputs\u001b[0m \u001b[1;33m=\u001b[0m \u001b[0mself\u001b[0m\u001b[1;33m.\u001b[0m\u001b[0mmodel\u001b[0m\u001b[1;33m(\u001b[0m\u001b[0minputs\u001b[0m\u001b[1;33m)\u001b[0m\u001b[1;33m\u001b[0m\u001b[1;33m\u001b[0m\u001b[0m\n\u001b[0;32m    318\u001b[0m                 \u001b[0m_\u001b[0m\u001b[1;33m,\u001b[0m \u001b[0mpred\u001b[0m \u001b[1;33m=\u001b[0m \u001b[0moutputs\u001b[0m\u001b[1;33m.\u001b[0m\u001b[0mmax\u001b[0m\u001b[1;33m(\u001b[0m\u001b[1;36m1\u001b[0m\u001b[1;33m)\u001b[0m\u001b[1;33m\u001b[0m\u001b[1;33m\u001b[0m\u001b[0m\n\u001b[1;32m--> 319\u001b[1;33m                 \u001b[0mcorrect\u001b[0m \u001b[1;33m+=\u001b[0m \u001b[0mpred\u001b[0m\u001b[1;33m.\u001b[0m\u001b[0meq\u001b[0m\u001b[1;33m(\u001b[0m\u001b[0mlabels\u001b[0m\u001b[1;33m)\u001b[0m\u001b[1;33m.\u001b[0m\u001b[0msum\u001b[0m\u001b[1;33m(\u001b[0m\u001b[1;33m)\u001b[0m\u001b[1;33m.\u001b[0m\u001b[0mitem\u001b[0m\u001b[1;33m(\u001b[0m\u001b[1;33m)\u001b[0m\u001b[1;33m\u001b[0m\u001b[1;33m\u001b[0m\u001b[0m\n\u001b[0m\u001b[0;32m    320\u001b[0m \u001b[1;33m\u001b[0m\u001b[0m\n\u001b[0;32m    321\u001b[0m                 \u001b[0mloss\u001b[0m \u001b[1;33m=\u001b[0m \u001b[0mF\u001b[0m\u001b[1;33m.\u001b[0m\u001b[0mcross_entropy\u001b[0m\u001b[1;33m(\u001b[0m\u001b[0moutputs\u001b[0m\u001b[1;33m,\u001b[0m \u001b[0mlabels\u001b[0m\u001b[1;33m.\u001b[0m\u001b[0mlong\u001b[0m\u001b[1;33m(\u001b[0m\u001b[1;33m)\u001b[0m\u001b[1;33m,\u001b[0m \u001b[0mreduction\u001b[0m\u001b[1;33m=\u001b[0m\u001b[1;34m'none'\u001b[0m\u001b[1;33m)\u001b[0m \u001b[1;31m# default:mean\u001b[0m\u001b[1;33m\u001b[0m\u001b[1;33m\u001b[0m\u001b[0m\n",
      "\u001b[1;31mKeyboardInterrupt\u001b[0m: "
     ]
    }
   ],
   "source": [
    "Model.train(30, ckp=10)"
   ]
  },
  {
   "cell_type": "code",
   "execution_count": 5,
   "metadata": {},
   "outputs": [
    {
     "name": "stdout",
     "output_type": "stream",
     "text": [
      "[Load] Acc:0.8979|Epoch:100|Lr:0.001\n"
     ]
    }
   ],
   "source": [
    "Model.load('checkpoint/CheckPoint-_04-28_03-35-best.pth.tar')"
   ]
  },
  {
   "cell_type": "code",
   "execution_count": 30,
   "metadata": {},
   "outputs": [
    {
     "name": "stdout",
     "output_type": "stream",
     "text": [
      "Files already downloaded and verified\n",
      "[[0.6 0.  0.  0.  0.  0.4 0.  0.  0.  0. ]\n",
      " [0.  0.6 0.  0.  0.4 0.  0.  0.  0.  0. ]\n",
      " [0.  0.  0.6 0.  0.  0.4 0.  0.  0.  0. ]\n",
      " [0.  0.  0.  0.6 0.  0.  0.  0.  0.4 0. ]\n",
      " [0.4 0.  0.  0.  0.6 0.  0.  0.  0.  0. ]\n",
      " [0.  0.  0.  0.  0.  0.6 0.4 0.  0.  0. ]\n",
      " [0.  0.  0.  0.  0.4 0.  0.6 0.  0.  0. ]\n",
      " [0.  0.  0.  0.  0.  0.  0.  0.6 0.  0.4]\n",
      " [0.  0.  0.  0.  0.  0.  0.4 0.  0.6 0. ]\n",
      " [0.  0.  0.  0.  0.  0.  0.  0.  0.4 0.6]]\n"
     ]
    }
   ],
   "source": [
    "rweight = Model.show_weight(100)"
   ]
  },
  {
   "cell_type": "code",
   "execution_count": 31,
   "metadata": {},
   "outputs": [
    {
     "data": {
      "text/plain": [
       "(49000, 1)"
      ]
     },
     "execution_count": 31,
     "metadata": {},
     "output_type": "execute_result"
    }
   ],
   "source": [
    "rweight[:, 0:1].shape"
   ]
  },
  {
   "cell_type": "code",
   "execution_count": 32,
   "metadata": {},
   "outputs": [],
   "source": [
    "np.save('rw4.npy',rweight)"
   ]
  },
  {
   "cell_type": "code",
   "execution_count": null,
   "metadata": {},
   "outputs": [],
   "source": [
    "x, y, z = rweight[:, 0:1], rweight[:, 1:2], rweight[:, 2:3]"
   ]
  },
  {
   "cell_type": "code",
   "execution_count": null,
   "metadata": {},
   "outputs": [],
   "source": [
    "ax = plt.figure().add_subplot(111, projection = '3d')\n",
    "#基于ax变量绘制三维图\n",
    "#xs表示x方向的变量\n",
    "#ys表示y方向的变量\n",
    "#zs表示z方向的变量，这三个方向上的变量都可以用list的形式表示\n",
    "#m表示点的形式，o是圆形的点，^是三角形（marker)\n",
    "#c表示颜色（color for short）\n",
    "ax.scatter(x, y, z) #点为红色三角形\n",
    " \n",
    "#设置坐标轴\n",
    "ax.set_xlabel('X Label')\n",
    "ax.set_ylabel('Y Label')\n",
    "ax.set_zlabel('Z Label')\n",
    " \n",
    "#显示图像\n",
    "plt.show()"
   ]
  },
  {
   "cell_type": "code",
   "execution_count": null,
   "metadata": {},
   "outputs": [],
   "source": [
    "if wandb.run is not None:\n",
    "    wandb.finish()"
   ]
  },
  {
   "cell_type": "code",
   "execution_count": null,
   "metadata": {},
   "outputs": [],
   "source": []
  }
 ],
 "metadata": {
  "interpreter": {
   "hash": "d6b7a2cca450d9e5272a88beb247fd04f9ffc9667cef683458d0420589cf7e4e"
  },
  "kernelspec": {
   "display_name": "Python 3.8.12",
   "language": "python",
   "name": "python3"
  },
  "language_info": {
   "codemirror_mode": {
    "name": "ipython",
    "version": 3
   },
   "file_extension": ".py",
   "mimetype": "text/x-python",
   "name": "python",
   "nbconvert_exporter": "python",
   "pygments_lexer": "ipython3",
   "version": "3.8.12"
  },
  "orig_nbformat": 4
 },
 "nbformat": 4,
 "nbformat_minor": 2
}
