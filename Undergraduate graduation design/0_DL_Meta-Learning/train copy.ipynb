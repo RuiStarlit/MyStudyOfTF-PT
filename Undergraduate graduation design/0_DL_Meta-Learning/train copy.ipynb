{
 "cells": [
  {
   "cell_type": "code",
   "execution_count": 1,
   "metadata": {},
   "outputs": [],
   "source": [
    "# %env CUBLAS_WORKSPACE_CONFIG=:4096:8"
   ]
  },
  {
   "cell_type": "code",
   "execution_count": 1,
   "metadata": {},
   "outputs": [],
   "source": [
    "import os\n",
    "# os.environ['CUDA_LAUNCH_BLOCKING'] = \"1\""
   ]
  },
  {
   "cell_type": "code",
   "execution_count": 1,
   "metadata": {},
   "outputs": [
    {
     "name": "stdout",
     "output_type": "stream",
     "text": [
      "Args:\n",
      "Namespace(batch_size=128, burn_in=10, corruption_ratio=0.0, corruption_type=None, dataset='cifar10', device='cuda', imbalanced_factor=None, innerepochs=1, interval=1, lr=0.1, max_epoch=100, meta_lr=0.001, meta_method='MAML', meta_net_hidden_size=128, meta_net_num_layers=1, meta_weight_decay=0.0, momentum=0.9, num_meta=1000, plot_interval=10, seed=1, semi='mixup', semi_beta=1.0, semi_p=0.3, threshlod=-1, weight_decay=0.0005)\n"
     ]
    }
   ],
   "source": [
    "from main import *\n",
    "# from torchsummary import summary\n",
    "import wandb"
   ]
  },
  {
   "cell_type": "code",
   "execution_count": 3,
   "metadata": {},
   "outputs": [],
   "source": [
    "# !wandb login b729ef7d624d9a61a7ff0f8b7dddeae0b138e8d9"
   ]
  },
  {
   "cell_type": "code",
   "execution_count": 2,
   "metadata": {},
   "outputs": [],
   "source": [
    "hyperparameter = {\n",
    "    'dataset':'cifar10',\n",
    "    'num_meta':1000,\n",
    "    'imbalanced_factor':None,\n",
    "    'corruption_type':'flip1',\n",
    "    'corruption_ratio':0.4,\n",
    "    'batch_size':256,\n",
    "    'max_epoch':120,\n",
    "    # 'device':\"cuda\" if torch.cuda.is_available() else \"cpu\",\n",
    "    'device':'cuda',\n",
    "    'seed': 1, # \n",
    "    'meta_net_hidden_size':128,\n",
    "    'meta_net_num_layers':1,\n",
    "    'lr':0.1,\n",
    "    'weight_decay':5e-4,\n",
    "    'momentum':0.9,\n",
    "    'meta_lr':1e-4,\n",
    "    'meta_weight_decay':0.,\n",
    "    'meta_method':'MAML',\n",
    "    'innerepochs':1,\n",
    "    'inner_lr':0.1,\n",
    "    'interval':1,\n",
    "    'plot_interval':10,\n",
    "    'burn_in':0,\n",
    "\n",
    "    'threshold':0.1,\n",
    "    'semi':'mixup',\n",
    "    'semi_p':0.3,\n",
    "    'semi_beta':1.0\n",
    "}"
   ]
  },
  {
   "cell_type": "code",
   "execution_count": 3,
   "metadata": {},
   "outputs": [
    {
     "name": "stderr",
     "output_type": "stream",
     "text": [
      "Failed to detect the name of this notebook, you can set it manually with the WANDB_NOTEBOOK_NAME environment variable to enable code saving.\n"
     ]
    },
    {
     "data": {
      "text/plain": []
     },
     "execution_count": 3,
     "metadata": {},
     "output_type": "execute_result"
    }
   ],
   "source": [
    "# wandb.init(project=\"my-test-project\", entity=\"ruistarlit\", config=hyperparameter)\n",
    "wandb.init(project=\"my-test-project\", entity=\"ruistarlit\", config=hyperparameter, mode=\"disabled\")"
   ]
  },
  {
   "cell_type": "code",
   "execution_count": 4,
   "metadata": {},
   "outputs": [],
   "source": [
    "Model = TrainNet(wandb.config)\n",
    "# Model = TrainNet(args)\n",
    "# print('DNN Model: vvvvvvvvv')\n",
    "# summary(Model.model,(3,32,32))\n",
    "# print('Meta-Net:  vvvvvvvvvvvv')\n",
    "# summary(Model.meta_net, (1,1))"
   ]
  },
  {
   "cell_type": "code",
   "execution_count": 5,
   "metadata": {},
   "outputs": [
    {
     "name": "stdout",
     "output_type": "stream",
     "text": [
      "[Load]success\n"
     ]
    }
   ],
   "source": [
    "Model.load(r'checkpoint\\0.82\\CheckPoint-_04-02_10-45')"
   ]
  },
  {
   "cell_type": "code",
   "execution_count": 6,
   "metadata": {},
   "outputs": [
    {
     "name": "stdout",
     "output_type": "stream",
     "text": [
      "[Test] Loss:0.536960| Acc:0.8647\n"
     ]
    },
    {
     "data": {
      "text/plain": [
       "(0.5369598478078842, 0.8647)"
      ]
     },
     "execution_count": 6,
     "metadata": {},
     "output_type": "execute_result"
    }
   ],
   "source": [
    "Model.test()"
   ]
  },
  {
   "cell_type": "code",
   "execution_count": 6,
   "metadata": {},
   "outputs": [
    {
     "name": "stdout",
     "output_type": "stream",
     "text": [
      "[Main]Learning Rate is set to 0.01\n"
     ]
    }
   ],
   "source": [
    "Model._set_lr(0.01)"
   ]
  },
  {
   "cell_type": "code",
   "execution_count": 7,
   "metadata": {},
   "outputs": [
    {
     "name": "stdout",
     "output_type": "stream",
     "text": [
      "Files already downloaded and verified\n",
      "[[0.6 0.  0.  0.  0.  0.4 0.  0.  0.  0. ]\n",
      " [0.  0.6 0.  0.  0.4 0.  0.  0.  0.  0. ]\n",
      " [0.  0.  0.6 0.  0.  0.4 0.  0.  0.  0. ]\n",
      " [0.  0.  0.  0.6 0.  0.  0.  0.  0.4 0. ]\n",
      " [0.4 0.  0.  0.  0.6 0.  0.  0.  0.  0. ]\n",
      " [0.  0.  0.  0.  0.  0.6 0.4 0.  0.  0. ]\n",
      " [0.  0.  0.  0.  0.4 0.  0.6 0.  0.  0. ]\n",
      " [0.  0.  0.  0.  0.  0.  0.  0.6 0.  0.4]\n",
      " [0.  0.  0.  0.  0.  0.  0.4 0.  0.6 0. ]\n",
      " [0.  0.  0.  0.  0.  0.  0.  0.  0.4 0.6]]\n",
      "[Main] Training.... \n"
     ]
    },
    {
     "data": {
      "application/vnd.jupyter.widget-view+json": {
       "model_id": "73728a72c0314087983f0fd3546112b2",
       "version_major": 2,
       "version_minor": 0
      },
      "text/plain": [
       "  0%|          | 0/20 [00:00<?, ?it/s]"
      ]
     },
     "metadata": {},
     "output_type": "display_data"
    },
    {
     "name": "stdout",
     "output_type": "stream",
     "text": [
      "[Debug] digest reset\n",
      "\n",
      "\n",
      "[Train:81] Train loss:0.6814 acc:0.5420|Test loss:0.7940 acc:0.8354\n",
      "[Train:82] The 70.0percentile of weight is 0.676891.\n",
      "[Debug] digest reset\n",
      "[Debug]  6.641%clean|93.359%noise at this batchx: torch.Size([17, 3, 32, 32])\n",
      "y: torch.Size([17])\n",
      "n 15\n",
      "xm: torch.Size([255, 3, 32, 32])\n",
      "ym: torch.Size([255])\n",
      "ind: torch.Size([239])\n",
      "noise: torch.Size([239, 3, 32, 32])\n",
      "xm: torch.Size([239, 3, 32, 32])\n",
      "[Debug]  3.125%clean|96.875%noise at this batchx: torch.Size([8, 3, 32, 32])\n",
      "y: torch.Size([8])\n",
      "n 32\n",
      "xm: torch.Size([256, 3, 32, 32])\n",
      "ym: torch.Size([256])\n",
      "ind: torch.Size([248])\n",
      "noise: torch.Size([248, 3, 32, 32])\n",
      "xm: torch.Size([248, 3, 32, 32])\n",
      "[Debug]  2.344%clean|97.656%noise at this batchx: torch.Size([6, 3, 32, 32])\n",
      "y: torch.Size([6])\n",
      "n 42\n",
      "xm: torch.Size([252, 3, 32, 32])\n",
      "ym: torch.Size([252])\n",
      "ind: torch.Size([250])\n",
      "noise: torch.Size([250, 3, 32, 32])\n",
      "xm: torch.Size([250, 3, 32, 32])\n",
      "[Debug]  3.516%clean|96.484%noise at this batchx: torch.Size([9, 3, 32, 32])\n",
      "y: torch.Size([9])\n",
      "n 28\n",
      "xm: torch.Size([252, 3, 32, 32])\n",
      "ym: torch.Size([252])\n",
      "ind: torch.Size([247])\n",
      "noise: torch.Size([247, 3, 32, 32])\n",
      "xm: torch.Size([247, 3, 32, 32])\n",
      "[Debug]  1.172%clean|98.828%noise at this batchx: torch.Size([3, 3, 32, 32])\n",
      "y: torch.Size([3])\n",
      "n 85\n",
      "xm: torch.Size([255, 3, 32, 32])\n",
      "ym: torch.Size([255])\n",
      "ind: torch.Size([253])\n",
      "noise: torch.Size([253, 3, 32, 32])\n",
      "xm: torch.Size([253, 3, 32, 32])\n",
      "[Debug]  1.953%clean|98.047%noise at this batchx: torch.Size([5, 3, 32, 32])\n",
      "y: torch.Size([5])\n",
      "n 51\n",
      "xm: torch.Size([255, 3, 32, 32])\n",
      "ym: torch.Size([255])\n",
      "ind: torch.Size([251])\n",
      "noise: torch.Size([251, 3, 32, 32])\n",
      "xm: torch.Size([251, 3, 32, 32])\n",
      "[Debug]  0.781%clean|99.219%noise at this batchx: torch.Size([2, 3, 32, 32])\n",
      "y: torch.Size([2])\n",
      "n 128\n",
      "xm: torch.Size([256, 3, 32, 32])\n",
      "ym: torch.Size([256])\n",
      "ind: torch.Size([254])\n",
      "noise: torch.Size([254, 3, 32, 32])\n",
      "xm: torch.Size([254, 3, 32, 32])\n",
      "[Debug]  0.781%clean|99.219%noise at this batchx: torch.Size([2, 3, 32, 32])\n",
      "y: torch.Size([2])\n",
      "n 128\n",
      "xm: torch.Size([256, 3, 32, 32])\n",
      "ym: torch.Size([256])\n",
      "ind: torch.Size([254])\n",
      "noise: torch.Size([254, 3, 32, 32])\n",
      "xm: torch.Size([254, 3, 32, 32])\n",
      "[Debug]  1.172%clean|98.828%noise at this batchx: torch.Size([3, 3, 32, 32])\n",
      "y: torch.Size([3])\n",
      "n 85\n",
      "xm: torch.Size([255, 3, 32, 32])\n",
      "ym: torch.Size([255])\n",
      "ind: torch.Size([253])\n",
      "noise: torch.Size([253, 3, 32, 32])\n",
      "xm: torch.Size([253, 3, 32, 32])\n",
      "[Debug]  0.000%clean|100.000%noise at this batchx: torch.Size([0, 3, 32, 32])\n",
      "y: torch.Size([0])\n"
     ]
    },
    {
     "ename": "ZeroDivisionError",
     "evalue": "division by zero",
     "output_type": "error",
     "traceback": [
      "\u001b[1;31m---------------------------------------------------------------------------\u001b[0m",
      "\u001b[1;31mZeroDivisionError\u001b[0m                         Traceback (most recent call last)",
      "\u001b[1;32mC:\\Users\\RUISAV~1\\AppData\\Local\\Temp/ipykernel_36924/2538505138.py\u001b[0m in \u001b[0;36m<module>\u001b[1;34m\u001b[0m\n\u001b[1;32m----> 1\u001b[1;33m \u001b[0mModel\u001b[0m\u001b[1;33m.\u001b[0m\u001b[0mtrain\u001b[0m\u001b[1;33m(\u001b[0m\u001b[1;36m20\u001b[0m\u001b[1;33m,\u001b[0m\u001b[0mckp\u001b[0m\u001b[1;33m=\u001b[0m\u001b[1;36m80\u001b[0m\u001b[1;33m)\u001b[0m\u001b[1;33m\u001b[0m\u001b[1;33m\u001b[0m\u001b[0m\n\u001b[0m",
      "\u001b[1;32md:\\Graduation project\\0_DL_Meta-Learning\\main_f.py\u001b[0m in \u001b[0;36mtrain\u001b[1;34m(self, epochs, ckp)\u001b[0m\n\u001b[0;32m    270\u001b[0m                     \u001b[1;32melif\u001b[0m \u001b[0mself\u001b[0m\u001b[1;33m.\u001b[0m\u001b[0margs\u001b[0m\u001b[1;33m.\u001b[0m\u001b[0msemi\u001b[0m \u001b[1;33m==\u001b[0m \u001b[1;34m'mixup'\u001b[0m\u001b[1;33m:\u001b[0m\u001b[1;33m\u001b[0m\u001b[1;33m\u001b[0m\u001b[0m\n\u001b[0;32m    271\u001b[0m                         \u001b[1;32mif\u001b[0m \u001b[0mcount\u001b[0m\u001b[1;33m>\u001b[0m\u001b[1;36m0\u001b[0m\u001b[1;33m:\u001b[0m\u001b[1;33m\u001b[0m\u001b[1;33m\u001b[0m\u001b[0m\n\u001b[1;32m--> 272\u001b[1;33m                             semi_loss = mixup(\n\u001b[0m\u001b[0;32m    273\u001b[0m                             \u001b[0mself\u001b[0m\u001b[1;33m.\u001b[0m\u001b[0margs\u001b[0m\u001b[1;33m.\u001b[0m\u001b[0msemi_beta\u001b[0m\u001b[1;33m,\u001b[0m \u001b[0moutputs\u001b[0m\u001b[1;33m,\u001b[0m \u001b[0mself\u001b[0m\u001b[1;33m.\u001b[0m\u001b[0mcriterion\u001b[0m\u001b[1;33m,\u001b[0m \u001b[0minputs\u001b[0m\u001b[1;33m,\u001b[0m \u001b[0mlabels\u001b[0m\u001b[1;33m.\u001b[0m\u001b[0mlong\u001b[0m\u001b[1;33m(\u001b[0m\u001b[1;33m)\u001b[0m\u001b[1;33m,\u001b[0m \u001b[0mind\u001b[0m\u001b[1;33m,\u001b[0m\u001b[1;33m\u001b[0m\u001b[1;33m\u001b[0m\u001b[0m\n\u001b[0;32m    274\u001b[0m                             \u001b[0mself\u001b[0m\u001b[1;33m.\u001b[0m\u001b[0mdevice\u001b[0m\u001b[1;33m,\u001b[0m \u001b[0mdebug\u001b[0m\u001b[1;33m=\u001b[0m\u001b[1;32mTrue\u001b[0m\u001b[1;33m\u001b[0m\u001b[1;33m\u001b[0m\u001b[0m\n",
      "\u001b[1;32md:\\Graduation project\\0_DL_Meta-Learning\\utils.py\u001b[0m in \u001b[0;36mmixup\u001b[1;34m(beta, output, criterion, x, y, ind, device, debug)\u001b[0m\n\u001b[0;32m     95\u001b[0m         \u001b[0mprint\u001b[0m\u001b[1;33m(\u001b[0m\u001b[1;34m'y:'\u001b[0m\u001b[1;33m,\u001b[0m \u001b[0my_clean\u001b[0m\u001b[1;33m.\u001b[0m\u001b[0mshape\u001b[0m\u001b[1;33m)\u001b[0m\u001b[1;33m\u001b[0m\u001b[1;33m\u001b[0m\u001b[0m\n\u001b[0;32m     96\u001b[0m     \u001b[1;32mif\u001b[0m \u001b[0my_clean\u001b[0m\u001b[1;33m.\u001b[0m\u001b[0mshape\u001b[0m\u001b[1;33m[\u001b[0m\u001b[1;36m0\u001b[0m\u001b[1;33m]\u001b[0m \u001b[1;33m<\u001b[0m \u001b[0my_noise\u001b[0m\u001b[1;33m.\u001b[0m\u001b[0mshape\u001b[0m\u001b[1;33m[\u001b[0m\u001b[1;36m0\u001b[0m\u001b[1;33m]\u001b[0m\u001b[1;33m:\u001b[0m\u001b[1;33m\u001b[0m\u001b[1;33m\u001b[0m\u001b[0m\n\u001b[1;32m---> 97\u001b[1;33m         \u001b[0mn\u001b[0m \u001b[1;33m=\u001b[0m \u001b[0mint\u001b[0m\u001b[1;33m(\u001b[0m\u001b[0my_noise\u001b[0m\u001b[1;33m.\u001b[0m\u001b[0mshape\u001b[0m\u001b[1;33m[\u001b[0m\u001b[1;36m0\u001b[0m\u001b[1;33m]\u001b[0m \u001b[1;33m/\u001b[0m \u001b[0my_clean\u001b[0m\u001b[1;33m.\u001b[0m\u001b[0mshape\u001b[0m\u001b[1;33m[\u001b[0m\u001b[1;36m0\u001b[0m\u001b[1;33m]\u001b[0m\u001b[1;33m)\u001b[0m \u001b[1;33m+\u001b[0m \u001b[1;36m1\u001b[0m\u001b[1;33m\u001b[0m\u001b[1;33m\u001b[0m\u001b[0m\n\u001b[0m\u001b[0;32m     98\u001b[0m         \u001b[0mxm_clean\u001b[0m\u001b[1;33m,\u001b[0m \u001b[0mym_clean\u001b[0m \u001b[1;33m=\u001b[0m \u001b[0mx_clean\u001b[0m\u001b[1;33m.\u001b[0m\u001b[0mrepeat\u001b[0m\u001b[1;33m(\u001b[0m\u001b[0mn\u001b[0m\u001b[1;33m,\u001b[0m\u001b[1;36m1\u001b[0m\u001b[1;33m,\u001b[0m\u001b[1;36m1\u001b[0m\u001b[1;33m,\u001b[0m\u001b[1;36m1\u001b[0m\u001b[1;33m)\u001b[0m\u001b[1;33m,\u001b[0m \u001b[0my_clean\u001b[0m\u001b[1;33m.\u001b[0m\u001b[0mrepeat\u001b[0m\u001b[1;33m(\u001b[0m\u001b[0mn\u001b[0m\u001b[1;33m)\u001b[0m\u001b[1;33m\u001b[0m\u001b[1;33m\u001b[0m\u001b[0m\n\u001b[0;32m     99\u001b[0m         \u001b[1;32mif\u001b[0m \u001b[0mdebug\u001b[0m\u001b[1;33m:\u001b[0m\u001b[1;33m\u001b[0m\u001b[1;33m\u001b[0m\u001b[0m\n",
      "\u001b[1;31mZeroDivisionError\u001b[0m: division by zero"
     ]
    }
   ],
   "source": [
    "Model.train(20,ckp=80)"
   ]
  },
  {
   "cell_type": "code",
   "execution_count": 9,
   "metadata": {},
   "outputs": [
    {
     "name": "stdout",
     "output_type": "stream",
     "text": [
      "[Test] Loss:0.412911| Acc:0.8937\n"
     ]
    },
    {
     "data": {
      "text/plain": [
       "(0.4129111737012863, 0.8937)"
      ]
     },
     "execution_count": 9,
     "metadata": {},
     "output_type": "execute_result"
    }
   ],
   "source": [
    "Model.test()"
   ]
  },
  {
   "cell_type": "code",
   "execution_count": 11,
   "metadata": {},
   "outputs": [],
   "source": [
    "wandb.config.update({'semi_p':0.4},allow_val_change=True)"
   ]
  },
  {
   "cell_type": "code",
   "execution_count": 14,
   "metadata": {},
   "outputs": [
    {
     "data": {
      "text/plain": [
       "0.4"
      ]
     },
     "execution_count": 14,
     "metadata": {},
     "output_type": "execute_result"
    }
   ],
   "source": [
    "Model.args.threshold"
   ]
  },
  {
   "cell_type": "code",
   "execution_count": null,
   "metadata": {},
   "outputs": [
    {
     "name": "stdout",
     "output_type": "stream",
     "text": [
      "\n"
     ]
    },
    {
     "data": {
      "text/html": [
       "Waiting for W&B process to finish... <strong style=\"color:green\">(success).</strong>"
      ],
      "text/plain": [
       "<IPython.core.display.HTML object>"
      ]
     },
     "metadata": {},
     "output_type": "display_data"
    },
    {
     "data": {
      "application/vnd.jupyter.widget-view+json": {
       "model_id": "0c56bb1657204bbfa7d261da069cdf93",
       "version_major": 2,
       "version_minor": 0
      },
      "text/plain": [
       "VBox(children=(Label(value='0.001 MB of 0.001 MB uploaded (0.000 MB deduped)\\r'), FloatProgress(value=1.0, max…"
      ]
     },
     "metadata": {},
     "output_type": "display_data"
    },
    {
     "data": {
      "text/html": [
       "<style>\n",
       "    table.wandb td:nth-child(1) { padding: 0 10px; text-align: right }\n",
       "    .wandb-row { display: flex; flex-direction: row; flex-wrap: wrap; width: 100% }\n",
       "    .wandb-col { display: flex; flex-direction: column; flex-basis: 100%; flex: 1; padding: 10px; }\n",
       "    </style>\n",
       "<div class=\"wandb-row\"><div class=\"wandb-col\"><h3>Run history:</h3><br/><table class=\"wandb\"><tr><td>Epoch</td><td>▁▁▂▂▂▂▃▃▃▄▄▄▄▅▅▅▅▆▆▆▇▇▇▇██</td></tr><tr><td>Test acc</td><td>▁▃▂▅▄▅▆█▆▇▇▅▇▆▅▆▆▆▆▅▅█▅▂▆▆</td></tr><tr><td>Test loss</td><td>█▆▅▃▃▂▂▁▃▁▂▅▂▂▂▂▂▂▂▄▂▁▃█▂▄</td></tr><tr><td>Train acc</td><td>▁▃▅▅▆▇▇▇████████▇▇█▇▇▇▇▇▇▇</td></tr><tr><td>Train loss</td><td>█▆▅▃▃▂▂▁▁▁▃▆▆▆▅▄▅▅▅▆▅▅▅▆▆▅</td></tr></table><br/></div><div class=\"wandb-col\"><h3>Run summary:</h3><br/><table class=\"wandb\"><tr><td>Epoch</td><td>26</td></tr><tr><td>Test acc</td><td>0.5724</td></tr><tr><td>Test loss</td><td>1.44258</td></tr><tr><td>Train acc</td><td>0.41178</td></tr><tr><td>Train loss</td><td>0.80821</td></tr></table><br/></div></div>"
      ],
      "text/plain": [
       "<IPython.core.display.HTML object>"
      ]
     },
     "metadata": {},
     "output_type": "display_data"
    },
    {
     "data": {
      "text/html": [
       "Synced <strong style=\"color:#cdcd00\">glowing-plasma-51</strong>: <a href=\"https://wandb.ai/ruistarlit/my-test-project/runs/1hahzy4l\" target=\"_blank\">https://wandb.ai/ruistarlit/my-test-project/runs/1hahzy4l</a><br/>Synced 5 W&B file(s), 0 media file(s), 0 artifact file(s) and 0 other file(s)"
      ],
      "text/plain": [
       "<IPython.core.display.HTML object>"
      ]
     },
     "metadata": {},
     "output_type": "display_data"
    },
    {
     "data": {
      "text/html": [
       "Find logs at: <code>.\\wandb\\run-20220328_150452-1hahzy4l\\logs</code>"
      ],
      "text/plain": [
       "<IPython.core.display.HTML object>"
      ]
     },
     "metadata": {},
     "output_type": "display_data"
    }
   ],
   "source": [
    "if wandb.run is not None:\n",
    "    wandb.finish()"
   ]
  },
  {
   "cell_type": "code",
   "execution_count": 69,
   "metadata": {},
   "outputs": [
    {
     "data": {
      "text/plain": [
       "0.8519447889060352"
      ]
     },
     "execution_count": 69,
     "metadata": {},
     "output_type": "execute_result"
    }
   ],
   "source": [
    "np.sqrt(1-np.random.beta(1,1))"
   ]
  }
 ],
 "metadata": {
  "interpreter": {
   "hash": "d6b7a2cca450d9e5272a88beb247fd04f9ffc9667cef683458d0420589cf7e4e"
  },
  "kernelspec": {
   "display_name": "Python 3.8.12",
   "language": "python",
   "name": "python3"
  },
  "language_info": {
   "codemirror_mode": {
    "name": "ipython",
    "version": 3
   },
   "file_extension": ".py",
   "mimetype": "text/x-python",
   "name": "python",
   "nbconvert_exporter": "python",
   "pygments_lexer": "ipython3",
   "version": "3.8.12"
  },
  "orig_nbformat": 4
 },
 "nbformat": 4,
 "nbformat_minor": 2
}
