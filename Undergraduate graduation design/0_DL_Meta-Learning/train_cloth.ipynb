{
 "cells": [
  {
   "cell_type": "code",
   "execution_count": null,
   "metadata": {},
   "outputs": [],
   "source": [
    "from main_cloth import *\n",
    "# from torchsummary import summary\n",
    "import wandb"
   ]
  },
  {
   "cell_type": "code",
   "execution_count": null,
   "metadata": {},
   "outputs": [],
   "source": [
    "hyperparameter = {\n",
    "    'model':'resnet50',\n",
    "    'batch_size':32,\n",
    "    'max_epoch':20,\n",
    "    # 'device':\"cuda\" if torch.cuda.is_available() else \"cpu\",\n",
    "    'device':'cuda',\n",
    "    'seed': 1, # \n",
    "    'meta_net_hidden_size':96,\n",
    "    'meta_net_num_layers':1,\n",
    "    'lr':0.1,\n",
    "    'weight_decay':5e-4,\n",
    "    'momentum':0.9,\n",
    "    'meta_lr':5e-4,\n",
    "    'meta_weight_decay':0.,\n",
    "    'meta_method':'MAML',\n",
    "    'innerepochs':1,\n",
    "    'inner_lr':0.1,\n",
    "    'interval':1,\n",
    "    'burn_in':80,\n",
    "\n",
    "    'threshold':0,\n",
    "    'c_threshold':0.7,\n",
    "    'semi':'consistency',\n",
    "    'semi_p':0.1,\n",
    "    'semi_beta':1.0,\n",
    "    'loss_p': 0.75,\n",
    "\n",
    "    'num_workers':0,\n",
    "    'augment':2,\n",
    "    'num_consistency':5,\n",
    "}"
   ]
  },
  {
   "cell_type": "code",
   "execution_count": null,
   "metadata": {},
   "outputs": [],
   "source": [
    "wandb.init(project=\"my-test-project\", entity=\"ruistarlit\", config=hyperparameter, mode=\"disabled\")"
   ]
  },
  {
   "cell_type": "code",
   "execution_count": null,
   "metadata": {},
   "outputs": [],
   "source": [
    "Model = TrainNet(wandb.config)"
   ]
  },
  {
   "cell_type": "code",
   "execution_count": null,
   "metadata": {},
   "outputs": [],
   "source": [
    "Model.train(6)"
   ]
  },
  {
   "cell_type": "code",
   "execution_count": 1,
   "metadata": {},
   "outputs": [],
   "source": [
    "import os"
   ]
  },
  {
   "cell_type": "code",
   "execution_count": 8,
   "metadata": {},
   "outputs": [
    {
     "data": {
      "text/plain": [
       "'d:\\\\Graduation project\\\\data\\\\clothing1M'"
      ]
     },
     "execution_count": 8,
     "metadata": {},
     "output_type": "execute_result"
    }
   ],
   "source": [
    "root = '../data/clothing1M'\n",
    "os.path.abspath(root)"
   ]
  }
 ],
 "metadata": {
  "interpreter": {
   "hash": "d6b7a2cca450d9e5272a88beb247fd04f9ffc9667cef683458d0420589cf7e4e"
  },
  "kernelspec": {
   "display_name": "Python 3.8.12 ('hw')",
   "language": "python",
   "name": "python3"
  },
  "language_info": {
   "codemirror_mode": {
    "name": "ipython",
    "version": 3
   },
   "file_extension": ".py",
   "mimetype": "text/x-python",
   "name": "python",
   "nbconvert_exporter": "python",
   "pygments_lexer": "ipython3",
   "version": "3.8.12"
  },
  "orig_nbformat": 4
 },
 "nbformat": 4,
 "nbformat_minor": 2
}
