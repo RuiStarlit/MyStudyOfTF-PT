{
 "cells": [
  {
   "cell_type": "code",
   "execution_count": null,
   "metadata": {},
   "outputs": [],
   "source": [
    "# %env CUBLAS_WORKSPACE_CONFIG=:4096:8"
   ]
  },
  {
   "cell_type": "code",
   "execution_count": 1,
   "metadata": {},
   "outputs": [],
   "source": [
    "import os\n",
    "# os.environ['CUDA_LAUNCH_BLOCKING'] = \"1\""
   ]
  },
  {
   "cell_type": "code",
   "execution_count": 1,
   "metadata": {},
   "outputs": [
    {
     "name": "stdout",
     "output_type": "stream",
     "text": [
      "Args:\n",
      "Namespace(augment=3, batch_size=128, burn_in=10, c_threshold=0.7, corruption_ratio=0.0, corruption_type=None, dataset='cifar10', device='cuda', imbalanced_factor=None, innerepochs=1, interval=1, loss_p=0.75, lr=0.1, max_epoch=100, meta_lr=0.001, meta_method='MAML', meta_net_hidden_size=80, meta_net_num_layers=0, meta_weight_decay=0.0, momentum=0.9, num_consistency=5, num_meta=1000, num_workers=0, plot_interval=10, seed=1, semi='mixlabel', semi_beta=1.0, semi_p=0.3, threshlod=-1, weight_decay=0.0005)\n"
     ]
    }
   ],
   "source": [
    "from main_multi import *\n",
    "# from torchsummary import summary\n",
    "import wandb"
   ]
  },
  {
   "cell_type": "code",
   "execution_count": null,
   "metadata": {},
   "outputs": [],
   "source": [
    "# !wandb login b729ef7d624d9a61a7ff0f8b7dddeae0b138e8d9"
   ]
  },
  {
   "cell_type": "code",
   "execution_count": 2,
   "metadata": {},
   "outputs": [],
   "source": [
    "hyperparameter = {\n",
    "    'dataset':'cifar10',\n",
    "    'model':'resnet32',\n",
    "    'milestone':[80,90],\n",
    "    'num_meta':1000,\n",
    "    'imbalanced_factor':200,\n",
    "    'corruption_type':None,\n",
    "    'corruption_ratio':0,\n",
    "    'batch_size':128,\n",
    "    'max_epoch':150,\n",
    "    # 'device':\"cuda\" if torch.cuda.is_available() else \"cpu\",\n",
    "    'device':'cuda',\n",
    "    'seed': 1, # \n",
    "    'meta_net_hidden_size':96,\n",
    "    'meta_net_num_layers':1,\n",
    "    'lr':0.1,\n",
    "    'weight_decay':5e-4,\n",
    "    'momentum':0.9,\n",
    "    'meta_lr':1e-5,\n",
    "    'meta_weight_decay':0.,\n",
    "    'meta_method':'MAML',\n",
    "    'innerepochs':1,\n",
    "    'inner_lr':0.1,\n",
    "    'interval':1,\n",
    "    'plot_interval':10,\n",
    "    'burn_in':80,\n",
    "\n",
    "    'threshold':0,\n",
    "    'c_threshold':0.7,\n",
    "    'semi':'consistency',\n",
    "    'semi_p':0.2,\n",
    "    'semi_beta':1.0,\n",
    "    'loss_p': 0.75,\n",
    "\n",
    "    'num_workers':0,\n",
    "    'augment':2,\n",
    "    'num_consistency':5,\n",
    "}"
   ]
  },
  {
   "cell_type": "code",
   "execution_count": 3,
   "metadata": {},
   "outputs": [
    {
     "name": "stderr",
     "output_type": "stream",
     "text": [
      "Failed to detect the name of this notebook, you can set it manually with the WANDB_NOTEBOOK_NAME environment variable to enable code saving.\n"
     ]
    },
    {
     "data": {
      "text/plain": []
     },
     "execution_count": 3,
     "metadata": {},
     "output_type": "execute_result"
    }
   ],
   "source": [
    "# wandb.init(project=\"imbalance\", entity=\"ruistarlit\", config=hyperparameter)\n",
    "wandb.init(project=\"my-test-project\", entity=\"ruistarlit\", config=hyperparameter, mode=\"disabled\")"
   ]
  },
  {
   "cell_type": "code",
   "execution_count": 4,
   "metadata": {},
   "outputs": [],
   "source": [
    "Model = TrainNet(wandb.config)\n",
    "# Model = TrainNet(args)\n",
    "# print('DNN Model: vvvvvvvvv')\n",
    "# summary(Model.model,(3,32,32))\n",
    "# print('Meta-Net:  vvvvvvvvvvvv')\n",
    "# summary(Model.meta_net, (1,1))"
   ]
  },
  {
   "cell_type": "code",
   "execution_count": 5,
   "metadata": {},
   "outputs": [
    {
     "name": "stdout",
     "output_type": "stream",
     "text": [
      "Files already downloaded and verified\n",
      "4900\n",
      "[1509, 24, 143, 465, 4900, 837, 2719, 79, 44, 258]\n",
      "[Main] Training.... \n"
     ]
    },
    {
     "data": {
      "application/vnd.jupyter.widget-view+json": {
       "model_id": "0e3641bfa1a04261bcdeed0df2be81cc",
       "version_major": 2,
       "version_minor": 0
      },
      "text/plain": [
       "  0%|          | 0/1 [00:00<?, ?it/s]"
      ]
     },
     "metadata": {},
     "output_type": "display_data"
    },
    {
     "ename": "KeyboardInterrupt",
     "evalue": "",
     "output_type": "error",
     "traceback": [
      "\u001b[1;31m---------------------------------------------------------------------------\u001b[0m",
      "\u001b[1;31mKeyboardInterrupt\u001b[0m                         Traceback (most recent call last)",
      "\u001b[1;32mC:\\Users\\RUISAV~1\\AppData\\Local\\Temp/ipykernel_28656/2017661504.py\u001b[0m in \u001b[0;36m<module>\u001b[1;34m\u001b[0m\n\u001b[1;32m----> 1\u001b[1;33m \u001b[0mModel\u001b[0m\u001b[1;33m.\u001b[0m\u001b[0mtrain\u001b[0m\u001b[1;33m(\u001b[0m\u001b[1;36m1\u001b[0m\u001b[1;33m)\u001b[0m\u001b[1;33m\u001b[0m\u001b[1;33m\u001b[0m\u001b[0m\n\u001b[0m",
      "\u001b[1;32md:\\Graduation project\\0_DL_Meta-Learning\\main_multi.py\u001b[0m in \u001b[0;36mtrain\u001b[1;34m(self, epochs, ckp)\u001b[0m\n\u001b[0;32m    290\u001b[0m                             lr=self.lr)\n\u001b[0;32m    291\u001b[0m                         \u001b[0mpseudo_optimizer\u001b[0m\u001b[1;33m.\u001b[0m\u001b[0mload_state_dict\u001b[0m\u001b[1;33m(\u001b[0m\u001b[0mself\u001b[0m\u001b[1;33m.\u001b[0m\u001b[0moptimizer\u001b[0m\u001b[1;33m.\u001b[0m\u001b[0mstate_dict\u001b[0m\u001b[1;33m(\u001b[0m\u001b[1;33m)\u001b[0m\u001b[1;33m)\u001b[0m\u001b[1;33m\u001b[0m\u001b[1;33m\u001b[0m\u001b[0m\n\u001b[1;32m--> 292\u001b[1;33m                         \u001b[0mpseudo_optimizer\u001b[0m\u001b[1;33m.\u001b[0m\u001b[0mstep\u001b[0m\u001b[1;33m(\u001b[0m\u001b[0mpseudo_grads\u001b[0m\u001b[1;33m)\u001b[0m\u001b[1;33m\u001b[0m\u001b[1;33m\u001b[0m\u001b[0m\n\u001b[0m\u001b[0;32m    293\u001b[0m                         \u001b[1;32mdel\u001b[0m \u001b[0mpseudo_grads\u001b[0m\u001b[1;33m\u001b[0m\u001b[1;33m\u001b[0m\u001b[0m\n\u001b[0;32m    294\u001b[0m \u001b[1;33m\u001b[0m\u001b[0m\n",
      "\u001b[1;32md:\\Users\\RuiSavior\\anaconda3\\envs\\hw\\lib\\site-packages\\torch\\optim\\optimizer.py\u001b[0m in \u001b[0;36mwrapper\u001b[1;34m(*args, **kwargs)\u001b[0m\n\u001b[0;32m     86\u001b[0m                 \u001b[0mprofile_name\u001b[0m \u001b[1;33m=\u001b[0m \u001b[1;34m\"Optimizer.step#{}.step\"\u001b[0m\u001b[1;33m.\u001b[0m\u001b[0mformat\u001b[0m\u001b[1;33m(\u001b[0m\u001b[0mobj\u001b[0m\u001b[1;33m.\u001b[0m\u001b[0m__class__\u001b[0m\u001b[1;33m.\u001b[0m\u001b[0m__name__\u001b[0m\u001b[1;33m)\u001b[0m\u001b[1;33m\u001b[0m\u001b[1;33m\u001b[0m\u001b[0m\n\u001b[0;32m     87\u001b[0m                 \u001b[1;32mwith\u001b[0m \u001b[0mtorch\u001b[0m\u001b[1;33m.\u001b[0m\u001b[0mautograd\u001b[0m\u001b[1;33m.\u001b[0m\u001b[0mprofiler\u001b[0m\u001b[1;33m.\u001b[0m\u001b[0mrecord_function\u001b[0m\u001b[1;33m(\u001b[0m\u001b[0mprofile_name\u001b[0m\u001b[1;33m)\u001b[0m\u001b[1;33m:\u001b[0m\u001b[1;33m\u001b[0m\u001b[1;33m\u001b[0m\u001b[0m\n\u001b[1;32m---> 88\u001b[1;33m                     \u001b[1;32mreturn\u001b[0m \u001b[0mfunc\u001b[0m\u001b[1;33m(\u001b[0m\u001b[1;33m*\u001b[0m\u001b[0margs\u001b[0m\u001b[1;33m,\u001b[0m \u001b[1;33m**\u001b[0m\u001b[0mkwargs\u001b[0m\u001b[1;33m)\u001b[0m\u001b[1;33m\u001b[0m\u001b[1;33m\u001b[0m\u001b[0m\n\u001b[0m\u001b[0;32m     89\u001b[0m             \u001b[1;32mreturn\u001b[0m \u001b[0mwrapper\u001b[0m\u001b[1;33m\u001b[0m\u001b[1;33m\u001b[0m\u001b[0m\n\u001b[0;32m     90\u001b[0m \u001b[1;33m\u001b[0m\u001b[0m\n",
      "\u001b[1;32md:\\Graduation project\\0_DL_Meta-Learning\\meta.py\u001b[0m in \u001b[0;36mstep\u001b[1;34m(self, grads)\u001b[0m\n\u001b[0;32m    114\u001b[0m             \u001b[0mparameter\u001b[0m\u001b[1;33m.\u001b[0m\u001b[0mdetach_\u001b[0m\u001b[1;33m(\u001b[0m\u001b[1;33m)\u001b[0m\u001b[1;33m\u001b[0m\u001b[1;33m\u001b[0m\u001b[0m\n\u001b[0;32m    115\u001b[0m             \u001b[1;32mif\u001b[0m \u001b[0mweight_decay\u001b[0m \u001b[1;33m!=\u001b[0m \u001b[1;36m0\u001b[0m\u001b[1;33m:\u001b[0m\u001b[1;33m\u001b[0m\u001b[1;33m\u001b[0m\u001b[0m\n\u001b[1;32m--> 116\u001b[1;33m                 \u001b[0mgrad_wd\u001b[0m \u001b[1;33m=\u001b[0m \u001b[0mgrad\u001b[0m\u001b[1;33m.\u001b[0m\u001b[0madd\u001b[0m\u001b[1;33m(\u001b[0m\u001b[0mparameter\u001b[0m\u001b[1;33m,\u001b[0m \u001b[0malpha\u001b[0m\u001b[1;33m=\u001b[0m\u001b[0mweight_decay\u001b[0m\u001b[1;33m)\u001b[0m\u001b[1;33m\u001b[0m\u001b[1;33m\u001b[0m\u001b[0m\n\u001b[0m\u001b[0;32m    117\u001b[0m                 \u001b[1;31m# wd = wd + (weight_decay * p)\u001b[0m\u001b[1;33m\u001b[0m\u001b[1;33m\u001b[0m\u001b[1;33m\u001b[0m\u001b[0m\n\u001b[0;32m    118\u001b[0m             \u001b[1;32melse\u001b[0m\u001b[1;33m:\u001b[0m\u001b[1;33m\u001b[0m\u001b[1;33m\u001b[0m\u001b[0m\n",
      "\u001b[1;31mKeyboardInterrupt\u001b[0m: "
     ]
    }
   ],
   "source": [
    "Model.train(1)"
   ]
  },
  {
   "cell_type": "code",
   "execution_count": 5,
   "metadata": {},
   "outputs": [
    {
     "name": "stdout",
     "output_type": "stream",
     "text": [
      "[Load] Acc:0.8764|Epoch:100|Lr:0.0010000000000000002\n"
     ]
    }
   ],
   "source": [
    "Model.load('checkpoint/CheckPoint-_05-01_21-01.pth.tar')"
   ]
  },
  {
   "cell_type": "code",
   "execution_count": 6,
   "metadata": {},
   "outputs": [
    {
     "name": "stdout",
     "output_type": "stream",
     "text": [
      "[Test] Loss:0.424156| Acc:0.8764\n"
     ]
    }
   ],
   "source": [
    "test_loss, test_acc, confusion = Model.test()"
   ]
  },
  {
   "cell_type": "code",
   "execution_count": 7,
   "metadata": {},
   "outputs": [
    {
     "data": {
      "text/plain": [
       "array([[0.933, 0.005, 0.014, 0.004, 0.007, 0.002, 0.008, 0.   , 0.016,\n",
       "        0.011],\n",
       "       [0.015, 0.911, 0.   , 0.003, 0.001, 0.   , 0.002, 0.001, 0.009,\n",
       "        0.058],\n",
       "       [0.053, 0.   , 0.765, 0.025, 0.065, 0.029, 0.055, 0.004, 0.002,\n",
       "        0.002],\n",
       "       [0.015, 0.001, 0.022, 0.744, 0.052, 0.113, 0.039, 0.008, 0.003,\n",
       "        0.003],\n",
       "       [0.005, 0.   , 0.006, 0.009, 0.953, 0.009, 0.01 , 0.006, 0.001,\n",
       "        0.001],\n",
       "       [0.002, 0.   , 0.014, 0.07 , 0.028, 0.863, 0.011, 0.011, 0.001,\n",
       "        0.   ],\n",
       "       [0.003, 0.   , 0.01 , 0.011, 0.014, 0.004, 0.955, 0.001, 0.001,\n",
       "        0.001],\n",
       "       [0.019, 0.   , 0.01 , 0.018, 0.057, 0.065, 0.004, 0.826, 0.   ,\n",
       "        0.001],\n",
       "       [0.076, 0.011, 0.002, 0.01 , 0.002, 0.001, 0.004, 0.   , 0.877,\n",
       "        0.017],\n",
       "       [0.021, 0.028, 0.001, 0.004, 0.   , 0.004, 0.   , 0.   , 0.005,\n",
       "        0.937]])"
      ]
     },
     "execution_count": 7,
     "metadata": {},
     "output_type": "execute_result"
    }
   ],
   "source": [
    "confusion"
   ]
  },
  {
   "cell_type": "code",
   "execution_count": 39,
   "metadata": {},
   "outputs": [],
   "source": [
    "import itertools\n",
    "def plot_confusion_matrix(cm, classes, normalize=False, title='Confusion matrix', cmap=plt.cm.Oranges):\n",
    "    \"\"\"\n",
    "    - cm : 计算出的混淆矩阵的值\n",
    "    - classes : 混淆矩阵中每一行每一列对应的列\n",
    "    - normalize : True:显示百分比, False:显示个数\n",
    "    \"\"\"\n",
    "    if normalize:\n",
    "        cm = cm.astype('float') / cm.sum(axis=1)[:, np.newaxis]\n",
    "        print(\"显示百分比：\")\n",
    "        np.set_printoptions(formatter={'float': '{: 0.2f}'.format})\n",
    "        print(cm)\n",
    "    else:\n",
    "        print('显示具体数字：')\n",
    "        print(cm)\n",
    "    plt.figure(figsize=(10, 10))\n",
    "    plt.imshow(cm, cmap=cmap)\n",
    "    plt.title(title,fontsize=20)\n",
    "    plt.colorbar()\n",
    "    # tick_marks = np.arange(len(classes))\n",
    "#     plt.xticks(tick_marks, classes, rotation=45)\n",
    "#     plt.yticks(tick_marks, classes)\n",
    "    # matplotlib版本问题，如果不加下面这行代码，则绘制的混淆矩阵上下只能显示一半，有的版本的matplotlib不需要下面的代码，分别试一下即可\n",
    "#     plt.ylim(len(classes) - 0.5, -0.5)\n",
    "    fmt = '.2f'\n",
    "    thresh = cm.max() / 2.\n",
    "    for i, j in itertools.product(range(cm.shape[0]), range(cm.shape[1])):\n",
    "        if f'{cm[i,j]:.2f}%' != '0.00%':\n",
    "            plt.text(j, i, f'{cm[i,j]:.2f}%',\n",
    "                    horizontalalignment=\"center\",\n",
    "                    color=\"white\" if cm[i, j] > thresh else \"black\",fontsize=13)\n",
    "    plt.ylabel('True label',fontsize=16)\n",
    "    plt.xlabel('Predicted label',fontsize=16)\n",
    "    plt.show()"
   ]
  },
  {
   "cell_type": "code",
   "execution_count": 40,
   "metadata": {},
   "outputs": [
    {
     "name": "stdout",
     "output_type": "stream",
     "text": [
      "显示具体数字：\n",
      "[[0.933 0.005 0.014 0.004 0.007 0.002 0.008 0.    0.016 0.011]\n",
      " [0.015 0.911 0.    0.003 0.001 0.    0.002 0.001 0.009 0.058]\n",
      " [0.053 0.    0.765 0.025 0.065 0.029 0.055 0.004 0.002 0.002]\n",
      " [0.015 0.001 0.022 0.744 0.052 0.113 0.039 0.008 0.003 0.003]\n",
      " [0.005 0.    0.006 0.009 0.953 0.009 0.01  0.006 0.001 0.001]\n",
      " [0.002 0.    0.014 0.07  0.028 0.863 0.011 0.011 0.001 0.   ]\n",
      " [0.003 0.    0.01  0.011 0.014 0.004 0.955 0.001 0.001 0.001]\n",
      " [0.019 0.    0.01  0.018 0.057 0.065 0.004 0.826 0.    0.001]\n",
      " [0.076 0.011 0.002 0.01  0.002 0.001 0.004 0.    0.877 0.017]\n",
      " [0.021 0.028 0.001 0.004 0.    0.004 0.    0.    0.005 0.937]]\n"
     ]
    },
    {
     "data": {
      "image/png": "[encoded data removed]",
      "text/plain": [
       "<Figure size 720x720 with 2 Axes>"
      ]
     },
     "metadata": {
      "needs_background": "light"
     },
     "output_type": "display_data"
    }
   ],
   "source": [
    "plot_confusion_matrix(confusion, classes=10, normalize=False, title='confusion matrix')"
   ]
  },
  {
   "cell_type": "code",
   "execution_count": 5,
   "metadata": {},
   "outputs": [
    {
     "name": "stdout",
     "output_type": "stream",
     "text": [
      "Files already downloaded and verified\n",
      "[2054, 98, 361, 861, 4900, 1330, 3172, 233, 151, 557]\n",
      "[Main] Training.... \n"
     ]
    },
    {
     "data": {
      "application/vnd.jupyter.widget-view+json": {
       "model_id": "94ba261875f54982ab2188337fdd776c",
       "version_major": 2,
       "version_minor": 0
      },
      "text/plain": [
       "  0%|          | 0/100 [00:00<?, ?it/s]"
      ]
     },
     "metadata": {},
     "output_type": "display_data"
    },
    {
     "name": "stdout",
     "output_type": "stream",
     "text": [
      "\n",
      "\n",
      "[Train:1] Train loss:0.4281 acc:0.4944|Test loss:2.9521 acc:0.2171\n",
      "\n",
      "\n",
      "[Train:2] Train loss:0.3704 acc:0.5929|Test loss:2.6387 acc:0.2989\n",
      "\n",
      "\n",
      "[Train:3] Train loss:0.3348 acc:0.6421|Test loss:2.1193 acc:0.3519\n",
      "\n",
      "\n",
      "[Train:4] Train loss:0.3147 acc:0.6728|Test loss:2.2883 acc:0.3445\n",
      "\n",
      "\n",
      "[Train:5] Train loss:0.3020 acc:0.6926|Test loss:2.0915 acc:0.3860\n",
      "\n",
      "\n",
      "[Train:6] Train loss:0.2978 acc:0.7095|Test loss:2.2394 acc:0.3731\n",
      "\n",
      "\n",
      "[Train:7] Train loss:0.2902 acc:0.7268|Test loss:1.6387 acc:0.4410\n",
      "\n",
      "\n",
      "[Train:8] Train loss:0.2921 acc:0.7367|Test loss:2.1264 acc:0.3919\n",
      "\n",
      "\n",
      "[Train:9] Train loss:0.2987 acc:0.7488|Test loss:1.6419 acc:0.4486\n",
      "\n",
      "\n",
      "[Train:10] Train loss:0.2961 acc:0.7634|Test loss:1.4970 acc:0.4878\n",
      "\n",
      "\n",
      "[Train:11] Train loss:0.3115 acc:0.7639|Test loss:1.7047 acc:0.4581\n",
      "\n",
      "\n",
      "[Train:12] Train loss:0.3199 acc:0.7754|Test loss:1.3135 acc:0.5558\n",
      "\n",
      "\n",
      "[Train:13] Train loss:0.3250 acc:0.7841|Test loss:1.6786 acc:0.5094\n",
      "\n",
      "\n",
      "[Train:14] Train loss:0.3471 acc:0.7830|Test loss:1.5931 acc:0.5021\n",
      "\n",
      "\n",
      "[Train:15] Train loss:0.3669 acc:0.7904|Test loss:1.5898 acc:0.5067\n",
      "\n",
      "\n",
      "[Train:16] Train loss:0.3713 acc:0.7973|Test loss:1.4646 acc:0.5294\n",
      "\n",
      "\n",
      "[Train:17] Train loss:0.3993 acc:0.7966|Test loss:1.5616 acc:0.5534\n",
      "\n",
      "\n",
      "[Train:18] Train loss:0.3969 acc:0.8094|Test loss:1.7055 acc:0.5147\n",
      "\n",
      "\n",
      "[Train:19] Train loss:0.4076 acc:0.8099|Test loss:1.3783 acc:0.5535\n",
      "\n",
      "\n",
      "[Train:20] Train loss:0.4117 acc:0.8167|Test loss:1.3124 acc:0.5782\n",
      "\n",
      "\n",
      "[Train:21] Train loss:0.4229 acc:0.8178|Test loss:2.2773 acc:0.4466\n",
      "\n",
      "\n",
      "[Train:22] Train loss:0.4403 acc:0.8196|Test loss:1.3332 acc:0.5650\n",
      "\n",
      "\n",
      "[Train:23] Train loss:0.4190 acc:0.8331|Test loss:1.8471 acc:0.5011\n",
      "\n",
      "\n",
      "[Train:24] Train loss:0.4266 acc:0.8339|Test loss:1.5159 acc:0.5683\n",
      "\n",
      "\n",
      "[Train:25] Train loss:0.4404 acc:0.8312|Test loss:1.1048 acc:0.6445\n",
      "\n",
      "\n",
      "[Train:26] Train loss:0.4429 acc:0.8345|Test loss:1.5813 acc:0.5436\n",
      "\n",
      "\n",
      "[Train:27] Train loss:0.4293 acc:0.8417|Test loss:2.8176 acc:0.4339\n",
      "\n",
      "\n",
      "[Train:28] Train loss:0.4260 acc:0.8468|Test loss:1.0671 acc:0.6440\n",
      "\n",
      "\n",
      "[Train:29] Train loss:0.4325 acc:0.8452|Test loss:1.3151 acc:0.5989\n",
      "\n",
      "\n",
      "[Train:30] Train loss:0.4233 acc:0.8524|Test loss:1.8710 acc:0.4727\n",
      "\n",
      "\n",
      "[Train:31] Train loss:0.4376 acc:0.8416|Test loss:1.1763 acc:0.6376\n",
      "\n",
      "\n",
      "[Train:32] Train loss:0.4457 acc:0.8425|Test loss:1.7088 acc:0.4906\n",
      "\n",
      "\n",
      "[Train:33] Train loss:0.4244 acc:0.8508|Test loss:1.1281 acc:0.6686\n",
      "\n",
      "\n",
      "[Train:34] Train loss:0.4016 acc:0.8616|Test loss:1.2411 acc:0.6303\n",
      "\n",
      "\n",
      "[Train:35] Train loss:0.4004 acc:0.8601|Test loss:1.2826 acc:0.6440\n",
      "\n",
      "\n",
      "[Train:36] Train loss:0.4005 acc:0.8602|Test loss:1.1194 acc:0.6426\n",
      "\n",
      "\n",
      "[Train:37] Train loss:0.4164 acc:0.8605|Test loss:1.5738 acc:0.5684\n",
      "\n",
      "\n",
      "[Train:38] Train loss:0.4197 acc:0.8530|Test loss:1.1941 acc:0.6484\n",
      "\n",
      "\n",
      "[Train:39] Train loss:0.3802 acc:0.8710|Test loss:1.4569 acc:0.6038\n",
      "\n",
      "\n",
      "[Train:40] Train loss:0.3988 acc:0.8616|Test loss:0.9119 acc:0.6961\n",
      "\n",
      "\n",
      "[Train:41] Train loss:0.3793 acc:0.8714|Test loss:1.8468 acc:0.5583\n",
      "\n",
      "\n",
      "[Train:42] Train loss:0.3985 acc:0.8632|Test loss:1.3491 acc:0.6222\n",
      "\n",
      "\n",
      "[Train:43] Train loss:0.3781 acc:0.8712|Test loss:1.2247 acc:0.6300\n",
      "\n",
      "\n",
      "[Train:44] Train loss:0.3863 acc:0.8652|Test loss:1.5380 acc:0.6206\n",
      "\n",
      "\n",
      "[Train:45] Train loss:0.3655 acc:0.8758|Test loss:1.2434 acc:0.6363\n",
      "\n",
      "\n",
      "[Train:46] Train loss:0.3616 acc:0.8758|Test loss:1.0854 acc:0.6671\n",
      "\n",
      "\n",
      "[Train:47] Train loss:0.3461 acc:0.8815|Test loss:1.1464 acc:0.6607\n",
      "\n",
      "\n",
      "[Train:48] Train loss:0.3572 acc:0.8785|Test loss:1.5736 acc:0.5712\n",
      "\n",
      "\n",
      "[Train:49] Train loss:0.3434 acc:0.8804|Test loss:1.2733 acc:0.6338\n",
      "\n",
      "\n",
      "[Train:50] Train loss:0.3669 acc:0.8749|Test loss:1.0146 acc:0.7060\n",
      "\n",
      "\n",
      "[Train:51] Train loss:0.3722 acc:0.8709|Test loss:1.3157 acc:0.6175\n",
      "\n",
      "\n",
      "[Train:52] Train loss:0.3571 acc:0.8773|Test loss:1.1116 acc:0.6727\n",
      "\n",
      "\n",
      "[Train:53] Train loss:0.3318 acc:0.8861|Test loss:1.4840 acc:0.6062\n",
      "\n",
      "\n",
      "[Train:54] Train loss:0.3577 acc:0.8758|Test loss:1.0754 acc:0.6838\n",
      "\n",
      "\n",
      "[Train:55] Train loss:0.3390 acc:0.8853|Test loss:1.3549 acc:0.6215\n",
      "\n",
      "\n",
      "[Train:56] Train loss:0.3445 acc:0.8823|Test loss:1.1803 acc:0.6473\n",
      "\n",
      "\n",
      "[Train:57] Train loss:0.3422 acc:0.8804|Test loss:1.2561 acc:0.6496\n",
      "\n",
      "\n",
      "[Train:58] Train loss:0.3340 acc:0.8878|Test loss:1.2091 acc:0.6847\n",
      "\n",
      "\n",
      "[Train:59] Train loss:0.3469 acc:0.8811|Test loss:1.0788 acc:0.6749\n",
      "\n",
      "\n",
      "[Train:60] Train loss:0.3373 acc:0.8849|Test loss:1.2407 acc:0.6473\n",
      "\n",
      "\n",
      "[Train:61] Train loss:0.3376 acc:0.8857|Test loss:1.6040 acc:0.5923\n",
      "\n",
      "\n",
      "[Train:62] Train loss:0.3380 acc:0.8852|Test loss:1.4854 acc:0.6259\n",
      "\n",
      "\n",
      "[Train:63] Train loss:0.3402 acc:0.8832|Test loss:1.1007 acc:0.6714\n",
      "\n",
      "\n",
      "[Train:64] Train loss:0.3144 acc:0.8917|Test loss:1.0968 acc:0.6688\n",
      "\n",
      "\n",
      "[Train:65] Train loss:0.3196 acc:0.8909|Test loss:0.9970 acc:0.7052\n",
      "\n",
      "\n",
      "[Train:66] Train loss:0.3108 acc:0.8935|Test loss:1.2807 acc:0.6406\n",
      "\n",
      "\n",
      "[Train:67] Train loss:0.3329 acc:0.8849|Test loss:1.0490 acc:0.6570\n",
      "\n",
      "\n",
      "[Train:68] Train loss:0.3059 acc:0.8926|Test loss:1.2663 acc:0.6425\n",
      "\n",
      "\n",
      "[Train:69] Train loss:0.3146 acc:0.8920|Test loss:1.4019 acc:0.6338\n",
      "\n",
      "\n",
      "[Train:70] Train loss:0.3101 acc:0.8955|Test loss:1.0440 acc:0.7008\n",
      "\n",
      "\n",
      "[Train:71] Train loss:0.3270 acc:0.8885|Test loss:1.1238 acc:0.6750\n",
      "\n",
      "\n",
      "[Train:72] Train loss:0.3106 acc:0.8946|Test loss:1.0197 acc:0.6874\n",
      "\n",
      "\n",
      "[Train:73] Train loss:0.3246 acc:0.8906|Test loss:1.1077 acc:0.6815\n",
      "\n",
      "\n",
      "[Train:74] Train loss:0.3198 acc:0.8908|Test loss:1.1762 acc:0.6772\n",
      "\n",
      "\n",
      "[Train:75] Train loss:0.2953 acc:0.8961|Test loss:1.6498 acc:0.5814\n",
      "\n",
      "\n",
      "[Train:76] Train loss:0.3095 acc:0.8948|Test loss:1.1677 acc:0.6636\n",
      "\n",
      "\n",
      "[Train:77] Train loss:0.3132 acc:0.8923|Test loss:1.2592 acc:0.6518\n",
      "\n",
      "\n",
      "[Train:78] Train loss:0.2870 acc:0.9020|Test loss:1.2281 acc:0.6952\n",
      "\n",
      "\n",
      "[Train:79] Train loss:0.3078 acc:0.8957|Test loss:1.2102 acc:0.6745\n",
      "\n",
      "\n",
      "[Train:80] Train loss:0.2968 acc:0.8992|Test loss:0.9786 acc:0.7246\n",
      "[Save] Successfully\n",
      "[Main]Learning Rate is set to 0.010000000000000002\n",
      "\n",
      "\n",
      "[Train:81] Train loss:0.1869 acc:0.9391|Test loss:0.7080 acc:0.7857\n",
      "\n",
      "\n",
      "[Train:82] Train loss:0.1386 acc:0.9560|Test loss:0.6709 acc:0.7991\n",
      "\n",
      "\n",
      "[Train:83] Train loss:0.1236 acc:0.9617|Test loss:0.7270 acc:0.7901\n",
      "\n",
      "\n",
      "[Train:84] Train loss:0.1114 acc:0.9646|Test loss:0.7199 acc:0.7948\n",
      "\n",
      "\n",
      "[Train:85] Train loss:0.1014 acc:0.9679|Test loss:0.7120 acc:0.7986\n",
      "\n",
      "\n",
      "[Train:86] Train loss:0.0954 acc:0.9700|Test loss:0.7270 acc:0.7974\n",
      "\n",
      "\n",
      "[Train:87] Train loss:0.0876 acc:0.9712|Test loss:0.7645 acc:0.7934\n",
      "\n",
      "\n",
      "[Train:88] Train loss:0.0867 acc:0.9717|Test loss:0.7452 acc:0.8021\n",
      "\n",
      "\n",
      "[Train:89] Train loss:0.0823 acc:0.9734|Test loss:0.7303 acc:0.8026\n",
      "\n",
      "\n",
      "[Train:90] Train loss:0.0774 acc:0.9770|Test loss:0.7576 acc:0.8039\n",
      "[Main]Learning Rate is set to 0.0010000000000000002\n",
      "\n",
      "\n",
      "[Train:91] Train loss:0.0675 acc:0.9775|Test loss:0.7264 acc:0.8074\n",
      "\n",
      "\n",
      "[Train:92] Train loss:0.0635 acc:0.9800|Test loss:0.7269 acc:0.8082\n",
      "\n",
      "\n",
      "[Train:93] Train loss:0.0653 acc:0.9794|Test loss:0.7410 acc:0.8047\n",
      "\n",
      "\n",
      "[Train:94] Train loss:0.0606 acc:0.9821|Test loss:0.7408 acc:0.8066\n",
      "\n",
      "\n",
      "[Train:95] Train loss:0.0622 acc:0.9822|Test loss:0.7422 acc:0.8042\n",
      "\n",
      "\n",
      "[Train:96] Train loss:0.0589 acc:0.9810|Test loss:0.7497 acc:0.8042\n",
      "\n",
      "\n",
      "[Train:97] Train loss:0.0648 acc:0.9800|Test loss:0.7586 acc:0.8004\n",
      "\n",
      "\n",
      "[Train:98] Train loss:0.0639 acc:0.9805|Test loss:0.7707 acc:0.7992\n",
      "\n",
      "\n",
      "[Train:99] Train loss:0.0612 acc:0.9835|Test loss:0.7351 acc:0.8079\n",
      "\n",
      "\n",
      "[Train:100] Train loss:0.0623 acc:0.9812|Test loss:0.7592 acc:0.8036\n"
     ]
    }
   ],
   "source": [
    "Model.train(100)"
   ]
  },
  {
   "cell_type": "code",
   "execution_count": 6,
   "metadata": {},
   "outputs": [
    {
     "name": "stdout",
     "output_type": "stream",
     "text": [
      "Files already downloaded and verified\n",
      "[[0.6 0.  0.  ... 0.  0.  0. ]\n",
      " [0.  0.6 0.  ... 0.  0.  0. ]\n",
      " [0.  0.  0.6 ... 0.  0.  0. ]\n",
      " ...\n",
      " [0.  0.  0.  ... 0.6 0.  0. ]\n",
      " [0.  0.  0.  ... 0.  0.6 0. ]\n",
      " [0.  0.  0.  ... 0.  0.  0.6]]\n",
      "[Main] Training.... \n"
     ]
    },
    {
     "data": {
      "application/vnd.jupyter.widget-view+json": {
       "model_id": "470276e1a53140098b0730d1902d1a5a",
       "version_major": 2,
       "version_minor": 0
      },
      "text/plain": [
       "  0%|          | 0/80 [00:00<?, ?it/s]"
      ]
     },
     "metadata": {},
     "output_type": "display_data"
    },
    {
     "name": "stdout",
     "output_type": "stream",
     "text": [
      "\n",
      "\n",
      "[Train:41] Train loss:2.1841 acc:0.3454|Test loss:2.5105 acc:0.3213\n",
      "\n",
      "\n",
      "[Train:42] Train loss:2.1567 acc:0.3488|Test loss:2.4049 acc:0.3442\n",
      "\n",
      "\n",
      "[Train:43] Train loss:2.1655 acc:0.3486|Test loss:2.4615 acc:0.3383\n",
      "\n",
      "\n",
      "[Train:44] Train loss:2.1467 acc:0.3521|Test loss:2.5609 acc:0.3146\n",
      "\n",
      "\n",
      "[Train:45] Train loss:2.1238 acc:0.3561|Test loss:2.4357 acc:0.3362\n",
      "\n",
      "\n",
      "[Train:46] Train loss:2.1368 acc:0.3555|Test loss:2.4938 acc:0.3538\n",
      "\n",
      "\n",
      "[Train:47] Train loss:2.1226 acc:0.3535|Test loss:2.4333 acc:0.3356\n",
      "\n",
      "\n",
      "[Train:48] Train loss:2.0997 acc:0.3636|Test loss:2.4728 acc:0.3470\n",
      "\n",
      "\n",
      "[Train:49] Train loss:2.1032 acc:0.3600|Test loss:2.4226 acc:0.3666\n",
      "\n",
      "\n",
      "[Train:50] Train loss:2.0956 acc:0.3612|Test loss:2.5109 acc:0.3290\n",
      "\n",
      "\n",
      "[Train:51] Train loss:2.0717 acc:0.3663|Test loss:2.4815 acc:0.3297\n",
      "\n",
      "\n",
      "[Train:52] Train loss:2.0817 acc:0.3648|Test loss:2.4122 acc:0.3514\n",
      "\n",
      "\n",
      "[Train:53] Train loss:2.0649 acc:0.3686|Test loss:2.4925 acc:0.3341\n",
      "\n",
      "\n",
      "[Train:54] Train loss:2.0511 acc:0.3726|Test loss:2.5439 acc:0.3343\n",
      "\n",
      "\n",
      "[Train:55] Train loss:2.0555 acc:0.3741|Test loss:2.3903 acc:0.3749\n",
      "\n",
      "\n",
      "[Train:56] Train loss:2.0449 acc:0.3737|Test loss:2.5187 acc:0.3187\n",
      "\n",
      "\n",
      "[Train:57] Train loss:2.0385 acc:0.3774|Test loss:2.4659 acc:0.3414\n",
      "\n",
      "\n",
      "[Train:58] Train loss:2.0308 acc:0.3770|Test loss:2.4129 acc:0.3524\n",
      "\n",
      "\n",
      "[Train:59] Train loss:2.0242 acc:0.3784|Test loss:2.4979 acc:0.3398\n",
      "\n",
      "\n",
      "[Train:60] Train loss:2.0074 acc:0.3853|Test loss:2.4712 acc:0.3477\n",
      "[Main]Learning Rate is set to 0.020000000000000004\n",
      "\n",
      "\n",
      "[Train:61] Train loss:1.5523 acc:0.5004|Test loss:2.0755 acc:0.4240\n",
      "\n",
      "\n",
      "[Train:62] Train loss:1.3643 acc:0.5460|Test loss:2.1390 acc:0.4018\n",
      "\n",
      "\n",
      "[Train:63] Train loss:1.2904 acc:0.5669|Test loss:2.1488 acc:0.4110\n",
      "\n",
      "\n",
      "[Train:64] Train loss:1.2301 acc:0.5838|Test loss:2.1843 acc:0.4159\n",
      "\n",
      "\n",
      "[Train:65] Train loss:1.1830 acc:0.5993|Test loss:2.2500 acc:0.3793\n",
      "\n",
      "\n",
      "[Train:66] Train loss:1.1459 acc:0.6092|Test loss:2.2694 acc:0.3840\n",
      "\n",
      "\n",
      "[Train:67] Train loss:1.1173 acc:0.6194|Test loss:2.2751 acc:0.3826\n",
      "\n",
      "\n",
      "[Train:68] Train loss:1.0851 acc:0.6305|Test loss:2.3317 acc:0.3868\n",
      "\n",
      "\n",
      "[Train:69] Train loss:1.0579 acc:0.6352|Test loss:2.3742 acc:0.3745\n",
      "\n",
      "\n",
      "[Train:70] Train loss:1.0432 acc:0.6444|Test loss:2.3446 acc:0.3898\n",
      "\n",
      "\n",
      "[Train:71] Train loss:1.0165 acc:0.6525|Test loss:2.3782 acc:0.3864\n",
      "\n",
      "\n",
      "[Train:72] Train loss:1.0052 acc:0.6551|Test loss:2.4417 acc:0.3689\n",
      "\n",
      "\n",
      "[Train:73] Train loss:0.9882 acc:0.6593|Test loss:2.4428 acc:0.3766\n",
      "\n",
      "\n",
      "[Train:74] Train loss:0.9676 acc:0.6709|Test loss:2.5100 acc:0.3594\n",
      "\n",
      "\n",
      "[Train:75] Train loss:0.9697 acc:0.6661|Test loss:2.4871 acc:0.3706\n",
      "\n",
      "\n",
      "[Train:76] Train loss:0.9503 acc:0.6728|Test loss:2.5641 acc:0.3645\n",
      "\n",
      "\n",
      "[Train:77] Train loss:0.9406 acc:0.6789|Test loss:2.5324 acc:0.3652\n",
      "\n",
      "\n",
      "[Train:78] Train loss:0.9261 acc:0.6846|Test loss:2.5341 acc:0.3640\n",
      "\n",
      "\n",
      "[Train:79] Train loss:0.9159 acc:0.6860|Test loss:2.6349 acc:0.3651\n",
      "\n",
      "\n",
      "[Train:80] Train loss:0.9038 acc:0.6906|Test loss:2.5722 acc:0.3684\n",
      "[Main]Learning Rate is set to 0.004000000000000001\n",
      "[Debug] 40.62%important| 0.00%unimportant|59.38%normal at this batchh\n",
      "\n",
      "[Train:81] Train loss:0.6331 acc:0.7932|Test loss:2.4642 acc:0.3833\n",
      "[Debug] 40.62%important| 0.00%unimportant|59.38%normal at this batchh\n",
      "\n",
      "[Train:82] Train loss:0.5197 acc:0.8344|Test loss:2.4767 acc:0.3892\n",
      "[Train:83] The 20.0percentile of weight is 1.000000.\n",
      "[Debug] 40.62%important| 0.00%unimportant|59.38%normal at this batchh\n",
      "\n",
      "[Train:83] Train loss:0.4751 acc:0.8524|Test loss:2.5204 acc:0.3834\n",
      "[Train:84] The 20.0percentile of weight is 1.000000.\n",
      "[Debug] 40.62%important| 0.00%unimportant|59.38%normal at this batchh\n",
      "\n",
      "[Train:84] Train loss:0.4405 acc:0.8626|Test loss:2.5664 acc:0.3826\n",
      "[Train:85] The 20.0percentile of weight is 1.000000.\n",
      "[Debug] 40.62%important| 0.00%unimportant|59.38%normal at this batchh\n",
      "\n",
      "[Train:85] Train loss:0.4106 acc:0.8739|Test loss:2.5823 acc:0.3837\n",
      "[Train:86] The 20.0percentile of weight is 1.000000.\n",
      "[Debug] 40.62%important| 0.00%unimportant|59.38%normal at this batchh\n",
      "\n",
      "[Train:86] Train loss:0.3944 acc:0.8777|Test loss:2.6115 acc:0.3877\n",
      "[Train:87] The 20.0percentile of weight is 1.000000.\n",
      "[Debug] 40.62%important| 0.00%unimportant|59.38%normal at this batchh\n",
      "\n",
      "[Train:87] Train loss:0.3708 acc:0.8859|Test loss:2.6324 acc:0.3857\n",
      "[Train:88] The 20.0percentile of weight is 1.000000.\n",
      "[Debug] 40.62%important| 0.00%unimportant|59.38%normal at this batchh\n",
      "\n",
      "[Train:88] Train loss:0.3548 acc:0.8913|Test loss:2.6527 acc:0.3866\n",
      "[Train:89] The 20.0percentile of weight is 1.000000.\n",
      "[Debug] 40.62%important| 0.00%unimportant|59.38%normal at this batchh\n",
      "\n",
      "[Train:89] Train loss:0.3339 acc:0.8945|Test loss:2.6836 acc:0.3858\n",
      "[Train:90] The 20.0percentile of weight is 1.000000.\n",
      "[Debug] 40.62%important| 0.00%unimportant|59.38%normal at this batchh\n",
      "\n",
      "[Train:90] Train loss:0.3225 acc:0.9008|Test loss:2.7344 acc:0.3790\n",
      "[Train:91] The 20.0percentile of weight is 1.000000.\n",
      "[Debug] 40.62%important| 0.00%unimportant|59.38%normal at this batchh\n",
      "\n",
      "[Train:91] Train loss:0.3108 acc:0.9038|Test loss:2.7939 acc:0.3761\n",
      "[Train:92] The 20.0percentile of weight is 1.000000.\n",
      "[Debug] 40.62%important| 0.00%unimportant|59.38%normal at this batchh\n",
      "\n",
      "[Train:92] Train loss:0.3020 acc:0.9051|Test loss:2.8066 acc:0.3748\n",
      "[Train:93] The 20.0percentile of weight is 1.000000.\n",
      "[Debug] 100.00%important| 0.00%unimportant| 0.00%normal at this batch"
     ]
    },
    {
     "ename": "KeyboardInterrupt",
     "evalue": "",
     "output_type": "error",
     "traceback": [
      "\u001b[1;31m---------------------------------------------------------------------------\u001b[0m",
      "\u001b[1;31mKeyboardInterrupt\u001b[0m                         Traceback (most recent call last)",
      "\u001b[1;32mC:\\Users\\RUISAV~1\\AppData\\Local\\Temp/ipykernel_38188/2298487936.py\u001b[0m in \u001b[0;36m<module>\u001b[1;34m\u001b[0m\n\u001b[1;32m----> 1\u001b[1;33m \u001b[0mModel\u001b[0m\u001b[1;33m.\u001b[0m\u001b[0mtrain\u001b[0m\u001b[1;33m(\u001b[0m\u001b[1;36m80\u001b[0m\u001b[1;33m,\u001b[0m \u001b[0mckp\u001b[0m\u001b[1;33m=\u001b[0m\u001b[1;36m40\u001b[0m\u001b[1;33m)\u001b[0m\u001b[1;33m\u001b[0m\u001b[1;33m\u001b[0m\u001b[0m\n\u001b[0m",
      "\u001b[1;32md:\\Graduation project\\0_DL_Meta-Learning\\main_multi.py\u001b[0m in \u001b[0;36mtrain\u001b[1;34m(self, epochs, ckp)\u001b[0m\n\u001b[0;32m    272\u001b[0m                             lr=self.lr)\n\u001b[0;32m    273\u001b[0m                         \u001b[0mpseudo_optimizer\u001b[0m\u001b[1;33m.\u001b[0m\u001b[0mload_state_dict\u001b[0m\u001b[1;33m(\u001b[0m\u001b[0mself\u001b[0m\u001b[1;33m.\u001b[0m\u001b[0moptimizer\u001b[0m\u001b[1;33m.\u001b[0m\u001b[0mstate_dict\u001b[0m\u001b[1;33m(\u001b[0m\u001b[1;33m)\u001b[0m\u001b[1;33m)\u001b[0m\u001b[1;33m\u001b[0m\u001b[1;33m\u001b[0m\u001b[0m\n\u001b[1;32m--> 274\u001b[1;33m                         \u001b[0mpseudo_optimizer\u001b[0m\u001b[1;33m.\u001b[0m\u001b[0mstep\u001b[0m\u001b[1;33m(\u001b[0m\u001b[0mpseudo_grads\u001b[0m\u001b[1;33m)\u001b[0m\u001b[1;33m\u001b[0m\u001b[1;33m\u001b[0m\u001b[0m\n\u001b[0m\u001b[0;32m    275\u001b[0m                         \u001b[1;32mdel\u001b[0m \u001b[0mpseudo_grads\u001b[0m\u001b[1;33m\u001b[0m\u001b[1;33m\u001b[0m\u001b[0m\n\u001b[0;32m    276\u001b[0m \u001b[1;33m\u001b[0m\u001b[0m\n",
      "\u001b[1;32mD:\\Users\\RuiSavior\\anaconda3\\envs\\hw\\lib\\site-packages\\torch\\optim\\optimizer.py\u001b[0m in \u001b[0;36mwrapper\u001b[1;34m(*args, **kwargs)\u001b[0m\n\u001b[0;32m     86\u001b[0m                 \u001b[0mprofile_name\u001b[0m \u001b[1;33m=\u001b[0m \u001b[1;34m\"Optimizer.step#{}.step\"\u001b[0m\u001b[1;33m.\u001b[0m\u001b[0mformat\u001b[0m\u001b[1;33m(\u001b[0m\u001b[0mobj\u001b[0m\u001b[1;33m.\u001b[0m\u001b[0m__class__\u001b[0m\u001b[1;33m.\u001b[0m\u001b[0m__name__\u001b[0m\u001b[1;33m)\u001b[0m\u001b[1;33m\u001b[0m\u001b[1;33m\u001b[0m\u001b[0m\n\u001b[0;32m     87\u001b[0m                 \u001b[1;32mwith\u001b[0m \u001b[0mtorch\u001b[0m\u001b[1;33m.\u001b[0m\u001b[0mautograd\u001b[0m\u001b[1;33m.\u001b[0m\u001b[0mprofiler\u001b[0m\u001b[1;33m.\u001b[0m\u001b[0mrecord_function\u001b[0m\u001b[1;33m(\u001b[0m\u001b[0mprofile_name\u001b[0m\u001b[1;33m)\u001b[0m\u001b[1;33m:\u001b[0m\u001b[1;33m\u001b[0m\u001b[1;33m\u001b[0m\u001b[0m\n\u001b[1;32m---> 88\u001b[1;33m                     \u001b[1;32mreturn\u001b[0m \u001b[0mfunc\u001b[0m\u001b[1;33m(\u001b[0m\u001b[1;33m*\u001b[0m\u001b[0margs\u001b[0m\u001b[1;33m,\u001b[0m \u001b[1;33m**\u001b[0m\u001b[0mkwargs\u001b[0m\u001b[1;33m)\u001b[0m\u001b[1;33m\u001b[0m\u001b[1;33m\u001b[0m\u001b[0m\n\u001b[0m\u001b[0;32m     89\u001b[0m             \u001b[1;32mreturn\u001b[0m \u001b[0mwrapper\u001b[0m\u001b[1;33m\u001b[0m\u001b[1;33m\u001b[0m\u001b[0m\n\u001b[0;32m     90\u001b[0m \u001b[1;33m\u001b[0m\u001b[0m\n",
      "\u001b[1;32md:\\Graduation project\\0_DL_Meta-Learning\\meta.py\u001b[0m in \u001b[0;36mstep\u001b[1;34m(self, grads)\u001b[0m\n\u001b[0;32m    114\u001b[0m             \u001b[0mparameter\u001b[0m\u001b[1;33m.\u001b[0m\u001b[0mdetach_\u001b[0m\u001b[1;33m(\u001b[0m\u001b[1;33m)\u001b[0m\u001b[1;33m\u001b[0m\u001b[1;33m\u001b[0m\u001b[0m\n\u001b[0;32m    115\u001b[0m             \u001b[1;32mif\u001b[0m \u001b[0mweight_decay\u001b[0m \u001b[1;33m!=\u001b[0m \u001b[1;36m0\u001b[0m\u001b[1;33m:\u001b[0m\u001b[1;33m\u001b[0m\u001b[1;33m\u001b[0m\u001b[0m\n\u001b[1;32m--> 116\u001b[1;33m                 \u001b[0mgrad_wd\u001b[0m \u001b[1;33m=\u001b[0m \u001b[0mgrad\u001b[0m\u001b[1;33m.\u001b[0m\u001b[0madd\u001b[0m\u001b[1;33m(\u001b[0m\u001b[0mparameter\u001b[0m\u001b[1;33m,\u001b[0m \u001b[0malpha\u001b[0m\u001b[1;33m=\u001b[0m\u001b[0mweight_decay\u001b[0m\u001b[1;33m)\u001b[0m\u001b[1;33m\u001b[0m\u001b[1;33m\u001b[0m\u001b[0m\n\u001b[0m\u001b[0;32m    117\u001b[0m                 \u001b[1;31m# wd = wd + (weight_decay * p)\u001b[0m\u001b[1;33m\u001b[0m\u001b[1;33m\u001b[0m\u001b[1;33m\u001b[0m\u001b[0m\n\u001b[0;32m    118\u001b[0m             \u001b[1;32melse\u001b[0m\u001b[1;33m:\u001b[0m\u001b[1;33m\u001b[0m\u001b[1;33m\u001b[0m\u001b[0m\n",
      "\u001b[1;31mKeyboardInterrupt\u001b[0m: "
     ]
    }
   ],
   "source": [
    "Model.train(80, ckp=40)"
   ]
  },
  {
   "cell_type": "code",
   "execution_count": null,
   "metadata": {},
   "outputs": [],
   "source": [
    "Model.train"
   ]
  },
  {
   "cell_type": "code",
   "execution_count": null,
   "metadata": {},
   "outputs": [],
   "source": [
    "if wandb.run is not None:\n",
    "    wandb.finish()"
   ]
  }
 ],
 "metadata": {
  "interpreter": {
   "hash": "e6e913bc577731513848ec5ad0119c1a2b3bb698a625be19eedffecda7017aba"
  },
  "kernelspec": {
   "display_name": "Python 3.8.12 ('hw')",
   "language": "python",
   "name": "python3"
  },
  "language_info": {
   "codemirror_mode": {
    "name": "ipython",
    "version": 3
   },
   "file_extension": ".py",
   "mimetype": "text/x-python",
   "name": "python",
   "nbconvert_exporter": "python",
   "pygments_lexer": "ipython3",
   "version": "3.8.12"
  },
  "orig_nbformat": 4
 },
 "nbformat": 4,
 "nbformat_minor": 2
}
