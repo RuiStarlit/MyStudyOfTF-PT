{
 "cells": [
  {
   "cell_type": "code",
   "execution_count": 1,
   "metadata": {},
   "outputs": [],
   "source": [
    "from twitter import *"
   ]
  },
  {
   "cell_type": "code",
   "execution_count": 3,
   "metadata": {},
   "outputs": [
    {
     "name": "stdout",
     "output_type": "stream",
     "text": [
      "gold_fraction 0.01\n",
      "corruption_level 0.4\n"
     ]
    },
    {
     "data": {
      "application/vnd.jupyter.widget-view+json": {
       "model_id": "b65c0c34e252443d980cac99ec03be5c",
       "version_major": 2,
       "version_minor": 0
      },
      "text/plain": [
       "  0%|          | 0/20 [00:00<?, ?it/s]"
      ]
     },
     "metadata": {},
     "output_type": "display_data"
    },
    {
     "name": "stdout",
     "output_type": "stream",
     "text": [
      "[Train:1] Train loss:1.6824 acc:0.3976|Test loss:1.1577 acc:0.6376\n",
      "[Train:2] Train loss:1.2275 acc:0.4802|Test loss:1.0228 acc:0.6660\n",
      "[Train:3] Train loss:1.1262 acc:0.5103|Test loss:0.9100 acc:0.7507\n",
      "[Train:4] Train loss:1.0530 acc:0.5348|Test loss:0.9198 acc:0.7107\n",
      "[Train:5] Train loss:1.0006 acc:0.5480|Test loss:0.9352 acc:0.6928\n",
      "[Main] set lr to 0.0001\n",
      "[Train:6] Train loss:0.9020 acc:0.6076|Test loss:0.9529 acc:0.6927\n",
      "[Train:7] Train loss:0.8868 acc:0.6170|Test loss:0.9453 acc:0.6998\n",
      "[Train:8] Train loss:0.8771 acc:0.6204|Test loss:0.9666 acc:0.6699\n",
      "[Train:9] Train loss:0.8686 acc:0.6254|Test loss:0.9424 acc:0.6988\n",
      "[Train:10] Train loss:0.8618 acc:0.6291|Test loss:0.9355 acc:0.7064\n",
      "[Train:11] Train loss:0.8542 acc:0.6331|Test loss:0.9475 acc:0.6956\n",
      "[Main] set lr to 1e-05\n",
      "[Train:12] Train loss:0.8417 acc:0.6425|Test loss:0.9464 acc:0.6946\n",
      "[Train:13] Train loss:0.8403 acc:0.6439|Test loss:0.9465 acc:0.6925\n",
      "[Train:14] Train loss:0.8395 acc:0.6439|Test loss:0.9444 acc:0.6959\n",
      "[Train:15] Train loss:0.8390 acc:0.6429|Test loss:0.9467 acc:0.6928\n",
      "[Train:16] Train loss:0.8384 acc:0.6445|Test loss:0.9453 acc:0.6932\n",
      "[Train:17] Train loss:0.8374 acc:0.6434|Test loss:0.9449 acc:0.6942\n",
      "[Main] set lr to 1.0000000000000002e-06\n",
      "[Train:18] Train loss:0.8358 acc:0.6455|Test loss:0.9450 acc:0.6945\n",
      "[Train:19] Train loss:0.8360 acc:0.6454|Test loss:0.9452 acc:0.6941\n",
      "[Train:20] Train loss:0.8359 acc:0.6455|Test loss:0.9455 acc:0.6938\n",
      "gold_fraction 0.05\n",
      "corruption_level 0.4\n"
     ]
    },
    {
     "data": {
      "application/vnd.jupyter.widget-view+json": {
       "model_id": "35707b68638e41f889cbee0a0a3f7100",
       "version_major": 2,
       "version_minor": 0
      },
      "text/plain": [
       "  0%|          | 0/20 [00:00<?, ?it/s]"
      ]
     },
     "metadata": {},
     "output_type": "display_data"
    },
    {
     "name": "stdout",
     "output_type": "stream",
     "text": [
      "[Train:1] Train loss:1.6979 acc:0.4005|Test loss:1.1222 acc:0.6456\n",
      "[Train:2] Train loss:1.2157 acc:0.4872|Test loss:1.0827 acc:0.5931\n",
      "[Train:3] Train loss:1.1154 acc:0.5139|Test loss:1.0111 acc:0.6611\n",
      "[Train:4] Train loss:1.0490 acc:0.5350|Test loss:0.9799 acc:0.6829\n",
      "[Train:5] Train loss:0.9908 acc:0.5558|Test loss:0.9809 acc:0.6788\n",
      "[Main] set lr to 0.0001\n",
      "[Train:6] Train loss:0.8935 acc:0.6116|Test loss:0.9546 acc:0.7030\n",
      "[Train:7] Train loss:0.8770 acc:0.6195|Test loss:0.9573 acc:0.6924\n",
      "[Train:8] Train loss:0.8677 acc:0.6277|Test loss:0.9428 acc:0.6953\n",
      "[Train:9] Train loss:0.8613 acc:0.6271|Test loss:0.9575 acc:0.6837\n",
      "[Train:10] Train loss:0.8534 acc:0.6287|Test loss:0.9561 acc:0.6889\n",
      "[Train:11] Train loss:0.8475 acc:0.6351|Test loss:0.9587 acc:0.6844\n",
      "[Main] set lr to 1e-05\n",
      "[Train:12] Train loss:0.8342 acc:0.6437|Test loss:0.9557 acc:0.6868\n",
      "[Train:13] Train loss:0.8331 acc:0.6462|Test loss:0.9555 acc:0.6847\n",
      "[Train:14] Train loss:0.8322 acc:0.6455|Test loss:0.9557 acc:0.6846\n",
      "[Train:15] Train loss:0.8318 acc:0.6472|Test loss:0.9551 acc:0.6844\n",
      "[Train:16] Train loss:0.8307 acc:0.6483|Test loss:0.9547 acc:0.6864\n",
      "[Train:17] Train loss:0.8302 acc:0.6478|Test loss:0.9559 acc:0.6844\n",
      "[Main] set lr to 1.0000000000000002e-06\n",
      "[Train:18] Train loss:0.8288 acc:0.6493|Test loss:0.9558 acc:0.6840\n",
      "[Train:19] Train loss:0.8283 acc:0.6489|Test loss:0.9558 acc:0.6837\n",
      "[Train:20] Train loss:0.8282 acc:0.6492|Test loss:0.9558 acc:0.6836\n"
     ]
    }
   ],
   "source": [
    "for gold_fraction in [0.01, 0.05]:\n",
    "    for corruption_level in [ 0.4]:\n",
    "        print('gold_fraction',gold_fraction)\n",
    "        print('corruption_level',corruption_level)\n",
    "        train(corruption_level=corruption_level, gold_fraction=gold_fraction, get_C=flip_labels_C)"
   ]
  }
 ],
 "metadata": {
  "interpreter": {
   "hash": "d6b7a2cca450d9e5272a88beb247fd04f9ffc9667cef683458d0420589cf7e4e"
  },
  "kernelspec": {
   "display_name": "Python 3.8.12 ('hw')",
   "language": "python",
   "name": "python3"
  },
  "language_info": {
   "codemirror_mode": {
    "name": "ipython",
    "version": 3
   },
   "file_extension": ".py",
   "mimetype": "text/x-python",
   "name": "python",
   "nbconvert_exporter": "python",
   "pygments_lexer": "ipython3",
   "version": "3.8.12"
  },
  "orig_nbformat": 4
 },
 "nbformat": 4,
 "nbformat_minor": 2
}
