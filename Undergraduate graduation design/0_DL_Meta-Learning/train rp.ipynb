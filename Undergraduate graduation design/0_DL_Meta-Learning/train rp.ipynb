{
 "cells": [
  {
   "cell_type": "code",
   "execution_count": 1,
   "metadata": {},
   "outputs": [],
   "source": [
    "# %env CUBLAS_WORKSPACE_CONFIG=:4096:8"
   ]
  },
  {
   "cell_type": "code",
   "execution_count": 1,
   "metadata": {},
   "outputs": [
    {
     "name": "stdout",
     "output_type": "stream",
     "text": [
      "Args:\n",
      "Namespace(batch_size=128, burn_in=10, corruption_ratio=0.0, corruption_type=None, dataset='cifar10', device='cuda', imbalanced_factor=None, inner_lr=0.1, innerepochs=4, interval=1, lr=0.1, max_epoch=100, meta_lr=0.001, meta_method='g1+g2', meta_net_hidden_size=128, meta_net_num_layers=1, meta_weight_decay=0.0, momentum=0.9, num_meta=1000, plot_interval=10, seed=1, semi='cutmix', semi_beta=1.0, semi_p=0.1, threshlod=-1, weight_decay=0.0005)\n"
     ]
    }
   ],
   "source": [
    "from main_reptile import *\n",
    "# from torchsummary import summary\n",
    "import wandb"
   ]
  },
  {
   "cell_type": "code",
   "execution_count": 3,
   "metadata": {},
   "outputs": [],
   "source": [
    "# !wandb login b729ef7d624d9a61a7ff0f8b7dddeae0b138e8d9"
   ]
  },
  {
   "cell_type": "code",
   "execution_count": 2,
   "metadata": {},
   "outputs": [],
   "source": [
    "hyperparameter = {\n",
    "    'dataset':'cifar10',\n",
    "    'num_meta':1000,\n",
    "    'imbalanced_factor':None,\n",
    "    'corruption_type':'flip1',\n",
    "    'corruption_ratio':0.4,\n",
    "    'batch_size':256,\n",
    "    'max_epoch':120,\n",
    "    'device':\"cuda\" if torch.cuda.is_available() else \"cpu\",\n",
    "    'seed': 1, # \n",
    "    'meta_net_hidden_size':128,\n",
    "    'meta_net_num_layers':1,\n",
    "    'lr':0.1,\n",
    "    'weight_decay':5e-4,\n",
    "    'momentum':0.9,\n",
    "    'meta_lr':1e-3,\n",
    "    'meta_weight_decay':0.,\n",
    "    'meta_method':'reptile',\n",
    "    'innerepochs':5,\n",
    "    'inner_lr':0.1,\n",
    "    'interval':1,\n",
    "    'plot_interval':10,\n",
    "    'burn_in':0,\n",
    "\n",
    "    'threshold':0,\n",
    "    'semi':'cutmix',\n",
    "    'semi_p':0.05,\n",
    "    'semi_beta':1.0\n",
    "}"
   ]
  },
  {
   "cell_type": "code",
   "execution_count": 4,
   "metadata": {},
   "outputs": [
    {
     "name": "stderr",
     "output_type": "stream",
     "text": [
      "Failed to detect the name of this notebook, you can set it manually with the WANDB_NOTEBOOK_NAME environment variable to enable code saving.\n",
      "\u001b[34m\u001b[1mwandb\u001b[0m: Currently logged in as: \u001b[33mruistarlit\u001b[0m (use `wandb login --relogin` to force relogin)\n"
     ]
    },
    {
     "data": {
      "text/html": [
       "Tracking run with wandb version 0.12.11"
      ],
      "text/plain": [
       "<IPython.core.display.HTML object>"
      ]
     },
     "metadata": {},
     "output_type": "display_data"
    },
    {
     "data": {
      "text/html": [
       "Run data is saved locally in <code>d:\\Graduation project\\0_DL_Meta-Learning\\wandb\\run-20220405_095748-39cpod3r</code>"
      ],
      "text/plain": [
       "<IPython.core.display.HTML object>"
      ]
     },
     "metadata": {},
     "output_type": "display_data"
    },
    {
     "data": {
      "text/html": [
       "Syncing run <strong><a href=\"https://wandb.ai/ruistarlit/my-test-project/runs/39cpod3r\" target=\"_blank\">valiant-dew-74</a></strong> to <a href=\"https://wandb.ai/ruistarlit/my-test-project\" target=\"_blank\">Weights & Biases</a> (<a href=\"https://wandb.me/run\" target=\"_blank\">docs</a>)<br/>"
      ],
      "text/plain": [
       "<IPython.core.display.HTML object>"
      ]
     },
     "metadata": {},
     "output_type": "display_data"
    },
    {
     "data": {
      "text/html": [
       "<button onClick=\"this.nextSibling.style.display='block';this.style.display='none';\">Display W&B run</button><iframe src=\"https://wandb.ai/ruistarlit/my-test-project/runs/39cpod3r?jupyter=true\" style=\"border:none;width:100%;height:420px;display:none;\"></iframe>"
      ],
      "text/plain": [
       "<wandb.sdk.wandb_run.Run at 0x22f60e10910>"
      ]
     },
     "execution_count": 4,
     "metadata": {},
     "output_type": "execute_result"
    }
   ],
   "source": [
    "wandb.init(project=\"my-test-project\", entity=\"ruistarlit\", config=hyperparameter)\n",
    "# wandb.init(project=\"my-test-project\", entity=\"ruistarlit\", config=hyperparameter, mode=\"disabled\")"
   ]
  },
  {
   "cell_type": "code",
   "execution_count": 5,
   "metadata": {},
   "outputs": [],
   "source": [
    "Model = TrainNet(wandb.config)\n",
    "# Model = TrainNet(args)\n",
    "# print('DNN Model: vvvvvvvvv')\n",
    "# summary(Model.model,(3,32,32))\n",
    "# print('Meta-Net:  vvvvvvvvvvvv')\n",
    "# summary(Model.meta_net, (1,1))"
   ]
  },
  {
   "cell_type": "code",
   "execution_count": 6,
   "metadata": {},
   "outputs": [
    {
     "name": "stdout",
     "output_type": "stream",
     "text": [
      "Files already downloaded and verified\n",
      "[[0.6 0.  0.  0.  0.  0.4 0.  0.  0.  0. ]\n",
      " [0.  0.6 0.  0.  0.4 0.  0.  0.  0.  0. ]\n",
      " [0.  0.  0.6 0.  0.  0.4 0.  0.  0.  0. ]\n",
      " [0.  0.  0.  0.6 0.  0.  0.  0.  0.4 0. ]\n",
      " [0.4 0.  0.  0.  0.6 0.  0.  0.  0.  0. ]\n",
      " [0.  0.  0.  0.  0.  0.6 0.4 0.  0.  0. ]\n",
      " [0.  0.  0.  0.  0.4 0.  0.6 0.  0.  0. ]\n",
      " [0.  0.  0.  0.  0.  0.  0.  0.6 0.  0.4]\n",
      " [0.  0.  0.  0.  0.  0.  0.4 0.  0.6 0. ]\n",
      " [0.  0.  0.  0.  0.  0.  0.  0.  0.4 0.6]]\n",
      "[Main] Training.... \n"
     ]
    },
    {
     "data": {
      "application/vnd.jupyter.widget-view+json": {
       "model_id": "9811953cd5214cc3887872304b4c2bd0",
       "version_major": 2,
       "version_minor": 0
      },
      "text/plain": [
       "  0%|          | 0/150 [00:00<?, ?it/s]"
      ]
     },
     "metadata": {},
     "output_type": "display_data"
    },
    {
     "name": "stdout",
     "output_type": "stream",
     "text": [
      "Learning Rate is set to 0.01\n",
      "Learning Rate is set to 0.001\n",
      "Learning Rate is set to 0.0001\n",
      "Learning Rate is set to 1e-05\n",
      "Learning Rate is set to 1.0000000000000002e-06\n"
     ]
    }
   ],
   "source": [
    "Model.train(150)"
   ]
  },
  {
   "cell_type": "code",
   "execution_count": null,
   "metadata": {},
   "outputs": [],
   "source": [
    "if wandb.run is not None:\n",
    "    wandb.finish()"
   ]
  },
  {
   "cell_type": "code",
   "execution_count": null,
   "metadata": {},
   "outputs": [],
   "source": []
  }
 ],
 "metadata": {
  "interpreter": {
   "hash": "d6b7a2cca450d9e5272a88beb247fd04f9ffc9667cef683458d0420589cf7e4e"
  },
  "kernelspec": {
   "display_name": "Python 3.8.12",
   "language": "python",
   "name": "python3"
  },
  "language_info": {
   "codemirror_mode": {
    "name": "ipython",
    "version": 3
   },
   "file_extension": ".py",
   "mimetype": "text/x-python",
   "name": "python",
   "nbconvert_exporter": "python",
   "pygments_lexer": "ipython3",
   "version": "3.8.12"
  },
  "orig_nbformat": 4
 },
 "nbformat": 4,
 "nbformat_minor": 2
}
