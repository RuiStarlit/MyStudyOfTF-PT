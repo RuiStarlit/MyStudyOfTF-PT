{
 "cells": [
  {
   "cell_type": "code",
   "execution_count": 1,
   "id": "d43bf93a",
   "metadata": {},
   "outputs": [],
   "source": [
    "import h5py\n",
    "import numpy as np\n",
    "from tqdm.notebook import tqdm\n",
    "import os\n",
    "import glob\n",
    "import matplotlib.pyplot as plt\n",
    "import time\n",
    "\n",
    "from train_transformer import *\n",
    "\n",
    "from utils import *\n",
    "from models import *\n",
    "\n",
    "import warnings\n",
    "warnings.filterwarnings('ignore')\n",
    "\n",
    "assert torch.cuda.is_available()\n",
    "device = 'cuda'"
   ]
  },
  {
   "cell_type": "code",
   "execution_count": 2,
   "id": "149174f9",
   "metadata": {},
   "outputs": [],
   "source": [
    "train_f = sorted(glob.glob('train_/*.hdf'))\n",
    "# train_f.remove('../../stock_price/train\\\\20190425_20190510.hdf')\n",
    "test_f = sorted(glob.glob('test_/*.hdf'))\n",
    "# test_f.remove('../stock_price/test\\IC2003_20191018.hdf') # batch为256时，第71个batch大小为2， 不足以用于预测"
   ]
  },
  {
   "cell_type": "code",
   "execution_count": 3,
   "id": "f8f8801c",
   "metadata": {},
   "outputs": [
    {
     "data": {
      "text/plain": [
       "['train_\\\\20190401_20190412.hdf',\n",
       " 'train_\\\\20190523_20190604.hdf',\n",
       " 'train_\\\\20190617_20190628.hdf',\n",
       " 'train_\\\\20190723_20190731.hdf']"
      ]
     },
     "execution_count": 3,
     "metadata": {},
     "output_type": "execute_result"
    }
   ],
   "source": [
    "train_f = [train_f[0], train_f[4], train_f[6],train_f[-1]]\n",
    "# train_f = train_f[-6:]\n",
    "train_f"
   ]
  },
  {
   "cell_type": "code",
   "execution_count": 4,
   "id": "b0ec5e2c",
   "metadata": {},
   "outputs": [],
   "source": [
    "# Hyperparams\n",
    "enc_in = 15\n",
    "dec_in = 2\n",
    "c_out = 1 \n",
    "seq_len = 20\n",
    "out_len = 1\n",
    "d_model = 32\n",
    "d_ff = 16\n",
    "n_heads = 4\n",
    "label_len = 10\n",
    "e_layers = 2\n",
    "d_layers = 2\n",
    "scaler = False\n",
    "opt_s = False\n",
    "\n",
    "decay = 100\n",
    "dropout = 0.1\n",
    "batch_size = 256\n",
    "val_batch = 512\n",
    "lr = 0.001"
   ]
  },
  {
   "cell_type": "code",
   "execution_count": 5,
   "id": "6c58eedd",
   "metadata": {},
   "outputs": [],
   "source": [
    "transformer = Train_transformer(enc_in, dec_in, c_out, seq_len, out_len, d_model, d_ff, n_heads, \n",
    "                                e_layers, d_layers, label_len,\n",
    "                                dropout, batch_size, val_batch, lr,\n",
    "                              device, train_f, test_f,scaler, decay, opt_s)"
   ]
  },
  {
   "cell_type": "code",
   "execution_count": 6,
   "id": "f0221e1f",
   "metadata": {
    "scrolled": true
   },
   "outputs": [
    {
     "name": "stdout",
     "output_type": "stream",
     "text": [
      "Transformer_LSTM(\n",
      "  (rnn): LSTM(15, 32, num_layers=2, batch_first=True, dropout=0.1)\n",
      "  (decoder): LSTM(2, 32, num_layers=2, batch_first=True, dropout=0.1)\n",
      "  (attn): AttentionLayer(\n",
      "    (inner_attention): Attention()\n",
      "    (query_projection): Linear(in_features=32, out_features=64, bias=True)\n",
      "    (key_projection): Linear(in_features=32, out_features=64, bias=True)\n",
      "    (value_projection): Linear(in_features=32, out_features=64, bias=True)\n",
      "    (out_projection): Linear(in_features=64, out_features=32, bias=True)\n",
      "  )\n",
      "  (norm): LayerNorm((32,), eps=1e-05, elementwise_affine=True)\n",
      "  (d_fc1): Linear(in_features=320, out_features=64, bias=True)\n",
      "  (d_fc2): Linear(in_features=64, out_features=32, bias=True)\n",
      "  (out_fc1): Linear(in_features=160, out_features=64, bias=True)\n",
      "  (out_fc2): Linear(in_features=64, out_features=64, bias=True)\n",
      "  (out_fc3): Linear(in_features=64, out_features=32, bias=True)\n",
      "  (out_fc4): Linear(in_features=32, out_features=1, bias=True)\n",
      ")\n"
     ]
    }
   ],
   "source": [
    "transformer._build_model(opt=None, m='lstm')"
   ]
  },
  {
   "cell_type": "code",
   "execution_count": 7,
   "id": "6b365572",
   "metadata": {},
   "outputs": [
    {
     "data": {
      "text/plain": [
       "<All keys matched successfully>"
      ]
     },
     "execution_count": 7,
     "metadata": {},
     "output_type": "execute_result"
    }
   ],
   "source": [
    "pretrain_rnn = torch.load('checkpoint/rnn_12-14_15_51-checkpoint.pth')\n",
    "model_dict = transformer.model.state_dict()\n",
    "state_dict = {k:v for k,v in pretrain_rnn.items() if k in model_dict.keys()}\n",
    "model_dict.update(state_dict)\n",
    "transformer.model.load_state_dict(model_dict)"
   ]
  },
  {
   "cell_type": "code",
   "execution_count": 8,
   "id": "db26e4ca",
   "metadata": {},
   "outputs": [],
   "source": [
    "transformer._selct_criterion('huber', beta=0.2)"
   ]
  },
  {
   "cell_type": "code",
   "execution_count": 9,
   "id": "84b1d1be",
   "metadata": {},
   "outputs": [
    {
     "name": "stdout",
     "output_type": "stream",
     "text": [
      "Total number of paramerters in networks is 75457  \n"
     ]
    }
   ],
   "source": [
    "print(\"Total number of paramerters in networks is {}  \".format(sum(x.numel() for x in transformer.model.parameters())))"
   ]
  },
  {
   "cell_type": "code",
   "execution_count": 10,
   "id": "72698579",
   "metadata": {},
   "outputs": [],
   "source": [
    "transformer._selct_optim('adam')\n",
    "transformer._selct_scheduler(opt='plateau',patience=10, factor=0.1, step=1000)\n",
    "# Informer._selct_scheduler(opt='cyclic',base_lr=0.001, max_lr=0.005)"
   ]
  },
  {
   "cell_type": "code",
   "execution_count": 11,
   "id": "f8596c23",
   "metadata": {},
   "outputs": [
    {
     "ename": "AttributeError",
     "evalue": "Only support Noam Schedule now",
     "output_type": "error",
     "traceback": [
      "\u001b[1;31m---------------------------------------------------------------------------\u001b[0m",
      "\u001b[1;31mAttributeError\u001b[0m                            Traceback (most recent call last)",
      "\u001b[1;32mC:\\Users\\RUISAV~1\\AppData\\Local\\Temp/ipykernel_33892/3522595466.py\u001b[0m in \u001b[0;36m<module>\u001b[1;34m\u001b[0m\n\u001b[1;32m----> 1\u001b[1;33m \u001b[0mtransformer\u001b[0m\u001b[1;33m.\u001b[0m\u001b[0mpreview_noam\u001b[0m\u001b[1;33m(\u001b[0m\u001b[1;33m)\u001b[0m\u001b[1;33m\u001b[0m\u001b[1;33m\u001b[0m\u001b[0m\n\u001b[0m",
      "\u001b[1;32mD:\\python_project\\jupyter\\quant\\transformer\\train_transformer.py\u001b[0m in \u001b[0;36mpreview_noam\u001b[1;34m(self)\u001b[0m\n\u001b[0;32m    161\u001b[0m     \u001b[1;32mdef\u001b[0m \u001b[0mpreview_noam\u001b[0m\u001b[1;33m(\u001b[0m\u001b[0mself\u001b[0m\u001b[1;33m)\u001b[0m\u001b[1;33m:\u001b[0m\u001b[1;33m\u001b[0m\u001b[1;33m\u001b[0m\u001b[0m\n\u001b[0;32m    162\u001b[0m         \u001b[1;32mif\u001b[0m \u001b[0mself\u001b[0m\u001b[1;33m.\u001b[0m\u001b[0mnoam\u001b[0m \u001b[1;32mis\u001b[0m \u001b[1;32mFalse\u001b[0m\u001b[1;33m:\u001b[0m\u001b[1;33m\u001b[0m\u001b[1;33m\u001b[0m\u001b[0m\n\u001b[1;32m--> 163\u001b[1;33m             \u001b[1;32mraise\u001b[0m \u001b[0mAttributeError\u001b[0m\u001b[1;33m(\u001b[0m\u001b[1;34m'Only support Noam Schedule now'\u001b[0m\u001b[1;33m)\u001b[0m\u001b[1;33m\u001b[0m\u001b[1;33m\u001b[0m\u001b[0m\n\u001b[0m\u001b[0;32m    164\u001b[0m         \u001b[0mnoam\u001b[0m \u001b[1;33m=\u001b[0m \u001b[0mself\u001b[0m\u001b[1;33m.\u001b[0m\u001b[0mscheduler\u001b[0m\u001b[1;33m\u001b[0m\u001b[1;33m\u001b[0m\u001b[0m\n\u001b[0;32m    165\u001b[0m         \u001b[0mplt\u001b[0m\u001b[1;33m.\u001b[0m\u001b[0mplot\u001b[0m\u001b[1;33m(\u001b[0m\u001b[0mnp\u001b[0m\u001b[1;33m.\u001b[0m\u001b[0marange\u001b[0m\u001b[1;33m(\u001b[0m\u001b[1;36m1\u001b[0m\u001b[1;33m,\u001b[0m \u001b[1;36m20000\u001b[0m\u001b[1;33m)\u001b[0m\u001b[1;33m,\u001b[0m \u001b[1;33m[\u001b[0m\u001b[1;33m[\u001b[0m\u001b[0mnoam\u001b[0m\u001b[1;33m.\u001b[0m\u001b[0mrate\u001b[0m\u001b[1;33m(\u001b[0m\u001b[0mi\u001b[0m\u001b[1;33m)\u001b[0m\u001b[1;33m]\u001b[0m \u001b[1;32mfor\u001b[0m \u001b[0mi\u001b[0m \u001b[1;32min\u001b[0m \u001b[0mrange\u001b[0m\u001b[1;33m(\u001b[0m\u001b[1;36m1\u001b[0m\u001b[1;33m,\u001b[0m \u001b[1;36m20000\u001b[0m\u001b[1;33m)\u001b[0m\u001b[1;33m]\u001b[0m\u001b[1;33m)\u001b[0m\u001b[1;33m\u001b[0m\u001b[1;33m\u001b[0m\u001b[0m\n",
      "\u001b[1;31mAttributeError\u001b[0m: Only support Noam Schedule now"
     ]
    }
   ],
   "source": [
    "transformer.preview_noam()"
   ]
  },
  {
   "cell_type": "code",
   "execution_count": 11,
   "id": "9d98b93b",
   "metadata": {},
   "outputs": [],
   "source": [
    "transformer.val_every=True\n",
    "transformer.test_every = False"
   ]
  },
  {
   "cell_type": "code",
   "execution_count": 12,
   "id": "ea83258a",
   "metadata": {},
   "outputs": [
    {
     "name": "stdout",
     "output_type": "stream",
     "text": [
      "Learning Rate is set to 0.001\n"
     ]
    }
   ],
   "source": [
    "transformer._set_lr(0.001)"
   ]
  },
  {
   "cell_type": "code",
   "execution_count": 13,
   "id": "594ad499",
   "metadata": {
    "scrolled": false
   },
   "outputs": [
    {
     "data": {
      "application/vnd.jupyter.widget-view+json": {
       "model_id": "963d295bf560456590a02c5dc97a3a99",
       "version_major": 2,
       "version_minor": 0
      },
      "text/plain": [
       "  0%|          | 0/5 [00:00<?, ?it/s]"
      ]
     },
     "metadata": {},
     "output_type": "display_data"
    },
    {
     "name": "stdout",
     "output_type": "stream",
     "text": [
      "After training train_\\20190401_20190412  Train_loss:0.723011 R2:0.319549 | Val_Loss:0.686818 |R2:0.383873 |Rate:0.714 |lr:0.001000\n",
      "After training train_\\20190523_20190604  Train_loss:0.630103 R2:0.370575 | Val_Loss:0.627513 |R2:0.391824 |Rate:0.710 |lr:0.001000\n",
      "After training train_\\20190617_20190628  Train_loss:0.498945 R2:0.375982 | Val_Loss:0.498976 |R2:0.393339 |Rate:0.701 |lr:0.001000\n",
      "After training train_\\20190723_20190731  Train_loss:0.433742 R2:0.370659 | Val_Loss:0.437141 |R2:0.381363 |Rate:0.691 |lr:0.001000\n",
      "Save here\n",
      "Epoch:  1 |Train_Loss:0.571450 |R2:0.359191|Val_Loss:0.562612 |R2:0.387600 |Rate:0.704 |lr:0.001000\n",
      "Test_Loss:0.395796 |R2:0.363613 |Rate:0.694 \n",
      "Validation R2 increased (-inf --> 0.387600).  Saving model ...\n",
      "After training train_\\20190401_20190412  Train_loss:0.690256 R2:0.376515 | Val_Loss:0.680316 |R2:0.391784 |Rate:0.717 |lr:0.001000\n",
      "After training train_\\20190523_20190604  Train_loss:0.623699 R2:0.379327 | Val_Loss:0.624612 |R2:0.398292 |Rate:0.713 |lr:0.001000\n",
      "After training train_\\20190617_20190628  Train_loss:0.495291 R2:0.382201 | Val_Loss:0.498976 |R2:0.394322 |Rate:0.702 |lr:0.001000\n",
      "After training train_\\20190723_20190731  Train_loss:0.432277 R2:0.373201 | Val_Loss:0.435693 |R2:0.383791 |Rate:0.693 |lr:0.001000\n",
      "Save here\n",
      "Epoch:  2 |Train_Loss:0.560381 |R2:0.377811|Val_Loss:0.559899 |R2:0.392047 |Rate:0.706 |lr:0.001000\n",
      "Test_Loss:0.396568 |R2:0.361234 |Rate:0.693 \n",
      "Validation R2 increased (0.387600 --> 0.392047).  Saving model ...\n",
      "After training train_\\20190401_20190412  Train_loss:0.685686 R2:0.382156 | Val_Loss:0.678441 |R2:0.394468 |Rate:0.718 |lr:0.001000\n",
      "After training train_\\20190523_20190604  Train_loss:0.619451 R2:0.385785 | Val_Loss:0.622452 |R2:0.402621 |Rate:0.711 |lr:0.001000\n",
      "After training train_\\20190617_20190628  Train_loss:0.493191 R2:0.385228 | Val_Loss:0.498556 |R2:0.394298 |Rate:0.702 |lr:0.001000\n",
      "After training train_\\20190723_20190731  Train_loss:0.430858 R2:0.376349 | Val_Loss:0.435038 |R2:0.385408 |Rate:0.694 |lr:0.001000\n",
      "Save here\n",
      "Epoch:  3 |Train_Loss:0.557297 |R2:0.382380|Val_Loss:0.558622 |R2:0.394199 |Rate:0.706 |lr:0.001000\n",
      "Test_Loss:0.397513 |R2:0.358721 |Rate:0.693 \n",
      "Validation R2 increased (0.392047 --> 0.394199).  Saving model ...\n",
      "After training train_\\20190401_20190412  Train_loss:0.682053 R2:0.387220 | Val_Loss:0.676088 |R2:0.397582 |Rate:0.717 |lr:0.001000\n",
      "After training train_\\20190523_20190604  Train_loss:0.615830 R2:0.391009 | Val_Loss:0.620851 |R2:0.405110 |Rate:0.712 |lr:0.001000\n",
      "After training train_\\20190617_20190628  Train_loss:0.491419 R2:0.388895 | Val_Loss:0.497378 |R2:0.395536 |Rate:0.704 |lr:0.001000\n",
      "After training train_\\20190723_20190731  Train_loss:0.428980 R2:0.380360 | Val_Loss:0.433449 |R2:0.389198 |Rate:0.694 |lr:0.001000\n",
      "Save here\n",
      "Epoch:  4 |Train_Loss:0.554571 |R2:0.386871|Val_Loss:0.556942 |R2:0.396856 |Rate:0.707 |lr:0.001000\n",
      "Test_Loss:0.398116 |R2:0.356863 |Rate:0.693 \n",
      "Validation R2 increased (0.394199 --> 0.396856).  Saving model ...\n",
      "After training train_\\20190401_20190412  Train_loss:0.678607 R2:0.391468 | Val_Loss:0.673805 |R2:0.401142 |Rate:0.719 |lr:0.001000\n",
      "After training train_\\20190523_20190604  Train_loss:0.612145 R2:0.396832 | Val_Loss:0.620174 |R2:0.406030 |Rate:0.712 |lr:0.001000\n",
      "After training train_\\20190617_20190628  Train_loss:0.490015 R2:0.390264 | Val_Loss:0.496147 |R2:0.398500 |Rate:0.703 |lr:0.001000\n",
      "After training train_\\20190723_20190731  Train_loss:0.427798 R2:0.382908 | Val_Loss:0.433103 |R2:0.391614 |Rate:0.693 |lr:0.001000\n",
      "Save here\n",
      "Epoch:  5 |Train_Loss:0.552141 |R2:0.390368|Val_Loss:0.555807 |R2:0.399322 |Rate:0.707 |lr:0.001000\n",
      "Test_Loss:0.399426 |R2:0.354582 |Rate:0.692 \n",
      "Validation R2 increased (0.396856 --> 0.399322).  Saving model ...\n",
      "Done\n"
     ]
    },
    {
     "data": {
      "image/png": "[encoded data removed]",
      "text/plain": [
       "<Figure size 432x288 with 1 Axes>"
      ]
     },
     "metadata": {
      "needs_background": "light"
     },
     "output_type": "display_data"
    }
   ],
   "source": [
    "transformer.train(epochs=5, train_all=True, f='../../stock_price/train\\\\20190723_20190731.hdf',\n",
    "            val_size=0.2, test_round=1, save='train',patience=40)"
   ]
  },
  {
   "cell_type": "code",
   "execution_count": 14,
   "id": "b90ad69b",
   "metadata": {},
   "outputs": [
    {
     "name": "stdout",
     "output_type": "stream",
     "text": [
      "Learning Rate is set to 0.0005\n"
     ]
    },
    {
     "data": {
      "application/vnd.jupyter.widget-view+json": {
       "model_id": "b802e1343474459fbe0bff3d97d11b55",
       "version_major": 2,
       "version_minor": 0
      },
      "text/plain": [
       "  0%|          | 0/10 [00:00<?, ?it/s]"
      ]
     },
     "metadata": {},
     "output_type": "display_data"
    },
    {
     "name": "stdout",
     "output_type": "stream",
     "text": [
      "After training train_\\20190401_20190412  Train_loss:0.703434 R2:0.350164 | Val_Loss:0.704862 |R2:0.344647 |Rate:0.704 |lr:0.000500\n",
      "After training train_\\20190523_20190604  Train_loss:0.625571 R2:0.372779 | Val_Loss:0.637979 |R2:0.376852 |Rate:0.702 |lr:0.000500\n",
      "After training train_\\20190617_20190628  Train_loss:0.490993 R2:0.387546 | Val_Loss:0.500467 |R2:0.381412 |Rate:0.700 |lr:0.000500\n",
      "After training train_\\20190723_20190731  Train_loss:0.421285 R2:0.397546 | Val_Loss:0.432389 |R2:0.396481 |Rate:0.695 |lr:0.000500\n",
      "Save here\n",
      "Epoch:  5 |Train_Loss:0.560321 |R2:0.377009|Val_Loss:0.568924 |R2:0.374848 |Rate:0.700 |lr:0.000500\n",
      "Test_Loss:0.399067 |R2:0.357991 |Rate:0.692 \n",
      "Validation R2 increased (-inf --> 0.374848).  Saving model ...\n",
      "After training train_\\20190401_20190412  Train_loss:0.698863 R2:0.357671 | Val_Loss:0.700808 |R2:0.352629 |Rate:0.703 |lr:0.000500\n",
      "After training train_\\20190523_20190604  Train_loss:0.622762 R2:0.378026 | Val_Loss:0.635720 |R2:0.381942 |Rate:0.703 |lr:0.000500\n",
      "After training train_\\20190617_20190628  Train_loss:0.490244 R2:0.390339 | Val_Loss:0.500149 |R2:0.383969 |Rate:0.700 |lr:0.000500\n",
      "After training train_\\20190723_20190731  Train_loss:0.421886 R2:0.398301 | Val_Loss:0.432751 |R2:0.396955 |Rate:0.694 |lr:0.000500\n",
      "Save here\n",
      "Epoch:  6 |Train_Loss:0.558439 |R2:0.381084|Val_Loss:0.567357 |R2:0.378874 |Rate:0.700 |lr:0.000500\n",
      "Test_Loss:0.399186 |R2:0.358588 |Rate:0.693 \n",
      "Validation R2 increased (0.374848 --> 0.378874).  Saving model ...\n",
      "After training train_\\20190401_20190412  Train_loss:0.695820 R2:0.362553 | Val_Loss:0.698655 |R2:0.356726 |Rate:0.705 |lr:0.000500\n",
      "After training train_\\20190523_20190604  Train_loss:0.621364 R2:0.381210 | Val_Loss:0.634230 |R2:0.384871 |Rate:0.703 |lr:0.000500\n",
      "After training train_\\20190617_20190628  Train_loss:0.489760 R2:0.391967 | Val_Loss:0.499831 |R2:0.385576 |Rate:0.702 |lr:0.000500\n",
      "After training train_\\20190723_20190731  Train_loss:0.422408 R2:0.397722 | Val_Loss:0.433058 |R2:0.396748 |Rate:0.693 |lr:0.000500\n",
      "Save here\n",
      "Epoch:  7 |Train_Loss:0.557338 |R2:0.383363|Val_Loss:0.566443 |R2:0.380980 |Rate:0.701 |lr:0.000500\n",
      "Test_Loss:0.399164 |R2:0.358985 |Rate:0.693 \n",
      "Validation R2 increased (0.378874 --> 0.380980).  Saving model ...\n",
      "After training train_\\20190401_20190412  Train_loss:0.694872 R2:0.364275 | Val_Loss:0.697293 |R2:0.359198 |Rate:0.707 |lr:0.000500\n",
      "After training train_\\20190523_20190604  Train_loss:0.619902 R2:0.383569 | Val_Loss:0.633064 |R2:0.386882 |Rate:0.704 |lr:0.000500\n",
      "After training train_\\20190617_20190628  Train_loss:0.489035 R2:0.393121 | Val_Loss:0.499477 |R2:0.386834 |Rate:0.701 |lr:0.000500\n",
      "After training train_\\20190723_20190731  Train_loss:0.422978 R2:0.397228 | Val_Loss:0.433319 |R2:0.396404 |Rate:0.693 |lr:0.000500\n",
      "Save here\n",
      "Epoch:  8 |Train_Loss:0.556697 |R2:0.384548|Val_Loss:0.565788 |R2:0.382329 |Rate:0.701 |lr:0.000500\n",
      "Test_Loss:0.399121 |R2:0.359270 |Rate:0.693 \n",
      "Validation R2 increased (0.380980 --> 0.382329).  Saving model ...\n",
      "After training train_\\20190401_20190412  Train_loss:0.693120 R2:0.366771 | Val_Loss:0.696267 |R2:0.361012 |Rate:0.707 |lr:0.000500\n",
      "After training train_\\20190523_20190604  Train_loss:0.619069 R2:0.385282 | Val_Loss:0.632117 |R2:0.388448 |Rate:0.705 |lr:0.000500\n",
      "After training train_\\20190617_20190628  Train_loss:0.488408 R2:0.394263 | Val_Loss:0.499132 |R2:0.387834 |Rate:0.702 |lr:0.000500\n",
      "After training train_\\20190723_20190731  Train_loss:0.423124 R2:0.397632 | Val_Loss:0.433535 |R2:0.395996 |Rate:0.693 |lr:0.000500\n",
      "Save here\n",
      "Epoch:  9 |Train_Loss:0.555930 |R2:0.385987|Val_Loss:0.565263 |R2:0.383322 |Rate:0.702 |lr:0.000500\n",
      "Test_Loss:0.399064 |R2:0.359477 |Rate:0.693 \n",
      "Validation R2 increased (0.382329 --> 0.383322).  Saving model ...\n",
      "After training train_\\20190401_20190412  Train_loss:0.692675 R2:0.367497 | Val_Loss:0.695469 |R2:0.362347 |Rate:0.707 |lr:0.000500\n",
      "After training train_\\20190523_20190604  Train_loss:0.618233 R2:0.386483 | Val_Loss:0.631329 |R2:0.389700 |Rate:0.705 |lr:0.000500\n",
      "After training train_\\20190617_20190628  Train_loss:0.488041 R2:0.395352 | Val_Loss:0.498866 |R2:0.388589 |Rate:0.702 |lr:0.000500\n",
      "After training train_\\20190723_20190731  Train_loss:0.423328 R2:0.396773 | Val_Loss:0.433758 |R2:0.395570 |Rate:0.693 |lr:0.000500\n",
      "Save here\n",
      "Epoch: 10 |Train_Loss:0.555569 |R2:0.386526|Val_Loss:0.564855 |R2:0.384051 |Rate:0.702 |lr:0.000500\n",
      "Test_Loss:0.399064 |R2:0.359539 |Rate:0.693 \n",
      "Validation R2 increased (0.383322 --> 0.384051).  Saving model ...\n",
      "After training train_\\20190401_20190412  Train_loss:0.692151 R2:0.368339 | Val_Loss:0.694798 |R2:0.363466 |Rate:0.707 |lr:0.000500\n",
      "After training train_\\20190523_20190604  Train_loss:0.617710 R2:0.387219 | Val_Loss:0.630690 |R2:0.390701 |Rate:0.707 |lr:0.000500\n",
      "After training train_\\20190617_20190628  Train_loss:0.488029 R2:0.395699 | Val_Loss:0.498632 |R2:0.389229 |Rate:0.703 |lr:0.000500\n",
      "After training train_\\20190723_20190731  Train_loss:0.423690 R2:0.396755 | Val_Loss:0.433970 |R2:0.395138 |Rate:0.693 |lr:0.000500\n",
      "Save here\n",
      "Epoch: 11 |Train_Loss:0.555395 |R2:0.387003|Val_Loss:0.564523 |R2:0.384634 |Rate:0.702 |lr:0.000500\n",
      "Test_Loss:0.399056 |R2:0.359605 |Rate:0.693 \n",
      "Validation R2 increased (0.384051 --> 0.384634).  Saving model ...\n",
      "After training train_\\20190401_20190412  Train_loss:0.691305 R2:0.369273 | Val_Loss:0.694262 |R2:0.364340 |Rate:0.707 |lr:0.000500\n",
      "After training train_\\20190523_20190604  Train_loss:0.616932 R2:0.388881 | Val_Loss:0.630148 |R2:0.391526 |Rate:0.707 |lr:0.000500\n",
      "After training train_\\20190617_20190628  Train_loss:0.487978 R2:0.395943 | Val_Loss:0.498434 |R2:0.389735 |Rate:0.703 |lr:0.000500\n",
      "After training train_\\20190723_20190731  Train_loss:0.423838 R2:0.396245 | Val_Loss:0.434160 |R2:0.394711 |Rate:0.693 |lr:0.000500\n",
      "Save here\n",
      "Epoch: 12 |Train_Loss:0.555014 |R2:0.387585|Val_Loss:0.564251 |R2:0.385078 |Rate:0.703 |lr:0.000500\n",
      "Test_Loss:0.399052 |R2:0.359634 |Rate:0.694 \n",
      "Validation R2 increased (0.384634 --> 0.385078).  Saving model ...\n",
      "After training train_\\20190401_20190412  Train_loss:0.690924 R2:0.369754 | Val_Loss:0.693788 |R2:0.365116 |Rate:0.707 |lr:0.000500\n",
      "After training train_\\20190523_20190604  Train_loss:0.616512 R2:0.389294 | Val_Loss:0.629684 |R2:0.392224 |Rate:0.707 |lr:0.000500\n",
      "After training train_\\20190617_20190628  Train_loss:0.487582 R2:0.396714 | Val_Loss:0.498255 |R2:0.390180 |Rate:0.704 |lr:0.000500\n",
      "After training train_\\20190723_20190731  Train_loss:0.424611 R2:0.394736 | Val_Loss:0.434342 |R2:0.394292 |Rate:0.693 |lr:0.000500\n",
      "Save here\n",
      "Epoch: 13 |Train_Loss:0.554907 |R2:0.387624|Val_Loss:0.564017 |R2:0.385453 |Rate:0.703 |lr:0.000500\n",
      "Test_Loss:0.399064 |R2:0.359616 |Rate:0.694 \n",
      "Validation R2 increased (0.385078 --> 0.385453).  Saving model ...\n",
      "After training train_\\20190401_20190412  Train_loss:0.691013 R2:0.369853 | Val_Loss:0.693386 |R2:0.365754 |Rate:0.708 |lr:0.000500\n",
      "After training train_\\20190523_20190604  Train_loss:0.616003 R2:0.390082 | Val_Loss:0.629301 |R2:0.392772 |Rate:0.707 |lr:0.000500\n",
      "After training train_\\20190617_20190628  Train_loss:0.487166 R2:0.397642 | Val_Loss:0.498097 |R2:0.390527 |Rate:0.701 |lr:0.000500\n",
      "After training train_\\20190723_20190731  Train_loss:0.424616 R2:0.394936 | Val_Loss:0.434517 |R2:0.393893 |Rate:0.692 |lr:0.000500\n",
      "Save here\n",
      "Epoch: 14 |Train_Loss:0.554700 |R2:0.388129|Val_Loss:0.563825 |R2:0.385736 |Rate:0.702 |lr:0.000500\n",
      "Test_Loss:0.399076 |R2:0.359603 |Rate:0.694 \n",
      "Validation R2 increased (0.385453 --> 0.385736).  Saving model ...\n",
      "Done\n"
     ]
    },
    {
     "data": {
      "image/png": "[encoded data removed]",
      "text/plain": [
       "<Figure size 432x288 with 1 Axes>"
      ]
     },
     "metadata": {
      "needs_background": "light"
     },
     "output_type": "display_data"
    }
   ],
   "source": [
    "transformer._selct_optim('sgd')\n",
    "transformer._selct_scheduler(opt='plateau',patience=10, factor=0.1, step=4000)\n",
    "transformer._set_lr(0.0005)\n",
    "transformer.train(epochs=10, train_all=True, f='../../stock_price/train\\\\20190723_20190731.hdf',\n",
    "            val_size=0.2, test_round=1, save='train',patience=40)"
   ]
  },
  {
   "cell_type": "code",
   "execution_count": null,
   "id": "6bc13406",
   "metadata": {},
   "outputs": [
    {
     "data": {
      "application/vnd.jupyter.widget-view+json": {
       "model_id": "1016f9f15b6f4a6caf782e8cac9d4ae0",
       "version_major": 2,
       "version_minor": 0
      },
      "text/plain": [
       "  0%|          | 0/50 [00:00<?, ?it/s]"
      ]
     },
     "metadata": {},
     "output_type": "display_data"
    },
    {
     "name": "stdout",
     "output_type": "stream",
     "text": [
      "After training train_\\20190401_20190412  Train_loss:0.690233 R2:0.370992 | Val_Loss:0.693013 |R2:0.366362 |Rate:0.708 |lr:0.000500\n",
      "After training train_\\20190523_20190604  Train_loss:0.616157 R2:0.390026 | Val_Loss:0.628945 |R2:0.393303 |Rate:0.707 |lr:0.000500\n",
      "After training train_\\20190617_20190628  Train_loss:0.487167 R2:0.398160 | Val_Loss:0.497962 |R2:0.390797 |Rate:0.701 |lr:0.000500\n",
      "After training train_\\20190723_20190731  Train_loss:0.424871 R2:0.394331 | Val_Loss:0.434705 |R2:0.393452 |Rate:0.692 |lr:0.000500\n",
      "Save here\n",
      "Epoch: 14 |Train_Loss:0.554607 |R2:0.388377|Val_Loss:0.563656 |R2:0.385979 |Rate:0.702 |lr:0.000500\n",
      "Test_Loss:0.399105 |R2:0.359539 |Rate:0.694 \n",
      "Validation R2 increased (-inf --> 0.385979).  Saving model ...\n",
      "After training train_\\20190401_20190412  Train_loss:0.689796 R2:0.371590 | Val_Loss:0.692676 |R2:0.366904 |Rate:0.708 |lr:0.000500\n",
      "After training train_\\20190523_20190604  Train_loss:0.615731 R2:0.390758 | Val_Loss:0.628649 |R2:0.393742 |Rate:0.708 |lr:0.000500\n",
      "After training train_\\20190617_20190628  Train_loss:0.486823 R2:0.398339 | Val_Loss:0.497861 |R2:0.391067 |Rate:0.701 |lr:0.000500\n",
      "After training train_\\20190723_20190731  Train_loss:0.424947 R2:0.394356 | Val_Loss:0.434891 |R2:0.393054 |Rate:0.692 |lr:0.000500\n",
      "Save here\n",
      "Epoch: 15 |Train_Loss:0.554324 |R2:0.388760|Val_Loss:0.563519 |R2:0.386192 |Rate:0.702 |lr:0.000500\n",
      "Test_Loss:0.399142 |R2:0.359473 |Rate:0.694 \n",
      "Validation R2 increased (0.385979 --> 0.386192).  Saving model ...\n",
      "After training train_\\20190401_20190412  Train_loss:0.689877 R2:0.371401 | Val_Loss:0.692387 |R2:0.367359 |Rate:0.708 |lr:0.000500\n",
      "After training train_\\20190523_20190604  Train_loss:0.615256 R2:0.391256 | Val_Loss:0.628393 |R2:0.394137 |Rate:0.708 |lr:0.000500\n",
      "After training train_\\20190617_20190628  Train_loss:0.487024 R2:0.398329 | Val_Loss:0.497737 |R2:0.391268 |Rate:0.700 |lr:0.000500\n",
      "After training train_\\20190723_20190731  Train_loss:0.425225 R2:0.393718 | Val_Loss:0.435021 |R2:0.392709 |Rate:0.692 |lr:0.000500\n",
      "Epoch: 16 |Train_Loss:0.554346 |R2:0.388676|Val_Loss:0.563384 |R2:0.386368 |Rate:0.702 |lr:0.000500\n",
      "Test_Loss:0.399150 |R2:0.359436 |Rate:0.694 \n",
      "Validation R2 increased (0.386192 --> 0.386368).  Saving model ...\n",
      "After training train_\\20190401_20190412  Train_loss:0.689793 R2:0.371675 | Val_Loss:0.692160 |R2:0.367687 |Rate:0.708 |lr:0.000500\n",
      "After training train_\\20190523_20190604  Train_loss:0.614938 R2:0.391953 | Val_Loss:0.628176 |R2:0.394419 |Rate:0.708 |lr:0.000500\n",
      "After training train_\\20190617_20190628  Train_loss:0.486947 R2:0.398588 | Val_Loss:0.497633 |R2:0.391495 |Rate:0.700 |lr:0.000500\n",
      "After training train_\\20190723_20190731  Train_loss:0.425215 R2:0.394078 | Val_Loss:0.435185 |R2:0.392365 |Rate:0.692 |lr:0.000500\n",
      "Save here\n",
      "Epoch: 17 |Train_Loss:0.554223 |R2:0.389074|Val_Loss:0.563289 |R2:0.386491 |Rate:0.702 |lr:0.000500\n",
      "Test_Loss:0.399191 |R2:0.359361 |Rate:0.694 \n",
      "Validation R2 increased (0.386368 --> 0.386491).  Saving model ...\n",
      "After training train_\\20190401_20190412  Train_loss:0.689337 R2:0.372283 | Val_Loss:0.691918 |R2:0.368074 |Rate:0.708 |lr:0.000500\n",
      "After training train_\\20190523_20190604  Train_loss:0.615114 R2:0.391729 | Val_Loss:0.627985 |R2:0.394672 |Rate:0.708 |lr:0.000500\n",
      "After training train_\\20190617_20190628  Train_loss:0.486806 R2:0.398670 | Val_Loss:0.497546 |R2:0.391642 |Rate:0.701 |lr:0.000500\n",
      "After training train_\\20190723_20190731  Train_loss:0.425635 R2:0.393112 | Val_Loss:0.435336 |R2:0.392014 |Rate:0.692 |lr:0.000500\n",
      "Epoch: 18 |Train_Loss:0.554223 |R2:0.388948|Val_Loss:0.563196 |R2:0.386600 |Rate:0.702 |lr:0.000500\n",
      "Test_Loss:0.399219 |R2:0.359303 |Rate:0.694 \n",
      "Validation R2 increased (0.386491 --> 0.386600).  Saving model ...\n",
      "After training train_\\20190401_20190412  Train_loss:0.689456 R2:0.372029 | Val_Loss:0.691709 |R2:0.368384 |Rate:0.708 |lr:0.000500\n",
      "After training train_\\20190523_20190604  Train_loss:0.614619 R2:0.392274 | Val_Loss:0.627800 |R2:0.394953 |Rate:0.708 |lr:0.000500\n",
      "After training train_\\20190617_20190628  Train_loss:0.486715 R2:0.399009 | Val_Loss:0.497463 |R2:0.391791 |Rate:0.701 |lr:0.000500\n",
      "After training train_\\20190723_20190731  Train_loss:0.425842 R2:0.392593 | Val_Loss:0.435444 |R2:0.391745 |Rate:0.692 |lr:0.000500\n",
      "Epoch: 19 |Train_Loss:0.554158 |R2:0.388976|Val_Loss:0.563104 |R2:0.386718 |Rate:0.702 |lr:0.000500\n",
      "Test_Loss:0.399237 |R2:0.359257 |Rate:0.694 \n",
      "Validation R2 increased (0.386600 --> 0.386718).  Saving model ...\n",
      "After training train_\\20190401_20190412  Train_loss:0.688805 R2:0.373107 | Val_Loss:0.691525 |R2:0.368679 |Rate:0.709 |lr:0.000500\n",
      "After training train_\\20190523_20190604  Train_loss:0.614777 R2:0.392275 | Val_Loss:0.627649 |R2:0.395201 |Rate:0.708 |lr:0.000500\n",
      "After training train_\\20190617_20190628  Train_loss:0.486656 R2:0.398910 | Val_Loss:0.497396 |R2:0.391931 |Rate:0.700 |lr:0.000500\n",
      "After training train_\\20190723_20190731  Train_loss:0.425828 R2:0.392707 | Val_Loss:0.435589 |R2:0.391438 |Rate:0.692 |lr:0.000500\n",
      "Save here\n",
      "Epoch: 20 |Train_Loss:0.554016 |R2:0.389250|Val_Loss:0.563040 |R2:0.386812 |Rate:0.702 |lr:0.000500\n",
      "Test_Loss:0.399292 |R2:0.359147 |Rate:0.694 \n",
      "Validation R2 increased (0.386718 --> 0.386812).  Saving model ...\n",
      "After training train_\\20190401_20190412  Train_loss:0.688760 R2:0.373058 | Val_Loss:0.691342 |R2:0.368979 |Rate:0.709 |lr:0.000500\n",
      "After training train_\\20190523_20190604  Train_loss:0.614618 R2:0.392553 | Val_Loss:0.627502 |R2:0.395429 |Rate:0.708 |lr:0.000500\n",
      "After training train_\\20190617_20190628  Train_loss:0.486596 R2:0.399066 | Val_Loss:0.497339 |R2:0.392020 |Rate:0.701 |lr:0.000500\n",
      "After training train_\\20190723_20190731  Train_loss:0.426406 R2:0.391583 | Val_Loss:0.435707 |R2:0.391159 |Rate:0.692 |lr:0.000500\n",
      "Epoch: 21 |Train_Loss:0.554095 |R2:0.389065|Val_Loss:0.562972 |R2:0.386897 |Rate:0.703 |lr:0.000500\n",
      "Test_Loss:0.399322 |R2:0.359079 |Rate:0.694 \n",
      "Validation R2 increased (0.386812 --> 0.386897).  Saving model ...\n",
      "After training train_\\20190401_20190412  Train_loss:0.688631 R2:0.373304 | Val_Loss:0.691221 |R2:0.369144 |Rate:0.710 |lr:0.000500\n",
      "After training train_\\20190523_20190604  Train_loss:0.614277 R2:0.393227 | Val_Loss:0.627382 |R2:0.395604 |Rate:0.708 |lr:0.000500\n",
      "After training train_\\20190617_20190628  Train_loss:0.486322 R2:0.399673 | Val_Loss:0.497288 |R2:0.392091 |Rate:0.700 |lr:0.000500\n",
      "After training train_\\20190723_20190731  Train_loss:0.426429 R2:0.391429 | Val_Loss:0.435825 |R2:0.390859 |Rate:0.692 |lr:0.000500\n",
      "Save here\n",
      "Epoch: 22 |Train_Loss:0.553915 |R2:0.389408|Val_Loss:0.562929 |R2:0.386925 |Rate:0.703 |lr:0.000500\n",
      "Test_Loss:0.399330 |R2:0.359049 |Rate:0.694 \n",
      "Validation R2 increased (0.386897 --> 0.386925).  Saving model ...\n",
      "After training train_\\20190401_20190412  Train_loss:0.688649 R2:0.373454 | Val_Loss:0.691073 |R2:0.369392 |Rate:0.710 |lr:0.000500\n",
      "After training train_\\20190523_20190604  Train_loss:0.614085 R2:0.393381 | Val_Loss:0.627279 |R2:0.395766 |Rate:0.709 |lr:0.000500\n",
      "After training train_\\20190617_20190628  Train_loss:0.486662 R2:0.399440 | Val_Loss:0.497224 |R2:0.392168 |Rate:0.700 |lr:0.000500\n",
      "After training train_\\20190723_20190731  Train_loss:0.426349 R2:0.391612 | Val_Loss:0.435920 |R2:0.390607 |Rate:0.691 |lr:0.000500\n",
      "Save here\n",
      "Epoch: 23 |Train_Loss:0.553936 |R2:0.389472|Val_Loss:0.562874 |R2:0.386983 |Rate:0.703 |lr:0.000500\n",
      "Test_Loss:0.399326 |R2:0.359045 |Rate:0.694 \n",
      "Validation R2 increased (0.386925 --> 0.386983).  Saving model ...\n",
      "After training train_\\20190401_20190412  Train_loss:0.688660 R2:0.373093 | Val_Loss:0.690942 |R2:0.369583 |Rate:0.710 |lr:0.000500\n",
      "After training train_\\20190523_20190604  Train_loss:0.614319 R2:0.393100 | Val_Loss:0.627188 |R2:0.395884 |Rate:0.708 |lr:0.000500\n",
      "After training train_\\20190617_20190628  Train_loss:0.486812 R2:0.399082 | Val_Loss:0.497166 |R2:0.392283 |Rate:0.701 |lr:0.000500\n",
      "After training train_\\20190723_20190731  Train_loss:0.426639 R2:0.391474 | Val_Loss:0.436043 |R2:0.390332 |Rate:0.691 |lr:0.000500\n",
      "Epoch: 24 |Train_Loss:0.554107 |R2:0.389187|Val_Loss:0.562835 |R2:0.387020 |Rate:0.703 |lr:0.000500\n",
      "Test_Loss:0.399339 |R2:0.359031 |Rate:0.694 \n",
      "Validation R2 increased (0.386983 --> 0.387020).  Saving model ...\n",
      "After training train_\\20190401_20190412  Train_loss:0.688513 R2:0.373405 | Val_Loss:0.690827 |R2:0.369776 |Rate:0.711 |lr:0.000500\n"
     ]
    },
    {
     "name": "stdout",
     "output_type": "stream",
     "text": [
      "After training train_\\20190523_20190604  Train_loss:0.614091 R2:0.393482 | Val_Loss:0.627128 |R2:0.395935 |Rate:0.709 |lr:0.000500\n",
      "After training train_\\20190617_20190628  Train_loss:0.486401 R2:0.399618 | Val_Loss:0.497133 |R2:0.392374 |Rate:0.700 |lr:0.000500\n",
      "After training train_\\20190723_20190731  Train_loss:0.426871 R2:0.390750 | Val_Loss:0.436174 |R2:0.390068 |Rate:0.691 |lr:0.000500\n",
      "Epoch: 25 |Train_Loss:0.553969 |R2:0.389314|Val_Loss:0.562816 |R2:0.387038 |Rate:0.703 |lr:0.000500\n",
      "Test_Loss:0.399378 |R2:0.358963 |Rate:0.694 \n",
      "Validation R2 increased (0.387020 --> 0.387038).  Saving model ...\n",
      "After training train_\\20190401_20190412  Train_loss:0.688475 R2:0.373642 | Val_Loss:0.690707 |R2:0.369973 |Rate:0.711 |lr:0.000500\n",
      "After training train_\\20190523_20190604  Train_loss:0.614029 R2:0.393494 | Val_Loss:0.627074 |R2:0.396008 |Rate:0.709 |lr:0.000500\n",
      "After training train_\\20190617_20190628  Train_loss:0.486483 R2:0.399731 | Val_Loss:0.497064 |R2:0.392475 |Rate:0.700 |lr:0.000500\n",
      "After training train_\\20190723_20190731  Train_loss:0.426833 R2:0.390944 | Val_Loss:0.436277 |R2:0.389811 |Rate:0.691 |lr:0.000500\n",
      "Epoch: 26 |Train_Loss:0.553955 |R2:0.389453|Val_Loss:0.562780 |R2:0.387067 |Rate:0.703 |lr:0.000500\n",
      "Test_Loss:0.399390 |R2:0.358938 |Rate:0.694 \n",
      "Validation R2 increased (0.387038 --> 0.387067).  Saving model ...\n",
      "After training train_\\20190401_20190412  Train_loss:0.688572 R2:0.373530 | Val_Loss:0.690621 |R2:0.370109 |Rate:0.711 |lr:0.000500\n",
      "After training train_\\20190523_20190604  Train_loss:0.614080 R2:0.393173 | Val_Loss:0.627008 |R2:0.396118 |Rate:0.709 |lr:0.000500\n",
      "After training train_\\20190617_20190628  Train_loss:0.486560 R2:0.399453 | Val_Loss:0.497031 |R2:0.392550 |Rate:0.701 |lr:0.000500\n",
      "After training train_\\20190723_20190731  Train_loss:0.427378 R2:0.389933 | Val_Loss:0.436371 |R2:0.389573 |Rate:0.691 |lr:0.000500\n",
      "Epoch: 27 |Train_Loss:0.554147 |R2:0.389022|Val_Loss:0.562758 |R2:0.387087 |Rate:0.703 |lr:0.000500\n",
      "Test_Loss:0.399398 |R2:0.358913 |Rate:0.694 \n",
      "Validation R2 increased (0.387067 --> 0.387087).  Saving model ...\n",
      "After training train_\\20190401_20190412  Train_loss:0.688293 R2:0.373921 | Val_Loss:0.690523 |R2:0.370282 |Rate:0.712 |lr:0.000500\n",
      "After training train_\\20190523_20190604  Train_loss:0.613641 R2:0.393784 | Val_Loss:0.626963 |R2:0.396205 |Rate:0.708 |lr:0.000500\n",
      "After training train_\\20190617_20190628  Train_loss:0.486256 R2:0.399979 | Val_Loss:0.497020 |R2:0.392570 |Rate:0.701 |lr:0.000500\n",
      "After training train_\\20190723_20190731  Train_loss:0.427348 R2:0.389896 | Val_Loss:0.436478 |R2:0.389351 |Rate:0.691 |lr:0.000500\n",
      "Epoch: 28 |Train_Loss:0.553884 |R2:0.389395|Val_Loss:0.562746 |R2:0.387102 |Rate:0.703 |lr:0.000500\n",
      "Test_Loss:0.399441 |R2:0.358830 |Rate:0.694 \n",
      "Validation R2 increased (0.387087 --> 0.387102).  Saving model ...\n",
      "After training train_\\20190401_20190412  Train_loss:0.688546 R2:0.373340 | Val_Loss:0.690436 |R2:0.370429 |Rate:0.712 |lr:0.000500\n",
      "After training train_\\20190523_20190604  Train_loss:0.613982 R2:0.393376 | Val_Loss:0.626934 |R2:0.396202 |Rate:0.709 |lr:0.000500\n",
      "After training train_\\20190617_20190628  Train_loss:0.486514 R2:0.399741 | Val_Loss:0.496992 |R2:0.392620 |Rate:0.701 |lr:0.000500\n",
      "After training train_\\20190723_20190731  Train_loss:0.427301 R2:0.389808 | Val_Loss:0.436581 |R2:0.389134 |Rate:0.692 |lr:0.000500\n",
      "Epoch: 29 |Train_Loss:0.554086 |R2:0.389066|Val_Loss:0.562736 |R2:0.387096 |Rate:0.703 |lr:0.000500\n",
      "Test_Loss:0.399448 |R2:0.358834 |Rate:0.694 \n",
      "EarlyStopping counter: 1 out of 40\n",
      "After training train_\\20190401_20190412  Train_loss:0.688210 R2:0.374069 | Val_Loss:0.690329 |R2:0.370621 |Rate:0.712 |lr:0.000500\n",
      "After training train_\\20190523_20190604  Train_loss:0.614050 R2:0.393319 | Val_Loss:0.626906 |R2:0.396260 |Rate:0.709 |lr:0.000500\n",
      "After training train_\\20190617_20190628  Train_loss:0.486608 R2:0.399195 | Val_Loss:0.496965 |R2:0.392679 |Rate:0.701 |lr:0.000500\n",
      "After training train_\\20190723_20190731  Train_loss:0.427456 R2:0.389468 | Val_Loss:0.436668 |R2:0.388907 |Rate:0.691 |lr:0.000500\n",
      "Epoch: 30 |Train_Loss:0.554081 |R2:0.389013|Val_Loss:0.562717 |R2:0.387117 |Rate:0.703 |lr:0.000500\n",
      "Test_Loss:0.399446 |R2:0.358827 |Rate:0.694 \n",
      "Validation R2 increased (0.387102 --> 0.387117).  Saving model ...\n",
      "After training train_\\20190401_20190412  Train_loss:0.688324 R2:0.373795 | Val_Loss:0.690273 |R2:0.370700 |Rate:0.712 |lr:0.000500\n",
      "After training train_\\20190523_20190604  Train_loss:0.614208 R2:0.392987 | Val_Loss:0.626882 |R2:0.396297 |Rate:0.709 |lr:0.000500\n",
      "After training train_\\20190617_20190628  Train_loss:0.486778 R2:0.399264 | Val_Loss:0.496923 |R2:0.392731 |Rate:0.701 |lr:0.000500\n",
      "After training train_\\20190723_20190731  Train_loss:0.427354 R2:0.389575 | Val_Loss:0.436762 |R2:0.388706 |Rate:0.691 |lr:0.000500\n",
      "Epoch: 31 |Train_Loss:0.554166 |R2:0.388905|Val_Loss:0.562710 |R2:0.387109 |Rate:0.703 |lr:0.000500\n"
     ]
    }
   ],
   "source": [
    "transformer.train(epochs=50, train_all=True, f='../../stock_price/train\\\\20190723_20190731.hdf',\n",
    "            val_size=0.2, test_round=1, save='train',patience=40)"
   ]
  },
  {
   "cell_type": "code",
   "execution_count": 18,
   "id": "1c64c0b7",
   "metadata": {},
   "outputs": [],
   "source": [
    "transformer._selct_optim('adamW')\n",
    "transformer._selct_scheduler(opt='plateau',patience=10, factor=0.1, step=4000)"
   ]
  },
  {
   "cell_type": "code",
   "execution_count": 19,
   "id": "718f5a9b",
   "metadata": {},
   "outputs": [
    {
     "name": "stdout",
     "output_type": "stream",
     "text": [
      "Learning Rate is set to 0.001\n"
     ]
    }
   ],
   "source": [
    "transformer._set_lr(0.001)"
   ]
  },
  {
   "cell_type": "code",
   "execution_count": null,
   "id": "91c6b65c",
   "metadata": {},
   "outputs": [
    {
     "data": {
      "application/vnd.jupyter.widget-view+json": {
       "model_id": "721fd36284db4a4b8cde7523cf05e4e5",
       "version_major": 2,
       "version_minor": 0
      },
      "text/plain": [
       "  0%|          | 0/10 [00:00<?, ?it/s]"
      ]
     },
     "metadata": {},
     "output_type": "display_data"
    },
    {
     "name": "stdout",
     "output_type": "stream",
     "text": [
      "After training train_\\20190401_20190412  Train_loss:0.715497 R2:0.337599 | Val_Loss:0.708594 |R2:0.366309 |Rate:0.703 |lr:0.001000\n",
      "After training train_\\20190523_20190604  Train_loss:0.620708 R2:0.402622 | Val_Loss:0.654104 |R2:0.380504 |Rate:0.687 |lr:0.001000\n",
      "After training train_\\20190617_20190628  Train_loss:0.486830 R2:0.406728 | Val_Loss:0.470739 |R2:0.451208 |Rate:0.722 |lr:0.001000\n",
      "After training train_\\20190723_20190731  Train_loss:0.429090 R2:0.393278 | Val_Loss:0.433594 |R2:0.415406 |Rate:0.690 |lr:0.001000\n",
      "Save here\n",
      "Epoch: 14 |Train_Loss:0.563031 |R2:0.385057|Val_Loss:0.566758 |R2:0.403357 |Rate:0.700 |lr:0.001000\n",
      "Test_Loss:0.484058 |R2:0.136855 |Rate:0.629 \n",
      "Validation R2 increased (-inf --> 0.403357).  Saving model ...\n",
      "After training train_\\20190401_20190412  Train_loss:0.643064 R2:0.456316 | Val_Loss:0.650492 |R2:0.459783 |Rate:0.728 |lr:0.001000\n",
      "After training train_\\20190523_20190604  Train_loss:0.590605 R2:0.449412 | Val_Loss:0.573720 |R2:0.487310 |Rate:0.743 |lr:0.001000\n",
      "After training train_\\20190617_20190628  Train_loss:0.477203 R2:0.423205 | Val_Loss:0.477511 |R2:0.438890 |Rate:0.717 |lr:0.001000\n",
      "After training train_\\20190723_20190731  Train_loss:0.429185 R2:0.397550 | Val_Loss:0.420786 |R2:0.429898 |Rate:0.706 |lr:0.001000\n",
      "Save here\n",
      "Epoch: 15 |Train_Loss:0.535014 |R2:0.431621|Val_Loss:0.530627 |R2:0.453970 |Rate:0.723 |lr:0.001000\n",
      "Test_Loss:0.488544 |R2:0.115660 |Rate:0.633 \n",
      "Validation R2 increased (0.403357 --> 0.453970).  Saving model ...\n",
      "After training train_\\20190401_20190412  Train_loss:0.625428 R2:0.479585 | Val_Loss:0.629376 |R2:0.487633 |Rate:0.736 |lr:0.001000\n",
      "After training train_\\20190523_20190604  Train_loss:0.575677 R2:0.471011 | Val_Loss:0.624043 |R2:0.428078 |Rate:0.712 |lr:0.001000\n",
      "After training train_\\20190617_20190628  Train_loss:0.466871 R2:0.441416 | Val_Loss:0.455390 |R2:0.473270 |Rate:0.732 |lr:0.001000\n",
      "After training train_\\20190723_20190731  Train_loss:0.419234 R2:0.418977 | Val_Loss:0.407599 |R2:0.462060 |Rate:0.713 |lr:0.001000\n",
      "Save here\n",
      "Epoch: 16 |Train_Loss:0.521802 |R2:0.452747|Val_Loss:0.529102 |R2:0.462760 |Rate:0.723 |lr:0.001000\n",
      "Test_Loss:0.507270 |R2:0.057345 |Rate:0.624 \n",
      "Validation R2 increased (0.453970 --> 0.462760).  Saving model ...\n",
      "After training train_\\20190401_20190412  Train_loss:0.615133 R2:0.492638 | Val_Loss:0.627577 |R2:0.487193 |Rate:0.737 |lr:0.001000\n",
      "After training train_\\20190523_20190604  Train_loss:0.568991 R2:0.479644 | Val_Loss:0.597905 |R2:0.464870 |Rate:0.721 |lr:0.001000\n",
      "After training train_\\20190617_20190628  Train_loss:0.461498 R2:0.451367 | Val_Loss:0.454209 |R2:0.479279 |Rate:0.733 |lr:0.001000\n",
      "After training train_\\20190723_20190731  Train_loss:0.415745 R2:0.426601 | Val_Loss:0.404280 |R2:0.467554 |Rate:0.716 |lr:0.001000\n",
      "Save here\n",
      "Epoch: 17 |Train_Loss:0.515342 |R2:0.462563|Val_Loss:0.520993 |R2:0.474724 |Rate:0.727 |lr:0.001000\n",
      "Test_Loss:0.516620 |R2:0.025581 |Rate:0.622 \n",
      "Validation R2 increased (0.462760 --> 0.474724).  Saving model ...\n",
      "After training train_\\20190401_20190412  Train_loss:0.602734 R2:0.508339 | Val_Loss:0.594907 |R2:0.521597 |Rate:0.751 |lr:0.001000\n",
      "After training train_\\20190523_20190604  Train_loss:0.564069 R2:0.488128 | Val_Loss:0.564059 |R2:0.505203 |Rate:0.746 |lr:0.001000\n",
      "After training train_\\20190617_20190628  Train_loss:0.458494 R2:0.458967 | Val_Loss:0.460846 |R2:0.468281 |Rate:0.727 |lr:0.001000\n",
      "After training train_\\20190723_20190731  Train_loss:0.407036 R2:0.443629 | Val_Loss:0.401258 |R2:0.472541 |Rate:0.720 |lr:0.001000\n",
      "Save here\n",
      "Epoch: 18 |Train_Loss:0.508083 |R2:0.474766|Val_Loss:0.505267 |R2:0.491905 |Rate:0.736 |lr:0.001000\n",
      "Test_Loss:0.501357 |R2:0.073028 |Rate:0.627 \n",
      "Validation R2 increased (0.474724 --> 0.491905).  Saving model ...\n",
      "After training train_\\20190401_20190412  Train_loss:0.604951 R2:0.505863 | Val_Loss:0.578837 |R2:0.543748 |Rate:0.756 |lr:0.001000\n",
      "After training train_\\20190523_20190604  Train_loss:0.557939 R2:0.497481 | Val_Loss:0.556504 |R2:0.513480 |Rate:0.751 |lr:0.001000\n",
      "After training train_\\20190617_20190628  Train_loss:0.453290 R2:0.467434 | Val_Loss:0.498257 |R2:0.410989 |Rate:0.703 |lr:0.001000\n",
      "After training train_\\20190723_20190731  Train_loss:0.406772 R2:0.445387 | Val_Loss:0.397214 |R2:0.485867 |Rate:0.715 |lr:0.001000\n",
      "Save here\n",
      "Epoch: 19 |Train_Loss:0.505738 |R2:0.479041|Val_Loss:0.507703 |R2:0.488521 |Rate:0.731 |lr:0.001000\n",
      "Test_Loss:0.508687 |R2:0.051902 |Rate:0.620 \n",
      "EarlyStopping counter: 1 out of 40\n",
      "After training train_\\20190401_20190412  Train_loss:0.597458 R2:0.515159 | Val_Loss:0.594637 |R2:0.524958 |Rate:0.754 |lr:0.001000\n",
      "After training train_\\20190523_20190604  Train_loss:0.555498 R2:0.502842 | Val_Loss:0.559055 |R2:0.517194 |Rate:0.742 |lr:0.001000\n",
      "After training train_\\20190617_20190628  Train_loss:0.452223 R2:0.469987 | Val_Loss:0.468121 |R2:0.457826 |Rate:0.718 |lr:0.001000\n",
      "After training train_\\20190723_20190731  Train_loss:0.401037 R2:0.457671 | Val_Loss:0.396206 |R2:0.487023 |Rate:0.722 |lr:0.001000\n",
      "Save here\n",
      "Epoch: 20 |Train_Loss:0.501554 |R2:0.486415|Val_Loss:0.504505 |R2:0.496750 |Rate:0.734 |lr:0.001000\n",
      "Test_Loss:0.491543 |R2:0.102623 |Rate:0.634 \n",
      "Validation R2 increased (0.491905 --> 0.496750).  Saving model ...\n"
     ]
    }
   ],
   "source": [
    "transformer.train(epochs=10, train_all=True, f='../../stock_price/train\\\\20190723_20190731.hdf',\n",
    "            val_size=0.2, test_round=1, save='train',patience=40)"
   ]
  },
  {
   "cell_type": "code",
   "execution_count": 15,
   "id": "56748ab6",
   "metadata": {},
   "outputs": [
    {
     "data": {
      "application/vnd.jupyter.widget-view+json": {
       "model_id": "fdaa8c4a762f498580a607eb9e8d2741",
       "version_major": 2,
       "version_minor": 0
      },
      "text/plain": [
       "  0%|          | 0/10 [00:00<?, ?it/s]"
      ]
     },
     "metadata": {},
     "output_type": "display_data"
    },
    {
     "name": "stdout",
     "output_type": "stream",
     "text": [
      "After training train_\\20190401_20190412  Train_loss:0.715101 R2:0.332374 | Val_Loss:0.711079 |R2:0.337653 |Rate:0.700 |lr:0.001000\n",
      "After training train_\\20190523_20190604  Train_loss:0.643642 R2:0.343409 | Val_Loss:0.653432 |R2:0.347671 |Rate:0.697 |lr:0.001000\n",
      "After training train_\\20190617_20190628  Train_loss:0.507173 R2:0.355888 | Val_Loss:0.510586 |R2:0.363351 |Rate:0.696 |lr:0.001000\n",
      "After training train_\\20190723_20190731  Train_loss:0.439156 R2:0.360220 | Val_Loss:0.449728 |R2:0.357231 |Rate:0.676 |lr:0.001000\n",
      "Save here\n",
      "Epoch:  9 |Train_Loss:0.576268 |R2:0.347973|Val_Loss:0.581206 |R2:0.351476 |Rate:0.692 |lr:0.001000\n",
      "Test_Loss:0.405365 |R2:0.342279 |Rate:0.687 \n",
      "Validation R2 increased (-inf --> 0.351476).  Saving model ...\n",
      "After training train_\\20190401_20190412  Train_loss:0.714260 R2:0.333542 | Val_Loss:0.710201 |R2:0.339194 |Rate:0.701 |lr:0.001000\n",
      "After training train_\\20190523_20190604  Train_loss:0.643336 R2:0.344415 | Val_Loss:0.653014 |R2:0.348592 |Rate:0.697 |lr:0.001000\n",
      "After training train_\\20190617_20190628  Train_loss:0.506782 R2:0.356882 | Val_Loss:0.510074 |R2:0.364518 |Rate:0.696 |lr:0.001000\n",
      "After training train_\\20190723_20190731  Train_loss:0.438997 R2:0.360730 | Val_Loss:0.449678 |R2:0.357443 |Rate:0.676 |lr:0.001000\n",
      "Save here\n",
      "Epoch: 10 |Train_Loss:0.575844 |R2:0.348892|Val_Loss:0.580742 |R2:0.352437 |Rate:0.692 |lr:0.001000\n",
      "Test_Loss:0.405039 |R2:0.343110 |Rate:0.687 \n",
      "Validation R2 increased (0.351476 --> 0.352437).  Saving model ...\n",
      "After training train_\\20190401_20190412  Train_loss:0.713611 R2:0.334893 | Val_Loss:0.709549 |R2:0.340340 |Rate:0.701 |lr:0.001000\n",
      "After training train_\\20190523_20190604  Train_loss:0.642945 R2:0.345266 | Val_Loss:0.652599 |R2:0.349310 |Rate:0.696 |lr:0.001000\n",
      "After training train_\\20190617_20190628  Train_loss:0.506313 R2:0.357913 | Val_Loss:0.509755 |R2:0.365313 |Rate:0.696 |lr:0.001000\n",
      "After training train_\\20190723_20190731  Train_loss:0.439017 R2:0.360780 | Val_Loss:0.449649 |R2:0.357586 |Rate:0.676 |lr:0.001000\n",
      "Save here\n",
      "Epoch: 11 |Train_Loss:0.575471 |R2:0.349713|Val_Loss:0.580388 |R2:0.353137 |Rate:0.692 |lr:0.001000\n",
      "Test_Loss:0.404791 |R2:0.343752 |Rate:0.687 \n",
      "Validation R2 increased (0.352437 --> 0.353137).  Saving model ...\n",
      "After training train_\\20190401_20190412  Train_loss:0.713109 R2:0.335558 | Val_Loss:0.708873 |R2:0.341399 |Rate:0.703 |lr:0.001000\n",
      "After training train_\\20190523_20190604  Train_loss:0.642482 R2:0.346100 | Val_Loss:0.652331 |R2:0.349954 |Rate:0.696 |lr:0.001000\n",
      "After training train_\\20190617_20190628  Train_loss:0.506038 R2:0.358617 | Val_Loss:0.509623 |R2:0.365816 |Rate:0.697 |lr:0.001000\n",
      "After training train_\\20190723_20190731  Train_loss:0.439088 R2:0.360624 | Val_Loss:0.449641 |R2:0.357626 |Rate:0.677 |lr:0.001000\n",
      "Save here\n",
      "Epoch: 12 |Train_Loss:0.575179 |R2:0.350225|Val_Loss:0.580117 |R2:0.353699 |Rate:0.693 |lr:0.001000\n",
      "Test_Loss:0.404595 |R2:0.344255 |Rate:0.687 \n",
      "Validation R2 increased (0.353137 --> 0.353699).  Saving model ...\n",
      "After training train_\\20190401_20190412  Train_loss:0.712759 R2:0.336309 | Val_Loss:0.708487 |R2:0.342221 |Rate:0.704 |lr:0.001000\n",
      "After training train_\\20190523_20190604  Train_loss:0.642318 R2:0.346654 | Val_Loss:0.652049 |R2:0.350462 |Rate:0.696 |lr:0.001000\n",
      "After training train_\\20190617_20190628  Train_loss:0.505950 R2:0.359223 | Val_Loss:0.509294 |R2:0.366493 |Rate:0.698 |lr:0.001000\n",
      "After training train_\\20190723_20190731  Train_loss:0.439327 R2:0.360187 | Val_Loss:0.449780 |R2:0.357472 |Rate:0.677 |lr:0.001000\n",
      "Save here\n",
      "Epoch: 13 |Train_Loss:0.575089 |R2:0.350593|Val_Loss:0.579903 |R2:0.354162 |Rate:0.694 |lr:0.001000\n",
      "Test_Loss:0.404574 |R2:0.344370 |Rate:0.687 \n",
      "Validation R2 increased (0.353699 --> 0.354162).  Saving model ...\n",
      "After training train_\\20190401_20190412  Train_loss:0.712143 R2:0.337196 | Val_Loss:0.707960 |R2:0.343096 |Rate:0.704 |lr:0.001000\n",
      "After training train_\\20190523_20190604  Train_loss:0.642087 R2:0.347266 | Val_Loss:0.651810 |R2:0.350916 |Rate:0.696 |lr:0.001000\n",
      "After training train_\\20190617_20190628  Train_loss:0.505706 R2:0.359704 | Val_Loss:0.509165 |R2:0.366823 |Rate:0.699 |lr:0.001000\n",
      "After training train_\\20190723_20190731  Train_loss:0.439383 R2:0.360357 | Val_Loss:0.449686 |R2:0.357632 |Rate:0.678 |lr:0.001000\n",
      "Save here\n",
      "Epoch: 14 |Train_Loss:0.574830 |R2:0.351131|Val_Loss:0.579655 |R2:0.354617 |Rate:0.694 |lr:0.001000\n",
      "Test_Loss:0.404265 |R2:0.345106 |Rate:0.688 \n",
      "Validation R2 increased (0.354162 --> 0.354617).  Saving model ...\n",
      "After training train_\\20190401_20190412  Train_loss:0.711980 R2:0.337525 | Val_Loss:0.707645 |R2:0.343693 |Rate:0.704 |lr:0.001000\n",
      "After training train_\\20190523_20190604  Train_loss:0.642112 R2:0.347413 | Val_Loss:0.651597 |R2:0.351294 |Rate:0.696 |lr:0.001000\n",
      "After training train_\\20190617_20190628  Train_loss:0.505347 R2:0.360673 | Val_Loss:0.508994 |R2:0.367161 |Rate:0.700 |lr:0.001000\n",
      "After training train_\\20190723_20190731  Train_loss:0.439389 R2:0.360125 | Val_Loss:0.449687 |R2:0.357546 |Rate:0.677 |lr:0.001000\n",
      "Save here\n",
      "Epoch: 15 |Train_Loss:0.574707 |R2:0.351434|Val_Loss:0.579481 |R2:0.354924 |Rate:0.694 |lr:0.001000\n",
      "Test_Loss:0.404127 |R2:0.345404 |Rate:0.688 \n",
      "Validation R2 increased (0.354617 --> 0.354924).  Saving model ...\n",
      "After training train_\\20190401_20190412  Train_loss:0.711670 R2:0.338042 | Val_Loss:0.707244 |R2:0.344409 |Rate:0.704 |lr:0.001000\n",
      "After training train_\\20190523_20190604  Train_loss:0.641929 R2:0.347838 | Val_Loss:0.651446 |R2:0.351590 |Rate:0.696 |lr:0.001000\n",
      "After training train_\\20190617_20190628  Train_loss:0.505262 R2:0.360908 | Val_Loss:0.508957 |R2:0.367337 |Rate:0.700 |lr:0.001000\n",
      "After training train_\\20190723_20190731  Train_loss:0.439563 R2:0.359885 | Val_Loss:0.449900 |R2:0.357248 |Rate:0.677 |lr:0.001000\n",
      "Save here\n",
      "Epoch: 16 |Train_Loss:0.574606 |R2:0.351668|Val_Loss:0.579387 |R2:0.355146 |Rate:0.694 |lr:0.001000\n",
      "Test_Loss:0.404259 |R2:0.345209 |Rate:0.688 \n",
      "Validation R2 increased (0.354924 --> 0.355146).  Saving model ...\n",
      "After training train_\\20190401_20190412  Train_loss:0.711245 R2:0.338787 | Val_Loss:0.706882 |R2:0.345089 |Rate:0.704 |lr:0.001000\n",
      "After training train_\\20190523_20190604  Train_loss:0.641674 R2:0.348306 | Val_Loss:0.651370 |R2:0.351819 |Rate:0.695 |lr:0.001000\n",
      "After training train_\\20190617_20190628  Train_loss:0.505022 R2:0.361473 | Val_Loss:0.508919 |R2:0.367497 |Rate:0.700 |lr:0.001000\n",
      "After training train_\\20190723_20190731  Train_loss:0.439564 R2:0.360001 | Val_Loss:0.449919 |R2:0.357243 |Rate:0.677 |lr:0.001000\n",
      "Save here\n",
      "Epoch: 17 |Train_Loss:0.574376 |R2:0.352142|Val_Loss:0.579272 |R2:0.355412 |Rate:0.694 |lr:0.001000\n",
      "Test_Loss:0.404146 |R2:0.345540 |Rate:0.688 \n",
      "Validation R2 increased (0.355146 --> 0.355412).  Saving model ...\n",
      "After training train_\\20190401_20190412  Train_loss:0.711236 R2:0.338806 | Val_Loss:0.706637 |R2:0.345592 |Rate:0.704 |lr:0.001000\n",
      "After training train_\\20190523_20190604  Train_loss:0.641682 R2:0.348317 | Val_Loss:0.651190 |R2:0.352092 |Rate:0.696 |lr:0.001000\n",
      "After training train_\\20190617_20190628  Train_loss:0.505164 R2:0.361205 | Val_Loss:0.508787 |R2:0.367773 |Rate:0.699 |lr:0.001000\n",
      "After training train_\\20190723_20190731  Train_loss:0.439522 R2:0.359941 | Val_Loss:0.449838 |R2:0.357276 |Rate:0.677 |lr:0.001000\n",
      "Epoch: 18 |Train_Loss:0.574401 |R2:0.352067|Val_Loss:0.579113 |R2:0.355683 |Rate:0.694 |lr:0.001000\n",
      "Test_Loss:0.403925 |R2:0.346057 |Rate:0.688 \n",
      "Validation R2 increased (0.355412 --> 0.355683).  Saving model ...\n",
      "Done\n"
     ]
    },
    {
     "data": {
      "image/png": "[encoded data removed]",
      "text/plain": [
       "<Figure size 432x288 with 1 Axes>"
      ]
     },
     "metadata": {
      "needs_background": "light"
     },
     "output_type": "display_data"
    }
   ],
   "source": [
    "transformer.train(epochs=10, train_all=True, f='../../stock_price/train\\\\20190723_20190731.hdf',\n",
    "            val_size=0.2, test_round=1, save='train',patience=40)"
   ]
  },
  {
   "cell_type": "code",
   "execution_count": 16,
   "id": "b03d78a9",
   "metadata": {},
   "outputs": [
    {
     "name": "stdout",
     "output_type": "stream",
     "text": [
      "Learning Rate is set to 0.0005\n"
     ]
    },
    {
     "data": {
      "application/vnd.jupyter.widget-view+json": {
       "model_id": "de8d3a77be0d4e6590cdef5e2761a97a",
       "version_major": 2,
       "version_minor": 0
      },
      "text/plain": [
       "  0%|          | 0/2 [00:00<?, ?it/s]"
      ]
     },
     "metadata": {},
     "output_type": "display_data"
    },
    {
     "name": "stdout",
     "output_type": "stream",
     "text": [
      "After training train_\\20190401_20190412  Train_loss:0.682629 R2:0.391860 | Val_Loss:0.790918 |R2:0.267905 |Rate:0.656 |lr:0.000500\n",
      "After training train_\\20190523_20190604  Train_loss:0.601425 R2:0.429963 | Val_Loss:0.578054 |R2:0.484310 |Rate:0.736 |lr:0.000500\n",
      "After training train_\\20190617_20190628  Train_loss:0.482309 R2:0.416567 | Val_Loss:0.465209 |R2:0.457086 |Rate:0.727 |lr:0.000500\n",
      "After training train_\\20190723_20190731  Train_loss:0.419781 R2:0.415821 | Val_Loss:0.428744 |R2:0.427162 |Rate:0.690 |lr:0.000500\n",
      "Save here\n",
      "Epoch: 18 |Train_Loss:0.546536 |R2:0.413553|Val_Loss:0.565731 |R2:0.409116 |Rate:0.703 |lr:0.000500\n",
      "Test_Loss:0.476840 |R2:0.156816 |Rate:0.628 \n",
      "Validation R2 increased (-inf --> 0.409116).  Saving model ...\n",
      "After training train_\\20190401_20190412  Train_loss:0.637849 R2:0.464218 | Val_Loss:0.642056 |R2:0.466982 |Rate:0.738 |lr:0.000500\n",
      "After training train_\\20190523_20190604  Train_loss:0.581006 R2:0.462796 | Val_Loss:0.574892 |R2:0.492105 |Rate:0.738 |lr:0.000500\n",
      "After training train_\\20190617_20190628  Train_loss:0.475849 R2:0.427484 | Val_Loss:0.461467 |R2:0.466054 |Rate:0.729 |lr:0.000500\n",
      "After training train_\\20190723_20190731  Train_loss:0.416715 R2:0.425423 | Val_Loss:0.445525 |R2:0.405603 |Rate:0.672 |lr:0.000500\n",
      "Save here\n",
      "Epoch: 19 |Train_Loss:0.527855 |R2:0.444980|Val_Loss:0.530985 |R2:0.457686 |Rate:0.719 |lr:0.000500\n",
      "Test_Loss:0.516484 |R2:0.045071 |Rate:0.610 \n",
      "Validation R2 increased (0.409116 --> 0.457686).  Saving model ...\n",
      "Done\n"
     ]
    },
    {
     "data": {
      "image/png": "[encoded data removed]",
      "text/plain": [
       "<Figure size 432x288 with 1 Axes>"
      ]
     },
     "metadata": {
      "needs_background": "light"
     },
     "output_type": "display_data"
    }
   ],
   "source": [
    "transformer._selct_optim('adamW')\n",
    "transformer._selct_scheduler(opt='plateau',patience=10, factor=0.1, step=4000)\n",
    "transformer._set_lr(0.0005)\n",
    "transformer.train(epochs=2, train_all=True, f='../../stock_price/train\\\\20190723_20190731.hdf',\n",
    "            val_size=0.2, test_round=1, save='train',patience=40)"
   ]
  },
  {
   "cell_type": "code",
   "execution_count": 17,
   "id": "395e1fbf",
   "metadata": {},
   "outputs": [
    {
     "name": "stdout",
     "output_type": "stream",
     "text": [
      "Learning Rate is set to 0.0005\n"
     ]
    },
    {
     "data": {
      "application/vnd.jupyter.widget-view+json": {
       "model_id": "53461fcb9b114a74952dc021de5ebb04",
       "version_major": 2,
       "version_minor": 0
      },
      "text/plain": [
       "  0%|          | 0/10 [00:00<?, ?it/s]"
      ]
     },
     "metadata": {},
     "output_type": "display_data"
    },
    {
     "name": "stdout",
     "output_type": "stream",
     "text": [
      "After training train_\\20190401_20190412  Train_loss:0.836770 R2:0.107672 | Val_Loss:0.773245 |R2:0.221451 |Rate:0.665 |lr:0.000500\n",
      "After training train_\\20190523_20190604  Train_loss:0.688107 R2:0.250729 | Val_Loss:0.676569 |R2:0.297481 |Rate:0.687 |lr:0.000500\n",
      "After training train_\\20190617_20190628  Train_loss:0.527447 R2:0.308396 | Val_Loss:0.524162 |R2:0.325864 |Rate:0.684 |lr:0.000500\n",
      "After training train_\\20190723_20190731  Train_loss:0.448385 R2:0.327837 | Val_Loss:0.452712 |R2:0.339513 |Rate:0.672 |lr:0.000500\n",
      "Save here\n",
      "Epoch: 19 |Train_Loss:0.625177 |R2:0.248659|Val_Loss:0.606672 |R2:0.296077 |Rate:0.677 |lr:0.000500\n",
      "Test_Loss:0.410943 |R2:0.322487 |Rate:0.681 \n",
      "Validation R2 increased (-inf --> 0.296077).  Saving model ...\n",
      "After training train_\\20190401_20190412  Train_loss:0.750009 R2:0.271557 | Val_Loss:0.736784 |R2:0.289615 |Rate:0.689 |lr:0.000500\n",
      "After training train_\\20190523_20190604  Train_loss:0.663028 R2:0.303874 | Val_Loss:0.666921 |R2:0.316631 |Rate:0.690 |lr:0.000500\n",
      "After training train_\\20190617_20190628  Train_loss:0.517440 R2:0.333310 | Val_Loss:0.516354 |R2:0.348122 |Rate:0.690 |lr:0.000500\n",
      "After training train_\\20190723_20190731  Train_loss:0.446072 R2:0.342024 | Val_Loss:0.451246 |R2:0.349393 |Rate:0.673 |lr:0.000500\n",
      "Save here\n",
      "Epoch: 20 |Train_Loss:0.594137 |R2:0.312691|Val_Loss:0.592826 |R2:0.325940 |Rate:0.685 |lr:0.000500\n",
      "Test_Loss:0.407808 |R2:0.334244 |Rate:0.685 \n",
      "Validation R2 increased (0.296077 --> 0.325940).  Saving model ...\n",
      "After training train_\\20190401_20190412  Train_loss:0.733711 R2:0.302135 | Val_Loss:0.725532 |R2:0.310428 |Rate:0.698 |lr:0.000500\n",
      "After training train_\\20190523_20190604  Train_loss:0.657569 R2:0.317221 | Val_Loss:0.661363 |R2:0.328693 |Rate:0.693 |lr:0.000500\n",
      "After training train_\\20190617_20190628  Train_loss:0.514908 R2:0.340216 | Val_Loss:0.514193 |R2:0.355209 |Rate:0.693 |lr:0.000500\n",
      "After training train_\\20190723_20190731  Train_loss:0.445462 R2:0.345972 | Val_Loss:0.451378 |R2:0.351778 |Rate:0.672 |lr:0.000500\n",
      "Save here\n",
      "Epoch: 21 |Train_Loss:0.587912 |R2:0.326386|Val_Loss:0.588116 |R2:0.336527 |Rate:0.689 |lr:0.000500\n",
      "Test_Loss:0.407462 |R2:0.336389 |Rate:0.686 \n",
      "Validation R2 increased (0.325940 --> 0.336527).  Saving model ...\n",
      "After training train_\\20190401_20190412  Train_loss:0.727780 R2:0.311692 | Val_Loss:0.720632 |R2:0.319084 |Rate:0.699 |lr:0.000500\n",
      "After training train_\\20190523_20190604  Train_loss:0.652551 R2:0.325763 | Val_Loss:0.658954 |R2:0.333925 |Rate:0.692 |lr:0.000500\n",
      "After training train_\\20190617_20190628  Train_loss:0.512632 R2:0.345564 | Val_Loss:0.513208 |R2:0.358435 |Rate:0.695 |lr:0.000500\n",
      "After training train_\\20190723_20190731  Train_loss:0.444891 R2:0.348568 | Val_Loss:0.451463 |R2:0.352883 |Rate:0.675 |lr:0.000500\n",
      "Save here\n",
      "Epoch: 22 |Train_Loss:0.584463 |R2:0.332897|Val_Loss:0.586064 |R2:0.341082 |Rate:0.690 |lr:0.000500\n",
      "Test_Loss:0.407287 |R2:0.337337 |Rate:0.686 \n",
      "Validation R2 increased (0.336527 --> 0.341082).  Saving model ...\n",
      "After training train_\\20190401_20190412  Train_loss:0.727633 R2:0.310794 | Val_Loss:0.718159 |R2:0.323487 |Rate:0.700 |lr:0.000500\n",
      "After training train_\\20190523_20190604  Train_loss:0.652137 R2:0.327136 | Val_Loss:0.657700 |R2:0.336809 |Rate:0.693 |lr:0.000500\n",
      "After training train_\\20190617_20190628  Train_loss:0.512080 R2:0.347222 | Val_Loss:0.512466 |R2:0.360477 |Rate:0.696 |lr:0.000500\n",
      "After training train_\\20190723_20190731  Train_loss:0.444854 R2:0.350357 | Val_Loss:0.451229 |R2:0.353841 |Rate:0.675 |lr:0.000500\n",
      "Save here\n",
      "Epoch: 23 |Train_Loss:0.584176 |R2:0.333877|Val_Loss:0.584889 |R2:0.343654 |Rate:0.691 |lr:0.000500\n",
      "Test_Loss:0.406834 |R2:0.338673 |Rate:0.686 \n",
      "Validation R2 increased (0.341082 --> 0.343654).  Saving model ...\n",
      "After training train_\\20190401_20190412  Train_loss:0.722723 R2:0.319885 | Val_Loss:0.716469 |R2:0.326637 |Rate:0.700 |lr:0.000500\n",
      "After training train_\\20190523_20190604  Train_loss:0.652793 R2:0.325590 | Val_Loss:0.656641 |R2:0.339015 |Rate:0.692 |lr:0.000500\n",
      "After training train_\\20190617_20190628  Train_loss:0.511468 R2:0.350055 | Val_Loss:0.511842 |R2:0.362078 |Rate:0.696 |lr:0.000500\n",
      "After training train_\\20190723_20190731  Train_loss:0.444196 R2:0.351217 | Val_Loss:0.451163 |R2:0.354730 |Rate:0.674 |lr:0.000500\n",
      "Save here\n",
      "Epoch: 24 |Train_Loss:0.582795 |R2:0.336687|Val_Loss:0.584029 |R2:0.345615 |Rate:0.691 |lr:0.000500\n",
      "Test_Loss:0.406761 |R2:0.339224 |Rate:0.687 \n",
      "Validation R2 increased (0.343654 --> 0.345615).  Saving model ...\n",
      "After training train_\\20190401_20190412  Train_loss:0.720976 R2:0.322693 | Val_Loss:0.715358 |R2:0.328344 |Rate:0.700 |lr:0.000500\n",
      "After training train_\\20190523_20190604  Train_loss:0.648374 R2:0.333934 | Val_Loss:0.655990 |R2:0.340490 |Rate:0.693 |lr:0.000500\n",
      "After training train_\\20190617_20190628  Train_loss:0.510283 R2:0.351110 | Val_Loss:0.511219 |R2:0.363535 |Rate:0.696 |lr:0.000500\n",
      "After training train_\\20190723_20190731  Train_loss:0.443765 R2:0.351965 | Val_Loss:0.450641 |R2:0.355909 |Rate:0.676 |lr:0.000500\n",
      "Save here\n",
      "Epoch: 25 |Train_Loss:0.580850 |R2:0.339925|Val_Loss:0.583302 |R2:0.347070 |Rate:0.691 |lr:0.000500\n",
      "Test_Loss:0.406190 |R2:0.340578 |Rate:0.687 \n",
      "Validation R2 increased (0.345615 --> 0.347070).  Saving model ...\n",
      "After training train_\\20190401_20190412  Train_loss:0.720356 R2:0.323825 | Val_Loss:0.714656 |R2:0.329665 |Rate:0.700 |lr:0.000500\n",
      "After training train_\\20190523_20190604  Train_loss:0.647786 R2:0.335460 | Val_Loss:0.655473 |R2:0.341658 |Rate:0.693 |lr:0.000500\n",
      "After training train_\\20190617_20190628  Train_loss:0.509319 R2:0.353444 | Val_Loss:0.510756 |R2:0.364602 |Rate:0.695 |lr:0.000500\n",
      "After training train_\\20190723_20190731  Train_loss:0.443727 R2:0.352439 | Val_Loss:0.450532 |R2:0.356412 |Rate:0.676 |lr:0.000500\n",
      "Save here\n",
      "Epoch: 26 |Train_Loss:0.580297 |R2:0.341292|Val_Loss:0.582854 |R2:0.348084 |Rate:0.691 |lr:0.000500\n",
      "Test_Loss:0.405979 |R2:0.341305 |Rate:0.687 \n",
      "Validation R2 increased (0.347070 --> 0.348084).  Saving model ...\n",
      "After training train_\\20190401_20190412  Train_loss:0.718532 R2:0.327100 | Val_Loss:0.713713 |R2:0.331172 |Rate:0.700 |lr:0.000500\n",
      "After training train_\\20190523_20190604  Train_loss:0.651229 R2:0.328865 | Val_Loss:0.646020 |R2:0.360450 |Rate:0.698 |lr:0.000500\n",
      "After training train_\\20190617_20190628  Train_loss:0.509063 R2:0.354212 | Val_Loss:0.510307 |R2:0.365578 |Rate:0.695 |lr:0.000500\n",
      "After training train_\\20190723_20190731  Train_loss:0.443316 R2:0.354155 | Val_Loss:0.450371 |R2:0.356741 |Rate:0.676 |lr:0.000500\n",
      "Epoch: 27 |Train_Loss:0.580535 |R2:0.341083|Val_Loss:0.580103 |R2:0.353486 |Rate:0.692 |lr:0.000500\n",
      "Test_Loss:0.405639 |R2:0.342234 |Rate:0.687 \n",
      "Validation R2 increased (0.348084 --> 0.353486).  Saving model ...\n",
      "After training train_\\20190401_20190412  Train_loss:0.718212 R2:0.327305 | Val_Loss:0.712737 |R2:0.332903 |Rate:0.700 |lr:0.000500\n",
      "After training train_\\20190523_20190604  Train_loss:0.645784 R2:0.338550 | Val_Loss:0.654435 |R2:0.343811 |Rate:0.694 |lr:0.000500\n",
      "After training train_\\20190617_20190628  Train_loss:0.508232 R2:0.355801 | Val_Loss:0.509997 |R2:0.366340 |Rate:0.696 |lr:0.000500\n",
      "After training train_\\20190723_20190731  Train_loss:0.443171 R2:0.354284 | Val_Loss:0.450217 |R2:0.357196 |Rate:0.676 |lr:0.000500\n",
      "Save here\n",
      "Epoch: 28 |Train_Loss:0.578849 |R2:0.343985|Val_Loss:0.581847 |R2:0.350063 |Rate:0.691 |lr:0.000500\n",
      "Test_Loss:0.405428 |R2:0.342863 |Rate:0.687 \n",
      "EarlyStopping counter: 1 out of 40\n",
      "Done\n"
     ]
    },
    {
     "data": {
      "image/png": "[encoded data removed]",
      "text/plain": [
       "<Figure size 432x288 with 1 Axes>"
      ]
     },
     "metadata": {
      "needs_background": "light"
     },
     "output_type": "display_data"
    }
   ],
   "source": [
    "transformer._selct_optim('sgd')\n",
    "transformer._selct_scheduler(opt='plateau',patience=10, factor=0.1, step=4000)\n",
    "transformer._set_lr(0.0005)\n",
    "transformer.train(epochs=10, train_all=True, f='../../stock_price/train\\\\20190723_20190731.hdf',\n",
    "            val_size=0.2, test_round=1, save='train',patience=40)"
   ]
  },
  {
   "cell_type": "code",
   "execution_count": null,
   "id": "89b8f041",
   "metadata": {},
   "outputs": [],
   "source": []
  }
 ],
 "metadata": {
  "kernelspec": {
   "display_name": "Python [conda env:optiver_kaggle]",
   "language": "python",
   "name": "conda-env-optiver_kaggle-py"
  },
  "language_info": {
   "codemirror_mode": {
    "name": "ipython",
    "version": 3
   },
   "file_extension": ".py",
   "mimetype": "text/x-python",
   "name": "python",
   "nbconvert_exporter": "python",
   "pygments_lexer": "ipython3",
   "version": "3.8.11"
  }
 },
 "nbformat": 4,
 "nbformat_minor": 5
}
