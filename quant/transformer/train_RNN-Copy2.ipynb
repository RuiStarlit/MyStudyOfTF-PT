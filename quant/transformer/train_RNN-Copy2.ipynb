{
 "cells": [
  {
   "cell_type": "code",
   "execution_count": 1,
   "metadata": {},
   "outputs": [],
   "source": [
    "import torch\n",
    "import torch.nn as nn\n",
    "import torch.nn.functional as F\n",
    "import numpy as np\n",
    "import random\n",
    "import time\n",
    "import glob\n",
    "import gc\n",
    "import sys\n",
    "\n",
    "\n",
    "%matplotlib notebook\n",
    "import matplotlib.pyplot as plt\n",
    "\n",
    "from tqdm.auto import tqdm\n",
    "\n",
    "from utils1 import *\n",
    "\n",
    "import warnings\n",
    "warnings.filterwarnings('ignore')"
   ]
  },
  {
   "cell_type": "code",
   "execution_count": 2,
   "metadata": {},
   "outputs": [],
   "source": [
    "from train_RNN import *\n",
    "assert torch.cuda.is_available()\n",
    "device = 'cuda'"
   ]
  },
  {
   "cell_type": "code",
   "execution_count": 3,
   "metadata": {},
   "outputs": [],
   "source": [
    "train_f = sorted(glob.glob('train_/*.hdf'))\n",
    "# train_f.remove('../stock_price/train\\\\20190425_20190510.hdf')\n",
    "test_f = sorted(glob.glob('test_/*.hdf'))"
   ]
  },
  {
   "cell_type": "code",
   "execution_count": 4,
   "metadata": {
    "scrolled": true
   },
   "outputs": [
    {
     "data": {
      "text/plain": [
       "['train_\\\\20190401_20190412.hdf',\n",
       " 'train_\\\\20190412_20190424.hdf',\n",
       " 'train_\\\\20190425_20190510.hdf',\n",
       " 'train_\\\\20190510_20190522.hdf',\n",
       " 'train_\\\\20190523_20190604.hdf',\n",
       " 'train_\\\\20190604_20190617.hdf',\n",
       " 'train_\\\\20190617_20190628.hdf',\n",
       " 'train_\\\\20190628_20190710.hdf',\n",
       " 'train_\\\\20190710_20190723.hdf',\n",
       " 'train_\\\\20190723_20190731.hdf']"
      ]
     },
     "execution_count": 4,
     "metadata": {},
     "output_type": "execute_result"
    }
   ],
   "source": [
    "train_f"
   ]
  },
  {
   "cell_type": "code",
   "execution_count": 5,
   "metadata": {
    "scrolled": true
   },
   "outputs": [
    {
     "data": {
      "text/plain": [
       "174"
      ]
     },
     "execution_count": 5,
     "metadata": {},
     "output_type": "execute_result"
    }
   ],
   "source": [
    "len(test_f)"
   ]
  },
  {
   "cell_type": "code",
   "execution_count": 6,
   "metadata": {},
   "outputs": [],
   "source": [
    "# Hyperparams\n",
    "enc_in = 15\n",
    "dec_in = 1\n",
    "c_out = 1 \n",
    "seq_len = 20\n",
    "out_len = 1\n",
    "d_model = 32\n",
    "d_ff = 16\n",
    "n_heads = 2\n",
    "label_len = 10\n",
    "e_layers = 3\n",
    "d_layers = 2\n",
    "scaler = False\n",
    "decay = 1000\n",
    "opt_s = False\n",
    "\n",
    "\n",
    "dropout = 0.1\n",
    "batch_size = 256\n",
    "val_batch = 512\n",
    "lr = 0.001"
   ]
  },
  {
   "cell_type": "code",
   "execution_count": 7,
   "metadata": {},
   "outputs": [],
   "source": [
    "RNN = Train_RNN(enc_in, dec_in, c_out, seq_len, out_len, d_model, d_ff, n_heads, \n",
    "                                e_layers, d_layers, label_len,\n",
    "                                dropout, batch_size, val_batch, lr, device, train_f, test_f, scaler,\n",
    "                                decay,opt_s)"
   ]
  },
  {
   "cell_type": "code",
   "execution_count": 8,
   "metadata": {
    "scrolled": false
   },
   "outputs": [
    {
     "name": "stdout",
     "output_type": "stream",
     "text": [
      "RNN(\n",
      "  (rnn): LSTM(15, 32, num_layers=2, batch_first=True, dropout=0.1)\n",
      "  (fc9): Linear(in_features=64, out_features=64, bias=True)\n",
      "  (fc10): Linear(in_features=64, out_features=1, bias=True)\n",
      ")\n"
     ]
    }
   ],
   "source": [
    "RNN._build_model('rnn')"
   ]
  },
  {
   "cell_type": "code",
   "execution_count": null,
   "metadata": {},
   "outputs": [],
   "source": [
    "print(\"Total number of paramerters in networks is {}  \".format(sum(x.numel() for x in transformer.model.parameters())))"
   ]
  },
  {
   "cell_type": "code",
   "execution_count": 9,
   "metadata": {},
   "outputs": [
    {
     "data": {
      "text/plain": [
       "'rnn_12-17_00:39'"
      ]
     },
     "execution_count": 9,
     "metadata": {},
     "output_type": "execute_result"
    }
   ],
   "source": [
    "RNN.name"
   ]
  },
  {
   "cell_type": "code",
   "execution_count": 10,
   "metadata": {},
   "outputs": [],
   "source": [
    "RNN._selct_optim('adam')\n",
    "RNN._selct_scheduler(patience=10,factor=0.1)"
   ]
  },
  {
   "cell_type": "code",
   "execution_count": 11,
   "metadata": {},
   "outputs": [],
   "source": [
    "train_file_name = '../stock_price/train/20190723_20190731.hdf'\n",
    "test_file_name = '../stock_price/test/IC2003_20190807.hdf'"
   ]
  },
  {
   "cell_type": "code",
   "execution_count": null,
   "metadata": {
    "scrolled": false
   },
   "outputs": [
    {
     "data": {
      "application/vnd.jupyter.widget-view+json": {
       "model_id": "678717c2e43c4132aeb7194aa585465b",
       "version_major": 2,
       "version_minor": 0
      },
      "text/plain": [
       "  0%|          | 0/100 [00:00<?, ?it/s]"
      ]
     },
     "metadata": {},
     "output_type": "display_data"
    },
    {
     "name": "stdout",
     "output_type": "stream",
     "text": [
      "Save here\n",
      "Epoch:  1 |Train_Loss:0.913147 |R2:0.257993|Val_Loss:0.457398 |R2:0.343277 |Rate:0.689 |lr:0.001000\n",
      "Validation R2 increased (-inf --> 0.343277).  Saving model ...\n",
      "Save here\n",
      "Epoch:  2 |Train_Loss:0.867178 |R2:0.286485|Val_Loss:0.456057 |R2:0.345823 |Rate:0.690 |lr:0.001000\n",
      "Validation R2 increased (0.343277 --> 0.345823).  Saving model ...\n",
      "Save here\n",
      "Epoch:  3 |Train_Loss:0.857470 |R2:0.293178|Val_Loss:0.454264 |R2:0.347885 |Rate:0.690 |lr:0.001000\n",
      "Validation R2 increased (0.345823 --> 0.347885).  Saving model ...\n",
      "Save here\n",
      "Epoch:  4 |Train_Loss:0.851200 |R2:0.297351|Val_Loss:0.452490 |R2:0.350004 |Rate:0.691 |lr:0.001000\n",
      "Validation R2 increased (0.347885 --> 0.350004).  Saving model ...\n",
      "Save here\n",
      "Epoch:  5 |Train_Loss:0.846557 |R2:0.300297|Val_Loss:0.450052 |R2:0.352705 |Rate:0.692 |lr:0.001000\n",
      "Validation R2 increased (0.350004 --> 0.352705).  Saving model ...\n",
      "Save here\n",
      "Epoch:  6 |Train_Loss:0.841881 |R2:0.303225|Val_Loss:0.448535 |R2:0.354468 |Rate:0.692 |lr:0.001000\n",
      "Validation R2 increased (0.352705 --> 0.354468).  Saving model ...\n",
      "Save here\n",
      "Epoch:  7 |Train_Loss:0.838219 |R2:0.305300|Val_Loss:0.447588 |R2:0.355660 |Rate:0.692 |lr:0.001000\n",
      "Validation R2 increased (0.354468 --> 0.355660).  Saving model ...\n",
      "Save here\n",
      "Epoch:  8 |Train_Loss:0.834899 |R2:0.307056|Val_Loss:0.447055 |R2:0.356496 |Rate:0.692 |lr:0.001000\n",
      "Validation R2 increased (0.355660 --> 0.356496).  Saving model ...\n",
      "Save here\n",
      "Epoch:  9 |Train_Loss:0.831937 |R2:0.308524|Val_Loss:0.446512 |R2:0.357240 |Rate:0.692 |lr:0.001000\n",
      "Validation R2 increased (0.356496 --> 0.357240).  Saving model ...\n",
      "Save here\n",
      "Epoch: 10 |Train_Loss:0.828546 |R2:0.310232|Val_Loss:0.446157 |R2:0.357691 |Rate:0.692 |lr:0.001000\n",
      "Validation R2 increased (0.357240 --> 0.357691).  Saving model ...\n",
      "Save here\n",
      "Epoch: 11 |Train_Loss:0.825896 |R2:0.311426|Val_Loss:0.445873 |R2:0.358250 |Rate:0.693 |lr:0.001000\n",
      "Validation R2 increased (0.357691 --> 0.358250).  Saving model ...\n"
     ]
    }
   ],
   "source": [
    "RNN.train(epochs=100, train_all=True, f=train_file_name,\n",
    "             val_all=True, testfile=test_file_name, save='train',continued =0)"
   ]
  },
  {
   "cell_type": "code",
   "execution_count": null,
   "metadata": {},
   "outputs": [],
   "source": [
    "RNN._set_lr(0.0002)"
   ]
  },
  {
   "cell_type": "code",
   "execution_count": null,
   "metadata": {
    "scrolled": false
   },
   "outputs": [],
   "source": [
    "RNN.train(epochs=100, train_all=True, f=train_file_name,\n",
    "             val_all=True, testfile=test_file_name, save='train')"
   ]
  },
  {
   "cell_type": "code",
   "execution_count": null,
   "metadata": {},
   "outputs": [],
   "source": [
    "RNN.test_all()"
   ]
  },
  {
   "cell_type": "code",
   "execution_count": null,
   "metadata": {
    "scrolled": false
   },
   "outputs": [],
   "source": [
    "RNN._set_lr(0.00002)\n",
    "RNN.train(epochs=100, train_all=True, f=train_file_name,\n",
    "             val_all=True, testfile=test_file_name, save='train')"
   ]
  },
  {
   "cell_type": "code",
   "execution_count": null,
   "metadata": {},
   "outputs": [],
   "source": [
    "RNN._set_lr(0.000005)\n",
    "RNN.train(epochs=100, train_all=True, f=train_file_name,\n",
    "             val_all=True, testfile=test_file_name, save='train')"
   ]
  },
  {
   "cell_type": "code",
   "execution_count": null,
   "metadata": {},
   "outputs": [],
   "source": []
  }
 ],
 "metadata": {
  "kernelspec": {
   "display_name": "Python [conda env:optiver_kaggle]",
   "language": "python",
   "name": "conda-env-optiver_kaggle-py"
  },
  "language_info": {
   "codemirror_mode": {
    "name": "ipython",
    "version": 3
   },
   "file_extension": ".py",
   "mimetype": "text/x-python",
   "name": "python",
   "nbconvert_exporter": "python",
   "pygments_lexer": "ipython3",
   "version": "3.8.11"
  }
 },
 "nbformat": 4,
 "nbformat_minor": 4
}
