{
 "cells": [
  {
   "cell_type": "code",
   "execution_count": 1,
   "id": "d43bf93a",
   "metadata": {},
   "outputs": [],
   "source": [
    "import h5py\n",
    "import numpy as np\n",
    "from tqdm.notebook import tqdm\n",
    "import os\n",
    "import glob\n",
    "import matplotlib.pyplot as plt\n",
    "import time\n",
    "\n",
    "from train_transformer import *\n",
    "\n",
    "from utils import *\n",
    "from models import *\n",
    "\n",
    "import warnings\n",
    "warnings.filterwarnings('ignore')\n",
    "\n",
    "assert torch.cuda.is_available()\n",
    "device = 'cuda'"
   ]
  },
  {
   "cell_type": "code",
   "execution_count": 2,
   "id": "149174f9",
   "metadata": {},
   "outputs": [],
   "source": [
    "train_f = sorted(glob.glob('train_/*.hdf'))\n",
    "# train_f.remove('../../stock_price/train\\\\20190425_20190510.hdf')\n",
    "test_f = sorted(glob.glob('test_/*.hdf'))\n",
    "# test_f.remove('../stock_price/test\\IC2003_20191018.hdf') # batch为256时，第71个batch大小为2， 不足以用于预测"
   ]
  },
  {
   "cell_type": "code",
   "execution_count": 3,
   "id": "f8f8801c",
   "metadata": {},
   "outputs": [
    {
     "data": {
      "text/plain": [
       "['train_\\\\20190401_20190412.hdf',\n",
       " 'train_\\\\20190523_20190604.hdf',\n",
       " 'train_\\\\20190617_20190628.hdf',\n",
       " 'train_\\\\20190723_20190731.hdf']"
      ]
     },
     "execution_count": 3,
     "metadata": {},
     "output_type": "execute_result"
    }
   ],
   "source": [
    "train_f = [train_f[0], train_f[4], train_f[6],train_f[-1]]\n",
    "# train_f = train_f[-6:]\n",
    "train_f"
   ]
  },
  {
   "cell_type": "code",
   "execution_count": 4,
   "id": "b0ec5e2c",
   "metadata": {},
   "outputs": [],
   "source": [
    "# Hyperparams\n",
    "enc_in = 15\n",
    "dec_in = 2\n",
    "c_out = 1 \n",
    "seq_len = 20\n",
    "out_len = 1\n",
    "d_model = 32\n",
    "d_ff = 16\n",
    "n_heads = 4\n",
    "label_len = 10\n",
    "e_layers = 2\n",
    "d_layers = 2\n",
    "scaler = False\n",
    "opt_s = False\n",
    "\n",
    "decay = 100\n",
    "dropout = 0.1\n",
    "batch_size = 256\n",
    "val_batch = 512\n",
    "lr = 0.001"
   ]
  },
  {
   "cell_type": "code",
   "execution_count": 5,
   "id": "6c58eedd",
   "metadata": {},
   "outputs": [],
   "source": [
    "transformer = Train_transformer(enc_in, dec_in, c_out, seq_len, out_len, d_model, d_ff, n_heads, \n",
    "                                e_layers, d_layers, label_len,\n",
    "                                dropout, batch_size, val_batch, lr,\n",
    "                              device, train_f, test_f,scaler, decay, opt_s)"
   ]
  },
  {
   "cell_type": "code",
   "execution_count": 6,
   "id": "f0221e1f",
   "metadata": {
    "scrolled": true
   },
   "outputs": [
    {
     "name": "stdout",
     "output_type": "stream",
     "text": [
      "Transformer_LSTM(\n",
      "  (encoder): LSTM(15, 32, num_layers=2, batch_first=True, dropout=0.1)\n",
      "  (decoder): LSTM(2, 32, num_layers=2, batch_first=True, dropout=0.1)\n",
      "  (attn): AttentionLayer(\n",
      "    (inner_attention): Attention()\n",
      "    (query_projection): Linear(in_features=32, out_features=64, bias=True)\n",
      "    (key_projection): Linear(in_features=32, out_features=64, bias=True)\n",
      "    (value_projection): Linear(in_features=32, out_features=64, bias=True)\n",
      "    (out_projection): Linear(in_features=64, out_features=32, bias=True)\n",
      "  )\n",
      "  (norm): LayerNorm((32,), eps=1e-05, elementwise_affine=True)\n",
      "  (d_fc1): Linear(in_features=320, out_features=64, bias=True)\n",
      "  (d_fc2): Linear(in_features=64, out_features=32, bias=True)\n",
      "  (out_fc1): Linear(in_features=160, out_features=64, bias=True)\n",
      "  (out_fc2): Linear(in_features=64, out_features=64, bias=True)\n",
      "  (out_fc3): Linear(in_features=64, out_features=32, bias=True)\n",
      "  (out_fc4): Linear(in_features=32, out_features=1, bias=True)\n",
      ")\n"
     ]
    }
   ],
   "source": [
    "transformer._build_model(opt=None, m='lstm')"
   ]
  },
  {
   "cell_type": "code",
   "execution_count": 7,
   "id": "db26e4ca",
   "metadata": {},
   "outputs": [],
   "source": [
    "transformer._selct_criterion('huber', beta=0.2)"
   ]
  },
  {
   "cell_type": "code",
   "execution_count": 8,
   "id": "84b1d1be",
   "metadata": {},
   "outputs": [
    {
     "name": "stdout",
     "output_type": "stream",
     "text": [
      "Total number of paramerters in networks is 75457  \n"
     ]
    }
   ],
   "source": [
    "print(\"Total number of paramerters in networks is {}  \".format(sum(x.numel() for x in transformer.model.parameters())))"
   ]
  },
  {
   "cell_type": "code",
   "execution_count": 9,
   "id": "72698579",
   "metadata": {},
   "outputs": [],
   "source": [
    "transformer._selct_optim('adam')\n",
    "transformer._selct_scheduler(opt='plateau',patience=10, factor=0.1, step=1000)\n",
    "# Informer._selct_scheduler(opt='cyclic',base_lr=0.001, max_lr=0.005)"
   ]
  },
  {
   "cell_type": "code",
   "execution_count": 10,
   "id": "f8596c23",
   "metadata": {},
   "outputs": [
    {
     "ename": "AttributeError",
     "evalue": "Only support Noam Schedule now",
     "output_type": "error",
     "traceback": [
      "\u001b[1;31m---------------------------------------------------------------------------\u001b[0m",
      "\u001b[1;31mAttributeError\u001b[0m                            Traceback (most recent call last)",
      "\u001b[1;32mC:\\Users\\RUISAV~1\\AppData\\Local\\Temp/ipykernel_4728/3522595466.py\u001b[0m in \u001b[0;36m<module>\u001b[1;34m\u001b[0m\n\u001b[1;32m----> 1\u001b[1;33m \u001b[0mtransformer\u001b[0m\u001b[1;33m.\u001b[0m\u001b[0mpreview_noam\u001b[0m\u001b[1;33m(\u001b[0m\u001b[1;33m)\u001b[0m\u001b[1;33m\u001b[0m\u001b[1;33m\u001b[0m\u001b[0m\n\u001b[0m",
      "\u001b[1;32mD:\\python_project\\jupyter\\quant\\transformer\\train_transformer.py\u001b[0m in \u001b[0;36mpreview_noam\u001b[1;34m(self)\u001b[0m\n\u001b[0;32m    159\u001b[0m     \u001b[1;32mdef\u001b[0m \u001b[0mpreview_noam\u001b[0m\u001b[1;33m(\u001b[0m\u001b[0mself\u001b[0m\u001b[1;33m)\u001b[0m\u001b[1;33m:\u001b[0m\u001b[1;33m\u001b[0m\u001b[1;33m\u001b[0m\u001b[0m\n\u001b[0;32m    160\u001b[0m         \u001b[1;32mif\u001b[0m \u001b[0mself\u001b[0m\u001b[1;33m.\u001b[0m\u001b[0mnoam\u001b[0m \u001b[1;32mis\u001b[0m \u001b[1;32mFalse\u001b[0m\u001b[1;33m:\u001b[0m\u001b[1;33m\u001b[0m\u001b[1;33m\u001b[0m\u001b[0m\n\u001b[1;32m--> 161\u001b[1;33m             \u001b[1;32mraise\u001b[0m \u001b[0mAttributeError\u001b[0m\u001b[1;33m(\u001b[0m\u001b[1;34m'Only support Noam Schedule now'\u001b[0m\u001b[1;33m)\u001b[0m\u001b[1;33m\u001b[0m\u001b[1;33m\u001b[0m\u001b[0m\n\u001b[0m\u001b[0;32m    162\u001b[0m         \u001b[0mnoam\u001b[0m \u001b[1;33m=\u001b[0m \u001b[0mself\u001b[0m\u001b[1;33m.\u001b[0m\u001b[0mscheduler\u001b[0m\u001b[1;33m\u001b[0m\u001b[1;33m\u001b[0m\u001b[0m\n\u001b[0;32m    163\u001b[0m         \u001b[0mplt\u001b[0m\u001b[1;33m.\u001b[0m\u001b[0mplot\u001b[0m\u001b[1;33m(\u001b[0m\u001b[0mnp\u001b[0m\u001b[1;33m.\u001b[0m\u001b[0marange\u001b[0m\u001b[1;33m(\u001b[0m\u001b[1;36m1\u001b[0m\u001b[1;33m,\u001b[0m \u001b[1;36m20000\u001b[0m\u001b[1;33m)\u001b[0m\u001b[1;33m,\u001b[0m \u001b[1;33m[\u001b[0m\u001b[1;33m[\u001b[0m\u001b[0mnoam\u001b[0m\u001b[1;33m.\u001b[0m\u001b[0mrate\u001b[0m\u001b[1;33m(\u001b[0m\u001b[0mi\u001b[0m\u001b[1;33m)\u001b[0m\u001b[1;33m]\u001b[0m \u001b[1;32mfor\u001b[0m \u001b[0mi\u001b[0m \u001b[1;32min\u001b[0m \u001b[0mrange\u001b[0m\u001b[1;33m(\u001b[0m\u001b[1;36m1\u001b[0m\u001b[1;33m,\u001b[0m \u001b[1;36m20000\u001b[0m\u001b[1;33m)\u001b[0m\u001b[1;33m]\u001b[0m\u001b[1;33m)\u001b[0m\u001b[1;33m\u001b[0m\u001b[1;33m\u001b[0m\u001b[0m\n",
      "\u001b[1;31mAttributeError\u001b[0m: Only support Noam Schedule now"
     ]
    }
   ],
   "source": [
    "transformer.preview_noam()"
   ]
  },
  {
   "cell_type": "code",
   "execution_count": 10,
   "id": "9d98b93b",
   "metadata": {},
   "outputs": [],
   "source": [
    "transformer.val_every=True\n",
    "transformer.test_every = False"
   ]
  },
  {
   "cell_type": "code",
   "execution_count": 11,
   "id": "ea83258a",
   "metadata": {},
   "outputs": [
    {
     "name": "stdout",
     "output_type": "stream",
     "text": [
      "Learning Rate is set to 0.001\n"
     ]
    }
   ],
   "source": [
    "transformer._set_lr(0.001)"
   ]
  },
  {
   "cell_type": "code",
   "execution_count": 12,
   "id": "594ad499",
   "metadata": {
    "scrolled": false
   },
   "outputs": [
    {
     "data": {
      "application/vnd.jupyter.widget-view+json": {
       "model_id": "5e0895d53a3542f88784f693d53ebd11",
       "version_major": 2,
       "version_minor": 0
      },
      "text/plain": [
       "  0%|          | 0/5 [00:00<?, ?it/s]"
      ]
     },
     "metadata": {},
     "output_type": "display_data"
    },
    {
     "name": "stdout",
     "output_type": "stream",
     "text": [
      "After training train_\\20190401_20190412  Train_loss:0.762313 R2:0.249934 | Val_Loss:0.713123 |R2:0.334463 |Rate:0.702 |lr:0.001000\n",
      "After training train_\\20190523_20190604  Train_loss:0.660139 R2:0.318585 | Val_Loss:0.667283 |R2:0.332281 |Rate:0.689 |lr:0.001000\n",
      "After training train_\\20190617_20190628  Train_loss:0.514726 R2:0.340750 | Val_Loss:0.509900 |R2:0.372088 |Rate:0.695 |lr:0.001000\n",
      "After training train_\\20190723_20190731  Train_loss:0.445488 R2:0.345424 | Val_Loss:0.452227 |R2:0.352304 |Rate:0.672 |lr:0.001000\n",
      "Save here\n",
      "Epoch:  1 |Train_Loss:0.595667 |R2:0.313673|Val_Loss:0.585633 |R2:0.347784 |Rate:0.690 |lr:0.001000\n",
      "Test_Loss:0.410364 |R2:0.329671 |Rate:0.678 \n",
      "Validation R2 increased (-inf --> 0.347784).  Saving model ...\n",
      "After training train_\\20190401_20190412  Train_loss:0.696229 R2:0.367983 | Val_Loss:0.692166 |R2:0.383678 |Rate:0.709 |lr:0.001000\n",
      "After training train_\\20190523_20190604  Train_loss:0.625976 R2:0.380534 | Val_Loss:0.617555 |R2:0.411621 |Rate:0.721 |lr:0.001000\n",
      "After training train_\\20190617_20190628  Train_loss:0.489481 R2:0.398050 | Val_Loss:0.491685 |R2:0.412205 |Rate:0.711 |lr:0.001000\n",
      "After training train_\\20190723_20190731  Train_loss:0.434204 R2:0.378593 | Val_Loss:0.431418 |R2:0.397313 |Rate:0.702 |lr:0.001000\n",
      "Save here\n",
      "Epoch:  2 |Train_Loss:0.561473 |R2:0.381290|Val_Loss:0.558206 |R2:0.401204 |Rate:0.711 |lr:0.001000\n",
      "Test_Loss:0.425716 |R2:0.288064 |Rate:0.665 \n",
      "Validation R2 increased (0.347784 --> 0.401204).  Saving model ...\n",
      "After training train_\\20190401_20190412  Train_loss:0.666107 R2:0.418536 | Val_Loss:0.708878 |R2:0.377213 |Rate:0.698 |lr:0.001000\n",
      "After training train_\\20190523_20190604  Train_loss:0.608711 R2:0.412858 | Val_Loss:0.602509 |R2:0.433679 |Rate:0.734 |lr:0.001000\n",
      "After training train_\\20190617_20190628  Train_loss:0.483502 R2:0.413182 | Val_Loss:0.482878 |R2:0.429273 |Rate:0.715 |lr:0.001000\n",
      "After training train_\\20190723_20190731  Train_loss:0.426165 R2:0.397850 | Val_Loss:0.424617 |R2:0.414238 |Rate:0.706 |lr:0.001000\n",
      "Save here\n",
      "Epoch:  3 |Train_Loss:0.546121 |R2:0.410607|Val_Loss:0.554721 |R2:0.413601 |Rate:0.713 |lr:0.001000\n",
      "Test_Loss:0.443835 |R2:0.241468 |Rate:0.650 \n",
      "Validation R2 increased (0.401204 --> 0.413601).  Saving model ...\n",
      "After training train_\\20190401_20190412  Train_loss:0.655540 R2:0.434864 | Val_Loss:0.739414 |R2:0.337970 |Rate:0.685 |lr:0.001000\n",
      "After training train_\\20190523_20190604  Train_loss:0.599810 R2:0.426459 | Val_Loss:0.595757 |R2:0.443772 |Rate:0.738 |lr:0.001000\n",
      "After training train_\\20190617_20190628  Train_loss:0.476182 R2:0.425541 | Val_Loss:0.474060 |R2:0.441070 |Rate:0.720 |lr:0.001000\n",
      "After training train_\\20190723_20190731  Train_loss:0.419002 R2:0.413147 | Val_Loss:0.417124 |R2:0.432786 |Rate:0.708 |lr:0.001000\n",
      "Save here\n",
      "Epoch:  4 |Train_Loss:0.537634 |R2:0.425003|Val_Loss:0.556589 |R2:0.413899 |Rate:0.713 |lr:0.001000\n",
      "Test_Loss:0.456374 |R2:0.210097 |Rate:0.640 \n",
      "Validation R2 increased (0.413601 --> 0.413899).  Saving model ...\n",
      "After training train_\\20190401_20190412  Train_loss:0.647410 R2:0.447090 | Val_Loss:0.665065 |R2:0.431930 |Rate:0.721 |lr:0.001000\n",
      "After training train_\\20190523_20190604  Train_loss:0.597951 R2:0.430478 | Val_Loss:0.619356 |R2:0.419362 |Rate:0.723 |lr:0.001000\n",
      "After training train_\\20190617_20190628  Train_loss:0.478264 R2:0.424189 | Val_Loss:0.467861 |R2:0.451998 |Rate:0.727 |lr:0.001000\n",
      "After training train_\\20190723_20190731  Train_loss:0.417956 R2:0.416910 | Val_Loss:0.419475 |R2:0.432351 |Rate:0.702 |lr:0.001000\n",
      "Save here\n",
      "Epoch:  5 |Train_Loss:0.535395 |R2:0.429667|Val_Loss:0.542939 |R2:0.433910 |Rate:0.718 |lr:0.001000\n",
      "Test_Loss:0.460476 |R2:0.199921 |Rate:0.637 \n",
      "Validation R2 increased (0.413899 --> 0.433910).  Saving model ...\n",
      "Done\n"
     ]
    },
    {
     "data": {
      "image/png": "[encoded data removed]",
      "text/plain": [
       "<Figure size 432x288 with 1 Axes>"
      ]
     },
     "metadata": {
      "needs_background": "light"
     },
     "output_type": "display_data"
    }
   ],
   "source": [
    "transformer.train(epochs=5, train_all=True, f='../../stock_price/train\\\\20190723_20190731.hdf',\n",
    "            val_size=0.2, test_round=1, save='train',patience=40)"
   ]
  },
  {
   "cell_type": "code",
   "execution_count": 13,
   "id": "1c64c0b7",
   "metadata": {},
   "outputs": [],
   "source": [
    "transformer._selct_optim('sgd')\n",
    "transformer._selct_scheduler(opt='plateau',patience=10, factor=0.1, step=4000)"
   ]
  },
  {
   "cell_type": "code",
   "execution_count": 14,
   "id": "91c6b65c",
   "metadata": {},
   "outputs": [
    {
     "data": {
      "application/vnd.jupyter.widget-view+json": {
       "model_id": "5bb02831c26c45ce988b0b6d3070825d",
       "version_major": 2,
       "version_minor": 0
      },
      "text/plain": [
       "  0%|          | 0/5 [00:00<?, ?it/s]"
      ]
     },
     "metadata": {},
     "output_type": "display_data"
    },
    {
     "name": "stdout",
     "output_type": "stream",
     "text": [
      "After training train_\\20190401_20190412  Train_loss:0.760398 R2:0.256438 | Val_Loss:0.741799 |R2:0.282194 |Rate:0.683 |lr:0.001000\n",
      "After training train_\\20190523_20190604  Train_loss:0.679770 R2:0.275679 | Val_Loss:0.668165 |R2:0.316949 |Rate:0.687 |lr:0.001000\n",
      "After training train_\\20190617_20190628  Train_loss:0.516628 R2:0.332374 | Val_Loss:0.519388 |R2:0.341612 |Rate:0.686 |lr:0.001000\n",
      "After training train_\\20190723_20190731  Train_loss:0.439804 R2:0.352361 | Val_Loss:0.450951 |R2:0.350979 |Rate:0.673 |lr:0.001000\n",
      "Save here\n",
      "Epoch:  5 |Train_Loss:0.599150 |R2:0.304213|Val_Loss:0.595076 |R2:0.322934 |Rate:0.682 |lr:0.001000\n",
      "Test_Loss:0.410457 |R2:0.329258 |Rate:0.682 \n",
      "Validation R2 increased (-inf --> 0.322934).  Saving model ...\n",
      "After training train_\\20190401_20190412  Train_loss:0.726098 R2:0.314195 | Val_Loss:0.720907 |R2:0.321151 |Rate:0.696 |lr:0.001000\n",
      "After training train_\\20190523_20190604  Train_loss:0.648695 R2:0.332160 | Val_Loss:0.658202 |R2:0.337838 |Rate:0.694 |lr:0.001000\n",
      "After training train_\\20190617_20190628  Train_loss:0.512262 R2:0.344226 | Val_Loss:0.514972 |R2:0.353020 |Rate:0.691 |lr:0.001000\n",
      "After training train_\\20190723_20190731  Train_loss:0.439685 R2:0.356780 | Val_Loss:0.450507 |R2:0.354397 |Rate:0.675 |lr:0.001000\n",
      "Save here\n",
      "Epoch:  6 |Train_Loss:0.581685 |R2:0.336840|Val_Loss:0.586147 |R2:0.341601 |Rate:0.689 |lr:0.001000\n",
      "Test_Loss:0.408492 |R2:0.334647 |Rate:0.685 \n",
      "Validation R2 increased (0.322934 --> 0.341601).  Saving model ...\n",
      "After training train_\\20190401_20190412  Train_loss:0.719962 R2:0.324288 | Val_Loss:0.715762 |R2:0.329796 |Rate:0.698 |lr:0.001000\n",
      "After training train_\\20190523_20190604  Train_loss:0.646430 R2:0.337245 | Val_Loss:0.656035 |R2:0.342330 |Rate:0.696 |lr:0.001000\n",
      "After training train_\\20190617_20190628  Train_loss:0.510250 R2:0.348892 | Val_Loss:0.513046 |R2:0.357500 |Rate:0.695 |lr:0.001000\n",
      "After training train_\\20190723_20190731  Train_loss:0.439447 R2:0.358368 | Val_Loss:0.450155 |R2:0.355706 |Rate:0.675 |lr:0.001000\n",
      "Save here\n",
      "Epoch:  7 |Train_Loss:0.579022 |R2:0.342198|Val_Loss:0.583750 |R2:0.346333 |Rate:0.691 |lr:0.001000\n",
      "Test_Loss:0.407173 |R2:0.337778 |Rate:0.685 \n",
      "Validation R2 increased (0.341601 --> 0.346333).  Saving model ...\n",
      "After training train_\\20190401_20190412  Train_loss:0.717572 R2:0.328311 | Val_Loss:0.713477 |R2:0.333568 |Rate:0.698 |lr:0.001000\n",
      "After training train_\\20190523_20190604  Train_loss:0.645014 R2:0.340394 | Val_Loss:0.654754 |R2:0.344898 |Rate:0.697 |lr:0.001000\n",
      "After training train_\\20190617_20190628  Train_loss:0.509061 R2:0.352031 | Val_Loss:0.511959 |R2:0.360098 |Rate:0.695 |lr:0.001000\n",
      "After training train_\\20190723_20190731  Train_loss:0.439161 R2:0.359542 | Val_Loss:0.449979 |R2:0.356400 |Rate:0.675 |lr:0.001000\n",
      "Save here\n",
      "Epoch:  8 |Train_Loss:0.577702 |R2:0.345070|Val_Loss:0.582542 |R2:0.348741 |Rate:0.691 |lr:0.001000\n",
      "Test_Loss:0.406378 |R2:0.339761 |Rate:0.686 \n",
      "Validation R2 increased (0.346333 --> 0.348741).  Saving model ...\n",
      "After training train_\\20190401_20190412  Train_loss:0.716296 R2:0.330517 | Val_Loss:0.712112 |R2:0.335883 |Rate:0.700 |lr:0.001000\n",
      "After training train_\\20190523_20190604  Train_loss:0.644094 R2:0.342284 | Val_Loss:0.654009 |R2:0.346504 |Rate:0.696 |lr:0.001000\n",
      "After training train_\\20190617_20190628  Train_loss:0.507958 R2:0.354113 | Val_Loss:0.511253 |R2:0.361831 |Rate:0.695 |lr:0.001000\n",
      "After training train_\\20190723_20190731  Train_loss:0.439307 R2:0.359760 | Val_Loss:0.449798 |R2:0.356947 |Rate:0.676 |lr:0.001000\n",
      "Save here\n",
      "Epoch:  9 |Train_Loss:0.576914 |R2:0.346669|Val_Loss:0.581793 |R2:0.350291 |Rate:0.692 |lr:0.001000\n",
      "Test_Loss:0.405744 |R2:0.341354 |Rate:0.686 \n",
      "Validation R2 increased (0.348741 --> 0.350291).  Saving model ...\n",
      "Done\n"
     ]
    },
    {
     "data": {
      "image/png": "[encoded data removed]",
      "text/plain": [
       "<Figure size 432x288 with 1 Axes>"
      ]
     },
     "metadata": {
      "needs_background": "light"
     },
     "output_type": "display_data"
    }
   ],
   "source": [
    "transformer.train(epochs=5, train_all=True, f='../../stock_price/train\\\\20190723_20190731.hdf',\n",
    "            val_size=0.2, test_round=1, save='train',patience=40)"
   ]
  },
  {
   "cell_type": "code",
   "execution_count": 15,
   "id": "56748ab6",
   "metadata": {},
   "outputs": [
    {
     "data": {
      "application/vnd.jupyter.widget-view+json": {
       "model_id": "fdaa8c4a762f498580a607eb9e8d2741",
       "version_major": 2,
       "version_minor": 0
      },
      "text/plain": [
       "  0%|          | 0/10 [00:00<?, ?it/s]"
      ]
     },
     "metadata": {},
     "output_type": "display_data"
    },
    {
     "name": "stdout",
     "output_type": "stream",
     "text": [
      "After training train_\\20190401_20190412  Train_loss:0.715101 R2:0.332374 | Val_Loss:0.711079 |R2:0.337653 |Rate:0.700 |lr:0.001000\n",
      "After training train_\\20190523_20190604  Train_loss:0.643642 R2:0.343409 | Val_Loss:0.653432 |R2:0.347671 |Rate:0.697 |lr:0.001000\n",
      "After training train_\\20190617_20190628  Train_loss:0.507173 R2:0.355888 | Val_Loss:0.510586 |R2:0.363351 |Rate:0.696 |lr:0.001000\n",
      "After training train_\\20190723_20190731  Train_loss:0.439156 R2:0.360220 | Val_Loss:0.449728 |R2:0.357231 |Rate:0.676 |lr:0.001000\n",
      "Save here\n",
      "Epoch:  9 |Train_Loss:0.576268 |R2:0.347973|Val_Loss:0.581206 |R2:0.351476 |Rate:0.692 |lr:0.001000\n",
      "Test_Loss:0.405365 |R2:0.342279 |Rate:0.687 \n",
      "Validation R2 increased (-inf --> 0.351476).  Saving model ...\n",
      "After training train_\\20190401_20190412  Train_loss:0.714260 R2:0.333542 | Val_Loss:0.710201 |R2:0.339194 |Rate:0.701 |lr:0.001000\n",
      "After training train_\\20190523_20190604  Train_loss:0.643336 R2:0.344415 | Val_Loss:0.653014 |R2:0.348592 |Rate:0.697 |lr:0.001000\n",
      "After training train_\\20190617_20190628  Train_loss:0.506782 R2:0.356882 | Val_Loss:0.510074 |R2:0.364518 |Rate:0.696 |lr:0.001000\n",
      "After training train_\\20190723_20190731  Train_loss:0.438997 R2:0.360730 | Val_Loss:0.449678 |R2:0.357443 |Rate:0.676 |lr:0.001000\n",
      "Save here\n",
      "Epoch: 10 |Train_Loss:0.575844 |R2:0.348892|Val_Loss:0.580742 |R2:0.352437 |Rate:0.692 |lr:0.001000\n",
      "Test_Loss:0.405039 |R2:0.343110 |Rate:0.687 \n",
      "Validation R2 increased (0.351476 --> 0.352437).  Saving model ...\n",
      "After training train_\\20190401_20190412  Train_loss:0.713611 R2:0.334893 | Val_Loss:0.709549 |R2:0.340340 |Rate:0.701 |lr:0.001000\n",
      "After training train_\\20190523_20190604  Train_loss:0.642945 R2:0.345266 | Val_Loss:0.652599 |R2:0.349310 |Rate:0.696 |lr:0.001000\n",
      "After training train_\\20190617_20190628  Train_loss:0.506313 R2:0.357913 | Val_Loss:0.509755 |R2:0.365313 |Rate:0.696 |lr:0.001000\n",
      "After training train_\\20190723_20190731  Train_loss:0.439017 R2:0.360780 | Val_Loss:0.449649 |R2:0.357586 |Rate:0.676 |lr:0.001000\n",
      "Save here\n",
      "Epoch: 11 |Train_Loss:0.575471 |R2:0.349713|Val_Loss:0.580388 |R2:0.353137 |Rate:0.692 |lr:0.001000\n",
      "Test_Loss:0.404791 |R2:0.343752 |Rate:0.687 \n",
      "Validation R2 increased (0.352437 --> 0.353137).  Saving model ...\n",
      "After training train_\\20190401_20190412  Train_loss:0.713109 R2:0.335558 | Val_Loss:0.708873 |R2:0.341399 |Rate:0.703 |lr:0.001000\n",
      "After training train_\\20190523_20190604  Train_loss:0.642482 R2:0.346100 | Val_Loss:0.652331 |R2:0.349954 |Rate:0.696 |lr:0.001000\n",
      "After training train_\\20190617_20190628  Train_loss:0.506038 R2:0.358617 | Val_Loss:0.509623 |R2:0.365816 |Rate:0.697 |lr:0.001000\n",
      "After training train_\\20190723_20190731  Train_loss:0.439088 R2:0.360624 | Val_Loss:0.449641 |R2:0.357626 |Rate:0.677 |lr:0.001000\n",
      "Save here\n",
      "Epoch: 12 |Train_Loss:0.575179 |R2:0.350225|Val_Loss:0.580117 |R2:0.353699 |Rate:0.693 |lr:0.001000\n",
      "Test_Loss:0.404595 |R2:0.344255 |Rate:0.687 \n",
      "Validation R2 increased (0.353137 --> 0.353699).  Saving model ...\n",
      "After training train_\\20190401_20190412  Train_loss:0.712759 R2:0.336309 | Val_Loss:0.708487 |R2:0.342221 |Rate:0.704 |lr:0.001000\n",
      "After training train_\\20190523_20190604  Train_loss:0.642318 R2:0.346654 | Val_Loss:0.652049 |R2:0.350462 |Rate:0.696 |lr:0.001000\n",
      "After training train_\\20190617_20190628  Train_loss:0.505950 R2:0.359223 | Val_Loss:0.509294 |R2:0.366493 |Rate:0.698 |lr:0.001000\n",
      "After training train_\\20190723_20190731  Train_loss:0.439327 R2:0.360187 | Val_Loss:0.449780 |R2:0.357472 |Rate:0.677 |lr:0.001000\n",
      "Save here\n",
      "Epoch: 13 |Train_Loss:0.575089 |R2:0.350593|Val_Loss:0.579903 |R2:0.354162 |Rate:0.694 |lr:0.001000\n",
      "Test_Loss:0.404574 |R2:0.344370 |Rate:0.687 \n",
      "Validation R2 increased (0.353699 --> 0.354162).  Saving model ...\n",
      "After training train_\\20190401_20190412  Train_loss:0.712143 R2:0.337196 | Val_Loss:0.707960 |R2:0.343096 |Rate:0.704 |lr:0.001000\n",
      "After training train_\\20190523_20190604  Train_loss:0.642087 R2:0.347266 | Val_Loss:0.651810 |R2:0.350916 |Rate:0.696 |lr:0.001000\n",
      "After training train_\\20190617_20190628  Train_loss:0.505706 R2:0.359704 | Val_Loss:0.509165 |R2:0.366823 |Rate:0.699 |lr:0.001000\n",
      "After training train_\\20190723_20190731  Train_loss:0.439383 R2:0.360357 | Val_Loss:0.449686 |R2:0.357632 |Rate:0.678 |lr:0.001000\n",
      "Save here\n",
      "Epoch: 14 |Train_Loss:0.574830 |R2:0.351131|Val_Loss:0.579655 |R2:0.354617 |Rate:0.694 |lr:0.001000\n",
      "Test_Loss:0.404265 |R2:0.345106 |Rate:0.688 \n",
      "Validation R2 increased (0.354162 --> 0.354617).  Saving model ...\n",
      "After training train_\\20190401_20190412  Train_loss:0.711980 R2:0.337525 | Val_Loss:0.707645 |R2:0.343693 |Rate:0.704 |lr:0.001000\n",
      "After training train_\\20190523_20190604  Train_loss:0.642112 R2:0.347413 | Val_Loss:0.651597 |R2:0.351294 |Rate:0.696 |lr:0.001000\n",
      "After training train_\\20190617_20190628  Train_loss:0.505347 R2:0.360673 | Val_Loss:0.508994 |R2:0.367161 |Rate:0.700 |lr:0.001000\n",
      "After training train_\\20190723_20190731  Train_loss:0.439389 R2:0.360125 | Val_Loss:0.449687 |R2:0.357546 |Rate:0.677 |lr:0.001000\n",
      "Save here\n",
      "Epoch: 15 |Train_Loss:0.574707 |R2:0.351434|Val_Loss:0.579481 |R2:0.354924 |Rate:0.694 |lr:0.001000\n",
      "Test_Loss:0.404127 |R2:0.345404 |Rate:0.688 \n",
      "Validation R2 increased (0.354617 --> 0.354924).  Saving model ...\n",
      "After training train_\\20190401_20190412  Train_loss:0.711670 R2:0.338042 | Val_Loss:0.707244 |R2:0.344409 |Rate:0.704 |lr:0.001000\n",
      "After training train_\\20190523_20190604  Train_loss:0.641929 R2:0.347838 | Val_Loss:0.651446 |R2:0.351590 |Rate:0.696 |lr:0.001000\n",
      "After training train_\\20190617_20190628  Train_loss:0.505262 R2:0.360908 | Val_Loss:0.508957 |R2:0.367337 |Rate:0.700 |lr:0.001000\n",
      "After training train_\\20190723_20190731  Train_loss:0.439563 R2:0.359885 | Val_Loss:0.449900 |R2:0.357248 |Rate:0.677 |lr:0.001000\n",
      "Save here\n",
      "Epoch: 16 |Train_Loss:0.574606 |R2:0.351668|Val_Loss:0.579387 |R2:0.355146 |Rate:0.694 |lr:0.001000\n",
      "Test_Loss:0.404259 |R2:0.345209 |Rate:0.688 \n",
      "Validation R2 increased (0.354924 --> 0.355146).  Saving model ...\n",
      "After training train_\\20190401_20190412  Train_loss:0.711245 R2:0.338787 | Val_Loss:0.706882 |R2:0.345089 |Rate:0.704 |lr:0.001000\n",
      "After training train_\\20190523_20190604  Train_loss:0.641674 R2:0.348306 | Val_Loss:0.651370 |R2:0.351819 |Rate:0.695 |lr:0.001000\n",
      "After training train_\\20190617_20190628  Train_loss:0.505022 R2:0.361473 | Val_Loss:0.508919 |R2:0.367497 |Rate:0.700 |lr:0.001000\n",
      "After training train_\\20190723_20190731  Train_loss:0.439564 R2:0.360001 | Val_Loss:0.449919 |R2:0.357243 |Rate:0.677 |lr:0.001000\n",
      "Save here\n",
      "Epoch: 17 |Train_Loss:0.574376 |R2:0.352142|Val_Loss:0.579272 |R2:0.355412 |Rate:0.694 |lr:0.001000\n",
      "Test_Loss:0.404146 |R2:0.345540 |Rate:0.688 \n",
      "Validation R2 increased (0.355146 --> 0.355412).  Saving model ...\n",
      "After training train_\\20190401_20190412  Train_loss:0.711236 R2:0.338806 | Val_Loss:0.706637 |R2:0.345592 |Rate:0.704 |lr:0.001000\n",
      "After training train_\\20190523_20190604  Train_loss:0.641682 R2:0.348317 | Val_Loss:0.651190 |R2:0.352092 |Rate:0.696 |lr:0.001000\n",
      "After training train_\\20190617_20190628  Train_loss:0.505164 R2:0.361205 | Val_Loss:0.508787 |R2:0.367773 |Rate:0.699 |lr:0.001000\n",
      "After training train_\\20190723_20190731  Train_loss:0.439522 R2:0.359941 | Val_Loss:0.449838 |R2:0.357276 |Rate:0.677 |lr:0.001000\n",
      "Epoch: 18 |Train_Loss:0.574401 |R2:0.352067|Val_Loss:0.579113 |R2:0.355683 |Rate:0.694 |lr:0.001000\n",
      "Test_Loss:0.403925 |R2:0.346057 |Rate:0.688 \n",
      "Validation R2 increased (0.355412 --> 0.355683).  Saving model ...\n",
      "Done\n"
     ]
    },
    {
     "data": {
      "image/png": "[encoded data removed]",
      "text/plain": [
       "<Figure size 432x288 with 1 Axes>"
      ]
     },
     "metadata": {
      "needs_background": "light"
     },
     "output_type": "display_data"
    }
   ],
   "source": [
    "transformer.train(epochs=10, train_all=True, f='../../stock_price/train\\\\20190723_20190731.hdf',\n",
    "            val_size=0.2, test_round=1, save='train',patience=40)"
   ]
  },
  {
   "cell_type": "code",
   "execution_count": 16,
   "id": "b03d78a9",
   "metadata": {},
   "outputs": [
    {
     "name": "stdout",
     "output_type": "stream",
     "text": [
      "Learning Rate is set to 0.0005\n"
     ]
    },
    {
     "data": {
      "application/vnd.jupyter.widget-view+json": {
       "model_id": "de8d3a77be0d4e6590cdef5e2761a97a",
       "version_major": 2,
       "version_minor": 0
      },
      "text/plain": [
       "  0%|          | 0/2 [00:00<?, ?it/s]"
      ]
     },
     "metadata": {},
     "output_type": "display_data"
    },
    {
     "name": "stdout",
     "output_type": "stream",
     "text": [
      "After training train_\\20190401_20190412  Train_loss:0.682629 R2:0.391860 | Val_Loss:0.790918 |R2:0.267905 |Rate:0.656 |lr:0.000500\n",
      "After training train_\\20190523_20190604  Train_loss:0.601425 R2:0.429963 | Val_Loss:0.578054 |R2:0.484310 |Rate:0.736 |lr:0.000500\n",
      "After training train_\\20190617_20190628  Train_loss:0.482309 R2:0.416567 | Val_Loss:0.465209 |R2:0.457086 |Rate:0.727 |lr:0.000500\n",
      "After training train_\\20190723_20190731  Train_loss:0.419781 R2:0.415821 | Val_Loss:0.428744 |R2:0.427162 |Rate:0.690 |lr:0.000500\n",
      "Save here\n",
      "Epoch: 18 |Train_Loss:0.546536 |R2:0.413553|Val_Loss:0.565731 |R2:0.409116 |Rate:0.703 |lr:0.000500\n",
      "Test_Loss:0.476840 |R2:0.156816 |Rate:0.628 \n",
      "Validation R2 increased (-inf --> 0.409116).  Saving model ...\n",
      "After training train_\\20190401_20190412  Train_loss:0.637849 R2:0.464218 | Val_Loss:0.642056 |R2:0.466982 |Rate:0.738 |lr:0.000500\n",
      "After training train_\\20190523_20190604  Train_loss:0.581006 R2:0.462796 | Val_Loss:0.574892 |R2:0.492105 |Rate:0.738 |lr:0.000500\n",
      "After training train_\\20190617_20190628  Train_loss:0.475849 R2:0.427484 | Val_Loss:0.461467 |R2:0.466054 |Rate:0.729 |lr:0.000500\n",
      "After training train_\\20190723_20190731  Train_loss:0.416715 R2:0.425423 | Val_Loss:0.445525 |R2:0.405603 |Rate:0.672 |lr:0.000500\n",
      "Save here\n",
      "Epoch: 19 |Train_Loss:0.527855 |R2:0.444980|Val_Loss:0.530985 |R2:0.457686 |Rate:0.719 |lr:0.000500\n",
      "Test_Loss:0.516484 |R2:0.045071 |Rate:0.610 \n",
      "Validation R2 increased (0.409116 --> 0.457686).  Saving model ...\n",
      "Done\n"
     ]
    },
    {
     "data": {
      "image/png": "[encoded data removed]",
      "text/plain": [
       "<Figure size 432x288 with 1 Axes>"
      ]
     },
     "metadata": {
      "needs_background": "light"
     },
     "output_type": "display_data"
    }
   ],
   "source": [
    "transformer._selct_optim('adamW')\n",
    "transformer._selct_scheduler(opt='plateau',patience=10, factor=0.1, step=4000)\n",
    "transformer._set_lr(0.0005)\n",
    "transformer.train(epochs=2, train_all=True, f='../../stock_price/train\\\\20190723_20190731.hdf',\n",
    "            val_size=0.2, test_round=1, save='train',patience=40)"
   ]
  },
  {
   "cell_type": "code",
   "execution_count": 17,
   "id": "395e1fbf",
   "metadata": {},
   "outputs": [
    {
     "name": "stdout",
     "output_type": "stream",
     "text": [
      "Learning Rate is set to 0.0005\n"
     ]
    },
    {
     "data": {
      "application/vnd.jupyter.widget-view+json": {
       "model_id": "53461fcb9b114a74952dc021de5ebb04",
       "version_major": 2,
       "version_minor": 0
      },
      "text/plain": [
       "  0%|          | 0/10 [00:00<?, ?it/s]"
      ]
     },
     "metadata": {},
     "output_type": "display_data"
    },
    {
     "name": "stdout",
     "output_type": "stream",
     "text": [
      "After training train_\\20190401_20190412  Train_loss:0.836770 R2:0.107672 | Val_Loss:0.773245 |R2:0.221451 |Rate:0.665 |lr:0.000500\n",
      "After training train_\\20190523_20190604  Train_loss:0.688107 R2:0.250729 | Val_Loss:0.676569 |R2:0.297481 |Rate:0.687 |lr:0.000500\n",
      "After training train_\\20190617_20190628  Train_loss:0.527447 R2:0.308396 | Val_Loss:0.524162 |R2:0.325864 |Rate:0.684 |lr:0.000500\n",
      "After training train_\\20190723_20190731  Train_loss:0.448385 R2:0.327837 | Val_Loss:0.452712 |R2:0.339513 |Rate:0.672 |lr:0.000500\n",
      "Save here\n",
      "Epoch: 19 |Train_Loss:0.625177 |R2:0.248659|Val_Loss:0.606672 |R2:0.296077 |Rate:0.677 |lr:0.000500\n",
      "Test_Loss:0.410943 |R2:0.322487 |Rate:0.681 \n",
      "Validation R2 increased (-inf --> 0.296077).  Saving model ...\n",
      "After training train_\\20190401_20190412  Train_loss:0.750009 R2:0.271557 | Val_Loss:0.736784 |R2:0.289615 |Rate:0.689 |lr:0.000500\n",
      "After training train_\\20190523_20190604  Train_loss:0.663028 R2:0.303874 | Val_Loss:0.666921 |R2:0.316631 |Rate:0.690 |lr:0.000500\n",
      "After training train_\\20190617_20190628  Train_loss:0.517440 R2:0.333310 | Val_Loss:0.516354 |R2:0.348122 |Rate:0.690 |lr:0.000500\n",
      "After training train_\\20190723_20190731  Train_loss:0.446072 R2:0.342024 | Val_Loss:0.451246 |R2:0.349393 |Rate:0.673 |lr:0.000500\n",
      "Save here\n",
      "Epoch: 20 |Train_Loss:0.594137 |R2:0.312691|Val_Loss:0.592826 |R2:0.325940 |Rate:0.685 |lr:0.000500\n",
      "Test_Loss:0.407808 |R2:0.334244 |Rate:0.685 \n",
      "Validation R2 increased (0.296077 --> 0.325940).  Saving model ...\n",
      "After training train_\\20190401_20190412  Train_loss:0.733711 R2:0.302135 | Val_Loss:0.725532 |R2:0.310428 |Rate:0.698 |lr:0.000500\n",
      "After training train_\\20190523_20190604  Train_loss:0.657569 R2:0.317221 | Val_Loss:0.661363 |R2:0.328693 |Rate:0.693 |lr:0.000500\n",
      "After training train_\\20190617_20190628  Train_loss:0.514908 R2:0.340216 | Val_Loss:0.514193 |R2:0.355209 |Rate:0.693 |lr:0.000500\n",
      "After training train_\\20190723_20190731  Train_loss:0.445462 R2:0.345972 | Val_Loss:0.451378 |R2:0.351778 |Rate:0.672 |lr:0.000500\n",
      "Save here\n",
      "Epoch: 21 |Train_Loss:0.587912 |R2:0.326386|Val_Loss:0.588116 |R2:0.336527 |Rate:0.689 |lr:0.000500\n",
      "Test_Loss:0.407462 |R2:0.336389 |Rate:0.686 \n",
      "Validation R2 increased (0.325940 --> 0.336527).  Saving model ...\n",
      "After training train_\\20190401_20190412  Train_loss:0.727780 R2:0.311692 | Val_Loss:0.720632 |R2:0.319084 |Rate:0.699 |lr:0.000500\n",
      "After training train_\\20190523_20190604  Train_loss:0.652551 R2:0.325763 | Val_Loss:0.658954 |R2:0.333925 |Rate:0.692 |lr:0.000500\n",
      "After training train_\\20190617_20190628  Train_loss:0.512632 R2:0.345564 | Val_Loss:0.513208 |R2:0.358435 |Rate:0.695 |lr:0.000500\n",
      "After training train_\\20190723_20190731  Train_loss:0.444891 R2:0.348568 | Val_Loss:0.451463 |R2:0.352883 |Rate:0.675 |lr:0.000500\n",
      "Save here\n",
      "Epoch: 22 |Train_Loss:0.584463 |R2:0.332897|Val_Loss:0.586064 |R2:0.341082 |Rate:0.690 |lr:0.000500\n",
      "Test_Loss:0.407287 |R2:0.337337 |Rate:0.686 \n",
      "Validation R2 increased (0.336527 --> 0.341082).  Saving model ...\n",
      "After training train_\\20190401_20190412  Train_loss:0.727633 R2:0.310794 | Val_Loss:0.718159 |R2:0.323487 |Rate:0.700 |lr:0.000500\n",
      "After training train_\\20190523_20190604  Train_loss:0.652137 R2:0.327136 | Val_Loss:0.657700 |R2:0.336809 |Rate:0.693 |lr:0.000500\n",
      "After training train_\\20190617_20190628  Train_loss:0.512080 R2:0.347222 | Val_Loss:0.512466 |R2:0.360477 |Rate:0.696 |lr:0.000500\n",
      "After training train_\\20190723_20190731  Train_loss:0.444854 R2:0.350357 | Val_Loss:0.451229 |R2:0.353841 |Rate:0.675 |lr:0.000500\n",
      "Save here\n",
      "Epoch: 23 |Train_Loss:0.584176 |R2:0.333877|Val_Loss:0.584889 |R2:0.343654 |Rate:0.691 |lr:0.000500\n",
      "Test_Loss:0.406834 |R2:0.338673 |Rate:0.686 \n",
      "Validation R2 increased (0.341082 --> 0.343654).  Saving model ...\n",
      "After training train_\\20190401_20190412  Train_loss:0.722723 R2:0.319885 | Val_Loss:0.716469 |R2:0.326637 |Rate:0.700 |lr:0.000500\n",
      "After training train_\\20190523_20190604  Train_loss:0.652793 R2:0.325590 | Val_Loss:0.656641 |R2:0.339015 |Rate:0.692 |lr:0.000500\n",
      "After training train_\\20190617_20190628  Train_loss:0.511468 R2:0.350055 | Val_Loss:0.511842 |R2:0.362078 |Rate:0.696 |lr:0.000500\n",
      "After training train_\\20190723_20190731  Train_loss:0.444196 R2:0.351217 | Val_Loss:0.451163 |R2:0.354730 |Rate:0.674 |lr:0.000500\n",
      "Save here\n",
      "Epoch: 24 |Train_Loss:0.582795 |R2:0.336687|Val_Loss:0.584029 |R2:0.345615 |Rate:0.691 |lr:0.000500\n",
      "Test_Loss:0.406761 |R2:0.339224 |Rate:0.687 \n",
      "Validation R2 increased (0.343654 --> 0.345615).  Saving model ...\n",
      "After training train_\\20190401_20190412  Train_loss:0.720976 R2:0.322693 | Val_Loss:0.715358 |R2:0.328344 |Rate:0.700 |lr:0.000500\n",
      "After training train_\\20190523_20190604  Train_loss:0.648374 R2:0.333934 | Val_Loss:0.655990 |R2:0.340490 |Rate:0.693 |lr:0.000500\n",
      "After training train_\\20190617_20190628  Train_loss:0.510283 R2:0.351110 | Val_Loss:0.511219 |R2:0.363535 |Rate:0.696 |lr:0.000500\n",
      "After training train_\\20190723_20190731  Train_loss:0.443765 R2:0.351965 | Val_Loss:0.450641 |R2:0.355909 |Rate:0.676 |lr:0.000500\n",
      "Save here\n",
      "Epoch: 25 |Train_Loss:0.580850 |R2:0.339925|Val_Loss:0.583302 |R2:0.347070 |Rate:0.691 |lr:0.000500\n",
      "Test_Loss:0.406190 |R2:0.340578 |Rate:0.687 \n",
      "Validation R2 increased (0.345615 --> 0.347070).  Saving model ...\n",
      "After training train_\\20190401_20190412  Train_loss:0.720356 R2:0.323825 | Val_Loss:0.714656 |R2:0.329665 |Rate:0.700 |lr:0.000500\n",
      "After training train_\\20190523_20190604  Train_loss:0.647786 R2:0.335460 | Val_Loss:0.655473 |R2:0.341658 |Rate:0.693 |lr:0.000500\n",
      "After training train_\\20190617_20190628  Train_loss:0.509319 R2:0.353444 | Val_Loss:0.510756 |R2:0.364602 |Rate:0.695 |lr:0.000500\n",
      "After training train_\\20190723_20190731  Train_loss:0.443727 R2:0.352439 | Val_Loss:0.450532 |R2:0.356412 |Rate:0.676 |lr:0.000500\n",
      "Save here\n",
      "Epoch: 26 |Train_Loss:0.580297 |R2:0.341292|Val_Loss:0.582854 |R2:0.348084 |Rate:0.691 |lr:0.000500\n",
      "Test_Loss:0.405979 |R2:0.341305 |Rate:0.687 \n",
      "Validation R2 increased (0.347070 --> 0.348084).  Saving model ...\n",
      "After training train_\\20190401_20190412  Train_loss:0.718532 R2:0.327100 | Val_Loss:0.713713 |R2:0.331172 |Rate:0.700 |lr:0.000500\n",
      "After training train_\\20190523_20190604  Train_loss:0.651229 R2:0.328865 | Val_Loss:0.646020 |R2:0.360450 |Rate:0.698 |lr:0.000500\n",
      "After training train_\\20190617_20190628  Train_loss:0.509063 R2:0.354212 | Val_Loss:0.510307 |R2:0.365578 |Rate:0.695 |lr:0.000500\n",
      "After training train_\\20190723_20190731  Train_loss:0.443316 R2:0.354155 | Val_Loss:0.450371 |R2:0.356741 |Rate:0.676 |lr:0.000500\n",
      "Epoch: 27 |Train_Loss:0.580535 |R2:0.341083|Val_Loss:0.580103 |R2:0.353486 |Rate:0.692 |lr:0.000500\n",
      "Test_Loss:0.405639 |R2:0.342234 |Rate:0.687 \n",
      "Validation R2 increased (0.348084 --> 0.353486).  Saving model ...\n",
      "After training train_\\20190401_20190412  Train_loss:0.718212 R2:0.327305 | Val_Loss:0.712737 |R2:0.332903 |Rate:0.700 |lr:0.000500\n",
      "After training train_\\20190523_20190604  Train_loss:0.645784 R2:0.338550 | Val_Loss:0.654435 |R2:0.343811 |Rate:0.694 |lr:0.000500\n",
      "After training train_\\20190617_20190628  Train_loss:0.508232 R2:0.355801 | Val_Loss:0.509997 |R2:0.366340 |Rate:0.696 |lr:0.000500\n",
      "After training train_\\20190723_20190731  Train_loss:0.443171 R2:0.354284 | Val_Loss:0.450217 |R2:0.357196 |Rate:0.676 |lr:0.000500\n",
      "Save here\n",
      "Epoch: 28 |Train_Loss:0.578849 |R2:0.343985|Val_Loss:0.581847 |R2:0.350063 |Rate:0.691 |lr:0.000500\n",
      "Test_Loss:0.405428 |R2:0.342863 |Rate:0.687 \n",
      "EarlyStopping counter: 1 out of 40\n",
      "Done\n"
     ]
    },
    {
     "data": {
      "image/png": "[encoded data removed]",
      "text/plain": [
       "<Figure size 432x288 with 1 Axes>"
      ]
     },
     "metadata": {
      "needs_background": "light"
     },
     "output_type": "display_data"
    }
   ],
   "source": [
    "transformer._selct_optim('sgd')\n",
    "transformer._selct_scheduler(opt='plateau',patience=10, factor=0.1, step=4000)\n",
    "transformer._set_lr(0.0005)\n",
    "transformer.train(epochs=10, train_all=True, f='../../stock_price/train\\\\20190723_20190731.hdf',\n",
    "            val_size=0.2, test_round=1, save='train',patience=40)"
   ]
  },
  {
   "cell_type": "code",
   "execution_count": null,
   "id": "89b8f041",
   "metadata": {},
   "outputs": [],
   "source": []
  }
 ],
 "metadata": {
  "kernelspec": {
   "display_name": "Python [conda env:optiver_kaggle]",
   "language": "python",
   "name": "conda-env-optiver_kaggle-py"
  },
  "language_info": {
   "codemirror_mode": {
    "name": "ipython",
    "version": 3
   },
   "file_extension": ".py",
   "mimetype": "text/x-python",
   "name": "python",
   "nbconvert_exporter": "python",
   "pygments_lexer": "ipython3",
   "version": "3.8.11"
  }
 },
 "nbformat": 4,
 "nbformat_minor": 5
}
