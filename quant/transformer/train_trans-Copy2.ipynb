{
 "cells": [
  {
   "cell_type": "code",
   "execution_count": 1,
   "id": "d43bf93a",
   "metadata": {},
   "outputs": [],
   "source": [
    "import h5py\n",
    "import numpy as np\n",
    "from tqdm.notebook import tqdm\n",
    "import os\n",
    "import glob\n",
    "import matplotlib.pyplot as plt\n",
    "import time\n",
    "\n",
    "from train_transformer import *\n",
    "\n",
    "from utils import *\n",
    "from models import *\n",
    "\n",
    "import warnings\n",
    "warnings.filterwarnings('ignore')\n",
    "\n",
    "assert torch.cuda.is_available()\n",
    "device = 'cuda'"
   ]
  },
  {
   "cell_type": "code",
   "execution_count": 2,
   "id": "149174f9",
   "metadata": {},
   "outputs": [],
   "source": [
    "train_f = sorted(glob.glob('train/*.hdf'))\n",
    "# train_f.remove('../../stock_price/train\\\\20190425_20190510.hdf')\n",
    "test_f = sorted(glob.glob('test/*.hdf'))\n",
    "# test_f.remove('../stock_price/test\\IC2003_20191018.hdf') # batch为256时，第71个batch大小为2， 不足以用于预测"
   ]
  },
  {
   "cell_type": "code",
   "execution_count": 3,
   "id": "f8f8801c",
   "metadata": {},
   "outputs": [
    {
     "data": {
      "text/plain": [
       "['train\\\\20190401_20190412.hdf',\n",
       " 'train\\\\20190412_20190424.hdf',\n",
       " 'train\\\\20190425_20190510.hdf',\n",
       " 'train\\\\20190510_20190522.hdf',\n",
       " 'train\\\\20190523_20190604.hdf',\n",
       " 'train\\\\20190604_20190617.hdf',\n",
       " 'train\\\\20190617_20190628.hdf',\n",
       " 'train\\\\20190628_20190710.hdf',\n",
       " 'train\\\\20190710_20190723.hdf',\n",
       " 'train\\\\20190723_20190731.hdf']"
      ]
     },
     "execution_count": 3,
     "metadata": {},
     "output_type": "execute_result"
    }
   ],
   "source": [
    "train_f = train_f[:]\n",
    "train_f"
   ]
  },
  {
   "cell_type": "code",
   "execution_count": 8,
   "id": "b0ec5e2c",
   "metadata": {},
   "outputs": [],
   "source": [
    "# Hyperparams\n",
    "enc_in = 15\n",
    "dec_in = 3\n",
    "c_out = 1 \n",
    "seq_len = 20\n",
    "out_len = 1\n",
    "d_model = 64\n",
    "d_ff = 16\n",
    "n_heads = 3\n",
    "label_len = 10\n",
    "e_layers = 2\n",
    "d_layers = 2\n",
    "scaler = False\n",
    "opt_s = False\n",
    "\n",
    "decay = 100\n",
    "dropout = 0.2\n",
    "batch_size = 256\n",
    "val_batch = 512\n",
    "lr = 0.0005"
   ]
  },
  {
   "cell_type": "code",
   "execution_count": 9,
   "id": "6c58eedd",
   "metadata": {},
   "outputs": [],
   "source": [
    "Informer = Train_transformer(enc_in, dec_in, c_out, seq_len, out_len, d_model, d_ff, n_heads, \n",
    "                                e_layers, d_layers, label_len,\n",
    "                                dropout, batch_size, val_batch, lr,\n",
    "                              device, train_f, test_f,scaler, decay, opt_s)"
   ]
  },
  {
   "cell_type": "code",
   "execution_count": 10,
   "id": "f0221e1f",
   "metadata": {
    "scrolled": true
   },
   "outputs": [
    {
     "name": "stdout",
     "output_type": "stream",
     "text": [
      "Transformer(\n",
      "  (rnn): LSTM(15, 32, num_layers=2, batch_first=True, dropout=0.2)\n",
      "  (decs): ModuleList(\n",
      "    (0): DecoderLayer(\n",
      "      (attn1): AttentionLayer(\n",
      "        (inner_attention): Attention()\n",
      "        (query_projection): Linear(in_features=32, out_features=64, bias=True)\n",
      "        (key_projection): Linear(in_features=32, out_features=64, bias=True)\n",
      "        (value_projection): Linear(in_features=32, out_features=64, bias=True)\n",
      "        (out_projection): Linear(in_features=64, out_features=32, bias=True)\n",
      "      )\n",
      "      (attn2): AttentionLayer(\n",
      "        (inner_attention): Attention()\n",
      "        (query_projection): Linear(in_features=32, out_features=64, bias=True)\n",
      "        (key_projection): Linear(in_features=32, out_features=64, bias=True)\n",
      "        (value_projection): Linear(in_features=32, out_features=64, bias=True)\n",
      "        (out_projection): Linear(in_features=64, out_features=32, bias=True)\n",
      "      )\n",
      "      (fc1): Linear(in_features=32, out_features=32, bias=True)\n",
      "      (fc2): Linear(in_features=32, out_features=32, bias=True)\n",
      "      (norm1): LayerNorm((32,), eps=1e-05, elementwise_affine=True)\n",
      "      (norm2): LayerNorm((32,), eps=1e-05, elementwise_affine=True)\n",
      "      (norm3): LayerNorm((32,), eps=1e-05, elementwise_affine=True)\n",
      "      (dropout): Dropout(p=0.2, inplace=False)\n",
      "    )\n",
      "    (1): DecoderLayer(\n",
      "      (attn1): AttentionLayer(\n",
      "        (inner_attention): Attention()\n",
      "        (query_projection): Linear(in_features=32, out_features=64, bias=True)\n",
      "        (key_projection): Linear(in_features=32, out_features=64, bias=True)\n",
      "        (value_projection): Linear(in_features=32, out_features=64, bias=True)\n",
      "        (out_projection): Linear(in_features=64, out_features=32, bias=True)\n",
      "      )\n",
      "      (attn2): AttentionLayer(\n",
      "        (inner_attention): Attention()\n",
      "        (query_projection): Linear(in_features=32, out_features=64, bias=True)\n",
      "        (key_projection): Linear(in_features=32, out_features=64, bias=True)\n",
      "        (value_projection): Linear(in_features=32, out_features=64, bias=True)\n",
      "        (out_projection): Linear(in_features=64, out_features=32, bias=True)\n",
      "      )\n",
      "      (fc1): Linear(in_features=32, out_features=32, bias=True)\n",
      "      (fc2): Linear(in_features=32, out_features=32, bias=True)\n",
      "      (norm1): LayerNorm((32,), eps=1e-05, elementwise_affine=True)\n",
      "      (norm2): LayerNorm((32,), eps=1e-05, elementwise_affine=True)\n",
      "      (norm3): LayerNorm((32,), eps=1e-05, elementwise_affine=True)\n",
      "      (dropout): Dropout(p=0.2, inplace=False)\n",
      "    )\n",
      "    (2): DecoderLayer(\n",
      "      (attn1): AttentionLayer(\n",
      "        (inner_attention): Attention()\n",
      "        (query_projection): Linear(in_features=32, out_features=64, bias=True)\n",
      "        (key_projection): Linear(in_features=32, out_features=64, bias=True)\n",
      "        (value_projection): Linear(in_features=32, out_features=64, bias=True)\n",
      "        (out_projection): Linear(in_features=64, out_features=32, bias=True)\n",
      "      )\n",
      "      (attn2): AttentionLayer(\n",
      "        (inner_attention): Attention()\n",
      "        (query_projection): Linear(in_features=32, out_features=64, bias=True)\n",
      "        (key_projection): Linear(in_features=32, out_features=64, bias=True)\n",
      "        (value_projection): Linear(in_features=32, out_features=64, bias=True)\n",
      "        (out_projection): Linear(in_features=64, out_features=32, bias=True)\n",
      "      )\n",
      "      (fc1): Linear(in_features=32, out_features=32, bias=True)\n",
      "      (fc2): Linear(in_features=32, out_features=32, bias=True)\n",
      "      (norm1): LayerNorm((32,), eps=1e-05, elementwise_affine=True)\n",
      "      (norm2): LayerNorm((32,), eps=1e-05, elementwise_affine=True)\n",
      "      (norm3): LayerNorm((32,), eps=1e-05, elementwise_affine=True)\n",
      "      (dropout): Dropout(p=0.2, inplace=False)\n",
      "    )\n",
      "  )\n",
      "  (pos): PositionalEncoding()\n",
      "  (enc_input_fc): Linear(in_features=15, out_features=32, bias=True)\n",
      "  (dec_input_fc): Linear(in_features=3, out_features=32, bias=True)\n",
      "  (out_fc): Linear(in_features=320, out_features=1, bias=True)\n",
      ")\n"
     ]
    }
   ],
   "source": [
    "Informer._build_model()"
   ]
  },
  {
   "cell_type": "code",
   "execution_count": 11,
   "id": "84b1d1be",
   "metadata": {},
   "outputs": [
    {
     "name": "stdout",
     "output_type": "stream",
     "text": [
      "Total number of paramerters in networks is 73089  \n"
     ]
    }
   ],
   "source": [
    "print(\"Total number of paramerters in networks is {}  \".format(sum(x.numel() for x in Informer.model.parameters())))"
   ]
  },
  {
   "cell_type": "code",
   "execution_count": 12,
   "id": "72698579",
   "metadata": {},
   "outputs": [],
   "source": [
    "Informer._selct_optim('adam')\n",
    "Informer._selct_scheduler(opt='noam',patience=10, factor=0.2, step=4000)\n",
    "# Informer._selct_scheduler(opt='cyclic',base_lr=0.001, max_lr=0.005)"
   ]
  },
  {
   "cell_type": "code",
   "execution_count": 13,
   "id": "f8596c23",
   "metadata": {},
   "outputs": [
    {
     "data": {
      "image/png": "[encoded data removed]",
      "text/plain": [
       "<Figure size 432x288 with 1 Axes>"
      ]
     },
     "metadata": {
      "needs_background": "light"
     },
     "output_type": "display_data"
    }
   ],
   "source": [
    "Informer.preview_noam()"
   ]
  },
  {
   "cell_type": "code",
   "execution_count": 14,
   "id": "9d98b93b",
   "metadata": {},
   "outputs": [],
   "source": [
    "Informer.val_every=True"
   ]
  },
  {
   "cell_type": "code",
   "execution_count": null,
   "id": "594ad499",
   "metadata": {
    "scrolled": false
   },
   "outputs": [
    {
     "data": {
      "application/vnd.jupyter.widget-view+json": {
       "model_id": "a3dd88d2d8d94746896d5203dcb30e3e",
       "version_major": 2,
       "version_minor": 0
      },
      "text/plain": [
       "  0%|          | 0/20 [00:00<?, ?it/s]"
      ]
     },
     "metadata": {},
     "output_type": "display_data"
    },
    {
     "name": "stdout",
     "output_type": "stream",
     "text": [
      "After training train\\20190401_20190412  Train_loss:1.169723 R2:0.029819 | Val_Loss:0.748445 |R2:0.378999 |Rate:0.701 |lr:0.000222\n",
      "After training train\\20190412_20190424  Train_loss:0.815775 R2:0.379470 | Val_Loss:0.755283 |R2:0.444159 |Rate:0.706 |lr:0.000444\n",
      "After training train\\20190425_20190510  Train_loss:0.898032 R2:0.439447 | Val_Loss:0.896557 |R2:0.449994 |Rate:0.702 |lr:0.000513\n",
      "After training train\\20190510_20190522  Train_loss:0.709015 R2:0.430073 | Val_Loss:0.680859 |R2:0.461513 |Rate:0.703 |lr:0.000447\n",
      "After training train\\20190523_20190604  Train_loss:0.553911 R2:0.441728 | Val_Loss:0.527427 |R2:0.469828 |Rate:0.712 |lr:0.000404\n",
      "After training train\\20190604_20190617  Train_loss:0.367920 R2:0.437699 | Val_Loss:0.355564 |R2:0.462723 |Rate:0.705 |lr:0.000371\n",
      "After training train\\20190617_20190628  Train_loss:0.389574 R2:0.411103 | Val_Loss:0.372655 |R2:0.433804 |Rate:0.701 |lr:0.000345\n",
      "After training train\\20190628_20190710  Train_loss:0.284733 R2:0.446861 | Val_Loss:0.278651 |R2:0.461149 |Rate:0.697 |lr:0.000326\n",
      "After training train\\20190710_20190723  Train_loss:0.318810 R2:0.433024 | Val_Loss:0.300216 |R2:0.471680 |Rate:0.694 |lr:0.000308\n",
      "After training train\\20190723_20190731  Train_loss:0.230336 R2:0.438476 | Val_Loss:0.228030 |R2:0.453336 |Rate:0.691 |lr:0.000297\n",
      "Save here\n",
      "Epoch:  1 |Train_Loss:0.573783 |R2:0.388770|Val_Loss:0.514369 |R2:0.448719 |Rate:0.701 |lr:0.000297\n",
      "Validation R2 increased (-inf --> 0.448719).  Saving model ...\n",
      "After training train\\20190401_20190412  Train_loss:0.614809 R2:0.486842 | Val_Loss:0.591141 |R2:0.509528 |Rate:0.730 |lr:0.000282\n",
      "After training train\\20190412_20190424  Train_loss:0.715934 R2:0.453739 | Val_Loss:0.708222 |R2:0.478837 |Rate:0.715 |lr:0.000269\n",
      "After training train\\20190425_20190510  Train_loss:0.825221 R2:0.484386 | Val_Loss:0.810502 |R2:0.502787 |Rate:0.721 |lr:0.000257\n",
      "After training train\\20190510_20190522  Train_loss:0.666699 R2:0.463959 | Val_Loss:0.646353 |R2:0.489261 |Rate:0.710 |lr:0.000248\n",
      "After training train\\20190523_20190604  Train_loss:0.522609 R2:0.473076 | Val_Loss:0.500840 |R2:0.496583 |Rate:0.718 |lr:0.000239\n",
      "After training train\\20190604_20190617  Train_loss:0.355752 R2:0.456243 | Val_Loss:0.348466 |R2:0.473488 |Rate:0.707 |lr:0.000232\n",
      "After training train\\20190617_20190628  Train_loss:0.375103 R2:0.432749 | Val_Loss:0.359940 |R2:0.453082 |Rate:0.705 |lr:0.000225\n",
      "After training train\\20190628_20190710  Train_loss:0.276827 R2:0.462178 | Val_Loss:0.273380 |R2:0.471347 |Rate:0.699 |lr:0.000220\n",
      "After training train\\20190710_20190723  Train_loss:0.306189 R2:0.455228 | Val_Loss:0.290416 |R2:0.488958 |Rate:0.697 |lr:0.000214\n",
      "After training train\\20190723_20190731  Train_loss:0.224565 R2:0.451936 | Val_Loss:0.222933 |R2:0.465567 |Rate:0.694 |lr:0.000210\n",
      "Save here\n",
      "Epoch:  2 |Train_Loss:0.488371 |R2:0.462034|Val_Loss:0.475219 |R2:0.482944 |Rate:0.710 |lr:0.000210\n",
      "Test_Loss:0.369185 |R2:0.196884 |Rate:0.640 \n",
      "Validation R2 increased (0.448719 --> 0.482944).  Saving model ...\n",
      "After training train\\20190401_20190412  Train_loss:0.592012 R2:0.505769 | Val_Loss:0.569771 |R2:0.527262 |Rate:0.734 |lr:0.000205\n",
      "After training train\\20190412_20190424  Train_loss:0.699789 R2:0.465912 | Val_Loss:0.694534 |R2:0.489092 |Rate:0.717 |lr:0.000199\n",
      "After training train\\20190425_20190510  Train_loss:0.803817 R2:0.497562 | Val_Loss:0.789818 |R2:0.515469 |Rate:0.724 |lr:0.000195\n",
      "After training train\\20190510_20190522  Train_loss:0.651327 R2:0.476089 | Val_Loss:0.634266 |R2:0.498827 |Rate:0.712 |lr:0.000190\n",
      "After training train\\20190523_20190604  Train_loss:0.510209 R2:0.485424 | Val_Loss:0.489815 |R2:0.507654 |Rate:0.721 |lr:0.000187\n",
      "After training train\\20190604_20190617  Train_loss:0.350931 R2:0.463476 | Val_Loss:0.344903 |R2:0.478830 |Rate:0.708 |lr:0.000183\n",
      "After training train\\20190617_20190628  Train_loss:0.368229 R2:0.443051 | Val_Loss:0.354022 |R2:0.462077 |Rate:0.706 |lr:0.000180\n",
      "After training train\\20190628_20190710  Train_loss:0.272808 R2:0.469955 | Val_Loss:0.268413 |R2:0.480942 |Rate:0.703 |lr:0.000177\n",
      "After training train\\20190710_20190723  Train_loss:0.300683 R2:0.464856 | Val_Loss:0.285079 |R2:0.498347 |Rate:0.699 |lr:0.000174\n",
      "After training train\\20190723_20190731  Train_loss:0.221717 R2:0.458834 | Val_Loss:0.220133 |R2:0.472270 |Rate:0.696 |lr:0.000172\n",
      "Save here\n",
      "Epoch:  3 |Train_Loss:0.477152 |R2:0.473093|Val_Loss:0.465075 |R2:0.493077 |Rate:0.712 |lr:0.000172\n",
      "Validation R2 increased (0.482944 --> 0.493077).  Saving model ...\n",
      "After training train\\20190401_20190412  Train_loss:0.581596 R2:0.514421 | Val_Loss:0.561657 |R2:0.533991 |Rate:0.736 |lr:0.000169\n",
      "After training train\\20190412_20190424  Train_loss:0.692011 R2:0.471756 | Val_Loss:0.687860 |R2:0.493916 |Rate:0.719 |lr:0.000166\n",
      "After training train\\20190425_20190510  Train_loss:0.794202 R2:0.503449 | Val_Loss:0.779911 |R2:0.521518 |Rate:0.725 |lr:0.000163\n",
      "After training train\\20190510_20190522  Train_loss:0.645366 R2:0.480752 | Val_Loss:0.628570 |R2:0.503367 |Rate:0.713 |lr:0.000160\n",
      "After training train\\20190523_20190604  Train_loss:0.504220 R2:0.491537 | Val_Loss:0.484011 |R2:0.513471 |Rate:0.723 |lr:0.000158\n",
      "After training train\\20190604_20190617  Train_loss:0.348279 R2:0.467632 | Val_Loss:0.342087 |R2:0.483073 |Rate:0.708 |lr:0.000156\n",
      "After training train\\20190617_20190628  Train_loss:0.364856 R2:0.448096 | Val_Loss:0.350914 |R2:0.466797 |Rate:0.706 |lr:0.000154\n",
      "After training train\\20190628_20190710  Train_loss:0.271066 R2:0.473166 | Val_Loss:0.264989 |R2:0.487544 |Rate:0.706 |lr:0.000152\n",
      "After training train\\20190710_20190723  Train_loss:0.297253 R2:0.470804 | Val_Loss:0.282611 |R2:0.502712 |Rate:0.699 |lr:0.000150\n",
      "After training train\\20190723_20190731  Train_loss:0.220741 R2:0.461267 | Val_Loss:0.218847 |R2:0.475342 |Rate:0.697 |lr:0.000149\n",
      "Save here\n",
      "Epoch:  4 |Train_Loss:0.471959 |R2:0.478288|Val_Loss:0.460146 |R2:0.498173 |Rate:0.713 |lr:0.000149\n",
      "Test_Loss:0.350855 |R2:0.235275 |Rate:0.649 \n",
      "Validation R2 increased (0.493077 --> 0.498173).  Saving model ...\n",
      "After training train\\20190401_20190412  Train_loss:0.576443 R2:0.518588 | Val_Loss:0.556654 |R2:0.538140 |Rate:0.737 |lr:0.000147\n",
      "After training train\\20190412_20190424  Train_loss:0.687463 R2:0.475120 | Val_Loss:0.682988 |R2:0.497607 |Rate:0.720 |lr:0.000145\n",
      "After training train\\20190425_20190510  Train_loss:0.787588 R2:0.507500 | Val_Loss:0.773226 |R2:0.525674 |Rate:0.726 |lr:0.000143\n",
      "After training train\\20190510_20190522  Train_loss:0.639658 R2:0.485240 | Val_Loss:0.624132 |R2:0.506952 |Rate:0.713 |lr:0.000141\n"
     ]
    }
   ],
   "source": [
    "Informer.train(epochs=20, train_all=True, f='../../stock_price/train\\\\20190723_20190731.hdf',\n",
    "            val_size=0.2, test_round=2, save='train',patience=40)"
   ]
  },
  {
   "cell_type": "code",
   "execution_count": null,
   "id": "6b03d829",
   "metadata": {},
   "outputs": [],
   "source": []
  }
 ],
 "metadata": {
  "kernelspec": {
   "display_name": "Python [conda env:optiver_kaggle]",
   "language": "python",
   "name": "conda-env-optiver_kaggle-py"
  },
  "language_info": {
   "codemirror_mode": {
    "name": "ipython",
    "version": 3
   },
   "file_extension": ".py",
   "mimetype": "text/x-python",
   "name": "python",
   "nbconvert_exporter": "python",
   "pygments_lexer": "ipython3",
   "version": "3.8.11"
  }
 },
 "nbformat": 4,
 "nbformat_minor": 5
}
