{
 "cells": [
  {
   "cell_type": "code",
   "execution_count": 1,
   "id": "d43bf93a",
   "metadata": {},
   "outputs": [],
   "source": [
    "import h5py\n",
    "import numpy as np\n",
    "from tqdm.notebook import tqdm\n",
    "import os\n",
    "import glob\n",
    "import matplotlib.pyplot as plt\n",
    "import time\n",
    "\n",
    "from train_transformer import *\n",
    "\n",
    "from utils import *\n",
    "from models import *\n",
    "\n",
    "import warnings\n",
    "warnings.filterwarnings('ignore')\n",
    "\n",
    "assert torch.cuda.is_available()\n",
    "device = 'cuda'"
   ]
  },
  {
   "cell_type": "code",
   "execution_count": 2,
   "id": "149174f9",
   "metadata": {},
   "outputs": [],
   "source": [
    "train_f = sorted(glob.glob('train_/*.hdf'))\n",
    "# train_f.remove('../../stock_price/train\\\\20190425_20190510.hdf')\n",
    "test_f = sorted(glob.glob('test_/*.hdf'))\n",
    "# test_f.remove('../stock_price/test\\IC2003_20191018.hdf') # batch为256时，第71个batch大小为2， 不足以用于预测"
   ]
  },
  {
   "cell_type": "code",
   "execution_count": 3,
   "id": "f8f8801c",
   "metadata": {},
   "outputs": [
    {
     "data": {
      "text/plain": [
       "['train_\\\\20190401_20190412.hdf',\n",
       " 'train_\\\\20190523_20190604.hdf',\n",
       " 'train_\\\\20190617_20190628.hdf',\n",
       " 'train_\\\\20190723_20190731.hdf']"
      ]
     },
     "execution_count": 3,
     "metadata": {},
     "output_type": "execute_result"
    }
   ],
   "source": [
    "train_f = [train_f[0], train_f[4], train_f[6],train_f[-1]]\n",
    "# train_f = train_f[-6:]\n",
    "train_f"
   ]
  },
  {
   "cell_type": "code",
   "execution_count": 4,
   "id": "b0ec5e2c",
   "metadata": {},
   "outputs": [],
   "source": [
    "# Hyperparams\n",
    "enc_in = 15\n",
    "dec_in = 2\n",
    "c_out = 1 \n",
    "seq_len = 20\n",
    "out_len = 1\n",
    "d_model = 32\n",
    "d_ff = 32\n",
    "n_heads = 4\n",
    "label_len = 10\n",
    "e_layers = 2\n",
    "d_layers = 2\n",
    "scaler = False\n",
    "opt_s = False\n",
    "\n",
    "decay = 100\n",
    "dropout = 0.1\n",
    "batch_size = 256\n",
    "val_batch = 512\n",
    "lr = 0.0005"
   ]
  },
  {
   "cell_type": "code",
   "execution_count": 5,
   "id": "6c58eedd",
   "metadata": {},
   "outputs": [],
   "source": [
    "transformer = Train_transformer(enc_in, dec_in, c_out, seq_len, out_len, d_model, d_ff, n_heads, \n",
    "                                e_layers, d_layers, label_len,\n",
    "                                dropout, batch_size, val_batch, lr,\n",
    "                              device, train_f, test_f,scaler, decay, opt_s)"
   ]
  },
  {
   "cell_type": "code",
   "execution_count": 6,
   "id": "f0221e1f",
   "metadata": {
    "scrolled": true
   },
   "outputs": [
    {
     "name": "stdout",
     "output_type": "stream",
     "text": [
      "Transformer_(\n",
      "  (encs): ModuleList(\n",
      "    (0): EncoderLayer(\n",
      "      (attn): AttentionLayer(\n",
      "        (inner_attention): Attention()\n",
      "        (query_projection): Linear(in_features=32, out_features=128, bias=True)\n",
      "        (key_projection): Linear(in_features=32, out_features=128, bias=True)\n",
      "        (value_projection): Linear(in_features=32, out_features=128, bias=True)\n",
      "        (out_projection): Linear(in_features=128, out_features=32, bias=True)\n",
      "      )\n",
      "      (fc1): Linear(in_features=32, out_features=32, bias=True)\n",
      "      (fc2): Linear(in_features=32, out_features=32, bias=True)\n",
      "      (norm1): LayerNorm((32,), eps=1e-05, elementwise_affine=True)\n",
      "      (norm2): LayerNorm((32,), eps=1e-05, elementwise_affine=True)\n",
      "      (dropout): Dropout(p=0.1, inplace=False)\n",
      "    )\n",
      "    (1): EncoderLayer(\n",
      "      (attn): AttentionLayer(\n",
      "        (inner_attention): Attention()\n",
      "        (query_projection): Linear(in_features=32, out_features=128, bias=True)\n",
      "        (key_projection): Linear(in_features=32, out_features=128, bias=True)\n",
      "        (value_projection): Linear(in_features=32, out_features=128, bias=True)\n",
      "        (out_projection): Linear(in_features=128, out_features=32, bias=True)\n",
      "      )\n",
      "      (fc1): Linear(in_features=32, out_features=32, bias=True)\n",
      "      (fc2): Linear(in_features=32, out_features=32, bias=True)\n",
      "      (norm1): LayerNorm((32,), eps=1e-05, elementwise_affine=True)\n",
      "      (norm2): LayerNorm((32,), eps=1e-05, elementwise_affine=True)\n",
      "      (dropout): Dropout(p=0.1, inplace=False)\n",
      "    )\n",
      "  )\n",
      "  (decs): ModuleList(\n",
      "    (0): DecoderLayer(\n",
      "      (attn1): AttentionLayer(\n",
      "        (inner_attention): Attention()\n",
      "        (query_projection): Linear(in_features=32, out_features=128, bias=True)\n",
      "        (key_projection): Linear(in_features=32, out_features=128, bias=True)\n",
      "        (value_projection): Linear(in_features=32, out_features=128, bias=True)\n",
      "        (out_projection): Linear(in_features=128, out_features=32, bias=True)\n",
      "      )\n",
      "      (attn2): AttentionLayer(\n",
      "        (inner_attention): Attention()\n",
      "        (query_projection): Linear(in_features=32, out_features=128, bias=True)\n",
      "        (key_projection): Linear(in_features=32, out_features=128, bias=True)\n",
      "        (value_projection): Linear(in_features=32, out_features=128, bias=True)\n",
      "        (out_projection): Linear(in_features=128, out_features=32, bias=True)\n",
      "      )\n",
      "      (fc1): Linear(in_features=32, out_features=32, bias=True)\n",
      "      (fc2): Linear(in_features=32, out_features=32, bias=True)\n",
      "      (norm1): LayerNorm((32,), eps=1e-05, elementwise_affine=True)\n",
      "      (norm2): LayerNorm((32,), eps=1e-05, elementwise_affine=True)\n",
      "      (norm3): LayerNorm((32,), eps=1e-05, elementwise_affine=True)\n",
      "      (dropout): Dropout(p=0.1, inplace=False)\n",
      "    )\n",
      "    (1): DecoderLayer(\n",
      "      (attn1): AttentionLayer(\n",
      "        (inner_attention): Attention()\n",
      "        (query_projection): Linear(in_features=32, out_features=128, bias=True)\n",
      "        (key_projection): Linear(in_features=32, out_features=128, bias=True)\n",
      "        (value_projection): Linear(in_features=32, out_features=128, bias=True)\n",
      "        (out_projection): Linear(in_features=128, out_features=32, bias=True)\n",
      "      )\n",
      "      (attn2): AttentionLayer(\n",
      "        (inner_attention): Attention()\n",
      "        (query_projection): Linear(in_features=32, out_features=128, bias=True)\n",
      "        (key_projection): Linear(in_features=32, out_features=128, bias=True)\n",
      "        (value_projection): Linear(in_features=32, out_features=128, bias=True)\n",
      "        (out_projection): Linear(in_features=128, out_features=32, bias=True)\n",
      "      )\n",
      "      (fc1): Linear(in_features=32, out_features=32, bias=True)\n",
      "      (fc2): Linear(in_features=32, out_features=32, bias=True)\n",
      "      (norm1): LayerNorm((32,), eps=1e-05, elementwise_affine=True)\n",
      "      (norm2): LayerNorm((32,), eps=1e-05, elementwise_affine=True)\n",
      "      (norm3): LayerNorm((32,), eps=1e-05, elementwise_affine=True)\n",
      "      (dropout): Dropout(p=0.1, inplace=False)\n",
      "    )\n",
      "  )\n",
      "  (pos): PositionalEncoding()\n",
      "  (enc_input_fc): Linear(in_features=15, out_features=32, bias=True)\n",
      "  (dec_input_fc): Linear(in_features=2, out_features=32, bias=True)\n",
      "  (out_fc1): Linear(in_features=320, out_features=64, bias=True)\n",
      "  (out_fc2): Linear(in_features=128, out_features=32, bias=True)\n",
      "  (out_fc3): Linear(in_features=64, out_features=1, bias=True)\n",
      ")\n"
     ]
    }
   ],
   "source": [
    "transformer._build_model(m='trans')"
   ]
  },
  {
   "cell_type": "code",
   "execution_count": 7,
   "id": "db26e4ca",
   "metadata": {},
   "outputs": [],
   "source": [
    "# transformer._selct_criterion('huber', beta=0.2)\n",
    "transformer._selct_criterion()"
   ]
  },
  {
   "cell_type": "code",
   "execution_count": 8,
   "id": "84b1d1be",
   "metadata": {},
   "outputs": [
    {
     "name": "stdout",
     "output_type": "stream",
     "text": [
      "Total number of paramerters in networks is 135233  \n"
     ]
    }
   ],
   "source": [
    "print(\"Total number of paramerters in networks is {}  \".format(sum(x.numel() for x in transformer.model.parameters())))"
   ]
  },
  {
   "cell_type": "code",
   "execution_count": 9,
   "id": "72698579",
   "metadata": {},
   "outputs": [],
   "source": [
    "transformer._selct_optim('sgdm')\n",
    "transformer._selct_scheduler(opt='plateau',patience=5, factor=0.1, step=4000)\n",
    "# Informer._selct_scheduler(opt='cyclic',base_lr=0.001, max_lr=0.005)"
   ]
  },
  {
   "cell_type": "code",
   "execution_count": 10,
   "id": "f8596c23",
   "metadata": {},
   "outputs": [
    {
     "data": {
      "image/png": "[encoded data removed]",
      "text/plain": [
       "<Figure size 432x288 with 1 Axes>"
      ]
     },
     "metadata": {
      "needs_background": "light"
     },
     "output_type": "display_data"
    }
   ],
   "source": [
    "transformer.preview_noam()"
   ]
  },
  {
   "cell_type": "code",
   "execution_count": 10,
   "id": "9d98b93b",
   "metadata": {},
   "outputs": [],
   "source": [
    "transformer.val_every=True\n",
    "transformer.test_every = False"
   ]
  },
  {
   "cell_type": "code",
   "execution_count": null,
   "id": "594ad499",
   "metadata": {
    "scrolled": false
   },
   "outputs": [
    {
     "data": {
      "application/vnd.jupyter.widget-view+json": {
       "model_id": "dbb66decf2784d7d9c3fbe099d0ab06c",
       "version_major": 2,
       "version_minor": 0
      },
      "text/plain": [
       "  0%|          | 0/20 [00:00<?, ?it/s]"
      ]
     },
     "metadata": {},
     "output_type": "display_data"
    },
    {
     "name": "stdout",
     "output_type": "stream",
     "text": [
      "After training train_\\20190401_20190412  Train_loss:0.977748 R2:0.019106 | Val_Loss:0.929760 |R2:0.066491 |Rate:0.571 |lr:0.000500\n",
      "After training train_\\20190523_20190604  Train_loss:0.828661 R2:0.167875 | Val_Loss:0.712388 |R2:0.282608 |Rate:0.680 |lr:0.000500\n",
      "After training train_\\20190617_20190628  Train_loss:0.719481 R2:0.278234 | Val_Loss:0.660230 |R2:0.331666 |Rate:0.687 |lr:0.000500\n",
      "After training train_\\20190723_20190731  Train_loss:0.673921 R2:0.319638 | Val_Loss:0.651056 |R2:0.349633 |Rate:0.686 |lr:0.000500\n",
      "Save here\n",
      "Epoch:  1 |Train_Loss:0.799952 |R2:0.196213|Val_Loss:0.738359 |R2:0.257600 |Rate:0.656 |lr:0.000500\n",
      "Test_Loss:0.709156 |R2:0.286123 |Rate:0.676 \n",
      "Validation R2 increased (-inf --> 0.257600).  Saving model ...\n",
      "After training train_\\20190401_20190412  Train_loss:0.603885 R2:0.391560 | Val_Loss:0.580538 |R2:0.417144 |Rate:0.713 |lr:0.000500\n",
      "After training train_\\20190523_20190604  Train_loss:0.624341 R2:0.371350 | Val_Loss:0.604990 |R2:0.390741 |Rate:0.705 |lr:0.000500\n",
      "After training train_\\20190617_20190628  Train_loss:0.642980 R2:0.354021 | Val_Loss:0.633938 |R2:0.358177 |Rate:0.684 |lr:0.000500\n",
      "After training train_\\20190723_20190731  Train_loss:0.619892 R2:0.372735 | Val_Loss:0.624180 |R2:0.376447 |Rate:0.678 |lr:0.000500\n",
      "Save here\n",
      "Epoch:  2 |Train_Loss:0.622774 |R2:0.372416|Val_Loss:0.610912 |R2:0.385627 |Rate:0.695 |lr:0.000500\n",
      "Test_Loss:0.756444 |R2:0.238588 |Rate:0.657 \n",
      "Validation R2 increased (0.257600 --> 0.385627).  Saving model ...\n"
     ]
    }
   ],
   "source": [
    "transformer.train(epochs=20, train_all=True, f='../../stock_price/train\\\\20190723_20190731.hdf',\n",
    "            val_size=0.2, test_round=1, save='train',patience=40)"
   ]
  },
  {
   "cell_type": "code",
   "execution_count": null,
   "id": "6b03d829",
   "metadata": {},
   "outputs": [],
   "source": []
  }
 ],
 "metadata": {
  "kernelspec": {
   "display_name": "Python [conda env:optiver_kaggle]",
   "language": "python",
   "name": "conda-env-optiver_kaggle-py"
  },
  "language_info": {
   "codemirror_mode": {
    "name": "ipython",
    "version": 3
   },
   "file_extension": ".py",
   "mimetype": "text/x-python",
   "name": "python",
   "nbconvert_exporter": "python",
   "pygments_lexer": "ipython3",
   "version": "3.8.11"
  }
 },
 "nbformat": 4,
 "nbformat_minor": 5
}
