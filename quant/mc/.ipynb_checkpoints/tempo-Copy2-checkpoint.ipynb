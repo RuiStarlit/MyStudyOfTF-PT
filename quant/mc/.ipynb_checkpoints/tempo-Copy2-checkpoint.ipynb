{
 "cells": [
  {
   "cell_type": "code",
   "execution_count": 1,
   "id": "59821dcc",
   "metadata": {},
   "outputs": [],
   "source": [
    "import h5py\n",
    "import numpy as np\n",
    "from tqdm.notebook import tqdm\n",
    "import os\n",
    "import glob\n",
    "import matplotlib.pyplot as plt\n",
    "import time\n",
    "\n",
    "from train_Informer_d import *\n",
    "\n",
    "from utils import *\n",
    "from models import *\n",
    "\n",
    "import warnings\n",
    "warnings.filterwarnings('ignore')\n",
    "\n",
    "assert torch.cuda.is_available()\n",
    "device = 'cuda'"
   ]
  },
  {
   "cell_type": "code",
   "execution_count": 6,
   "id": "6dc10bea",
   "metadata": {},
   "outputs": [],
   "source": [
    "train_f = sorted(glob.glob('../../stock_price/train/*.hdf'))\n",
    "train_f.remove('../../stock_price/train\\\\20190425_20190510.hdf')\n",
    "test_f = sorted(glob.glob('../../stock_price/test/*.hdf'))\n",
    "# test_f.remove('../stock_price/test\\IC2003_20191018.hdf') # batch为256时，第71个batch大小为2， 不足以用于预测"
   ]
  },
  {
   "cell_type": "code",
   "execution_count": 7,
   "id": "d80c8671",
   "metadata": {},
   "outputs": [
    {
     "data": {
      "text/plain": [
       "174"
      ]
     },
     "execution_count": 7,
     "metadata": {},
     "output_type": "execute_result"
    }
   ],
   "source": [
    "len(test_f)"
   ]
  },
  {
   "cell_type": "code",
   "execution_count": 11,
   "id": "cf705271",
   "metadata": {},
   "outputs": [
    {
     "data": {
      "text/plain": [
       "['../../stock_price/train\\\\20190401_20190412.hdf',\n",
       " '../../stock_price/train\\\\20190523_20190604.hdf',\n",
       " '../../stock_price/train\\\\20190617_20190628.hdf',\n",
       " '../../stock_price/train\\\\20190710_20190723.hdf']"
      ]
     },
     "execution_count": 11,
     "metadata": {},
     "output_type": "execute_result"
    }
   ],
   "source": [
    "train_f = [train_f[0],train_f[3],train_f[5],train_f[7]]\n",
    "train_f"
   ]
  },
  {
   "cell_type": "code",
   "execution_count": 12,
   "id": "81c0c661",
   "metadata": {},
   "outputs": [],
   "source": [
    "# Hyperparams\n",
    "enc_in = 15\n",
    "dec_in = 2\n",
    "c_out = 1 \n",
    "seq_len = 20\n",
    "out_len = 1\n",
    "d_model = 64\n",
    "d_ff = 32\n",
    "n_heads = 3\n",
    "label_len = 10\n",
    "e_layers = 2\n",
    "d_layers = 2\n",
    "scaler = False\n",
    "opt_s = False\n",
    "\n",
    "decay = 100\n",
    "dropout = 0.3\n",
    "batch_size = 256\n",
    "val_batch = 512\n",
    "lr = 0.0005"
   ]
  },
  {
   "cell_type": "code",
   "execution_count": 13,
   "id": "5e3f415e",
   "metadata": {},
   "outputs": [],
   "source": [
    "Informer = Train_Informer(enc_in, dec_in, c_out, seq_len, out_len, d_model, d_ff, n_heads, \n",
    "                                e_layers, d_layers, label_len,\n",
    "                                dropout, batch_size, val_batch, lr,\n",
    "                              device, train_f, test_f,scaler, decay, opt_s)"
   ]
  },
  {
   "cell_type": "code",
   "execution_count": 14,
   "id": "0ea3023e",
   "metadata": {
    "scrolled": true
   },
   "outputs": [
    {
     "name": "stdout",
     "output_type": "stream",
     "text": [
      "Informer(\n",
      "  (enc_embedding): DataEmbedding(\n",
      "    (value_embedding): TokenEmbedding(\n",
      "      (tokenConv): Conv1d(15, 32, kernel_size=(3,), stride=(1,), padding=(1,), padding_mode=circular)\n",
      "    )\n",
      "    (position_embedding): PositionalEmbedding()\n",
      "    (fc): Linear(in_features=15, out_features=16, bias=True)\n",
      "  )\n",
      "  (dec_embedding): DataEmbedding(\n",
      "    (value_embedding): TokenEmbedding(\n",
      "      (tokenConv): Conv1d(2, 32, kernel_size=(3,), stride=(1,), padding=(1,), padding_mode=circular)\n",
      "    )\n",
      "    (position_embedding): PositionalEmbedding()\n",
      "    (fc): Linear(in_features=2, out_features=16, bias=True)\n",
      "  )\n",
      "  (encoder): Encoder(\n",
      "    (attn_layers): ModuleList(\n",
      "      (0): EncoderLayer(\n",
      "        (attention): AttentionLayer(\n",
      "          (inner_attention): FullAttention(\n",
      "            (dropout): Dropout(p=0.3, inplace=False)\n",
      "          )\n",
      "          (query_projection): Linear(in_features=32, out_features=30, bias=True)\n",
      "          (key_projection): Linear(in_features=32, out_features=30, bias=True)\n",
      "          (value_projection): Linear(in_features=32, out_features=30, bias=True)\n",
      "          (out_projection): Linear(in_features=30, out_features=32, bias=True)\n",
      "        )\n",
      "        (conv1): Conv1d(32, 32, kernel_size=(1,), stride=(1,))\n",
      "        (conv2): Conv1d(32, 32, kernel_size=(1,), stride=(1,))\n",
      "        (norm1): LayerNorm((32,), eps=1e-05, elementwise_affine=True)\n",
      "        (norm2): LayerNorm((32,), eps=1e-05, elementwise_affine=True)\n",
      "        (dropout): Dropout(p=0.3, inplace=False)\n",
      "      )\n",
      "      (1): EncoderLayer(\n",
      "        (attention): AttentionLayer(\n",
      "          (inner_attention): FullAttention(\n",
      "            (dropout): Dropout(p=0.3, inplace=False)\n",
      "          )\n",
      "          (query_projection): Linear(in_features=32, out_features=30, bias=True)\n",
      "          (key_projection): Linear(in_features=32, out_features=30, bias=True)\n",
      "          (value_projection): Linear(in_features=32, out_features=30, bias=True)\n",
      "          (out_projection): Linear(in_features=30, out_features=32, bias=True)\n",
      "        )\n",
      "        (conv1): Conv1d(32, 32, kernel_size=(1,), stride=(1,))\n",
      "        (conv2): Conv1d(32, 32, kernel_size=(1,), stride=(1,))\n",
      "        (norm1): LayerNorm((32,), eps=1e-05, elementwise_affine=True)\n",
      "        (norm2): LayerNorm((32,), eps=1e-05, elementwise_affine=True)\n",
      "        (dropout): Dropout(p=0.3, inplace=False)\n",
      "      )\n",
      "    )\n",
      "    (norm): LayerNorm((32,), eps=1e-05, elementwise_affine=True)\n",
      "  )\n",
      "  (decoder): Decoder(\n",
      "    (layers): ModuleList(\n",
      "      (0): DecoderLayer(\n",
      "        (self_attention): AttentionLayer(\n",
      "          (inner_attention): FullAttention(\n",
      "            (dropout): Dropout(p=0.3, inplace=False)\n",
      "          )\n",
      "          (query_projection): Linear(in_features=32, out_features=30, bias=True)\n",
      "          (key_projection): Linear(in_features=32, out_features=30, bias=True)\n",
      "          (value_projection): Linear(in_features=32, out_features=30, bias=True)\n",
      "          (out_projection): Linear(in_features=30, out_features=32, bias=True)\n",
      "        )\n",
      "        (cross_attention): AttentionLayer(\n",
      "          (inner_attention): FullAttention(\n",
      "            (dropout): Dropout(p=0.3, inplace=False)\n",
      "          )\n",
      "          (query_projection): Linear(in_features=32, out_features=30, bias=True)\n",
      "          (key_projection): Linear(in_features=32, out_features=30, bias=True)\n",
      "          (value_projection): Linear(in_features=32, out_features=30, bias=True)\n",
      "          (out_projection): Linear(in_features=30, out_features=32, bias=True)\n",
      "        )\n",
      "        (conv1): Conv1d(32, 32, kernel_size=(1,), stride=(1,))\n",
      "        (conv2): Conv1d(32, 32, kernel_size=(1,), stride=(1,))\n",
      "        (norm1): LayerNorm((32,), eps=1e-05, elementwise_affine=True)\n",
      "        (norm2): LayerNorm((32,), eps=1e-05, elementwise_affine=True)\n",
      "        (norm3): LayerNorm((32,), eps=1e-05, elementwise_affine=True)\n",
      "        (dropout): Dropout(p=0.3, inplace=False)\n",
      "      )\n",
      "      (1): DecoderLayer(\n",
      "        (self_attention): AttentionLayer(\n",
      "          (inner_attention): FullAttention(\n",
      "            (dropout): Dropout(p=0.3, inplace=False)\n",
      "          )\n",
      "          (query_projection): Linear(in_features=32, out_features=30, bias=True)\n",
      "          (key_projection): Linear(in_features=32, out_features=30, bias=True)\n",
      "          (value_projection): Linear(in_features=32, out_features=30, bias=True)\n",
      "          (out_projection): Linear(in_features=30, out_features=32, bias=True)\n",
      "        )\n",
      "        (cross_attention): AttentionLayer(\n",
      "          (inner_attention): FullAttention(\n",
      "            (dropout): Dropout(p=0.3, inplace=False)\n",
      "          )\n",
      "          (query_projection): Linear(in_features=32, out_features=30, bias=True)\n",
      "          (key_projection): Linear(in_features=32, out_features=30, bias=True)\n",
      "          (value_projection): Linear(in_features=32, out_features=30, bias=True)\n",
      "          (out_projection): Linear(in_features=30, out_features=32, bias=True)\n",
      "        )\n",
      "        (conv1): Conv1d(32, 32, kernel_size=(1,), stride=(1,))\n",
      "        (conv2): Conv1d(32, 32, kernel_size=(1,), stride=(1,))\n",
      "        (norm1): LayerNorm((32,), eps=1e-05, elementwise_affine=True)\n",
      "        (norm2): LayerNorm((32,), eps=1e-05, elementwise_affine=True)\n",
      "        (norm3): LayerNorm((32,), eps=1e-05, elementwise_affine=True)\n",
      "        (dropout): Dropout(p=0.3, inplace=False)\n",
      "      )\n",
      "    )\n",
      "    (norm): LayerNorm((32,), eps=1e-05, elementwise_affine=True)\n",
      "  )\n",
      "  (projection): Linear(in_features=32, out_features=1, bias=True)\n",
      ")\n"
     ]
    }
   ],
   "source": [
    "Informer._build_model()"
   ]
  },
  {
   "cell_type": "code",
   "execution_count": 15,
   "id": "f552927d",
   "metadata": {},
   "outputs": [],
   "source": [
    "Informer._selct_optim('adam')\n",
    "Informer._selct_scheduler(opt='noam',patience=5, factor=0.5,step=8000)\n",
    "# Informer._selct_scheduler(opt='cyclic',base_lr=0.001, max_lr=0.005)"
   ]
  },
  {
   "cell_type": "code",
   "execution_count": 16,
   "id": "ddd5bc70",
   "metadata": {},
   "outputs": [
    {
     "name": "stdout",
     "output_type": "stream",
     "text": [
      "Total number of paramerters in networks is 35021  \n"
     ]
    }
   ],
   "source": [
    "print(\"Total number of paramerters in networks is {}  \".format(sum(x.numel() for x in Informer.model.parameters())))"
   ]
  },
  {
   "cell_type": "code",
   "execution_count": 17,
   "id": "f3737cf4",
   "metadata": {},
   "outputs": [],
   "source": [
    "Informer.val_every = True"
   ]
  },
  {
   "cell_type": "code",
   "execution_count": 18,
   "id": "b2595dfc",
   "metadata": {
    "scrolled": false
   },
   "outputs": [
    {
     "data": {
      "image/png": "[encoded data removed]",
      "text/plain": [
       "<Figure size 432x288 with 1 Axes>"
      ]
     },
     "metadata": {
      "needs_background": "light"
     },
     "output_type": "display_data"
    }
   ],
   "source": [
    "Informer.preview_noam()"
   ]
  },
  {
   "cell_type": "code",
   "execution_count": 9,
   "id": "72e6b909",
   "metadata": {},
   "outputs": [
    {
     "name": "stdout",
     "output_type": "stream",
     "text": [
      "Batch size:256\n",
      "Set:train\\20190617_20190628.hdf | len:1746\n",
      "Set:train\\20190628_20190710.hdf | len:1604\n",
      "Set:train\\20190710_20190723.hdf | len:1774\n",
      "Set:train\\20190723_20190731.hdf | len:1198\n"
     ]
    }
   ],
   "source": [
    "Informer.get_len_dataset()"
   ]
  },
  {
   "cell_type": "code",
   "execution_count": 23,
   "id": "a2d7827f",
   "metadata": {},
   "outputs": [
    {
     "name": "stdout",
     "output_type": "stream",
     "text": [
      "Learning Rate is set to 0.0005\n",
      "Warm\n"
     ]
    },
    {
     "data": {
      "application/vnd.jupyter.widget-view+json": {
       "model_id": "bc8860b82e064993a6df4806c6f1743e",
       "version_major": 2,
       "version_minor": 0
      },
      "text/plain": [
       "  0%|          | 0/5 [00:00<?, ?it/s]"
      ]
     },
     "metadata": {},
     "output_type": "display_data"
    },
    {
     "name": "stdout",
     "output_type": "stream",
     "text": [
      "Epoch:  1 |Train_Loss:0.413508 |R2:-0.021868|Val_Loss:0.395355 |R2:0.145998 |Rate:0.620 |lr:0.000500\n",
      "Learning Rate is set to 0.000625\n",
      "Epoch:  2 |Train_Loss:0.325921 |R2:0.193455|Val_Loss:0.337057 |R2:0.267678 |Rate:0.660 |lr:0.000625\n",
      "Learning Rate is set to 0.00075\n",
      "Epoch:  3 |Train_Loss:0.288048 |R2:0.275929|Val_Loss:0.327580 |R2:0.287288 |Rate:0.669 |lr:0.000750\n",
      "Learning Rate is set to 0.000875\n",
      "Epoch:  4 |Train_Loss:0.281595 |R2:0.291571|Val_Loss:0.324800 |R2:0.292898 |Rate:0.673 |lr:0.000875\n",
      "Learning Rate is set to 0.001\n",
      "Epoch:  5 |Train_Loss:0.278446 |R2:0.298351|Val_Loss:0.326631 |R2:0.288825 |Rate:0.672 |lr:0.001000\n",
      "Learning Rate is set to 0.0011250000000000001\n",
      "Learning Rate is set to 0.001\n",
      "Warm Up Done\n"
     ]
    }
   ],
   "source": [
    "Informer.lr = 0.001\n",
    "Informer.warmup_train(0.0005,f='../../stock_price/train\\\\20190723_20190731.hdf')"
   ]
  },
  {
   "cell_type": "code",
   "execution_count": 24,
   "id": "5a9ecaac",
   "metadata": {},
   "outputs": [
    {
     "name": "stdout",
     "output_type": "stream",
     "text": [
      "Learning Rate is set to 0.0005\n"
     ]
    }
   ],
   "source": [
    "Informer._set_lr(0.0005)"
   ]
  },
  {
   "cell_type": "code",
   "execution_count": null,
   "id": "e23c9219",
   "metadata": {
    "scrolled": false
   },
   "outputs": [
    {
     "data": {
      "application/vnd.jupyter.widget-view+json": {
       "model_id": "e298af4dcbd741acb4b90d01cd606d96",
       "version_major": 2,
       "version_minor": 0
      },
      "text/plain": [
       "  0%|          | 0/100 [00:00<?, ?it/s]"
      ]
     },
     "metadata": {},
     "output_type": "display_data"
    },
    {
     "name": "stdout",
     "output_type": "stream",
     "text": [
      "After training train\\20190401_20190412  Val_Loss:0.310617 |R2:0.322171 |Rate:0.674 |lr:0.000500\n",
      "After training train\\20190412_20190424  Val_Loss:0.308989 |R2:0.324940 |Rate:0.670 |lr:0.000500\n",
      "After training train\\20190510_20190522  Val_Loss:0.322517 |R2:0.296732 |Rate:0.657 |lr:0.000500\n",
      "After training train\\20190523_20190604  Val_Loss:0.304437 |R2:0.336122 |Rate:0.672 |lr:0.000500\n",
      "After training train\\20190604_20190617  Val_Loss:0.318366 |R2:0.308775 |Rate:0.661 |lr:0.000500\n",
      "After training train\\20190617_20190628  Val_Loss:0.317255 |R2:0.308391 |Rate:0.668 |lr:0.000500\n",
      "After training train\\20190628_20190710  Val_Loss:0.323630 |R2:0.297809 |Rate:0.661 |lr:0.000500\n",
      "After training train\\20190710_20190723  Val_Loss:0.310218 |R2:0.327654 |Rate:0.673 |lr:0.000500\n",
      "After training train\\20190723_20190731  Val_Loss:0.332714 |R2:0.278934 |Rate:0.658 |lr:0.000500\n",
      "Save here\n",
      "Epoch:  5 |Train_Loss:0.545045 |R2:0.310020|Val_Loss:0.332714 |R2:0.278934 |Rate:0.658 |lr:0.000500\n",
      "Validation R2 increased (-inf --> 0.278934).  Saving model ...\n",
      "After training train\\20190401_20190412  Val_Loss:0.327435 |R2:0.283282 |Rate:0.674 |lr:0.000500\n",
      "After training train\\20190412_20190424  Val_Loss:0.366614 |R2:0.201762 |Rate:0.645 |lr:0.000500\n",
      "After training train\\20190510_20190522  Val_Loss:0.367652 |R2:0.200580 |Rate:0.640 |lr:0.000500\n",
      "After training train\\20190523_20190604  Val_Loss:0.304887 |R2:0.332800 |Rate:0.672 |lr:0.000500\n",
      "After training train\\20190604_20190617  Val_Loss:0.336731 |R2:0.269891 |Rate:0.648 |lr:0.000500\n",
      "After training train\\20190617_20190628  Val_Loss:0.323121 |R2:0.293384 |Rate:0.668 |lr:0.000500\n",
      "After training train\\20190628_20190710  Val_Loss:0.339138 |R2:0.265784 |Rate:0.650 |lr:0.000500\n",
      "After training train\\20190710_20190723  Val_Loss:0.313248 |R2:0.320849 |Rate:0.668 |lr:0.000500\n",
      "After training train\\20190723_20190731  Val_Loss:0.358484 |R2:0.224283 |Rate:0.639 |lr:0.000500\n",
      "Save here\n",
      "Epoch:  6 |Train_Loss:0.502588 |R2:0.347611|Val_Loss:0.358484 |R2:0.224283 |Rate:0.639 |lr:0.000500\n",
      "EarlyStopping counter: 1 out of 40\n",
      "After training train\\20190401_20190412  Val_Loss:0.317140 |R2:0.303098 |Rate:0.672 |lr:0.000500\n",
      "After training train\\20190412_20190424  Val_Loss:0.397600 |R2:0.136939 |Rate:0.633 |lr:0.000500\n",
      "After training train\\20190510_20190522  Val_Loss:0.405046 |R2:0.120902 |Rate:0.625 |lr:0.000500\n",
      "After training train\\20190523_20190604  Val_Loss:0.307672 |R2:0.326053 |Rate:0.669 |lr:0.000500\n",
      "After training train\\20190604_20190617  Val_Loss:0.356508 |R2:0.227566 |Rate:0.635 |lr:0.000500\n",
      "After training train\\20190617_20190628  Val_Loss:0.313007 |R2:0.316734 |Rate:0.671 |lr:0.000500\n",
      "After training train\\20190628_20190710  Val_Loss:0.362483 |R2:0.215771 |Rate:0.634 |lr:0.000500\n",
      "After training train\\20190710_20190723  Val_Loss:0.321617 |R2:0.302907 |Rate:0.662 |lr:0.000500\n",
      "After training train\\20190723_20190731  Val_Loss:0.387544 |R2:0.161756 |Rate:0.622 |lr:0.000500\n",
      "Save here\n",
      "Epoch:  7 |Train_Loss:0.485339 |R2:0.363904|Val_Loss:0.387544 |R2:0.161756 |Rate:0.622 |lr:0.000500\n",
      "EarlyStopping counter: 2 out of 40\n",
      "After training train\\20190401_20190412  Val_Loss:0.317015 |R2:0.302243 |Rate:0.669 |lr:0.000500\n",
      "After training train\\20190412_20190424  Val_Loss:0.431351 |R2:0.064606 |Rate:0.623 |lr:0.000500\n",
      "After training train\\20190510_20190522  Val_Loss:0.440884 |R2:0.045309 |Rate:0.613 |lr:0.000500\n",
      "After training train\\20190523_20190604  Val_Loss:0.308456 |R2:0.326768 |Rate:0.669 |lr:0.000500\n",
      "After training train\\20190604_20190617  Val_Loss:0.373402 |R2:0.190714 |Rate:0.627 |lr:0.000500\n",
      "After training train\\20190617_20190628  Val_Loss:0.314352 |R2:0.313662 |Rate:0.670 |lr:0.000500\n",
      "After training train\\20190628_20190710  Val_Loss:0.372636 |R2:0.193685 |Rate:0.628 |lr:0.000500\n",
      "After training train\\20190710_20190723  Val_Loss:0.331825 |R2:0.281415 |Rate:0.655 |lr:0.000500\n",
      "After training train\\20190723_20190731  Val_Loss:0.406215 |R2:0.121315 |Rate:0.612 |lr:0.000500\n",
      "Save here\n",
      "Epoch:  8 |Train_Loss:0.475923 |R2:0.372837|Val_Loss:0.406215 |R2:0.121315 |Rate:0.612 |lr:0.000500\n",
      "EarlyStopping counter: 3 out of 40\n",
      "After training train\\20190401_20190412  Val_Loss:0.325169 |R2:0.282667 |Rate:0.664 |lr:0.000500\n",
      "After training train\\20190412_20190424  Val_Loss:0.448852 |R2:0.026678 |Rate:0.613 |lr:0.000500\n",
      "After training train\\20190510_20190522  Val_Loss:0.449000 |R2:0.027106 |Rate:0.609 |lr:0.000500\n",
      "After training train\\20190523_20190604  Val_Loss:0.308678 |R2:0.326431 |Rate:0.670 |lr:0.000500\n",
      "After training train\\20190604_20190617  Val_Loss:0.379495 |R2:0.178388 |Rate:0.623 |lr:0.000500\n",
      "After training train\\20190617_20190628  Val_Loss:0.308584 |R2:0.327283 |Rate:0.672 |lr:0.000500\n",
      "After training train\\20190628_20190710  Val_Loss:0.378196 |R2:0.181418 |Rate:0.624 |lr:0.000500\n",
      "After training train\\20190710_20190723  Val_Loss:0.335402 |R2:0.272159 |Rate:0.652 |lr:0.000500\n",
      "After training train\\20190723_20190731  Val_Loss:0.407687 |R2:0.118126 |Rate:0.609 |lr:0.000500\n",
      "Save here\n",
      "Epoch:  9 |Train_Loss:0.470559 |R2:0.378024|Val_Loss:0.407687 |R2:0.118126 |Rate:0.609 |lr:0.000500\n",
      "EarlyStopping counter: 4 out of 40\n",
      "After training train\\20190401_20190412  Val_Loss:0.336468 |R2:0.256299 |Rate:0.665 |lr:0.000500\n",
      "After training train\\20190412_20190424  Val_Loss:0.458940 |R2:0.004021 |Rate:0.614 |lr:0.000500\n",
      "After training train\\20190510_20190522  Val_Loss:0.466548 |R2:-0.011533 |Rate:0.602 |lr:0.000500\n",
      "After training train\\20190523_20190604  Val_Loss:0.308333 |R2:0.327108 |Rate:0.670 |lr:0.000500\n",
      "After training train\\20190604_20190617  Val_Loss:0.381458 |R2:0.173154 |Rate:0.622 |lr:0.000500\n",
      "After training train\\20190617_20190628  Val_Loss:0.310185 |R2:0.322182 |Rate:0.675 |lr:0.000500\n",
      "After training train\\20190628_20190710  Val_Loss:0.377722 |R2:0.181596 |Rate:0.623 |lr:0.000500\n",
      "After training train\\20190710_20190723  Val_Loss:0.336645 |R2:0.268054 |Rate:0.650 |lr:0.000500\n",
      "After training train\\20190723_20190731  Val_Loss:0.416994 |R2:0.095974 |Rate:0.602 |lr:0.000500\n",
      "Save here\n",
      "Epoch: 10 |Train_Loss:0.466532 |R2:0.382094|Val_Loss:0.416994 |R2:0.095974 |Rate:0.602 |lr:0.000500\n",
      "EarlyStopping counter: 5 out of 40\n",
      "After training train\\20190401_20190412  Val_Loss:0.348275 |R2:0.229138 |Rate:0.658 |lr:0.000500\n",
      "After training train\\20190412_20190424  Val_Loss:0.469661 |R2:-0.019272 |Rate:0.608 |lr:0.000500\n",
      "After training train\\20190510_20190522  Val_Loss:0.499414 |R2:-0.084986 |Rate:0.598 |lr:0.000500\n",
      "After training train\\20190523_20190604  Val_Loss:0.309494 |R2:0.324246 |Rate:0.670 |lr:0.000500\n",
      "After training train\\20190604_20190617  Val_Loss:0.383579 |R2:0.168614 |Rate:0.623 |lr:0.000500\n",
      "After training train\\20190617_20190628  Val_Loss:0.308266 |R2:0.325313 |Rate:0.674 |lr:0.000500\n",
      "After training train\\20190628_20190710  Val_Loss:0.383259 |R2:0.168652 |Rate:0.620 |lr:0.000500\n",
      "After training train\\20190710_20190723  Val_Loss:0.337276 |R2:0.266568 |Rate:0.649 |lr:0.000500\n",
      "After training train\\20190723_20190731  Val_Loss:0.421929 |R2:0.084845 |Rate:0.599 |lr:0.000500\n",
      "Save here\n",
      "Epoch: 11 |Train_Loss:0.463389 |R2:0.385286|Val_Loss:0.421929 |R2:0.084845 |Rate:0.599 |lr:0.000500\n",
      "EarlyStopping counter: 6 out of 40\n",
      "After training train\\20190401_20190412  Val_Loss:0.346638 |R2:0.229841 |Rate:0.660 |lr:0.000500\n",
      "After training train\\20190412_20190424  Val_Loss:0.478504 |R2:-0.040193 |Rate:0.606 |lr:0.000500\n",
      "After training train\\20190510_20190522  Val_Loss:0.531739 |R2:-0.156513 |Rate:0.591 |lr:0.000500\n",
      "After training train\\20190523_20190604  Val_Loss:0.310140 |R2:0.322570 |Rate:0.670 |lr:0.000500\n",
      "After training train\\20190604_20190617  Val_Loss:0.385711 |R2:0.162165 |Rate:0.623 |lr:0.000500\n",
      "After training train\\20190617_20190628  Val_Loss:0.312281 |R2:0.316901 |Rate:0.676 |lr:0.000500\n",
      "After training train\\20190628_20190710  Val_Loss:0.386440 |R2:0.160608 |Rate:0.618 |lr:0.000500\n"
     ]
    }
   ],
   "source": [
    "Informer.train(epochs=100, train_all=True, f='../stock_price/train/20190723_20190731.hdf',\n",
    "             val_all=True, testfile=None, save='train',patience=40)"
   ]
  },
  {
   "cell_type": "code",
   "execution_count": 11,
   "id": "c0cbbf1e",
   "metadata": {},
   "outputs": [
    {
     "name": "stdout",
     "output_type": "stream",
     "text": [
      "success\n"
     ]
    }
   ],
   "source": [
    "Informer.load('checkpoint/Informer-direct-1s_12-08_11-40.pt')"
   ]
  },
  {
   "cell_type": "code",
   "execution_count": 12,
   "id": "ca32cde0",
   "metadata": {},
   "outputs": [
    {
     "name": "stdout",
     "output_type": "stream",
     "text": [
      "Learning Rate is set to 0.0001\n"
     ]
    }
   ],
   "source": [
    "Informer._set_lr(0.0001)"
   ]
  },
  {
   "cell_type": "code",
   "execution_count": null,
   "id": "63c55fbf",
   "metadata": {},
   "outputs": [
    {
     "data": {
      "application/vnd.jupyter.widget-view+json": {
       "model_id": "6a8ca561ddd44618ab8800840c778f6e",
       "version_major": 2,
       "version_minor": 0
      },
      "text/plain": [
       "  0%|          | 0/20 [00:00<?, ?it/s]"
      ]
     },
     "metadata": {},
     "output_type": "display_data"
    },
    {
     "name": "stdout",
     "output_type": "stream",
     "text": [
      "After training train\\20190401_20190412  Val_Loss:0.432893 |R2:0.045493 |Rate:0.606 |lr:0.000246\n",
      "After training train\\20190523_20190604  Val_Loss:0.329468 |R2:0.276902 |Rate:0.665 |lr:0.000462\n",
      "After training train\\20190617_20190628  Val_Loss:0.374537 |R2:0.170675 |Rate:0.644 |lr:0.000678\n",
      "After training train\\20190710_20190723  Val_Loss:0.305510 |R2:0.335919 |Rate:0.673 |lr:0.000897\n",
      "Save here\n",
      "Epoch:  1 |Train_Loss:0.717126 |R2:0.139060|Val_Loss:0.305510 |R2:0.335919 |Rate:0.673 |lr:0.000897\n",
      "Validation R2 increased (-inf --> 0.335919).  Saving model ...\n",
      "After training train\\20190401_20190412  Val_Loss:0.314590 |R2:0.312446 |Rate:0.670 |lr:0.000919\n",
      "After training train\\20190523_20190604  Val_Loss:0.313054 |R2:0.316031 |Rate:0.667 |lr:0.000842\n",
      "After training train\\20190617_20190628  Val_Loss:0.335206 |R2:0.263153 |Rate:0.653 |lr:0.000783\n",
      "After training train\\20190710_20190723  Val_Loss:0.322355 |R2:0.299980 |Rate:0.660 |lr:0.000733\n",
      "Save here\n",
      "Epoch:  2 |Train_Loss:0.559248 |R2:0.293206|Val_Loss:0.322355 |R2:0.299980 |Rate:0.660 |lr:0.000733\n",
      "EarlyStopping counter: 1 out of 40\n",
      "After training train\\20190401_20190412  Val_Loss:0.318423 |R2:0.305212 |Rate:0.670 |lr:0.000688\n",
      "After training train\\20190523_20190604  Val_Loss:0.317438 |R2:0.306291 |Rate:0.661 |lr:0.000654\n",
      "After training train\\20190617_20190628  Val_Loss:0.324294 |R2:0.292492 |Rate:0.662 |lr:0.000625\n",
      "After training train\\20190710_20190723  Val_Loss:0.334727 |R2:0.273204 |Rate:0.650 |lr:0.000599\n",
      "Save here\n",
      "Epoch:  3 |Train_Loss:0.515023 |R2:0.333426|Val_Loss:0.334727 |R2:0.273204 |Rate:0.650 |lr:0.000599\n",
      "EarlyStopping counter: 2 out of 40\n",
      "After training train\\20190401_20190412  Val_Loss:0.315231 |R2:0.311781 |Rate:0.671 |lr:0.000573\n",
      "After training train\\20190523_20190604  Val_Loss:0.315801 |R2:0.310707 |Rate:0.661 |lr:0.000553\n",
      "After training train\\20190617_20190628  Val_Loss:0.335770 |R2:0.266217 |Rate:0.658 |lr:0.000535\n",
      "After training train\\20190710_20190723  Val_Loss:0.341777 |R2:0.259414 |Rate:0.646 |lr:0.000519\n",
      "Save here\n",
      "Epoch:  4 |Train_Loss:0.502249 |R2:0.346106|Val_Loss:0.341777 |R2:0.259414 |Rate:0.646 |lr:0.000519\n",
      "EarlyStopping counter: 3 out of 40\n",
      "After training train\\20190401_20190412  Val_Loss:0.318417 |R2:0.305536 |Rate:0.669 |lr:0.000502\n",
      "After training train\\20190523_20190604  Val_Loss:0.316929 |R2:0.308021 |Rate:0.659 |lr:0.000488\n",
      "After training train\\20190617_20190628  Val_Loss:0.322319 |R2:0.297581 |Rate:0.664 |lr:0.000476\n",
      "After training train\\20190710_20190723  Val_Loss:0.339902 |R2:0.263507 |Rate:0.647 |lr:0.000464\n",
      "Save here\n",
      "Epoch:  5 |Train_Loss:0.495411 |R2:0.352995|Val_Loss:0.339902 |R2:0.263507 |Rate:0.647 |lr:0.000464\n",
      "EarlyStopping counter: 4 out of 40\n",
      "After training train\\20190401_20190412  Val_Loss:0.311004 |R2:0.321933 |Rate:0.672 |lr:0.000452\n",
      "After training train\\20190523_20190604  Val_Loss:0.318421 |R2:0.305078 |Rate:0.658 |lr:0.000442\n",
      "After training train\\20190617_20190628  Val_Loss:0.314808 |R2:0.314183 |Rate:0.667 |lr:0.000432\n",
      "After training train\\20190710_20190723  Val_Loss:0.343156 |R2:0.256092 |Rate:0.644 |lr:0.000423\n",
      "Save here\n",
      "Epoch:  6 |Train_Loss:0.490958 |R2:0.357472|Val_Loss:0.343156 |R2:0.256092 |Rate:0.644 |lr:0.000423\n",
      "EarlyStopping counter: 5 out of 40\n",
      "After training train\\20190401_20190412  Val_Loss:0.315139 |R2:0.313027 |Rate:0.668 |lr:0.000414\n",
      "After training train\\20190523_20190604  Val_Loss:0.316640 |R2:0.309440 |Rate:0.661 |lr:0.000406\n",
      "After training train\\20190617_20190628  Val_Loss:0.318171 |R2:0.307286 |Rate:0.665 |lr:0.000399\n",
      "After training train\\20190710_20190723  Val_Loss:0.347260 |R2:0.247606 |Rate:0.642 |lr:0.000392\n",
      "Save here\n",
      "Epoch:  7 |Train_Loss:0.487016 |R2:0.361643|Val_Loss:0.347260 |R2:0.247606 |Rate:0.642 |lr:0.000392\n",
      "EarlyStopping counter: 6 out of 40\n",
      "After training train\\20190401_20190412  Val_Loss:0.310469 |R2:0.323966 |Rate:0.671 |lr:0.000385\n",
      "After training train\\20190523_20190604  Val_Loss:0.315310 |R2:0.312750 |Rate:0.663 |lr:0.000378\n",
      "After training train\\20190617_20190628  Val_Loss:0.315245 |R2:0.313878 |Rate:0.668 |lr:0.000372\n",
      "After training train\\20190710_20190723  Val_Loss:0.346101 |R2:0.249820 |Rate:0.642 |lr:0.000367\n",
      "Save here\n",
      "Epoch:  8 |Train_Loss:0.483905 |R2:0.364833|Val_Loss:0.346101 |R2:0.249820 |Rate:0.642 |lr:0.000367\n",
      "EarlyStopping counter: 7 out of 40\n",
      "After training train\\20190401_20190412  Val_Loss:0.312286 |R2:0.319316 |Rate:0.669 |lr:0.000361\n",
      "After training train\\20190523_20190604  Val_Loss:0.322529 |R2:0.297168 |Rate:0.658 |lr:0.000355\n",
      "After training train\\20190617_20190628  Val_Loss:0.315338 |R2:0.313817 |Rate:0.665 |lr:0.000350\n",
      "After training train\\20190710_20190723  Val_Loss:0.344140 |R2:0.254690 |Rate:0.645 |lr:0.000346\n",
      "Save here\n",
      "Epoch:  9 |Train_Loss:0.482421 |R2:0.367656|Val_Loss:0.344140 |R2:0.254690 |Rate:0.645 |lr:0.000346\n",
      "EarlyStopping counter: 8 out of 40\n",
      "After training train\\20190401_20190412  Val_Loss:0.312408 |R2:0.319519 |Rate:0.668 |lr:0.000341\n",
      "After training train\\20190523_20190604  Val_Loss:0.319169 |R2:0.304744 |Rate:0.660 |lr:0.000336\n",
      "After training train\\20190617_20190628  Val_Loss:0.313413 |R2:0.318254 |Rate:0.667 |lr:0.000332\n",
      "After training train\\20190710_20190723  Val_Loss:0.345222 |R2:0.252272 |Rate:0.644 |lr:0.000328\n",
      "Epoch: 10 |Train_Loss:0.482150 |R2:0.366666|Val_Loss:0.345222 |R2:0.252272 |Rate:0.644 |lr:0.000328\n",
      "EarlyStopping counter: 9 out of 40\n",
      "After training train\\20190401_20190412  Val_Loss:0.318040 |R2:0.306147 |Rate:0.664 |lr:0.000324\n",
      "After training train\\20190523_20190604  Val_Loss:0.321681 |R2:0.298884 |Rate:0.656 |lr:0.000320\n",
      "After training train\\20190617_20190628  Val_Loss:0.315661 |R2:0.313483 |Rate:0.664 |lr:0.000316\n",
      "After training train\\20190710_20190723  Val_Loss:0.344266 |R2:0.254908 |Rate:0.645 |lr:0.000313\n",
      "Save here\n",
      "Epoch: 11 |Train_Loss:0.478522 |R2:0.370133|Val_Loss:0.344266 |R2:0.254908 |Rate:0.645 |lr:0.000313\n",
      "EarlyStopping counter: 10 out of 40\n",
      "After training train\\20190401_20190412  Val_Loss:0.313816 |R2:0.315340 |Rate:0.665 |lr:0.000309\n",
      "After training train\\20190523_20190604  Val_Loss:0.319870 |R2:0.303503 |Rate:0.659 |lr:0.000306\n",
      "After training train\\20190617_20190628  Val_Loss:0.315737 |R2:0.313599 |Rate:0.665 |lr:0.000302\n",
      "After training train\\20190710_20190723  Val_Loss:0.344955 |R2:0.252905 |Rate:0.643 |lr:0.000299\n",
      "Save here\n",
      "Epoch: 12 |Train_Loss:0.476659 |R2:0.372153|Val_Loss:0.344955 |R2:0.252905 |Rate:0.643 |lr:0.000299\n",
      "EarlyStopping counter: 11 out of 40\n",
      "After training train\\20190401_20190412  Val_Loss:0.314336 |R2:0.314581 |Rate:0.664 |lr:0.000296\n",
      "After training train\\20190523_20190604  Val_Loss:0.320527 |R2:0.302061 |Rate:0.659 |lr:0.000293\n",
      "After training train\\20190617_20190628  Val_Loss:0.316592 |R2:0.311443 |Rate:0.664 |lr:0.000290\n",
      "After training train\\20190710_20190723  Val_Loss:0.348295 |R2:0.246527 |Rate:0.641 |lr:0.000288\n",
      "Save here\n",
      "Epoch: 13 |Train_Loss:0.474617 |R2:0.373980|Val_Loss:0.348295 |R2:0.246527 |Rate:0.641 |lr:0.000288\n",
      "EarlyStopping counter: 12 out of 40\n",
      "After training train\\20190401_20190412  Val_Loss:0.319283 |R2:0.303846 |Rate:0.661 |lr:0.000285\n",
      "After training train\\20190523_20190604  Val_Loss:0.319977 |R2:0.303529 |Rate:0.660 |lr:0.000282\n",
      "After training train\\20190617_20190628  Val_Loss:0.314679 |R2:0.315594 |Rate:0.666 |lr:0.000280\n"
     ]
    }
   ],
   "source": [
    "Informer.train(epochs=20, train_all=True, f='../../stock_price/train/20190723_20190731.hdf',\n",
    "             val_all=True, testfile=None, save='train',patience=40)"
   ]
  },
  {
   "cell_type": "code",
   "execution_count": 9,
   "id": "d745f57f",
   "metadata": {
    "scrolled": false
   },
   "outputs": [
    {
     "name": "stdout",
     "output_type": "stream",
     "text": [
      "success\n",
      "Learning Rate is set to 5e-05\n"
     ]
    },
    {
     "data": {
      "application/vnd.jupyter.widget-view+json": {
       "model_id": "b137cc9a9f4e4f5d84fde33046d8929e",
       "version_major": 2,
       "version_minor": 0
      },
      "text/plain": [
       "  0%|          | 0/10 [00:00<?, ?it/s]"
      ]
     },
     "metadata": {},
     "output_type": "display_data"
    },
    {
     "name": "stdout",
     "output_type": "stream",
     "text": [
      "Save here\n",
      "Epoch:  1 |Train_Loss:0.327707 |R2:0.253676|Val_Loss:0.300644 |R2:0.347185 |Rate:0.678 |lr:0.000050\n",
      "Validation R2 increased (-inf --> 0.347185).  Saving model ...\n",
      "Save here\n",
      "Epoch:  2 |Train_Loss:0.326989 |R2:0.254527|Val_Loss:0.300586 |R2:0.347277 |Rate:0.679 |lr:0.000050\n",
      "Validation R2 increased (0.347185 --> 0.347277).  Saving model ...\n",
      "Save here\n",
      "Epoch:  3 |Train_Loss:0.326344 |R2:0.255407|Val_Loss:0.300858 |R2:0.346489 |Rate:0.678 |lr:0.000050\n",
      "EarlyStopping counter: 1 out of 40\n",
      "Save here\n",
      "Epoch:  4 |Train_Loss:0.325588 |R2:0.256172|Val_Loss:0.301103 |R2:0.346303 |Rate:0.678 |lr:0.000050\n",
      "EarlyStopping counter: 2 out of 40\n",
      "Save here\n",
      "Epoch:  5 |Train_Loss:0.325569 |R2:0.256475|Val_Loss:0.300553 |R2:0.347309 |Rate:0.678 |lr:0.000050\n",
      "Validation R2 increased (0.347277 --> 0.347309).  Saving model ...\n",
      "Save here\n",
      "Epoch:  6 |Train_Loss:0.324835 |R2:0.257440|Val_Loss:0.300226 |R2:0.348046 |Rate:0.679 |lr:0.000050\n",
      "Validation R2 increased (0.347309 --> 0.348046).  Saving model ...\n",
      "Epoch:  7 |Train_Loss:0.324688 |R2:0.257405|Val_Loss:0.300633 |R2:0.347533 |Rate:0.678 |lr:0.000050\n",
      "EarlyStopping counter: 1 out of 40\n",
      "Save here\n",
      "Epoch:  8 |Train_Loss:0.324133 |R2:0.258204|Val_Loss:0.300212 |R2:0.347857 |Rate:0.679 |lr:0.000050\n",
      "EarlyStopping counter: 2 out of 40\n",
      "Save here\n",
      "Epoch:  9 |Train_Loss:0.324064 |R2:0.258514|Val_Loss:0.301823 |R2:0.345420 |Rate:0.678 |lr:0.000050\n",
      "EarlyStopping counter: 3 out of 40\n",
      "Save here\n",
      "Epoch: 10 |Train_Loss:0.323440 |R2:0.258923|Val_Loss:0.300097 |R2:0.348413 |Rate:0.679 |lr:0.000050\n",
      "Validation R2 increased (0.348046 --> 0.348413).  Saving model ...\n",
      "Done\n"
     ]
    },
    {
     "data": {
      "image/png": "[encoded data removed]",
      "text/plain": [
       "<Figure size 432x288 with 1 Axes>"
      ]
     },
     "metadata": {
      "needs_background": "light"
     },
     "output_type": "display_data"
    }
   ],
   "source": [
    "Informer.load('checkpoint/Informer-direct-1s_12-08_13-15.pt')\n",
    "Informer._set_lr(0.00005)\n",
    "Informer.train(epochs=10, train_all=True, f='../../stock_price/train/20190723_20190731.hdf',\n",
    "             val_all=True, testfile=None, save='train',patience=40)"
   ]
  },
  {
   "cell_type": "code",
   "execution_count": 10,
   "id": "43fddb58",
   "metadata": {},
   "outputs": [
    {
     "name": "stdout",
     "output_type": "stream",
     "text": [
      "Successfully save\n"
     ]
    }
   ],
   "source": [
    "Informer.save('12-08_14-33')"
   ]
  },
  {
   "cell_type": "code",
   "execution_count": null,
   "id": "7ab44aff",
   "metadata": {},
   "outputs": [
    {
     "name": "stdout",
     "output_type": "stream",
     "text": [
      "Learning Rate is set to 0.001\n"
     ]
    },
    {
     "data": {
      "application/vnd.jupyter.widget-view+json": {
       "model_id": "6fc8588f4be64094810729e1294f9d4a",
       "version_major": 2,
       "version_minor": 0
      },
      "text/plain": [
       "  0%|          | 0/10 [00:00<?, ?it/s]"
      ]
     },
     "metadata": {},
     "output_type": "display_data"
    },
    {
     "name": "stdout",
     "output_type": "stream",
     "text": [
      "Save here\n",
      "Epoch: 10 |Train_Loss:0.412368 |R2:0.108926|Val_Loss:0.361326 |R2:0.221293 |Rate:0.650 |lr:0.001000\n",
      "Validation R2 increased (-inf --> 0.221293).  Saving model ...\n",
      "Epoch: 11 |Train_Loss:0.423008 |R2:0.073189|Val_Loss:0.369935 |R2:0.203245 |Rate:0.633 |lr:0.001000\n",
      "EarlyStopping counter: 1 out of 40\n",
      "Epoch: 12 |Train_Loss:0.471930 |R2:-0.050349|Val_Loss:0.457899 |R2:0.012545 |Rate:0.517 |lr:0.001000\n",
      "EarlyStopping counter: 2 out of 40\n"
     ]
    }
   ],
   "source": [
    "Informer._set_lr(0.001)\n",
    "Informer.train(epochs=10, train_all=True, f='../../stock_price/train/20190723_20190731.hdf',\n",
    "             val_all=True, testfile=None, save='train',patience=40)"
   ]
  },
  {
   "cell_type": "code",
   "execution_count": 10,
   "id": "cbdefa11",
   "metadata": {},
   "outputs": [
    {
     "name": "stdout",
     "output_type": "stream",
     "text": [
      "success\n",
      "Learning Rate is set to 1e-05\n"
     ]
    },
    {
     "data": {
      "application/vnd.jupyter.widget-view+json": {
       "model_id": "86d1b8f6ac9b4637b7c2c6dd368712f3",
       "version_major": 2,
       "version_minor": 0
      },
      "text/plain": [
       "  0%|          | 0/5 [00:00<?, ?it/s]"
      ]
     },
     "metadata": {},
     "output_type": "display_data"
    },
    {
     "name": "stdout",
     "output_type": "stream",
     "text": [
      "Save here\n",
      "Epoch:  1 |Train_Loss:0.323044 |R2:0.256725|Val_Loss:0.301369 |R2:0.345907 |Rate:0.678 |lr:0.000010\n",
      "Validation R2 increased (-inf --> 0.345907).  Saving model ...\n",
      "Save here\n",
      "Epoch:  2 |Train_Loss:0.322586 |R2:0.257047|Val_Loss:0.301960 |R2:0.344713 |Rate:0.677 |lr:0.000010\n",
      "EarlyStopping counter: 1 out of 40\n",
      "Save here\n",
      "Epoch:  3 |Train_Loss:0.322084 |R2:0.257594|Val_Loss:0.302103 |R2:0.344342 |Rate:0.677 |lr:0.000010\n",
      "EarlyStopping counter: 2 out of 40\n",
      "Epoch:  4 |Train_Loss:0.322297 |R2:0.257153|Val_Loss:0.302050 |R2:0.344459 |Rate:0.677 |lr:0.000010\n",
      "EarlyStopping counter: 3 out of 40\n",
      "Save here\n",
      "Epoch:  5 |Train_Loss:0.322181 |R2:0.257610|Val_Loss:0.302013 |R2:0.344493 |Rate:0.677 |lr:0.000010\n",
      "EarlyStopping counter: 4 out of 40\n",
      "Done\n"
     ]
    },
    {
     "data": {
      "image/png": "[encoded data removed]",
      "text/plain": [
       "<Figure size 432x288 with 1 Axes>"
      ]
     },
     "metadata": {
      "needs_background": "light"
     },
     "output_type": "display_data"
    }
   ],
   "source": [
    "Informer.load('checkpoint/12-08_14-33.pt')\n",
    "Informer._set_lr(0.00001)\n",
    "Informer.train(epochs=5, train_all=True, f='../../stock_price/train/20190723_20190731.hdf',\n",
    "             val_all=True, testfile=None, save='train',patience=40)"
   ]
  },
  {
   "cell_type": "code",
   "execution_count": 9,
   "id": "f78efca8",
   "metadata": {},
   "outputs": [
    {
     "name": "stdout",
     "output_type": "stream",
     "text": [
      "success\n"
     ]
    }
   ],
   "source": [
    "Informer.load('checkpoint/12-08_14-33.pt')"
   ]
  },
  {
   "cell_type": "code",
   "execution_count": 11,
   "id": "ae0fb15b",
   "metadata": {},
   "outputs": [
    {
     "data": {
      "application/vnd.jupyter.widget-view+json": {
       "model_id": "527f88a3e8614049baae0d2459b2b488",
       "version_major": 2,
       "version_minor": 0
      },
      "text/plain": [
       "  0%|          | 0/2 [00:00<?, ?it/s]"
      ]
     },
     "metadata": {},
     "output_type": "display_data"
    },
    {
     "name": "stdout",
     "output_type": "stream",
     "text": [
      "get mse\n",
      "get index\n",
      "Drop 42107 (9.274%) data in train\\20190710_20190723.hdf\n",
      "get mse\n",
      "get index\n",
      "Drop 18689 (6.095%) data in train\\20190723_20190731.hdf\n"
     ]
    }
   ],
   "source": [
    "Informer.boost(1,'t')"
   ]
  },
  {
   "cell_type": "code",
   "execution_count": 12,
   "id": "1a65b6e1",
   "metadata": {},
   "outputs": [
    {
     "data": {
      "text/plain": [
       "['temp_train/train\\\\20190710_20190723.hdf',\n",
       " 'temp_train/train\\\\20190723_20190731.hdf']"
      ]
     },
     "execution_count": 12,
     "metadata": {},
     "output_type": "execute_result"
    }
   ],
   "source": [
    "train_f = sorted(glob.glob('temp_train/train/*.hdf'))\n",
    "train_f"
   ]
  },
  {
   "cell_type": "code",
   "execution_count": 13,
   "id": "8eedf291",
   "metadata": {},
   "outputs": [],
   "source": [
    "Informer.train_f = train_f"
   ]
  },
  {
   "cell_type": "code",
   "execution_count": 14,
   "id": "38fc1eaf",
   "metadata": {},
   "outputs": [
    {
     "name": "stdout",
     "output_type": "stream",
     "text": [
      "Learning Rate is set to 0.0005\n"
     ]
    },
    {
     "data": {
      "application/vnd.jupyter.widget-view+json": {
       "model_id": "399dfef793544b38ad71fa76c76957ae",
       "version_major": 2,
       "version_minor": 0
      },
      "text/plain": [
       "  0%|          | 0/5 [00:00<?, ?it/s]"
      ]
     },
     "metadata": {},
     "output_type": "display_data"
    },
    {
     "name": "stdout",
     "output_type": "stream",
     "text": [
      "Save here\n",
      "Epoch:  1 |Train_Loss:0.296409 |R2:0.252025|Val_Loss:0.313024 |R2:0.320375 |Rate:0.677 |lr:0.000500\n",
      "Validation R2 increased (-inf --> 0.320375).  Saving model ...\n",
      "Epoch:  2 |Train_Loss:0.298198 |R2:0.248859|Val_Loss:0.310680 |R2:0.325581 |Rate:0.677 |lr:0.000500\n",
      "Validation R2 increased (0.320375 --> 0.325581).  Saving model ...\n",
      "Epoch:  3 |Train_Loss:0.299166 |R2:0.247663|Val_Loss:0.311666 |R2:0.324847 |Rate:0.677 |lr:0.000500\n",
      "EarlyStopping counter: 1 out of 40\n",
      "Epoch:  4 |Train_Loss:0.297864 |R2:0.247260|Val_Loss:0.314222 |R2:0.319191 |Rate:0.675 |lr:0.000500\n",
      "EarlyStopping counter: 2 out of 40\n",
      "Epoch:  5 |Train_Loss:0.300430 |R2:0.241651|Val_Loss:0.312262 |R2:0.323639 |Rate:0.677 |lr:0.000500\n",
      "EarlyStopping counter: 3 out of 40\n",
      "Done\n"
     ]
    },
    {
     "data": {
      "image/png": "[encoded data removed]",
      "text/plain": [
       "<Figure size 432x288 with 1 Axes>"
      ]
     },
     "metadata": {
      "needs_background": "light"
     },
     "output_type": "display_data"
    }
   ],
   "source": [
    "Informer._set_lr(0.0001)\n",
    "Informer.train(epochs=5, train_all=True, f='../../stock_price/train/20190723_20190731.hdf',\n",
    "             val_all=True, testfile=None, save='train',patience=40)"
   ]
  },
  {
   "cell_type": "code",
   "execution_count": 15,
   "id": "6ca206c4",
   "metadata": {},
   "outputs": [
    {
     "name": "stdout",
     "output_type": "stream",
     "text": [
      "success\n",
      "Learning Rate is set to 5e-05\n"
     ]
    },
    {
     "data": {
      "application/vnd.jupyter.widget-view+json": {
       "model_id": "b6b300d70af24e15ab4657615d3d8394",
       "version_major": 2,
       "version_minor": 0
      },
      "text/plain": [
       "  0%|          | 0/5 [00:00<?, ?it/s]"
      ]
     },
     "metadata": {},
     "output_type": "display_data"
    },
    {
     "name": "stdout",
     "output_type": "stream",
     "text": [
      "Save here\n",
      "Epoch:  5 |Train_Loss:0.282998 |R2:0.273298|Val_Loss:0.300717 |R2:0.346982 |Rate:0.678 |lr:0.000050\n",
      "Validation R2 increased (-inf --> 0.346982).  Saving model ...\n",
      "Save here\n",
      "Epoch:  6 |Train_Loss:0.282796 |R2:0.274472|Val_Loss:0.300614 |R2:0.347035 |Rate:0.678 |lr:0.000050\n",
      "Validation R2 increased (0.346982 --> 0.347035).  Saving model ...\n",
      "Save here\n",
      "Epoch:  7 |Train_Loss:0.282569 |R2:0.274792|Val_Loss:0.300600 |R2:0.347201 |Rate:0.678 |lr:0.000050\n",
      "Validation R2 increased (0.347035 --> 0.347201).  Saving model ...\n",
      "Save here\n",
      "Epoch:  8 |Train_Loss:0.282306 |R2:0.275590|Val_Loss:0.300670 |R2:0.346977 |Rate:0.678 |lr:0.000050\n",
      "EarlyStopping counter: 1 out of 40\n",
      "Save here\n",
      "Epoch:  9 |Train_Loss:0.281817 |R2:0.275735|Val_Loss:0.300334 |R2:0.347651 |Rate:0.679 |lr:0.000050\n",
      "Validation R2 increased (0.347201 --> 0.347651).  Saving model ...\n",
      "Done\n"
     ]
    },
    {
     "data": {
      "image/png": "[encoded data removed]",
      "text/plain": [
       "<Figure size 432x288 with 1 Axes>"
      ]
     },
     "metadata": {
      "needs_background": "light"
     },
     "output_type": "display_data"
    }
   ],
   "source": [
    "Informer.load('checkpoint/12-08_14-33.pt')\n",
    "Informer._set_lr(0.00005)\n",
    "Informer.train(epochs=5, train_all=True, f='../../stock_price/train/20190723_20190731.hdf',\n",
    "             val_all=True, testfile=None, save='train',patience=40)"
   ]
  },
  {
   "cell_type": "code",
   "execution_count": 13,
   "id": "549ebe02",
   "metadata": {
    "scrolled": false
   },
   "outputs": [
    {
     "data": {
      "application/vnd.jupyter.widget-view+json": {
       "model_id": "021afbc20de849b2b13267e5c97595d7",
       "version_major": 2,
       "version_minor": 0
      },
      "text/plain": [
       "  0%|          | 0/10 [00:00<?, ?it/s]"
      ]
     },
     "metadata": {},
     "output_type": "display_data"
    },
    {
     "name": "stdout",
     "output_type": "stream",
     "text": [
      "Save here\n",
      "Epoch:  5 |Train_Loss:0.373613 |R2:0.275739|Val_Loss:0.308126 |R2:0.332667 |Rate:0.674 |lr:0.000500\n",
      "Validation R2 increased (-inf --> 0.332667).  Saving model ...\n",
      "Save here\n",
      "Epoch:  6 |Train_Loss:0.362790 |R2:0.295467|Val_Loss:0.309383 |R2:0.330073 |Rate:0.674 |lr:0.000500\n",
      "EarlyStopping counter: 1 out of 40\n",
      "Save here\n",
      "Epoch:  7 |Train_Loss:0.356082 |R2:0.307472|Val_Loss:0.312887 |R2:0.322528 |Rate:0.672 |lr:0.000500\n",
      "EarlyStopping counter: 2 out of 40\n",
      "Save here\n",
      "Epoch:  8 |Train_Loss:0.333084 |R2:0.341455|Val_Loss:0.350780 |R2:0.241984 |Rate:0.639 |lr:0.000500\n",
      "EarlyStopping counter: 3 out of 40\n",
      "Save here\n",
      "Epoch:  9 |Train_Loss:0.305643 |R2:0.380069|Val_Loss:0.363937 |R2:0.214382 |Rate:0.628 |lr:0.000500\n",
      "EarlyStopping counter: 4 out of 40\n",
      "Save here\n",
      "Epoch: 10 |Train_Loss:0.297638 |R2:0.392264|Val_Loss:0.362231 |R2:0.219378 |Rate:0.632 |lr:0.000500\n",
      "EarlyStopping counter: 5 out of 40\n",
      "Save here\n",
      "Epoch: 11 |Train_Loss:0.292345 |R2:0.400982|Val_Loss:0.365997 |R2:0.212139 |Rate:0.629 |lr:0.000500\n",
      "EarlyStopping counter: 6 out of 40\n",
      "Save here\n",
      "Epoch: 12 |Train_Loss:0.288392 |R2:0.407035|Val_Loss:0.363116 |R2:0.217403 |Rate:0.631 |lr:0.000500\n",
      "EarlyStopping counter: 7 out of 40\n",
      "Save here\n",
      "Epoch: 13 |Train_Loss:0.285480 |R2:0.412120|Val_Loss:0.373222 |R2:0.200933 |Rate:0.630 |lr:0.000500\n",
      "EarlyStopping counter: 8 out of 40\n",
      "Save here\n",
      "Epoch: 14 |Train_Loss:0.282833 |R2:0.416607|Val_Loss:0.370754 |R2:0.203103 |Rate:0.629 |lr:0.000500\n",
      "EarlyStopping counter: 9 out of 40\n",
      "Done\n"
     ]
    },
    {
     "data": {
      "image/png": "[encoded data removed]",
      "text/plain": [
       "<Figure size 432x288 with 1 Axes>"
      ]
     },
     "metadata": {
      "needs_background": "light"
     },
     "output_type": "display_data"
    }
   ],
   "source": [
    "Informer.train(epochs=10, train_all=True, f='../stock_price/train/20190723_20190731.hdf',\n",
    "             val_all=True, testfile=None, save='train',patience=40)"
   ]
  },
  {
   "cell_type": "code",
   "execution_count": null,
   "id": "7a7a4d64",
   "metadata": {},
   "outputs": [
    {
     "name": "stdout",
     "output_type": "stream",
     "text": [
      "Learning Rate is set to 0.0001\n"
     ]
    },
    {
     "data": {
      "application/vnd.jupyter.widget-view+json": {
       "model_id": "298799a6ac0b4856b4f5f090e56ea06a",
       "version_major": 2,
       "version_minor": 0
      },
      "text/plain": [
       "  0%|          | 0/10 [00:00<?, ?it/s]"
      ]
     },
     "metadata": {},
     "output_type": "display_data"
    },
    {
     "name": "stdout",
     "output_type": "stream",
     "text": [
      "Save here\n",
      "Epoch: 14 |Train_Loss:0.275805 |R2:0.427836|Val_Loss:0.385931 |R2:0.174325 |Rate:0.623 |lr:0.000100\n",
      "Validation R2 increased (-inf --> 0.174325).  Saving model ...\n",
      "Save here\n",
      "Epoch: 15 |Train_Loss:0.273505 |R2:0.431264|Val_Loss:0.387848 |R2:0.171527 |Rate:0.623 |lr:0.000100\n",
      "EarlyStopping counter: 1 out of 40\n"
     ]
    }
   ],
   "source": [
    "Informer._set_lr(0.0001)\n",
    "Informer.train(epochs=10, train_all=True, f='../stock_price/train/20190723_20190731.hdf',\n",
    "             val_all=True, testfile=None, save='train',patience=40)"
   ]
  },
  {
   "cell_type": "code",
   "execution_count": null,
   "id": "e1169a89",
   "metadata": {},
   "outputs": [],
   "source": []
  }
 ],
 "metadata": {
  "kernelspec": {
   "display_name": "Python [conda env:optiver_kaggle]",
   "language": "python",
   "name": "conda-env-optiver_kaggle-py"
  },
  "language_info": {
   "codemirror_mode": {
    "name": "ipython",
    "version": 3
   },
   "file_extension": ".py",
   "mimetype": "text/x-python",
   "name": "python",
   "nbconvert_exporter": "python",
   "pygments_lexer": "ipython3",
   "version": "3.8.11"
  }
 },
 "nbformat": 4,
 "nbformat_minor": 5
}
