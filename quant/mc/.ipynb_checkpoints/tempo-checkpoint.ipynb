{
 "cells": [
  {
   "cell_type": "code",
   "execution_count": 1,
   "id": "59821dcc",
   "metadata": {},
   "outputs": [],
   "source": [
    "import h5py\n",
    "import numpy as np\n",
    "from tqdm.notebook import tqdm\n",
    "import os\n",
    "import glob\n",
    "import matplotlib.pyplot as plt\n",
    "import time\n",
    "\n",
    "from train_Informer_d import *\n",
    "\n",
    "from utils import *\n",
    "from models import *\n",
    "\n",
    "import warnings\n",
    "warnings.filterwarnings('ignore')\n",
    "\n",
    "assert torch.cuda.is_available()\n",
    "device = 'cuda'"
   ]
  },
  {
   "cell_type": "code",
   "execution_count": 2,
   "id": "6dc10bea",
   "metadata": {},
   "outputs": [],
   "source": [
    "train_f = sorted(glob.glob('../stock_price/train/*.hdf'))\n",
    "train_f.remove('../stock_price/train\\\\20190425_20190510.hdf')\n",
    "test_f = sorted(glob.glob('../stock_price/test/*.hdf'))\n",
    "# test_f.remove('../stock_price/test\\IC2003_20191018.hdf') # batch为256时，第71个batch大小为2， 不足以用于预测"
   ]
  },
  {
   "cell_type": "code",
   "execution_count": 3,
   "id": "d80c8671",
   "metadata": {},
   "outputs": [
    {
     "data": {
      "text/plain": [
       "174"
      ]
     },
     "execution_count": 3,
     "metadata": {},
     "output_type": "execute_result"
    }
   ],
   "source": [
    "len(test_f)"
   ]
  },
  {
   "cell_type": "code",
   "execution_count": 4,
   "id": "cf705271",
   "metadata": {},
   "outputs": [
    {
     "data": {
      "text/plain": [
       "['../stock_price/train\\\\20190523_20190604.hdf',\n",
       " '../stock_price/train\\\\20190604_20190617.hdf',\n",
       " '../stock_price/train\\\\20190617_20190628.hdf',\n",
       " '../stock_price/train\\\\20190628_20190710.hdf',\n",
       " '../stock_price/train\\\\20190710_20190723.hdf',\n",
       " '../stock_price/train\\\\20190723_20190731.hdf']"
      ]
     },
     "execution_count": 4,
     "metadata": {},
     "output_type": "execute_result"
    }
   ],
   "source": [
    "train_f = train_f[-6:]\n",
    "train_f"
   ]
  },
  {
   "cell_type": "code",
   "execution_count": 5,
   "id": "81c0c661",
   "metadata": {},
   "outputs": [],
   "source": [
    "# Hyperparams\n",
    "enc_in = 15\n",
    "dec_in = 2\n",
    "c_out = 1 \n",
    "seq_len = 20\n",
    "out_len = 1\n",
    "d_model = 128\n",
    "d_ff = 32\n",
    "n_heads = 8\n",
    "label_len = 10\n",
    "e_layers = 4\n",
    "d_layers = 4\n",
    "scaler = False\n",
    "opt_s = False\n",
    "\n",
    "decay = 100\n",
    "dropout = 0.3\n",
    "batch_size = 128\n",
    "val_batch = 512\n",
    "lr = 0.001"
   ]
  },
  {
   "cell_type": "code",
   "execution_count": 6,
   "id": "5e3f415e",
   "metadata": {},
   "outputs": [],
   "source": [
    "Informer = Train_Informer(enc_in, dec_in, c_out, seq_len, out_len, d_model, d_ff, n_heads, \n",
    "                                e_layers, d_layers, label_len,\n",
    "                                dropout, batch_size, val_batch, lr,\n",
    "                              device, train_f, test_f,scaler, decay, opt_s)"
   ]
  },
  {
   "cell_type": "code",
   "execution_count": 7,
   "id": "0ea3023e",
   "metadata": {
    "scrolled": true
   },
   "outputs": [
    {
     "name": "stdout",
     "output_type": "stream",
     "text": [
      "Informer(\n",
      "  (enc_embedding): DataEmbedding(\n",
      "    (value_embedding): TokenEmbedding(\n",
      "      (tokenConv): Conv1d(15, 128, kernel_size=(3,), stride=(1,), padding=(1,), padding_mode=circular)\n",
      "    )\n",
      "    (position_embedding): PositionalEmbedding()\n",
      "    (fc): Linear(in_features=15, out_features=16, bias=True)\n",
      "  )\n",
      "  (dec_embedding): DataEmbedding(\n",
      "    (value_embedding): TokenEmbedding(\n",
      "      (tokenConv): Conv1d(2, 128, kernel_size=(3,), stride=(1,), padding=(1,), padding_mode=circular)\n",
      "    )\n",
      "    (position_embedding): PositionalEmbedding()\n",
      "    (fc): Linear(in_features=2, out_features=16, bias=True)\n",
      "  )\n",
      "  (encoder): Encoder(\n",
      "    (attn_layers): ModuleList(\n",
      "      (0): EncoderLayer(\n",
      "        (attention): AttentionLayer(\n",
      "          (inner_attention): FullAttention(\n",
      "            (dropout): Dropout(p=0.3, inplace=False)\n",
      "          )\n",
      "          (query_projection): Linear(in_features=128, out_features=128, bias=True)\n",
      "          (key_projection): Linear(in_features=128, out_features=128, bias=True)\n",
      "          (value_projection): Linear(in_features=128, out_features=128, bias=True)\n",
      "          (out_projection): Linear(in_features=128, out_features=128, bias=True)\n",
      "        )\n",
      "        (conv1): Conv1d(128, 32, kernel_size=(1,), stride=(1,))\n",
      "        (conv2): Conv1d(32, 128, kernel_size=(1,), stride=(1,))\n",
      "        (norm1): LayerNorm((128,), eps=1e-05, elementwise_affine=True)\n",
      "        (norm2): LayerNorm((128,), eps=1e-05, elementwise_affine=True)\n",
      "        (dropout): Dropout(p=0.3, inplace=False)\n",
      "      )\n",
      "      (1): EncoderLayer(\n",
      "        (attention): AttentionLayer(\n",
      "          (inner_attention): FullAttention(\n",
      "            (dropout): Dropout(p=0.3, inplace=False)\n",
      "          )\n",
      "          (query_projection): Linear(in_features=128, out_features=128, bias=True)\n",
      "          (key_projection): Linear(in_features=128, out_features=128, bias=True)\n",
      "          (value_projection): Linear(in_features=128, out_features=128, bias=True)\n",
      "          (out_projection): Linear(in_features=128, out_features=128, bias=True)\n",
      "        )\n",
      "        (conv1): Conv1d(128, 32, kernel_size=(1,), stride=(1,))\n",
      "        (conv2): Conv1d(32, 128, kernel_size=(1,), stride=(1,))\n",
      "        (norm1): LayerNorm((128,), eps=1e-05, elementwise_affine=True)\n",
      "        (norm2): LayerNorm((128,), eps=1e-05, elementwise_affine=True)\n",
      "        (dropout): Dropout(p=0.3, inplace=False)\n",
      "      )\n",
      "      (2): EncoderLayer(\n",
      "        (attention): AttentionLayer(\n",
      "          (inner_attention): FullAttention(\n",
      "            (dropout): Dropout(p=0.3, inplace=False)\n",
      "          )\n",
      "          (query_projection): Linear(in_features=128, out_features=128, bias=True)\n",
      "          (key_projection): Linear(in_features=128, out_features=128, bias=True)\n",
      "          (value_projection): Linear(in_features=128, out_features=128, bias=True)\n",
      "          (out_projection): Linear(in_features=128, out_features=128, bias=True)\n",
      "        )\n",
      "        (conv1): Conv1d(128, 32, kernel_size=(1,), stride=(1,))\n",
      "        (conv2): Conv1d(32, 128, kernel_size=(1,), stride=(1,))\n",
      "        (norm1): LayerNorm((128,), eps=1e-05, elementwise_affine=True)\n",
      "        (norm2): LayerNorm((128,), eps=1e-05, elementwise_affine=True)\n",
      "        (dropout): Dropout(p=0.3, inplace=False)\n",
      "      )\n",
      "      (3): EncoderLayer(\n",
      "        (attention): AttentionLayer(\n",
      "          (inner_attention): FullAttention(\n",
      "            (dropout): Dropout(p=0.3, inplace=False)\n",
      "          )\n",
      "          (query_projection): Linear(in_features=128, out_features=128, bias=True)\n",
      "          (key_projection): Linear(in_features=128, out_features=128, bias=True)\n",
      "          (value_projection): Linear(in_features=128, out_features=128, bias=True)\n",
      "          (out_projection): Linear(in_features=128, out_features=128, bias=True)\n",
      "        )\n",
      "        (conv1): Conv1d(128, 32, kernel_size=(1,), stride=(1,))\n",
      "        (conv2): Conv1d(32, 128, kernel_size=(1,), stride=(1,))\n",
      "        (norm1): LayerNorm((128,), eps=1e-05, elementwise_affine=True)\n",
      "        (norm2): LayerNorm((128,), eps=1e-05, elementwise_affine=True)\n",
      "        (dropout): Dropout(p=0.3, inplace=False)\n",
      "      )\n",
      "    )\n",
      "    (conv_layers): ModuleList(\n",
      "      (0): ConvLayer(\n",
      "        (downConv): Conv1d(128, 128, kernel_size=(3,), stride=(1,), padding=(1,), padding_mode=circular)\n",
      "        (norm): BatchNorm1d(128, eps=1e-05, momentum=0.1, affine=True, track_running_stats=True)\n",
      "        (activation): ELU(alpha=1.0)\n",
      "        (maxPool): MaxPool1d(kernel_size=3, stride=2, padding=1, dilation=1, ceil_mode=False)\n",
      "      )\n",
      "      (1): ConvLayer(\n",
      "        (downConv): Conv1d(128, 128, kernel_size=(3,), stride=(1,), padding=(1,), padding_mode=circular)\n",
      "        (norm): BatchNorm1d(128, eps=1e-05, momentum=0.1, affine=True, track_running_stats=True)\n",
      "        (activation): ELU(alpha=1.0)\n",
      "        (maxPool): MaxPool1d(kernel_size=3, stride=2, padding=1, dilation=1, ceil_mode=False)\n",
      "      )\n",
      "      (2): ConvLayer(\n",
      "        (downConv): Conv1d(128, 128, kernel_size=(3,), stride=(1,), padding=(1,), padding_mode=circular)\n",
      "        (norm): BatchNorm1d(128, eps=1e-05, momentum=0.1, affine=True, track_running_stats=True)\n",
      "        (activation): ELU(alpha=1.0)\n",
      "        (maxPool): MaxPool1d(kernel_size=3, stride=2, padding=1, dilation=1, ceil_mode=False)\n",
      "      )\n",
      "    )\n",
      "    (norm): LayerNorm((128,), eps=1e-05, elementwise_affine=True)\n",
      "  )\n",
      "  (decoder): Decoder(\n",
      "    (layers): ModuleList(\n",
      "      (0): DecoderLayer(\n",
      "        (self_attention): AttentionLayer(\n",
      "          (inner_attention): FullAttention(\n",
      "            (dropout): Dropout(p=0.3, inplace=False)\n",
      "          )\n",
      "          (query_projection): Linear(in_features=128, out_features=128, bias=True)\n",
      "          (key_projection): Linear(in_features=128, out_features=128, bias=True)\n",
      "          (value_projection): Linear(in_features=128, out_features=128, bias=True)\n",
      "          (out_projection): Linear(in_features=128, out_features=128, bias=True)\n",
      "        )\n",
      "        (cross_attention): AttentionLayer(\n",
      "          (inner_attention): FullAttention(\n",
      "            (dropout): Dropout(p=0.3, inplace=False)\n",
      "          )\n",
      "          (query_projection): Linear(in_features=128, out_features=128, bias=True)\n",
      "          (key_projection): Linear(in_features=128, out_features=128, bias=True)\n",
      "          (value_projection): Linear(in_features=128, out_features=128, bias=True)\n",
      "          (out_projection): Linear(in_features=128, out_features=128, bias=True)\n",
      "        )\n",
      "        (conv1): Conv1d(128, 32, kernel_size=(1,), stride=(1,))\n",
      "        (conv2): Conv1d(32, 128, kernel_size=(1,), stride=(1,))\n",
      "        (norm1): LayerNorm((128,), eps=1e-05, elementwise_affine=True)\n",
      "        (norm2): LayerNorm((128,), eps=1e-05, elementwise_affine=True)\n",
      "        (norm3): LayerNorm((128,), eps=1e-05, elementwise_affine=True)\n",
      "        (dropout): Dropout(p=0.3, inplace=False)\n",
      "      )\n",
      "      (1): DecoderLayer(\n",
      "        (self_attention): AttentionLayer(\n",
      "          (inner_attention): FullAttention(\n",
      "            (dropout): Dropout(p=0.3, inplace=False)\n",
      "          )\n",
      "          (query_projection): Linear(in_features=128, out_features=128, bias=True)\n",
      "          (key_projection): Linear(in_features=128, out_features=128, bias=True)\n",
      "          (value_projection): Linear(in_features=128, out_features=128, bias=True)\n",
      "          (out_projection): Linear(in_features=128, out_features=128, bias=True)\n",
      "        )\n",
      "        (cross_attention): AttentionLayer(\n",
      "          (inner_attention): FullAttention(\n",
      "            (dropout): Dropout(p=0.3, inplace=False)\n",
      "          )\n",
      "          (query_projection): Linear(in_features=128, out_features=128, bias=True)\n",
      "          (key_projection): Linear(in_features=128, out_features=128, bias=True)\n",
      "          (value_projection): Linear(in_features=128, out_features=128, bias=True)\n",
      "          (out_projection): Linear(in_features=128, out_features=128, bias=True)\n",
      "        )\n",
      "        (conv1): Conv1d(128, 32, kernel_size=(1,), stride=(1,))\n",
      "        (conv2): Conv1d(32, 128, kernel_size=(1,), stride=(1,))\n",
      "        (norm1): LayerNorm((128,), eps=1e-05, elementwise_affine=True)\n",
      "        (norm2): LayerNorm((128,), eps=1e-05, elementwise_affine=True)\n",
      "        (norm3): LayerNorm((128,), eps=1e-05, elementwise_affine=True)\n",
      "        (dropout): Dropout(p=0.3, inplace=False)\n",
      "      )\n",
      "      (2): DecoderLayer(\n",
      "        (self_attention): AttentionLayer(\n",
      "          (inner_attention): FullAttention(\n",
      "            (dropout): Dropout(p=0.3, inplace=False)\n",
      "          )\n",
      "          (query_projection): Linear(in_features=128, out_features=128, bias=True)\n",
      "          (key_projection): Linear(in_features=128, out_features=128, bias=True)\n",
      "          (value_projection): Linear(in_features=128, out_features=128, bias=True)\n",
      "          (out_projection): Linear(in_features=128, out_features=128, bias=True)\n",
      "        )\n",
      "        (cross_attention): AttentionLayer(\n",
      "          (inner_attention): FullAttention(\n",
      "            (dropout): Dropout(p=0.3, inplace=False)\n",
      "          )\n",
      "          (query_projection): Linear(in_features=128, out_features=128, bias=True)\n",
      "          (key_projection): Linear(in_features=128, out_features=128, bias=True)\n",
      "          (value_projection): Linear(in_features=128, out_features=128, bias=True)\n",
      "          (out_projection): Linear(in_features=128, out_features=128, bias=True)\n",
      "        )\n",
      "        (conv1): Conv1d(128, 32, kernel_size=(1,), stride=(1,))\n",
      "        (conv2): Conv1d(32, 128, kernel_size=(1,), stride=(1,))\n",
      "        (norm1): LayerNorm((128,), eps=1e-05, elementwise_affine=True)\n",
      "        (norm2): LayerNorm((128,), eps=1e-05, elementwise_affine=True)\n",
      "        (norm3): LayerNorm((128,), eps=1e-05, elementwise_affine=True)\n",
      "        (dropout): Dropout(p=0.3, inplace=False)\n",
      "      )\n",
      "      (3): DecoderLayer(\n",
      "        (self_attention): AttentionLayer(\n",
      "          (inner_attention): FullAttention(\n",
      "            (dropout): Dropout(p=0.3, inplace=False)\n",
      "          )\n",
      "          (query_projection): Linear(in_features=128, out_features=128, bias=True)\n",
      "          (key_projection): Linear(in_features=128, out_features=128, bias=True)\n",
      "          (value_projection): Linear(in_features=128, out_features=128, bias=True)\n",
      "          (out_projection): Linear(in_features=128, out_features=128, bias=True)\n",
      "        )\n",
      "        (cross_attention): AttentionLayer(\n",
      "          (inner_attention): FullAttention(\n",
      "            (dropout): Dropout(p=0.3, inplace=False)\n",
      "          )\n",
      "          (query_projection): Linear(in_features=128, out_features=128, bias=True)\n",
      "          (key_projection): Linear(in_features=128, out_features=128, bias=True)\n",
      "          (value_projection): Linear(in_features=128, out_features=128, bias=True)\n",
      "          (out_projection): Linear(in_features=128, out_features=128, bias=True)\n",
      "        )\n",
      "        (conv1): Conv1d(128, 32, kernel_size=(1,), stride=(1,))\n",
      "        (conv2): Conv1d(32, 128, kernel_size=(1,), stride=(1,))\n",
      "        (norm1): LayerNorm((128,), eps=1e-05, elementwise_affine=True)\n",
      "        (norm2): LayerNorm((128,), eps=1e-05, elementwise_affine=True)\n",
      "        (norm3): LayerNorm((128,), eps=1e-05, elementwise_affine=True)\n",
      "        (dropout): Dropout(p=0.3, inplace=False)\n",
      "      )\n",
      "    )\n",
      "    (norm): LayerNorm((128,), eps=1e-05, elementwise_affine=True)\n",
      "  )\n",
      "  (projection): Linear(in_features=128, out_features=1, bias=True)\n",
      ")\n"
     ]
    }
   ],
   "source": [
    "Informer._build_model()"
   ]
  },
  {
   "cell_type": "code",
   "execution_count": 10,
   "id": "f552927d",
   "metadata": {},
   "outputs": [],
   "source": [
    "Informer._selct_optim('adam')\n",
    "Informer._selct_scheduler(opt='noam',patience=5, factor=0.05,step=4000)\n",
    "# Informer._selct_scheduler(opt='cyclic',base_lr=0.001, max_lr=0.005)"
   ]
  },
  {
   "cell_type": "code",
   "execution_count": 8,
   "id": "f3737cf4",
   "metadata": {},
   "outputs": [],
   "source": [
    "Informer.val_every = True"
   ]
  },
  {
   "cell_type": "code",
   "execution_count": 11,
   "id": "b2595dfc",
   "metadata": {
    "scrolled": false
   },
   "outputs": [
    {
     "data": {
      "image/png": "[encoded data removed]",
      "text/plain": [
       "<Figure size 432x288 with 1 Axes>"
      ]
     },
     "metadata": {
      "needs_background": "light"
     },
     "output_type": "display_data"
    }
   ],
   "source": [
    "Informer.preview_noam()"
   ]
  },
  {
   "cell_type": "code",
   "execution_count": 9,
   "id": "72e6b909",
   "metadata": {},
   "outputs": [
    {
     "name": "stdout",
     "output_type": "stream",
     "text": [
      "Batch size:256\n",
      "Set:train\\20190617_20190628.hdf | len:1746\n",
      "Set:train\\20190628_20190710.hdf | len:1604\n",
      "Set:train\\20190710_20190723.hdf | len:1774\n",
      "Set:train\\20190723_20190731.hdf | len:1198\n"
     ]
    }
   ],
   "source": [
    "Informer.get_len_dataset()"
   ]
  },
  {
   "cell_type": "markdown",
   "id": "a9f8df89",
   "metadata": {},
   "source": [
    "Informer.lr = 0.005\n",
    "Informer.warmup_train(0.001,f='../stock_price/train\\\\20190723_20190731.hdf')"
   ]
  },
  {
   "cell_type": "code",
   "execution_count": null,
   "id": "e23c9219",
   "metadata": {
    "scrolled": false
   },
   "outputs": [
    {
     "data": {
      "application/vnd.jupyter.widget-view+json": {
       "model_id": "5be7e08f98e847488223c4c256160b00",
       "version_major": 2,
       "version_minor": 0
      },
      "text/plain": [
       "  0%|          | 0/100 [00:00<?, ?it/s]"
      ]
     },
     "metadata": {},
     "output_type": "display_data"
    },
    {
     "name": "stdout",
     "output_type": "stream",
     "text": [
      "After training train\\20190523_20190604  Val_Loss:0.399625 |R2:0.121048 |Rate:0.644 |lr:0.000061\n",
      "After training train\\20190604_20190617  Val_Loss:0.341068 |R2:0.261040 |Rate:0.646 |lr:0.000053\n",
      "After training train\\20190617_20190628  Val_Loss:0.442792 |R2:0.015834 |Rate:0.628 |lr:0.000043\n",
      "After training train\\20190628_20190710  Val_Loss:0.355995 |R2:0.228637 |Rate:0.630 |lr:0.000038\n",
      "After training train\\20190710_20190723  Val_Loss:0.341407 |R2:0.264787 |Rate:0.653 |lr:0.000034\n",
      "After training train\\20190723_20190731  Val_Loss:0.361097 |R2:0.217962 |Rate:0.629 |lr:0.000031\n",
      "Save here\n",
      "Epoch:  1 |Train_Loss:0.460498 |R2:0.201374|Val_Loss:0.361097 |R2:0.217962 |Rate:0.629 |lr:0.000031\n",
      "Validation R2 increased (-inf --> 0.217962).  Saving model ...\n",
      "After training train\\20190523_20190604  Val_Loss:0.365834 |R2:0.206762 |Rate:0.657 |lr:0.000029\n",
      "After training train\\20190604_20190617  Val_Loss:0.371699 |R2:0.197751 |Rate:0.629 |lr:0.000027\n",
      "After training train\\20190617_20190628  Val_Loss:0.389337 |R2:0.146627 |Rate:0.651 |lr:0.000025\n",
      "After training train\\20190628_20190710  Val_Loss:0.371783 |R2:0.197651 |Rate:0.622 |lr:0.000024\n",
      "After training train\\20190710_20190723  Val_Loss:0.353308 |R2:0.242958 |Rate:0.650 |lr:0.000023\n",
      "After training train\\20190723_20190731  Val_Loss:0.374178 |R2:0.191097 |Rate:0.620 |lr:0.000022\n",
      "Save here\n",
      "Epoch:  2 |Train_Loss:0.332710 |R2:0.375282|Val_Loss:0.374178 |R2:0.191097 |Rate:0.620 |lr:0.000022\n",
      "EarlyStopping counter: 1 out of 40\n",
      "After training train\\20190523_20190604  Val_Loss:0.364847 |R2:0.211582 |Rate:0.658 |lr:0.000021\n",
      "After training train\\20190604_20190617  Val_Loss:0.379757 |R2:0.181771 |Rate:0.626 |lr:0.000021\n",
      "After training train\\20190617_20190628  Val_Loss:0.390377 |R2:0.146362 |Rate:0.654 |lr:0.000020\n",
      "After training train\\20190628_20190710  Val_Loss:0.382445 |R2:0.174896 |Rate:0.615 |lr:0.000019\n",
      "After training train\\20190710_20190723  Val_Loss:0.365001 |R2:0.218790 |Rate:0.645 |lr:0.000019\n",
      "After training train\\20190723_20190731  Val_Loss:0.385632 |R2:0.166744 |Rate:0.613 |lr:0.000018\n",
      "Save here\n",
      "Epoch:  3 |Train_Loss:0.310915 |R2:0.409209|Val_Loss:0.385632 |R2:0.166744 |Rate:0.613 |lr:0.000018\n",
      "EarlyStopping counter: 2 out of 40\n",
      "After training train\\20190523_20190604  Val_Loss:0.375164 |R2:0.190926 |Rate:0.657 |lr:0.000018\n",
      "After training train\\20190604_20190617  Val_Loss:0.386596 |R2:0.167760 |Rate:0.623 |lr:0.000017\n",
      "After training train\\20190617_20190628  Val_Loss:0.392191 |R2:0.141003 |Rate:0.654 |lr:0.000017\n",
      "After training train\\20190628_20190710  Val_Loss:0.390570 |R2:0.157351 |Rate:0.611 |lr:0.000016\n",
      "After training train\\20190710_20190723  Val_Loss:0.378144 |R2:0.191288 |Rate:0.640 |lr:0.000016\n",
      "After training train\\20190723_20190731  Val_Loss:0.389300 |R2:0.159575 |Rate:0.612 |lr:0.000016\n",
      "Save here\n",
      "Epoch:  4 |Train_Loss:0.297570 |R2:0.431337|Val_Loss:0.389300 |R2:0.159575 |Rate:0.612 |lr:0.000016\n",
      "EarlyStopping counter: 3 out of 40\n",
      "After training train\\20190523_20190604  Val_Loss:0.379516 |R2:0.182223 |Rate:0.655 |lr:0.000015\n",
      "After training train\\20190604_20190617  Val_Loss:0.394156 |R2:0.152116 |Rate:0.620 |lr:0.000015\n",
      "After training train\\20190617_20190628  Val_Loss:0.392715 |R2:0.139151 |Rate:0.653 |lr:0.000015\n",
      "After training train\\20190628_20190710  Val_Loss:0.395942 |R2:0.146791 |Rate:0.612 |lr:0.000015\n",
      "After training train\\20190710_20190723  Val_Loss:0.383502 |R2:0.180595 |Rate:0.638 |lr:0.000014\n",
      "After training train\\20190723_20190731  Val_Loss:0.395280 |R2:0.147542 |Rate:0.609 |lr:0.000014\n",
      "Save here\n",
      "Epoch:  5 |Train_Loss:0.288376 |R2:0.446962|Val_Loss:0.395280 |R2:0.147542 |Rate:0.609 |lr:0.000014\n",
      "EarlyStopping counter: 4 out of 40\n",
      "After training train\\20190523_20190604  Val_Loss:0.383157 |R2:0.176010 |Rate:0.655 |lr:0.000014\n",
      "After training train\\20190604_20190617  Val_Loss:0.392099 |R2:0.158114 |Rate:0.621 |lr:0.000014\n",
      "After training train\\20190617_20190628  Val_Loss:0.389283 |R2:0.147351 |Rate:0.653 |lr:0.000013\n",
      "After training train\\20190628_20190710  Val_Loss:0.402959 |R2:0.132616 |Rate:0.609 |lr:0.000013\n",
      "After training train\\20190710_20190723  Val_Loss:0.388405 |R2:0.170802 |Rate:0.636 |lr:0.000013\n",
      "After training train\\20190723_20190731  Val_Loss:0.397264 |R2:0.144344 |Rate:0.609 |lr:0.000013\n",
      "Save here\n",
      "Epoch:  6 |Train_Loss:0.280905 |R2:0.459366|Val_Loss:0.397264 |R2:0.144344 |Rate:0.609 |lr:0.000013\n",
      "EarlyStopping counter: 5 out of 40\n",
      "After training train\\20190523_20190604  Val_Loss:0.388894 |R2:0.164708 |Rate:0.653 |lr:0.000013\n",
      "After training train\\20190604_20190617  Val_Loss:0.396050 |R2:0.150424 |Rate:0.619 |lr:0.000012\n",
      "After training train\\20190617_20190628  Val_Loss:0.395214 |R2:0.132810 |Rate:0.651 |lr:0.000012\n",
      "After training train\\20190628_20190710  Val_Loss:0.409235 |R2:0.119466 |Rate:0.606 |lr:0.000012\n",
      "After training train\\20190710_20190723  Val_Loss:0.396991 |R2:0.154521 |Rate:0.635 |lr:0.000012\n",
      "After training train\\20190723_20190731  Val_Loss:0.401866 |R2:0.134409 |Rate:0.606 |lr:0.000012\n",
      "Save here\n",
      "Epoch:  7 |Train_Loss:0.275103 |R2:0.469145|Val_Loss:0.401866 |R2:0.134409 |Rate:0.606 |lr:0.000012\n",
      "EarlyStopping counter: 6 out of 40\n",
      "After training train\\20190523_20190604  Val_Loss:0.389046 |R2:0.165222 |Rate:0.653 |lr:0.000012\n",
      "After training train\\20190604_20190617  Val_Loss:0.398778 |R2:0.145849 |Rate:0.620 |lr:0.000012\n",
      "After training train\\20190617_20190628  Val_Loss:0.389817 |R2:0.145484 |Rate:0.651 |lr:0.000011\n",
      "After training train\\20190628_20190710  Val_Loss:0.407216 |R2:0.124018 |Rate:0.606 |lr:0.000011\n",
      "After training train\\20190710_20190723  Val_Loss:0.400534 |R2:0.147831 |Rate:0.635 |lr:0.000011\n",
      "After training train\\20190723_20190731  Val_Loss:0.404878 |R2:0.128828 |Rate:0.605 |lr:0.000011\n",
      "Save here\n",
      "Epoch:  8 |Train_Loss:0.270221 |R2:0.477061|Val_Loss:0.404878 |R2:0.128828 |Rate:0.605 |lr:0.000011\n",
      "EarlyStopping counter: 7 out of 40\n",
      "After training train\\20190523_20190604  Val_Loss:0.389781 |R2:0.164741 |Rate:0.652 |lr:0.000011\n",
      "After training train\\20190604_20190617  Val_Loss:0.402848 |R2:0.138555 |Rate:0.618 |lr:0.000011\n",
      "After training train\\20190617_20190628  Val_Loss:0.398659 |R2:0.126725 |Rate:0.648 |lr:0.000011\n",
      "After training train\\20190628_20190710  Val_Loss:0.414315 |R2:0.110263 |Rate:0.604 |lr:0.000011\n",
      "After training train\\20190710_20190723  Val_Loss:0.402260 |R2:0.144646 |Rate:0.634 |lr:0.000011\n",
      "After training train\\20190723_20190731  Val_Loss:0.409026 |R2:0.119955 |Rate:0.603 |lr:0.000010\n",
      "Save here\n",
      "Epoch:  9 |Train_Loss:0.265926 |R2:0.484195|Val_Loss:0.409026 |R2:0.119955 |Rate:0.603 |lr:0.000010\n",
      "EarlyStopping counter: 8 out of 40\n",
      "After training train\\20190523_20190604  Val_Loss:0.393152 |R2:0.158366 |Rate:0.651 |lr:0.000010\n",
      "After training train\\20190604_20190617  Val_Loss:0.406242 |R2:0.132285 |Rate:0.618 |lr:0.000010\n",
      "After training train\\20190617_20190628  Val_Loss:0.392676 |R2:0.141525 |Rate:0.649 |lr:0.000010\n",
      "After training train\\20190628_20190710  Val_Loss:0.418194 |R2:0.101772 |Rate:0.603 |lr:0.000010\n",
      "After training train\\20190710_20190723  Val_Loss:0.410206 |R2:0.128788 |Rate:0.632 |lr:0.000010\n",
      "After training train\\20190723_20190731  Val_Loss:0.408982 |R2:0.120166 |Rate:0.603 |lr:0.000010\n",
      "Save here\n",
      "Epoch: 10 |Train_Loss:0.262263 |R2:0.489825|Val_Loss:0.408982 |R2:0.120166 |Rate:0.603 |lr:0.000010\n",
      "EarlyStopping counter: 9 out of 40\n",
      "After training train\\20190523_20190604  Val_Loss:0.397856 |R2:0.149330 |Rate:0.651 |lr:0.000010\n",
      "After training train\\20190604_20190617  Val_Loss:0.401746 |R2:0.142654 |Rate:0.620 |lr:0.000010\n",
      "After training train\\20190617_20190628  Val_Loss:0.385251 |R2:0.159101 |Rate:0.651 |lr:0.000010\n",
      "After training train\\20190628_20190710  Val_Loss:0.418272 |R2:0.101591 |Rate:0.602 |lr:0.000010\n",
      "After training train\\20190710_20190723  Val_Loss:0.412659 |R2:0.123867 |Rate:0.631 |lr:0.000010\n",
      "After training train\\20190723_20190731  Val_Loss:0.410096 |R2:0.118265 |Rate:0.602 |lr:0.000009\n",
      "Save here\n",
      "Epoch: 11 |Train_Loss:0.259209 |R2:0.495194|Val_Loss:0.410096 |R2:0.118265 |Rate:0.602 |lr:0.000009\n",
      "EarlyStopping counter: 10 out of 40\n",
      "After training train\\20190523_20190604  Val_Loss:0.393281 |R2:0.158080 |Rate:0.651 |lr:0.000009\n",
      "After training train\\20190604_20190617  Val_Loss:0.406499 |R2:0.132405 |Rate:0.618 |lr:0.000009\n",
      "After training train\\20190617_20190628  Val_Loss:0.388212 |R2:0.151214 |Rate:0.649 |lr:0.000009\n"
     ]
    },
    {
     "name": "stdout",
     "output_type": "stream",
     "text": [
      "After training train\\20190628_20190710  Val_Loss:0.422341 |R2:0.093476 |Rate:0.602 |lr:0.000009\n",
      "After training train\\20190710_20190723  Val_Loss:0.420054 |R2:0.108935 |Rate:0.630 |lr:0.000009\n",
      "After training train\\20190723_20190731  Val_Loss:0.413643 |R2:0.110733 |Rate:0.601 |lr:0.000009\n",
      "Save here\n",
      "Epoch: 12 |Train_Loss:0.256420 |R2:0.499674|Val_Loss:0.413643 |R2:0.110733 |Rate:0.601 |lr:0.000009\n",
      "EarlyStopping counter: 11 out of 40\n",
      "After training train\\20190523_20190604  Val_Loss:0.396476 |R2:0.153300 |Rate:0.651 |lr:0.000009\n",
      "After training train\\20190604_20190617  Val_Loss:0.409647 |R2:0.125600 |Rate:0.616 |lr:0.000009\n",
      "After training train\\20190617_20190628  Val_Loss:0.392896 |R2:0.143983 |Rate:0.650 |lr:0.000009\n",
      "After training train\\20190628_20190710  Val_Loss:0.422460 |R2:0.093962 |Rate:0.602 |lr:0.000009\n",
      "After training train\\20190710_20190723  Val_Loss:0.425905 |R2:0.097227 |Rate:0.628 |lr:0.000009\n",
      "After training train\\20190723_20190731  Val_Loss:0.414942 |R2:0.107905 |Rate:0.600 |lr:0.000009\n",
      "Save here\n",
      "Epoch: 13 |Train_Loss:0.253690 |R2:0.504062|Val_Loss:0.414942 |R2:0.107905 |Rate:0.600 |lr:0.000009\n",
      "EarlyStopping counter: 12 out of 40\n",
      "After training train\\20190523_20190604  Val_Loss:0.394475 |R2:0.157020 |Rate:0.651 |lr:0.000009\n",
      "After training train\\20190604_20190617  Val_Loss:0.405960 |R2:0.134689 |Rate:0.619 |lr:0.000009\n",
      "After training train\\20190617_20190628  Val_Loss:0.382983 |R2:0.164161 |Rate:0.650 |lr:0.000009\n",
      "After training train\\20190628_20190710  Val_Loss:0.424202 |R2:0.089608 |Rate:0.601 |lr:0.000009\n",
      "After training train\\20190710_20190723  Val_Loss:0.429238 |R2:0.089933 |Rate:0.627 |lr:0.000008\n",
      "After training train\\20190723_20190731  Val_Loss:0.413035 |R2:0.112079 |Rate:0.601 |lr:0.000008\n",
      "Save here\n",
      "Epoch: 14 |Train_Loss:0.251595 |R2:0.507778|Val_Loss:0.413035 |R2:0.112079 |Rate:0.601 |lr:0.000008\n",
      "EarlyStopping counter: 13 out of 40\n",
      "After training train\\20190523_20190604  Val_Loss:0.397439 |R2:0.151580 |Rate:0.650 |lr:0.000008\n",
      "After training train\\20190604_20190617  Val_Loss:0.410753 |R2:0.124692 |Rate:0.617 |lr:0.000008\n",
      "After training train\\20190617_20190628  Val_Loss:0.390897 |R2:0.147445 |Rate:0.648 |lr:0.000008\n",
      "After training train\\20190628_20190710  Val_Loss:0.422830 |R2:0.092466 |Rate:0.601 |lr:0.000008\n",
      "After training train\\20190710_20190723  Val_Loss:0.433806 |R2:0.081464 |Rate:0.627 |lr:0.000008\n",
      "After training train\\20190723_20190731  Val_Loss:0.413018 |R2:0.112263 |Rate:0.600 |lr:0.000008\n",
      "Save here\n",
      "Epoch: 15 |Train_Loss:0.249598 |R2:0.511044|Val_Loss:0.413018 |R2:0.112263 |Rate:0.600 |lr:0.000008\n",
      "EarlyStopping counter: 14 out of 40\n",
      "After training train\\20190523_20190604  Val_Loss:0.397892 |R2:0.149728 |Rate:0.650 |lr:0.000008\n",
      "After training train\\20190604_20190617  Val_Loss:0.415704 |R2:0.113746 |Rate:0.615 |lr:0.000008\n",
      "After training train\\20190617_20190628  Val_Loss:0.393390 |R2:0.142766 |Rate:0.647 |lr:0.000008\n",
      "After training train\\20190628_20190710  Val_Loss:0.421872 |R2:0.094797 |Rate:0.602 |lr:0.000008\n",
      "After training train\\20190710_20190723  Val_Loss:0.434408 |R2:0.079415 |Rate:0.627 |lr:0.000008\n",
      "After training train\\20190723_20190731  Val_Loss:0.413260 |R2:0.111591 |Rate:0.600 |lr:0.000008\n",
      "Save here\n",
      "Epoch: 16 |Train_Loss:0.247317 |R2:0.514590|Val_Loss:0.413260 |R2:0.111591 |Rate:0.600 |lr:0.000008\n",
      "EarlyStopping counter: 15 out of 40\n",
      "After training train\\20190523_20190604  Val_Loss:0.399562 |R2:0.147563 |Rate:0.650 |lr:0.000008\n",
      "After training train\\20190604_20190617  Val_Loss:0.405101 |R2:0.135888 |Rate:0.618 |lr:0.000008\n",
      "After training train\\20190617_20190628  Val_Loss:0.387749 |R2:0.155871 |Rate:0.649 |lr:0.000008\n",
      "After training train\\20190628_20190710  Val_Loss:0.423253 |R2:0.091937 |Rate:0.601 |lr:0.000008\n",
      "After training train\\20190710_20190723  Val_Loss:0.436163 |R2:0.075379 |Rate:0.626 |lr:0.000008\n",
      "After training train\\20190723_20190731  Val_Loss:0.411547 |R2:0.115448 |Rate:0.600 |lr:0.000008\n",
      "Save here\n",
      "Epoch: 17 |Train_Loss:0.245436 |R2:0.517748|Val_Loss:0.411547 |R2:0.115448 |Rate:0.600 |lr:0.000008\n",
      "EarlyStopping counter: 16 out of 40\n",
      "After training train\\20190523_20190604  Val_Loss:0.402124 |R2:0.143471 |Rate:0.650 |lr:0.000008\n",
      "After training train\\20190604_20190617  Val_Loss:0.408346 |R2:0.129533 |Rate:0.618 |lr:0.000008\n",
      "After training train\\20190617_20190628  Val_Loss:0.390482 |R2:0.149683 |Rate:0.648 |lr:0.000008\n",
      "After training train\\20190628_20190710  Val_Loss:0.424262 |R2:0.089954 |Rate:0.601 |lr:0.000007\n",
      "After training train\\20190710_20190723  Val_Loss:0.445547 |R2:0.057553 |Rate:0.625 |lr:0.000007\n",
      "After training train\\20190723_20190731  Val_Loss:0.414499 |R2:0.109627 |Rate:0.599 |lr:0.000007\n",
      "Save here\n",
      "Epoch: 18 |Train_Loss:0.243634 |R2:0.520595|Val_Loss:0.414499 |R2:0.109627 |Rate:0.599 |lr:0.000007\n",
      "EarlyStopping counter: 17 out of 40\n",
      "After training train\\20190523_20190604  Val_Loss:0.404382 |R2:0.138734 |Rate:0.649 |lr:0.000007\n",
      "After training train\\20190604_20190617  Val_Loss:0.405902 |R2:0.134835 |Rate:0.619 |lr:0.000007\n",
      "After training train\\20190617_20190628  Val_Loss:0.391365 |R2:0.147382 |Rate:0.646 |lr:0.000007\n",
      "After training train\\20190628_20190710  Val_Loss:0.422465 |R2:0.093893 |Rate:0.601 |lr:0.000007\n",
      "After training train\\20190710_20190723  Val_Loss:0.446691 |R2:0.054560 |Rate:0.624 |lr:0.000007\n",
      "After training train\\20190723_20190731  Val_Loss:0.414420 |R2:0.109697 |Rate:0.599 |lr:0.000007\n",
      "Save here\n",
      "Epoch: 19 |Train_Loss:0.241992 |R2:0.523405|Val_Loss:0.414420 |R2:0.109697 |Rate:0.599 |lr:0.000007\n",
      "EarlyStopping counter: 18 out of 40\n",
      "After training train\\20190523_20190604  Val_Loss:0.398925 |R2:0.148914 |Rate:0.650 |lr:0.000007\n",
      "After training train\\20190604_20190617  Val_Loss:0.407337 |R2:0.131822 |Rate:0.619 |lr:0.000007\n",
      "After training train\\20190617_20190628  Val_Loss:0.389903 |R2:0.151480 |Rate:0.648 |lr:0.000007\n",
      "After training train\\20190628_20190710  Val_Loss:0.419253 |R2:0.100010 |Rate:0.602 |lr:0.000007\n",
      "After training train\\20190710_20190723  Val_Loss:0.446700 |R2:0.054144 |Rate:0.624 |lr:0.000007\n",
      "After training train\\20190723_20190731  Val_Loss:0.413306 |R2:0.112040 |Rate:0.600 |lr:0.000007\n",
      "Save here\n",
      "Epoch: 20 |Train_Loss:0.240495 |R2:0.525637|Val_Loss:0.413306 |R2:0.112040 |Rate:0.600 |lr:0.000007\n",
      "EarlyStopping counter: 19 out of 40\n",
      "After training train\\20190523_20190604  Val_Loss:0.400449 |R2:0.146458 |Rate:0.650 |lr:0.000007\n",
      "After training train\\20190604_20190617  Val_Loss:0.406463 |R2:0.132721 |Rate:0.617 |lr:0.000007\n",
      "After training train\\20190617_20190628  Val_Loss:0.389383 |R2:0.152258 |Rate:0.646 |lr:0.000007\n",
      "After training train\\20190628_20190710  Val_Loss:0.418097 |R2:0.102813 |Rate:0.602 |lr:0.000007\n",
      "After training train\\20190710_20190723  Val_Loss:0.455226 |R2:0.037566 |Rate:0.623 |lr:0.000007\n",
      "After training train\\20190723_20190731  Val_Loss:0.413935 |R2:0.110948 |Rate:0.599 |lr:0.000007\n",
      "Save here\n",
      "Epoch: 21 |Train_Loss:0.238919 |R2:0.528210|Val_Loss:0.413935 |R2:0.110948 |Rate:0.599 |lr:0.000007\n",
      "EarlyStopping counter: 20 out of 40\n",
      "After training train\\20190523_20190604  Val_Loss:0.406066 |R2:0.134650 |Rate:0.648 |lr:0.000007\n",
      "After training train\\20190604_20190617  Val_Loss:0.414756 |R2:0.115464 |Rate:0.614 |lr:0.000007\n",
      "After training train\\20190617_20190628  Val_Loss:0.383272 |R2:0.167697 |Rate:0.649 |lr:0.000007\n",
      "After training train\\20190628_20190710  Val_Loss:0.423327 |R2:0.091213 |Rate:0.600 |lr:0.000007\n",
      "After training train\\20190710_20190723  Val_Loss:0.449491 |R2:0.048331 |Rate:0.623 |lr:0.000007\n",
      "After training train\\20190723_20190731  Val_Loss:0.413093 |R2:0.112154 |Rate:0.599 |lr:0.000007\n",
      "Save here\n",
      "Epoch: 22 |Train_Loss:0.237564 |R2:0.530382|Val_Loss:0.413093 |R2:0.112154 |Rate:0.599 |lr:0.000007\n",
      "EarlyStopping counter: 21 out of 40\n",
      "After training train\\20190523_20190604  Val_Loss:0.402394 |R2:0.142520 |Rate:0.650 |lr:0.000007\n"
     ]
    }
   ],
   "source": [
    "Informer.train(epochs=100, train_all=True, f='../stock_price/train/20190723_20190731.hdf',\n",
    "             val_all=True, testfile=None, save='train',patience=40)"
   ]
  },
  {
   "cell_type": "code",
   "execution_count": 11,
   "id": "ca32cde0",
   "metadata": {},
   "outputs": [
    {
     "name": "stdout",
     "output_type": "stream",
     "text": [
      "Learning Rate is set to 0.0002\n"
     ]
    }
   ],
   "source": [
    "Informer._set_lr(0.0002)"
   ]
  },
  {
   "cell_type": "code",
   "execution_count": null,
   "id": "63c55fbf",
   "metadata": {},
   "outputs": [
    {
     "data": {
      "application/vnd.jupyter.widget-view+json": {
       "model_id": "a2fb9a03a9754103b7b7833d1661cdbe",
       "version_major": 2,
       "version_minor": 0
      },
      "text/plain": [
       "  0%|          | 0/10 [00:00<?, ?it/s]"
      ]
     },
     "metadata": {},
     "output_type": "display_data"
    },
    {
     "name": "stdout",
     "output_type": "stream",
     "text": [
      "Save here\n",
      "Epoch:  2 |Train_Loss:0.338998 |R2:0.331114|Val_Loss:0.331447 |R2:0.280781 |Rate:0.653 |lr:0.000200\n",
      "Validation R2 increased (-inf --> 0.280781).  Saving model ...\n",
      "Save here\n",
      "Epoch:  3 |Train_Loss:0.304058 |R2:0.383007|Val_Loss:0.347619 |R2:0.247065 |Rate:0.641 |lr:0.000200\n",
      "EarlyStopping counter: 1 out of 40\n"
     ]
    }
   ],
   "source": [
    "Informer.train(epochs=10, train_all=True, f='../stock_price/train/20190723_20190731.hdf',\n",
    "             val_all=True, testfile=None, save='train',patience=40)"
   ]
  },
  {
   "cell_type": "code",
   "execution_count": 12,
   "id": "7ab44aff",
   "metadata": {},
   "outputs": [
    {
     "name": "stdout",
     "output_type": "stream",
     "text": [
      "Learning Rate is set to 0.0005\n"
     ]
    }
   ],
   "source": [
    "Informer._set_lr(0.00005)"
   ]
  },
  {
   "cell_type": "code",
   "execution_count": 13,
   "id": "549ebe02",
   "metadata": {
    "scrolled": false
   },
   "outputs": [
    {
     "data": {
      "application/vnd.jupyter.widget-view+json": {
       "model_id": "021afbc20de849b2b13267e5c97595d7",
       "version_major": 2,
       "version_minor": 0
      },
      "text/plain": [
       "  0%|          | 0/10 [00:00<?, ?it/s]"
      ]
     },
     "metadata": {},
     "output_type": "display_data"
    },
    {
     "name": "stdout",
     "output_type": "stream",
     "text": [
      "Save here\n",
      "Epoch:  5 |Train_Loss:0.373613 |R2:0.275739|Val_Loss:0.308126 |R2:0.332667 |Rate:0.674 |lr:0.000500\n",
      "Validation R2 increased (-inf --> 0.332667).  Saving model ...\n",
      "Save here\n",
      "Epoch:  6 |Train_Loss:0.362790 |R2:0.295467|Val_Loss:0.309383 |R2:0.330073 |Rate:0.674 |lr:0.000500\n",
      "EarlyStopping counter: 1 out of 40\n",
      "Save here\n",
      "Epoch:  7 |Train_Loss:0.356082 |R2:0.307472|Val_Loss:0.312887 |R2:0.322528 |Rate:0.672 |lr:0.000500\n",
      "EarlyStopping counter: 2 out of 40\n",
      "Save here\n",
      "Epoch:  8 |Train_Loss:0.333084 |R2:0.341455|Val_Loss:0.350780 |R2:0.241984 |Rate:0.639 |lr:0.000500\n",
      "EarlyStopping counter: 3 out of 40\n",
      "Save here\n",
      "Epoch:  9 |Train_Loss:0.305643 |R2:0.380069|Val_Loss:0.363937 |R2:0.214382 |Rate:0.628 |lr:0.000500\n",
      "EarlyStopping counter: 4 out of 40\n",
      "Save here\n",
      "Epoch: 10 |Train_Loss:0.297638 |R2:0.392264|Val_Loss:0.362231 |R2:0.219378 |Rate:0.632 |lr:0.000500\n",
      "EarlyStopping counter: 5 out of 40\n",
      "Save here\n",
      "Epoch: 11 |Train_Loss:0.292345 |R2:0.400982|Val_Loss:0.365997 |R2:0.212139 |Rate:0.629 |lr:0.000500\n",
      "EarlyStopping counter: 6 out of 40\n",
      "Save here\n",
      "Epoch: 12 |Train_Loss:0.288392 |R2:0.407035|Val_Loss:0.363116 |R2:0.217403 |Rate:0.631 |lr:0.000500\n",
      "EarlyStopping counter: 7 out of 40\n",
      "Save here\n",
      "Epoch: 13 |Train_Loss:0.285480 |R2:0.412120|Val_Loss:0.373222 |R2:0.200933 |Rate:0.630 |lr:0.000500\n",
      "EarlyStopping counter: 8 out of 40\n",
      "Save here\n",
      "Epoch: 14 |Train_Loss:0.282833 |R2:0.416607|Val_Loss:0.370754 |R2:0.203103 |Rate:0.629 |lr:0.000500\n",
      "EarlyStopping counter: 9 out of 40\n",
      "Done\n"
     ]
    },
    {
     "data": {
      "image/png": "[encoded data removed]",
      "text/plain": [
       "<Figure size 432x288 with 1 Axes>"
      ]
     },
     "metadata": {
      "needs_background": "light"
     },
     "output_type": "display_data"
    }
   ],
   "source": [
    "Informer.train(epochs=10, train_all=True, f='../stock_price/train/20190723_20190731.hdf',\n",
    "             val_all=True, testfile=None, save='train',patience=40)"
   ]
  },
  {
   "cell_type": "code",
   "execution_count": null,
   "id": "7a7a4d64",
   "metadata": {},
   "outputs": [
    {
     "name": "stdout",
     "output_type": "stream",
     "text": [
      "Learning Rate is set to 0.0001\n"
     ]
    },
    {
     "data": {
      "application/vnd.jupyter.widget-view+json": {
       "model_id": "298799a6ac0b4856b4f5f090e56ea06a",
       "version_major": 2,
       "version_minor": 0
      },
      "text/plain": [
       "  0%|          | 0/10 [00:00<?, ?it/s]"
      ]
     },
     "metadata": {},
     "output_type": "display_data"
    },
    {
     "name": "stdout",
     "output_type": "stream",
     "text": [
      "Save here\n",
      "Epoch: 14 |Train_Loss:0.275805 |R2:0.427836|Val_Loss:0.385931 |R2:0.174325 |Rate:0.623 |lr:0.000100\n",
      "Validation R2 increased (-inf --> 0.174325).  Saving model ...\n",
      "Save here\n",
      "Epoch: 15 |Train_Loss:0.273505 |R2:0.431264|Val_Loss:0.387848 |R2:0.171527 |Rate:0.623 |lr:0.000100\n",
      "EarlyStopping counter: 1 out of 40\n"
     ]
    }
   ],
   "source": [
    "Informer._set_lr(0.0001)\n",
    "Informer.train(epochs=10, train_all=True, f='../stock_price/train/20190723_20190731.hdf',\n",
    "             val_all=True, testfile=None, save='train',patience=40)"
   ]
  },
  {
   "cell_type": "code",
   "execution_count": null,
   "id": "e1169a89",
   "metadata": {},
   "outputs": [],
   "source": []
  }
 ],
 "metadata": {
  "kernelspec": {
   "display_name": "Python [conda env:optiver_kaggle]",
   "language": "python",
   "name": "conda-env-optiver_kaggle-py"
  },
  "language_info": {
   "codemirror_mode": {
    "name": "ipython",
    "version": 3
   },
   "file_extension": ".py",
   "mimetype": "text/x-python",
   "name": "python",
   "nbconvert_exporter": "python",
   "pygments_lexer": "ipython3",
   "version": "3.8.11"
  }
 },
 "nbformat": 4,
 "nbformat_minor": 5
}
